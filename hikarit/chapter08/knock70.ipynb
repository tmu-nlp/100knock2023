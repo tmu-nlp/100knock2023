{
  "nbformat": 4,
  "nbformat_minor": 0,
  "metadata": {
    "colab": {
      "provenance": [],
      "gpuType": "T4"
    },
    "kernelspec": {
      "name": "python3",
      "display_name": "Python 3"
    },
    "language_info": {
      "name": "python"
    },
    "accelerator": "GPU"
  },
  "cells": [
    {
      "cell_type": "markdown",
      "source": [
        "#70-74\n"
      ],
      "metadata": {
        "id": "4T7OPQRTlv8v"
      }
    },
    {
      "cell_type": "code",
      "source": [
        "cp /content/drive/MyDrive/field/knock60/GoogleNews-vectors-negative300.bin /content"
      ],
      "metadata": {
        "id": "J4rQmBzDUL6z"
      },
      "execution_count": 2,
      "outputs": []
    },
    {
      "cell_type": "code",
      "execution_count": 1,
      "metadata": {
        "colab": {
          "base_uri": "https://localhost:8080/"
        },
        "id": "9C8wy137U1nN",
        "outputId": "da50137c-0362-409d-97cd-0ca3e8f72f53"
      },
      "outputs": [
        {
          "output_type": "stream",
          "name": "stdout",
          "text": [
            "Access denied with the following error:\n"
          ]
        },
        {
          "output_type": "stream",
          "name": "stderr",
          "text": [
            "\n",
            " \tToo many users have viewed or downloaded this file recently. Please\n",
            "\ttry accessing the file again later. If the file you are trying to\n",
            "\taccess is particularly large or is shared with many people, it may\n",
            "\ttake up to 24 hours to be able to view or download the file. If you\n",
            "\tstill can't access a file after 24 hours, contact your domain\n",
            "\tadministrator. \n",
            "\n",
            "You may still be able to access the file from the browser:\n",
            "\n",
            "\t https://drive.google.com/uc?id=0B7XkCwpI5KDYNlNUTTlSS21pQmM \n",
            "\n"
          ]
        }
      ],
      "source": [
        "import gdown\n",
        "\n",
        "url = 'https://drive.google.com/uc?id=0B7XkCwpI5KDYNlNUTTlSS21pQmM'\n",
        "output = 'data.bin.gz'\n",
        "\n",
        "gdown.download(url, output, quiet=False)"
      ]
    },
    {
      "cell_type": "code",
      "execution_count": 3,
      "metadata": {
        "id": "3gSBpkJOTJeK",
        "colab": {
          "base_uri": "https://localhost:8080/"
        },
        "outputId": "260adfb7-946d-400c-fa12-20df1c777446"
      },
      "outputs": [
        {
          "output_type": "stream",
          "name": "stdout",
          "text": [
            "drive  GoogleNews-vectors-negative300.bin  sample_data\n"
          ]
        }
      ],
      "source": [
        "!ls"
      ]
    },
    {
      "cell_type": "code",
      "source": [
        "!wget https://archive.ics.uci.edu/ml/machine-learning-databases/00359/NewsAggregatorDataset.zip\n",
        "!unzip NewsAggregatorDataset.zip"
      ],
      "metadata": {
        "id": "2or7_zuYTqql",
        "colab": {
          "base_uri": "https://localhost:8080/"
        },
        "outputId": "ae10e5a6-291b-4278-daa0-c80f08ec9004"
      },
      "execution_count": 4,
      "outputs": [
        {
          "output_type": "stream",
          "name": "stdout",
          "text": [
            "--2023-06-26 05:44:29--  https://archive.ics.uci.edu/ml/machine-learning-databases/00359/NewsAggregatorDataset.zip\n",
            "Resolving archive.ics.uci.edu (archive.ics.uci.edu)... 128.195.10.252\n",
            "Connecting to archive.ics.uci.edu (archive.ics.uci.edu)|128.195.10.252|:443... connected.\n",
            "HTTP request sent, awaiting response... 200 OK\n",
            "Length: unspecified\n",
            "Saving to: ‘NewsAggregatorDataset.zip’\n",
            "\n",
            "NewsAggregatorDatas     [     <=>            ]  27.87M  33.0MB/s    in 0.8s    \n",
            "\n",
            "2023-06-26 05:44:30 (33.0 MB/s) - ‘NewsAggregatorDataset.zip’ saved [29224203]\n",
            "\n",
            "Archive:  NewsAggregatorDataset.zip\n",
            "  inflating: 2pageSessions.csv       \n",
            "   creating: __MACOSX/\n",
            "  inflating: __MACOSX/._2pageSessions.csv  \n",
            "  inflating: newsCorpora.csv         \n",
            "  inflating: __MACOSX/._newsCorpora.csv  \n",
            "  inflating: readme.txt              \n",
            "  inflating: __MACOSX/._readme.txt   \n"
          ]
        }
      ]
    },
    {
      "cell_type": "code",
      "source": [
        "!sed -e 's/\"/'\\''/g' ./newsCorpora.csv > ./newsCorpora_re.csv"
      ],
      "metadata": {
        "id": "UXIDhwA0Ua0V"
      },
      "execution_count": 5,
      "outputs": []
    },
    {
      "cell_type": "code",
      "source": [
        "ls"
      ],
      "metadata": {
        "colab": {
          "base_uri": "https://localhost:8080/"
        },
        "id": "aKOtgsojUcB3",
        "outputId": "80b6683d-0512-4ea8-86c6-128f35b0cd9b"
      },
      "execution_count": null,
      "outputs": [
        {
          "output_type": "stream",
          "name": "stdout",
          "text": [
            "2pageSessions.csv  \u001b[0m\u001b[01;34m__MACOSX\u001b[0m/                  newsCorpora_re.csv\n",
            "data.bin           NewsAggregatorDataset.zip  readme.txt\n",
            "\u001b[01;34mdrive\u001b[0m/             newsCorpora.csv            \u001b[01;34msample_data\u001b[0m/\n"
          ]
        }
      ]
    },
    {
      "cell_type": "code",
      "source": [
        "import pandas as pd\n",
        "from sklearn.model_selection import train_test_split\n",
        "\n",
        "# データの読込\n",
        "df = pd.read_csv('./newsCorpora_re.csv', header=None, sep='\\t', names=['ID', 'TITLE', 'URL', 'PUBLISHER', 'CATEGORY', 'STORY', 'HOSTNAME', 'TIMESTAMP'])\n",
        "\n",
        "# データの抽出\n",
        "df = df.loc[df['PUBLISHER'].isin(['Reuters', 'Huffington Post', 'Businessweek', 'Contactmusic.com', 'Daily Mail']), ['TITLE', 'CATEGORY']]\n",
        "\n",
        "# データの分割\n",
        "train, valid_test = train_test_split(df, test_size=0.2, shuffle=True, random_state=123, stratify=df['CATEGORY'])\n",
        "valid, test = train_test_split(valid_test, test_size=0.5, shuffle=True, random_state=123, stratify=valid_test['CATEGORY'])\n",
        "\n",
        "# 事例数の確認\n",
        "print('【学習データ】')\n",
        "print(train['CATEGORY'].value_counts())\n",
        "print('【検証データ】')\n",
        "print(valid['CATEGORY'].value_counts())\n",
        "print('【評価データ】')\n",
        "print(test['CATEGORY'].value_counts())"
      ],
      "metadata": {
        "colab": {
          "base_uri": "https://localhost:8080/"
        },
        "id": "cJ4rb0JxUdLT",
        "outputId": "f22d52ae-a4d4-40c1-ca5a-afae426e8988"
      },
      "execution_count": 6,
      "outputs": [
        {
          "output_type": "stream",
          "name": "stdout",
          "text": [
            "【学習データ】\n",
            "b    4501\n",
            "e    4235\n",
            "t    1220\n",
            "m     728\n",
            "Name: CATEGORY, dtype: int64\n",
            "【検証データ】\n",
            "b    563\n",
            "e    529\n",
            "t    153\n",
            "m     91\n",
            "Name: CATEGORY, dtype: int64\n",
            "【評価データ】\n",
            "b    563\n",
            "e    530\n",
            "t    152\n",
            "m     91\n",
            "Name: CATEGORY, dtype: int64\n"
          ]
        }
      ]
    },
    {
      "cell_type": "code",
      "source": [
        "import gdown\n",
        "from gensim.models import KeyedVectors\n",
        "\n",
        "model = KeyedVectors.load_word2vec_format('GoogleNews-vectors-negative300.bin', binary=True)"
      ],
      "metadata": {
        "id": "ZTVFBYqfVC7b"
      },
      "execution_count": 7,
      "outputs": []
    },
    {
      "cell_type": "code",
      "source": [
        "import string\n",
        "import torch\n",
        "\n",
        "def transform_w2v(text):\n",
        "  table = str.maketrans(string.punctuation, ' '*len(string.punctuation))\n",
        "  words = text.translate(table).split()  # 記号をスペースに置換後、スペースで分割してリスト化\n",
        "  vec = [model[word] for word in words if word in model]  # 1語ずつベクトル化\n",
        "\n",
        "  return torch.tensor(sum(vec) / len(vec))  # 平均ベクトルをTensor型に変換して出力"
      ],
      "metadata": {
        "id": "HtRrTQjzWYJA"
      },
      "execution_count": 8,
      "outputs": []
    },
    {
      "cell_type": "code",
      "source": [
        "# 特徴ベクトルの作成\n",
        "X_train = torch.stack([transform_w2v(text) for text in train['TITLE']])\n",
        "X_valid = torch.stack([transform_w2v(text) for text in valid['TITLE']])\n",
        "X_test = torch.stack([transform_w2v(text) for text in test['TITLE']])\n",
        "\n",
        "print(X_train.size())\n",
        "print(X_train)"
      ],
      "metadata": {
        "colab": {
          "base_uri": "https://localhost:8080/"
        },
        "id": "CGHmYUj6Wh5_",
        "outputId": "7c6421a1-31d0-4b0c-c6cd-176b044aad55"
      },
      "execution_count": 9,
      "outputs": [
        {
          "output_type": "stream",
          "name": "stdout",
          "text": [
            "torch.Size([10684, 300])\n",
            "tensor([[ 0.0837,  0.0056,  0.0068,  ...,  0.0751,  0.0433, -0.0868],\n",
            "        [ 0.0272,  0.0266, -0.0947,  ..., -0.1046, -0.0489, -0.0092],\n",
            "        [ 0.0577, -0.0159, -0.0780,  ..., -0.0421,  0.1229,  0.0876],\n",
            "        ...,\n",
            "        [ 0.0392, -0.0052,  0.0686,  ..., -0.0175,  0.0061, -0.0224],\n",
            "        [ 0.0798,  0.1017,  0.1066,  ..., -0.0752,  0.0623,  0.1138],\n",
            "        [ 0.1664,  0.0451,  0.0508,  ..., -0.0531, -0.0183, -0.0039]])\n"
          ]
        }
      ]
    },
    {
      "cell_type": "code",
      "source": [
        "# ラベルベクトルの作成\n",
        "category_dict = {'b': 0, 't': 1, 'e':2, 'm':3}\n",
        "y_train = torch.tensor(train['CATEGORY'].map(lambda x: category_dict[x]).values)\n",
        "y_valid = torch.tensor(valid['CATEGORY'].map(lambda x: category_dict[x]).values)\n",
        "y_test = torch.tensor(test['CATEGORY'].map(lambda x: category_dict[x]).values)\n",
        "\n",
        "print(y_train.size())\n",
        "print(y_train)"
      ],
      "metadata": {
        "colab": {
          "base_uri": "https://localhost:8080/"
        },
        "id": "B9_CmCpGWlTu",
        "outputId": "96286f85-f5a6-48f8-d627-0a55269ca516"
      },
      "execution_count": 10,
      "outputs": [
        {
          "output_type": "stream",
          "name": "stdout",
          "text": [
            "torch.Size([10684])\n",
            "tensor([0, 1, 3,  ..., 0, 3, 2])\n"
          ]
        }
      ]
    },
    {
      "cell_type": "code",
      "source": [
        "# 保存\n",
        "torch.save(X_train, 'X_train.pt')\n",
        "torch.save(X_valid, 'X_valid.pt')\n",
        "torch.save(X_test, 'X_test.pt')\n",
        "torch.save(y_train, 'y_train.pt')\n",
        "torch.save(y_valid, 'y_valid.pt')\n",
        "torch.save(y_test, 'y_test.pt')"
      ],
      "metadata": {
        "id": "ZEJX--amWpXf"
      },
      "execution_count": 11,
      "outputs": []
    },
    {
      "cell_type": "code",
      "source": [
        "from torch import nn\n",
        "\n",
        "class SLPNet(nn.Module):\n",
        "  def __init__(self, input_size, output_size):\n",
        "    super().__init__()\n",
        "    self.fc = nn.Linear(input_size, output_size, bias=False)\n",
        "    nn.init.normal_(self.fc.weight, 0.0, 1.0)  # 正規乱数で重みを初期化\n",
        "\n",
        "  def forward(self, x):\n",
        "    x = self.fc(x)\n",
        "    return x"
      ],
      "metadata": {
        "id": "RzcKcVEVWtic"
      },
      "execution_count": 12,
      "outputs": []
    },
    {
      "cell_type": "code",
      "source": [
        "model = SLPNet(300, 4)  # 単層ニューラルネットワークの初期化\n",
        "y_hat_1 = torch.softmax(model(X_train[:1]), dim=-1)\n",
        "print(y_hat_1)"
      ],
      "metadata": {
        "colab": {
          "base_uri": "https://localhost:8080/"
        },
        "id": "jUG38HRjWwPP",
        "outputId": "56c503ac-73fa-45c7-b69d-ffdbc7e87dd2"
      },
      "execution_count": 13,
      "outputs": [
        {
          "output_type": "stream",
          "name": "stdout",
          "text": [
            "tensor([[0.3556, 0.4048, 0.0285, 0.2111]], grad_fn=<SoftmaxBackward0>)\n"
          ]
        }
      ]
    },
    {
      "cell_type": "code",
      "source": [
        "Y_hat = torch.softmax(model.forward(X_train[:4]), dim=-1)\n",
        "print(Y_hat)"
      ],
      "metadata": {
        "colab": {
          "base_uri": "https://localhost:8080/"
        },
        "id": "4AxbKv80WyvG",
        "outputId": "137a6b69-203a-403a-fdd2-8fb55adcc73f"
      },
      "execution_count": 14,
      "outputs": [
        {
          "output_type": "stream",
          "name": "stdout",
          "text": [
            "tensor([[0.3556, 0.4048, 0.0285, 0.2111],\n",
            "        [0.0349, 0.7043, 0.0093, 0.2514],\n",
            "        [0.1665, 0.2258, 0.0015, 0.6061],\n",
            "        [0.7657, 0.0831, 0.0066, 0.1446]], grad_fn=<SoftmaxBackward0>)\n"
          ]
        }
      ]
    },
    {
      "cell_type": "code",
      "source": [
        "criterion = nn.CrossEntropyLoss()"
      ],
      "metadata": {
        "id": "S32cRIMyW0R4"
      },
      "execution_count": 15,
      "outputs": []
    },
    {
      "cell_type": "code",
      "source": [
        "l_1 = criterion(model(X_train[:1]), y_train[:1])  # 入力ベクトルはsoftmax前の値\n",
        "model.zero_grad()  # 勾配をゼロで初期化\n",
        "l_1.backward()  # 勾配を計算\n",
        "print(f'損失: {l_1:.4f}')\n",
        "print(f'勾配:\\n{model.fc.weight.grad}')"
      ],
      "metadata": {
        "colab": {
          "base_uri": "https://localhost:8080/"
        },
        "id": "oqYgkKotW1-t",
        "outputId": "918d6dc7-9c0c-4a8f-f025-21d95cebfd57"
      },
      "execution_count": 16,
      "outputs": [
        {
          "output_type": "stream",
          "name": "stdout",
          "text": [
            "損失: 1.0340\n",
            "勾配:\n",
            "tensor([[-0.0539, -0.0036, -0.0044,  ..., -0.0484, -0.0279,  0.0559],\n",
            "        [ 0.0339,  0.0023,  0.0028,  ...,  0.0304,  0.0175, -0.0351],\n",
            "        [ 0.0024,  0.0002,  0.0002,  ...,  0.0021,  0.0012, -0.0025],\n",
            "        [ 0.0177,  0.0012,  0.0014,  ...,  0.0159,  0.0091, -0.0183]])\n"
          ]
        }
      ]
    },
    {
      "cell_type": "code",
      "source": [
        "l = criterion(model(X_train[:4]), y_train[:4])\n",
        "model.zero_grad()\n",
        "l.backward()\n",
        "print(f'損失: {l:.4f}')\n",
        "print(f'勾配:\\n{model.fc.weight.grad}')"
      ],
      "metadata": {
        "colab": {
          "base_uri": "https://localhost:8080/"
        },
        "id": "MfVtgWISW6FJ",
        "outputId": "bf1e5d48-d954-40d0-a473-69d24a2f3899"
      },
      "execution_count": 17,
      "outputs": [
        {
          "output_type": "stream",
          "name": "stdout",
          "text": [
            "損失: 1.7277\n",
            "勾配:\n",
            "tensor([[-0.0215,  0.0082,  0.0067,  ..., -0.0174,  0.0052,  0.0136],\n",
            "        [ 0.0086, -0.0013,  0.0046,  ...,  0.0127,  0.0157, -0.0036],\n",
            "        [ 0.0145, -0.0122, -0.0156,  ...,  0.0037, -0.0094,  0.0045],\n",
            "        [-0.0016,  0.0053,  0.0043,  ...,  0.0010, -0.0115, -0.0145]])\n"
          ]
        }
      ]
    },
    {
      "cell_type": "code",
      "source": [
        "from torch.utils.data import Dataset\n",
        "\n",
        "class NewsDataset(Dataset):\n",
        "  def __init__(self, X, y):  # datasetの構成要素を指定\n",
        "    self.X = X\n",
        "    self.y = y\n",
        "\n",
        "  def __len__(self):  # len(dataset)で返す値を指定\n",
        "    return len(self.y)\n",
        "\n",
        "  def __getitem__(self, idx):  # dataset[idx]で返す値を指定\n",
        "    return [self.X[idx], self.y[idx]]"
      ],
      "metadata": {
        "id": "cqgmB_VbXHPk"
      },
      "execution_count": 18,
      "outputs": []
    },
    {
      "cell_type": "code",
      "source": [
        "from torch.utils.data import DataLoader\n",
        "\n",
        "# Datasetの作成\n",
        "dataset_train = NewsDataset(X_train, y_train)\n",
        "dataset_valid = NewsDataset(X_valid, y_valid)\n",
        "dataset_test = NewsDataset(X_test, y_test)\n",
        "\n",
        "# Dataloaderの作成\n",
        "dataloader_train = DataLoader(dataset_train, batch_size=1, shuffle=True)\n",
        "dataloader_valid = DataLoader(dataset_valid, batch_size=len(dataset_valid), shuffle=False)\n",
        "dataloader_test = DataLoader(dataset_test, batch_size=len(dataset_test), shuffle=False)"
      ],
      "metadata": {
        "id": "1YFxQxFNXJTZ"
      },
      "execution_count": 19,
      "outputs": []
    },
    {
      "cell_type": "code",
      "source": [
        "# モデルの定義\n",
        "model = SLPNet(300, 4)\n",
        "\n",
        "# 損失関数の定義\n",
        "criterion = nn.CrossEntropyLoss()\n",
        "\n",
        "# オプティマイザの定義\n",
        "optimizer = torch.optim.SGD(model.parameters(), lr=1e-1)\n",
        "\n",
        "# 学習\n",
        "num_epochs = 10\n",
        "for epoch in range(num_epochs):\n",
        "  # 訓練モードに設定\n",
        "  model.train()\n",
        "  loss_train = 0.0\n",
        "  for i, (inputs, labels) in enumerate(dataloader_train):\n",
        "    # 勾配をゼロで初期化\n",
        "    optimizer.zero_grad()\n",
        "\n",
        "    # 順伝播 + 誤差逆伝播 + 重み更新\n",
        "    outputs = model(inputs)\n",
        "    loss = criterion(outputs, labels)\n",
        "    loss.backward()\n",
        "    optimizer.step()\n",
        "\n",
        "    # 損失を記録\n",
        "    loss_train += loss.item()\n",
        "\n",
        "  # バッチ単位の平均損失計算\n",
        "  loss_train = loss_train / i\n",
        "\n",
        "  # 検証データの損失計算\n",
        "  model.eval()\n",
        "  with torch.no_grad():\n",
        "    inputs, labels = next(iter(dataloader_valid))\n",
        "    outputs = model(inputs)\n",
        "    loss_valid = criterion(outputs, labels)\n",
        "\n",
        "  # ログを出力\n",
        "  print(f'epoch: {epoch + 1}, loss_train: {loss_train:.4f}, loss_valid: {loss_valid:.4f}')"
      ],
      "metadata": {
        "colab": {
          "base_uri": "https://localhost:8080/"
        },
        "id": "NVen1FfIXZwi",
        "outputId": "7b1529ef-dd69-4e3b-ce08-46a0c19a4919"
      },
      "execution_count": 20,
      "outputs": [
        {
          "output_type": "stream",
          "name": "stdout",
          "text": [
            "epoch: 1, loss_train: 0.4670, loss_valid: 0.3620\n",
            "epoch: 2, loss_train: 0.3103, loss_valid: 0.3305\n",
            "epoch: 3, loss_train: 0.2809, loss_valid: 0.3175\n",
            "epoch: 4, loss_train: 0.2644, loss_valid: 0.3206\n",
            "epoch: 5, loss_train: 0.2558, loss_valid: 0.3126\n",
            "epoch: 6, loss_train: 0.2475, loss_valid: 0.3144\n",
            "epoch: 7, loss_train: 0.2432, loss_valid: 0.3105\n",
            "epoch: 8, loss_train: 0.2382, loss_valid: 0.3132\n",
            "epoch: 9, loss_train: 0.2354, loss_valid: 0.3153\n",
            "epoch: 10, loss_train: 0.2325, loss_valid: 0.3151\n"
          ]
        }
      ]
    },
    {
      "cell_type": "code",
      "source": [
        "def calculate_accuracy(model, loader):\n",
        "  model.eval()\n",
        "  total = 0\n",
        "  correct = 0\n",
        "  with torch.no_grad():\n",
        "    for inputs, labels in loader:\n",
        "      outputs = model(inputs)\n",
        "      pred = torch.argmax(outputs, dim=-1)\n",
        "      total += len(inputs)\n",
        "      correct += (pred == labels).sum().item()\n",
        "\n",
        "  return correct / total"
      ],
      "metadata": {
        "id": "nzGJedmUXdz2"
      },
      "execution_count": 21,
      "outputs": []
    },
    {
      "cell_type": "code",
      "source": [
        "acc_train = calculate_accuracy(model, dataloader_train)\n",
        "acc_test = calculate_accuracy(model, dataloader_test)\n",
        "print(f'正解率（学習データ）：{acc_train:.3f}')\n",
        "print(f'正解率（評価データ）：{acc_test:.3f}')"
      ],
      "metadata": {
        "colab": {
          "base_uri": "https://localhost:8080/"
        },
        "id": "wkkoRcFLXica",
        "outputId": "d43092e9-01f7-4754-d0f0-0d2223429650"
      },
      "execution_count": 22,
      "outputs": [
        {
          "output_type": "stream",
          "name": "stdout",
          "text": [
            "正解率（学習データ）：0.922\n",
            "正解率（評価データ）：0.899\n"
          ]
        }
      ]
    },
    {
      "cell_type": "markdown",
      "source": [
        "#75. 損失と正解率のプロット"
      ],
      "metadata": {
        "id": "jMPcG3nXlbj6"
      }
    },
    {
      "cell_type": "code",
      "source": [
        "#損失と正解率を返す関数を定義、モデル、損失関数、データを入力\n",
        "def calculate_loss_and_accuracy(model, criterion, loader):\n",
        "  model.eval()\n",
        "  loss = 0.0\n",
        "  total = 0\n",
        "  correct = 0\n",
        "\n",
        "  #勾配の計算を無効化.学習時には必要だが、テスト時には必要ない\n",
        "  with torch.no_grad():\n",
        "\n",
        "    for inputs, labels in loader:\n",
        "      outputs = model(inputs)\n",
        "      loss += criterion(outputs, labels).item()\n",
        "      pred = torch.argmax(outputs, dim=-1)\n",
        "      total += len(inputs)\n",
        "      correct += (pred == labels).sum().item()\n",
        "\n",
        "  return loss / len(loader), correct / total"
      ],
      "metadata": {
        "id": "Wc8eLee-PmJ-"
      },
      "execution_count": 23,
      "outputs": []
    },
    {
      "cell_type": "code",
      "source": [
        "\n",
        "model = SLPNet(300, 4)\n",
        "\n",
        "criterion = nn.CrossEntropyLoss()\n",
        "\n",
        "optimizer = torch.optim.SGD(model.parameters(), lr=1e-1)\n",
        "\n",
        "num_epochs = 10\n",
        "log_train = []\n",
        "log_valid = []\n",
        "\n",
        "#学習\n",
        "for epoch in range(num_epochs):\n",
        "\n",
        "  model.train()\n",
        "  for inputs, labels in dataloader_train:\n",
        "\n",
        "    optimizer.zero_grad()\n",
        "\n",
        "    outputs = model(inputs)\n",
        "    loss = criterion(outputs, labels)\n",
        "    loss.backward()\n",
        "    optimizer.step()\n",
        "\n",
        "  # 損失と正解率の算出\n",
        "  loss_train, acc_train = calculate_loss_and_accuracy(model, criterion, dataloader_train)\n",
        "  loss_valid, acc_valid = calculate_loss_and_accuracy(model, criterion, dataloader_valid)\n",
        "  log_train.append([loss_train, acc_train])\n",
        "  log_valid.append([loss_valid, acc_valid])\n",
        "\n",
        "  # チェックポイントの保存（knock76）\n",
        "  torch.save({'epoch': epoch, 'model_state_dict': model.state_dict(), 'optimizer_state_dict': optimizer.state_dict()}, f'checkpoint{epoch + 1}.pt')\n",
        "\n",
        "\n",
        "  #出力\n",
        "  print(f'epoch: {epoch + 1}, loss_train: {loss_train:.4f}, accuracy_train: {acc_train:.4f}, loss_valid: {loss_valid:.4f}, accuracy_valid: {acc_valid:.4f}')"
      ],
      "metadata": {
        "colab": {
          "base_uri": "https://localhost:8080/"
        },
        "id": "g5IM8WLrPpK_",
        "outputId": "2da70762-d703-4dfc-d0a3-4f0b8dab1342"
      },
      "execution_count": 27,
      "outputs": [
        {
          "output_type": "stream",
          "name": "stdout",
          "text": [
            "epoch: 1, loss_train: 0.3240, accuracy_train: 0.8915, loss_valid: 0.3680, accuracy_valid: 0.8690\n",
            "epoch: 2, loss_train: 0.2940, accuracy_train: 0.9030, loss_valid: 0.3396, accuracy_valid: 0.8855\n",
            "epoch: 3, loss_train: 0.2655, accuracy_train: 0.9099, loss_valid: 0.3234, accuracy_valid: 0.8847\n",
            "epoch: 4, loss_train: 0.2503, accuracy_train: 0.9180, loss_valid: 0.3126, accuracy_valid: 0.8930\n",
            "epoch: 5, loss_train: 0.2448, accuracy_train: 0.9184, loss_valid: 0.3095, accuracy_valid: 0.8945\n",
            "epoch: 6, loss_train: 0.2367, accuracy_train: 0.9227, loss_valid: 0.3067, accuracy_valid: 0.8952\n",
            "epoch: 7, loss_train: 0.2345, accuracy_train: 0.9228, loss_valid: 0.3107, accuracy_valid: 0.8945\n",
            "epoch: 8, loss_train: 0.2287, accuracy_train: 0.9253, loss_valid: 0.3061, accuracy_valid: 0.8937\n",
            "epoch: 9, loss_train: 0.2255, accuracy_train: 0.9262, loss_valid: 0.3069, accuracy_valid: 0.8922\n",
            "epoch: 10, loss_train: 0.2248, accuracy_train: 0.9258, loss_valid: 0.3077, accuracy_valid: 0.8915\n"
          ]
        }
      ]
    },
    {
      "cell_type": "code",
      "source": [
        "from matplotlib import pyplot as plt\n",
        "import numpy as np\n",
        "\n",
        "# 可視化\n",
        "fig, ax = plt.subplots(1, 2, figsize=(15, 5))\n",
        "ax[0].plot(np.array(log_train).T[0], label='train')\n",
        "ax[0].plot(np.array(log_valid).T[0], label='valid')\n",
        "ax[0].set_xlabel('epoch')\n",
        "ax[0].set_ylabel('loss')\n",
        "ax[0].legend()\n",
        "ax[1].plot(np.array(log_train).T[1], label='train')\n",
        "ax[1].plot(np.array(log_valid).T[1], label='valid')\n",
        "ax[1].set_xlabel('epoch')\n",
        "ax[1].set_ylabel('accuracy')\n",
        "ax[1].legend()\n",
        "plt.show()"
      ],
      "metadata": {
        "colab": {
          "base_uri": "https://localhost:8080/",
          "height": 465
        },
        "id": "5F6pTxXjPy68",
        "outputId": "e0f90b58-526b-4e53-f33e-3483b1eba809"
      },
      "execution_count": 28,
      "outputs": [
        {
          "output_type": "display_data",
          "data": {
            "text/plain": [
              "<Figure size 1500x500 with 2 Axes>"
            ],
            "image/png": "[encoded data removed]"
          },
          "metadata": {}
        }
      ]
    },
    {
      "cell_type": "markdown",
      "source": [
        "#76以下\n"
      ],
      "metadata": {
        "id": "iuDaX_keljSL"
      }
    },
    {
      "cell_type": "code",
      "source": [
        "import time"
      ],
      "metadata": {
        "id": "LWEX9Lz-SIyb"
      },
      "execution_count": 32,
      "outputs": []
    },
    {
      "cell_type": "code",
      "source": [
        "def calculate_loss_and_accuracy(model, criterion, loader, device):\n",
        "  model.eval()\n",
        "  loss = 0.0\n",
        "  total = 0\n",
        "  correct = 0\n",
        "  with torch.no_grad():\n",
        "    for inputs, labels in loader:\n",
        "      inputs = inputs.to(device)\n",
        "      labels = labels.to(device)\n",
        "      outputs = model(inputs)\n",
        "      loss += criterion(outputs, labels).item()\n",
        "      pred = torch.argmax(outputs, dim=-1)\n",
        "      total += len(inputs)\n",
        "      correct += (pred == labels).sum().item()\n",
        "\n",
        "  return loss / len(loader), correct / total\n",
        "\n",
        "\n",
        "def train_model(dataset_train, dataset_valid, batch_size, model, criterion, optimizer, num_epochs, device=None):\n",
        "  # GPUに送る\n",
        "  model.to(device)\n",
        "\n",
        "  # dataloaderの作成\n",
        "  dataloader_train = DataLoader(dataset_train, batch_size=batch_size, shuffle=True)\n",
        "  dataloader_valid = DataLoader(dataset_valid, batch_size=len(dataset_valid), shuffle=False)\n",
        "\n",
        "  # 学習\n",
        "  log_train = []\n",
        "  log_valid = []\n",
        "  for epoch in range(num_epochs):\n",
        "    # 開始時刻の記録\n",
        "    s_time = time.time()\n",
        "\n",
        "    # 訓練モードに設定\n",
        "    model.train()\n",
        "    for inputs, labels in dataloader_train:\n",
        "      # 勾配をゼロで初期化\n",
        "      optimizer.zero_grad()\n",
        "\n",
        "      # 順伝播 + 誤差逆伝播 + 重み更新\n",
        "      inputs = inputs.to(device)\n",
        "      labels = labels.to(device)\n",
        "      outputs = model.forward(inputs)\n",
        "      loss = criterion(outputs, labels)\n",
        "      loss.backward()\n",
        "      optimizer.step()\n",
        "\n",
        "    # 損失と正解率の算出\n",
        "    loss_train, acc_train = calculate_loss_and_accuracy(model, criterion, dataloader_train, device)\n",
        "    loss_valid, acc_valid = calculate_loss_and_accuracy(model, criterion, dataloader_valid, device)\n",
        "    log_train.append([loss_train, acc_train])\n",
        "    log_valid.append([loss_valid, acc_valid])\n",
        "\n",
        "    # チェックポイントの保存\n",
        "    torch.save({'epoch': epoch, 'model_state_dict': model.state_dict(), 'optimizer_state_dict': optimizer.state_dict()}, f'checkpoint{epoch + 1}.pt')\n",
        "\n",
        "    # 終了時刻の記録\n",
        "    e_time = time.time()\n",
        "\n",
        "    # ログを出力\n",
        "    print(f'epoch: {epoch + 1}, loss_train: {loss_train:.4f}, accuracy_train: {acc_train:.4f}, loss_valid: {loss_valid:.4f}, accuracy_valid: {acc_valid:.4f}, {(e_time - s_time):.4f}sec')\n",
        "\n",
        "  return {'train': log_train, 'valid': log_valid}"
      ],
      "metadata": {
        "id": "42IoaDE_RjHq"
      },
      "execution_count": 29,
      "outputs": []
    },
    {
      "cell_type": "code",
      "source": [
        "# datasetの作成\n",
        "dataset_train = NewsDataset(X_train, y_train)\n",
        "dataset_valid = NewsDataset(X_valid, y_valid)\n",
        "\n",
        "# モデルの定義\n",
        "model = SLPNet(300, 4)\n",
        "\n",
        "# 損失関数の定義\n",
        "criterion = nn.CrossEntropyLoss()\n",
        "\n",
        "# オプティマイザの定義\n",
        "optimizer = torch.optim.SGD(model.parameters(), lr=1e-1)\n",
        "\n",
        "# デバイスの指定\n",
        "device = torch.device('cuda')\n",
        "\n",
        "# モデルの学習\n",
        "for batch_size in [2 ** i for i in range(11)]:\n",
        "  print(f'バッチサイズ: {batch_size}')\n",
        "  log = train_model(dataset_train, dataset_valid, batch_size, model, criterion, optimizer, 1, device=device)"
      ],
      "metadata": {
        "colab": {
          "base_uri": "https://localhost:8080/"
        },
        "id": "lSC9sxSEPzgW",
        "outputId": "184c6b76-6f4a-487b-809f-6e6c6446f171"
      },
      "execution_count": 33,
      "outputs": [
        {
          "output_type": "stream",
          "name": "stdout",
          "text": [
            "バッチサイズ: 1\n",
            "epoch: 1, loss_train: 0.3323, accuracy_train: 0.8847, loss_valid: 0.3606, accuracy_valid: 0.8757, 14.8563sec\n",
            "バッチサイズ: 2\n",
            "epoch: 1, loss_train: 0.3022, accuracy_train: 0.8946, loss_valid: 0.3386, accuracy_valid: 0.8825, 5.7954sec\n",
            "バッチサイズ: 4\n",
            "epoch: 1, loss_train: 0.2926, accuracy_train: 0.8974, loss_valid: 0.3324, accuracy_valid: 0.8832, 3.3870sec\n",
            "バッチサイズ: 8\n",
            "epoch: 1, loss_train: 0.2886, accuracy_train: 0.8991, loss_valid: 0.3299, accuracy_valid: 0.8847, 1.6595sec\n",
            "バッチサイズ: 16\n",
            "epoch: 1, loss_train: 0.2867, accuracy_train: 0.8992, loss_valid: 0.3285, accuracy_valid: 0.8840, 0.9088sec\n",
            "バッチサイズ: 32\n",
            "epoch: 1, loss_train: 0.2858, accuracy_train: 0.9005, loss_valid: 0.3281, accuracy_valid: 0.8847, 0.5318sec\n",
            "バッチサイズ: 64\n",
            "epoch: 1, loss_train: 0.2854, accuracy_train: 0.9003, loss_valid: 0.3278, accuracy_valid: 0.8840, 0.3241sec\n",
            "バッチサイズ: 128\n",
            "epoch: 1, loss_train: 0.2852, accuracy_train: 0.9005, loss_valid: 0.3276, accuracy_valid: 0.8840, 0.3566sec\n",
            "バッチサイズ: 256\n",
            "epoch: 1, loss_train: 0.2850, accuracy_train: 0.9004, loss_valid: 0.3275, accuracy_valid: 0.8840, 0.1887sec\n",
            "バッチサイズ: 512\n",
            "epoch: 1, loss_train: 0.2852, accuracy_train: 0.9004, loss_valid: 0.3275, accuracy_valid: 0.8840, 0.1661sec\n",
            "バッチサイズ: 1024\n",
            "epoch: 1, loss_train: 0.2894, accuracy_train: 0.9005, loss_valid: 0.3275, accuracy_valid: 0.8840, 0.1569sec\n"
          ]
        }
      ]
    },
    {
      "cell_type": "markdown",
      "source": [
        "#79\n"
      ],
      "metadata": {
        "id": "b4fkMGrVlqUo"
      }
    },
    {
      "cell_type": "code",
      "source": [
        "from torch.nn import functional as F\n",
        "#多層ニューラルネットワークを定義\n",
        "class MLPNet(nn.Module):\n",
        "  #入力次元、中間層の次元、出力の次元（分類クラスの数）、中間層の数\n",
        "  def __init__(self, input_size, mid_size, output_size, mid_layers):\n",
        "    super().__init__()\n",
        "    self.mid_layers = mid_layers\n",
        "    self.fc = nn.Linear(input_size, mid_size)\n",
        "    self.fc_mid = nn.Linear(mid_size, mid_size)\n",
        "    self.fc_out = nn.Linear(mid_size, output_size)\n",
        "    self.bn = nn.BatchNorm1d(mid_size)\n",
        "#BN正規化とReLU関数の適用\n",
        "  def forward(self, x):\n",
        "    x = F.relu(self.fc(x))\n",
        "    for _ in range(self.mid_layers):\n",
        "      x = F.relu(self.bn(self.fc_mid(x)))\n",
        "    x = F.relu(self.fc_out(x))\n",
        "\n",
        "    return x"
      ],
      "metadata": {
        "id": "P03-dj7vSTsk"
      },
      "execution_count": 40,
      "outputs": []
    },
    {
      "cell_type": "code",
      "source": [
        "from torch import optim\n",
        "\n",
        "#GPUを使うので、関数にdeviceが必要なため再定義\n",
        "def calculate_loss_and_accuracy(model, criterion, loader, device):\n",
        "  model.eval()\n",
        "  loss = 0.0\n",
        "  total = 0\n",
        "  correct = 0\n",
        "  with torch.no_grad():\n",
        "    for inputs, labels in loader:\n",
        "      inputs = inputs.to(device)\n",
        "      labels = labels.to(device)\n",
        "      outputs = model(inputs)\n",
        "      loss += criterion(outputs, labels).item()\n",
        "      pred = torch.argmax(outputs, dim=-1)\n",
        "      total += len(inputs)\n",
        "      correct += (pred == labels).sum().item()\n",
        "\n",
        "  return loss / len(loader), correct / total\n",
        "\n",
        "\n",
        "def train_model(dataset_train, dataset_valid, batch_size, model, criterion, optimizer, num_epochs, device=None):\n",
        "  # GPUに送る\n",
        "  model.to(device)\n",
        "\n",
        "  # dataloaderの作成\n",
        "  dataloader_train = DataLoader(dataset_train, batch_size=batch_size, shuffle=True)\n",
        "  dataloader_valid = DataLoader(dataset_valid, batch_size=len(dataset_valid), shuffle=False)\n",
        "\n",
        "\n",
        "\n",
        "  # 学習\n",
        "  log_train = []\n",
        "  log_valid = []\n",
        "  for epoch in range(num_epochs):\n",
        "    # 開始時刻の記録\n",
        "    s_time = time.time()\n",
        "\n",
        "    # 訓練モードに設定\n",
        "    model.train()\n",
        "    for inputs, labels in dataloader_train:\n",
        "      # 勾配をゼロで初期化\n",
        "      optimizer.zero_grad()\n",
        "\n",
        "      # 順伝播 + 誤差逆伝播 + 重み更新\n",
        "      inputs = inputs.to(device)\n",
        "      labels = labels.to(device)\n",
        "      outputs = model.forward(inputs)\n",
        "      loss = criterion(outputs, labels)\n",
        "      loss.backward()\n",
        "      optimizer.step()\n",
        "\n",
        "    # 損失と正解率の算出\n",
        "    loss_train, acc_train = calculate_loss_and_accuracy(model, criterion, dataloader_train, device)\n",
        "    loss_valid, acc_valid = calculate_loss_and_accuracy(model, criterion, dataloader_valid, device)\n",
        "    log_train.append([loss_train, acc_train])\n",
        "    log_valid.append([loss_valid, acc_valid])\n",
        "\n",
        "    # チェックポイントの保存\n",
        "    torch.save({'epoch': epoch, 'model_state_dict': model.state_dict(), 'optimizer_state_dict': optimizer.state_dict()}, f'checkpoint{epoch + 1}.pt')\n",
        "\n",
        "    # 終了時刻の記録\n",
        "    e_time = time.time()\n",
        "\n",
        "    # ログを出力\n",
        "    print(f'epoch: {epoch + 1}, loss_train: {loss_train:.4f}, accuracy_train: {acc_train:.4f}, loss_valid: {loss_valid:.4f}, accuracy_valid: {acc_valid:.4f}, {(e_time - s_time):.4f}sec')\n",
        "\n",
        "    # 検証データの損失が3エポック連続で低下しなかった場合は学習終了\n",
        "    if epoch > 2 and log_valid[epoch - 3][0] <= log_valid[epoch - 2][0] <= log_valid[epoch - 1][0] <= log_valid[epoch][0]:\n",
        "      break\n",
        "\n",
        "\n",
        "\n",
        "  return {'train': log_train, 'valid': log_valid}"
      ],
      "metadata": {
        "id": "isw9MRykSuGN"
      },
      "execution_count": 41,
      "outputs": []
    },
    {
      "cell_type": "code",
      "source": [
        "\n",
        "dataset_train = NewsDataset(X_train, y_train)\n",
        "dataset_valid = NewsDataset(X_valid, y_valid)\n",
        "\n",
        "model = MLPNet(300, 200, 4, 1)\n",
        "\n",
        "criterion = nn.CrossEntropyLoss()\n",
        "\n",
        "optimizer = torch.optim.SGD(model.parameters(), lr=1e-3)\n",
        "\n",
        "device = torch.device('cuda')\n",
        "\n",
        "\n",
        "log = train_model(dataset_train, dataset_valid, 64, model, criterion, optimizer, 1000, device)"
      ],
      "metadata": {
        "colab": {
          "base_uri": "https://localhost:8080/"
        },
        "id": "99gjRSazS28u",
        "outputId": "0e311e4a-2b47-4232-975f-a1b5ad72ccba"
      },
      "execution_count": 42,
      "outputs": [
        {
          "output_type": "stream",
          "name": "stdout",
          "text": [
            "epoch: 1, loss_train: 0.9168, accuracy_train: 0.7512, loss_valid: 0.9064, accuracy_valid: 0.7635, 0.5085sec\n",
            "epoch: 2, loss_train: 0.7315, accuracy_train: 0.7693, loss_valid: 0.7245, accuracy_valid: 0.7769, 0.5029sec\n",
            "epoch: 3, loss_train: 0.6623, accuracy_train: 0.7741, loss_valid: 0.6582, accuracy_valid: 0.7799, 0.5059sec\n",
            "epoch: 4, loss_train: 0.6241, accuracy_train: 0.7779, loss_valid: 0.6223, accuracy_valid: 0.7829, 0.5063sec\n",
            "epoch: 5, loss_train: 0.5986, accuracy_train: 0.7796, loss_valid: 0.5989, accuracy_valid: 0.7852, 0.4818sec\n",
            "epoch: 6, loss_train: 0.5771, accuracy_train: 0.7834, loss_valid: 0.5794, accuracy_valid: 0.7882, 0.4988sec\n",
            "epoch: 7, loss_train: 0.5588, accuracy_train: 0.7884, loss_valid: 0.5631, accuracy_valid: 0.7949, 0.4797sec\n",
            "epoch: 8, loss_train: 0.5399, accuracy_train: 0.7972, loss_valid: 0.5466, accuracy_valid: 0.8016, 0.5048sec\n",
            "epoch: 9, loss_train: 0.5242, accuracy_train: 0.8072, loss_valid: 0.5334, accuracy_valid: 0.8091, 0.5903sec\n",
            "epoch: 10, loss_train: 0.5080, accuracy_train: 0.8155, loss_valid: 0.5195, accuracy_valid: 0.8166, 0.6451sec\n",
            "epoch: 11, loss_train: 0.4962, accuracy_train: 0.8210, loss_valid: 0.5094, accuracy_valid: 0.8189, 0.6732sec\n",
            "epoch: 12, loss_train: 0.4803, accuracy_train: 0.8293, loss_valid: 0.4956, accuracy_valid: 0.8204, 0.6566sec\n",
            "epoch: 13, loss_train: 0.4675, accuracy_train: 0.8336, loss_valid: 0.4849, accuracy_valid: 0.8293, 0.6712sec\n",
            "epoch: 14, loss_train: 0.4511, accuracy_train: 0.8459, loss_valid: 0.4698, accuracy_valid: 0.8338, 0.6479sec\n",
            "epoch: 15, loss_train: 0.4292, accuracy_train: 0.8557, loss_valid: 0.4488, accuracy_valid: 0.8413, 0.4885sec\n",
            "epoch: 16, loss_train: 0.4107, accuracy_train: 0.8678, loss_valid: 0.4320, accuracy_valid: 0.8593, 0.5243sec\n",
            "epoch: 17, loss_train: 0.3922, accuracy_train: 0.8743, loss_valid: 0.4156, accuracy_valid: 0.8608, 0.4841sec\n",
            "epoch: 18, loss_train: 0.3793, accuracy_train: 0.8795, loss_valid: 0.4037, accuracy_valid: 0.8653, 0.5184sec\n",
            "epoch: 19, loss_train: 0.3655, accuracy_train: 0.8862, loss_valid: 0.3916, accuracy_valid: 0.8713, 0.4943sec\n",
            "epoch: 20, loss_train: 0.3537, accuracy_train: 0.8875, loss_valid: 0.3817, accuracy_valid: 0.8735, 0.7458sec\n",
            "epoch: 21, loss_train: 0.3443, accuracy_train: 0.8909, loss_valid: 0.3736, accuracy_valid: 0.8750, 0.7323sec\n",
            "epoch: 22, loss_train: 0.3383, accuracy_train: 0.8918, loss_valid: 0.3690, accuracy_valid: 0.8817, 0.4903sec\n",
            "epoch: 23, loss_train: 0.3260, accuracy_train: 0.8951, loss_valid: 0.3587, accuracy_valid: 0.8802, 0.4917sec\n",
            "epoch: 24, loss_train: 0.3203, accuracy_train: 0.8977, loss_valid: 0.3538, accuracy_valid: 0.8877, 0.4957sec\n",
            "epoch: 25, loss_train: 0.3126, accuracy_train: 0.9013, loss_valid: 0.3472, accuracy_valid: 0.8870, 0.4966sec\n",
            "epoch: 26, loss_train: 0.3074, accuracy_train: 0.9019, loss_valid: 0.3439, accuracy_valid: 0.8892, 0.4913sec\n",
            "epoch: 27, loss_train: 0.3013, accuracy_train: 0.9025, loss_valid: 0.3391, accuracy_valid: 0.8885, 0.5133sec\n",
            "epoch: 28, loss_train: 0.2974, accuracy_train: 0.9037, loss_valid: 0.3372, accuracy_valid: 0.8885, 0.4932sec\n",
            "epoch: 29, loss_train: 0.2919, accuracy_train: 0.9071, loss_valid: 0.3320, accuracy_valid: 0.8945, 0.4957sec\n",
            "epoch: 30, loss_train: 0.2868, accuracy_train: 0.9081, loss_valid: 0.3287, accuracy_valid: 0.8982, 0.4892sec\n",
            "epoch: 31, loss_train: 0.2826, accuracy_train: 0.9091, loss_valid: 0.3257, accuracy_valid: 0.8952, 0.4976sec\n",
            "epoch: 32, loss_train: 0.2784, accuracy_train: 0.9103, loss_valid: 0.3223, accuracy_valid: 0.8952, 0.4997sec\n",
            "epoch: 33, loss_train: 0.2752, accuracy_train: 0.9127, loss_valid: 0.3206, accuracy_valid: 0.8990, 0.5123sec\n",
            "epoch: 34, loss_train: 0.2743, accuracy_train: 0.9115, loss_valid: 0.3216, accuracy_valid: 0.9019, 0.6741sec\n",
            "epoch: 35, loss_train: 0.2684, accuracy_train: 0.9126, loss_valid: 0.3171, accuracy_valid: 0.8982, 0.6711sec\n",
            "epoch: 36, loss_train: 0.2664, accuracy_train: 0.9126, loss_valid: 0.3166, accuracy_valid: 0.8997, 0.8225sec\n",
            "epoch: 37, loss_train: 0.2622, accuracy_train: 0.9159, loss_valid: 0.3130, accuracy_valid: 0.9042, 0.6494sec\n",
            "epoch: 38, loss_train: 0.2594, accuracy_train: 0.9158, loss_valid: 0.3118, accuracy_valid: 0.9027, 0.6633sec\n",
            "epoch: 39, loss_train: 0.2558, accuracy_train: 0.9171, loss_valid: 0.3095, accuracy_valid: 0.9027, 0.5005sec\n",
            "epoch: 40, loss_train: 0.2531, accuracy_train: 0.9175, loss_valid: 0.3083, accuracy_valid: 0.9049, 0.4963sec\n",
            "epoch: 41, loss_train: 0.2514, accuracy_train: 0.9177, loss_valid: 0.3075, accuracy_valid: 0.9049, 0.5143sec\n",
            "epoch: 42, loss_train: 0.2500, accuracy_train: 0.9179, loss_valid: 0.3077, accuracy_valid: 0.9072, 0.4920sec\n",
            "epoch: 43, loss_train: 0.2457, accuracy_train: 0.9188, loss_valid: 0.3050, accuracy_valid: 0.9079, 0.4906sec\n",
            "epoch: 44, loss_train: 0.2435, accuracy_train: 0.9200, loss_valid: 0.3044, accuracy_valid: 0.9072, 0.5279sec\n",
            "epoch: 45, loss_train: 0.2417, accuracy_train: 0.9211, loss_valid: 0.3027, accuracy_valid: 0.9087, 0.5069sec\n",
            "epoch: 46, loss_train: 0.2396, accuracy_train: 0.9222, loss_valid: 0.3019, accuracy_valid: 0.9012, 0.4981sec\n",
            "epoch: 47, loss_train: 0.2376, accuracy_train: 0.9211, loss_valid: 0.3021, accuracy_valid: 0.9087, 0.4991sec\n",
            "epoch: 48, loss_train: 0.2347, accuracy_train: 0.9240, loss_valid: 0.2998, accuracy_valid: 0.9034, 0.4828sec\n",
            "epoch: 49, loss_train: 0.2337, accuracy_train: 0.9247, loss_valid: 0.2997, accuracy_valid: 0.9019, 0.5058sec\n",
            "epoch: 50, loss_train: 0.2303, accuracy_train: 0.9239, loss_valid: 0.2990, accuracy_valid: 0.9079, 0.5170sec\n",
            "epoch: 51, loss_train: 0.2291, accuracy_train: 0.9249, loss_valid: 0.2979, accuracy_valid: 0.9049, 0.5027sec\n",
            "epoch: 52, loss_train: 0.2287, accuracy_train: 0.9238, loss_valid: 0.2987, accuracy_valid: 0.9027, 0.5000sec\n",
            "epoch: 53, loss_train: 0.2248, accuracy_train: 0.9263, loss_valid: 0.2961, accuracy_valid: 0.9072, 0.4931sec\n",
            "epoch: 54, loss_train: 0.2232, accuracy_train: 0.9262, loss_valid: 0.2967, accuracy_valid: 0.9057, 0.4974sec\n",
            "epoch: 55, loss_train: 0.2245, accuracy_train: 0.9251, loss_valid: 0.3000, accuracy_valid: 0.9094, 0.5023sec\n",
            "epoch: 56, loss_train: 0.2187, accuracy_train: 0.9271, loss_valid: 0.2960, accuracy_valid: 0.9072, 0.5255sec\n",
            "epoch: 57, loss_train: 0.2175, accuracy_train: 0.9289, loss_valid: 0.2945, accuracy_valid: 0.9064, 0.5107sec\n",
            "epoch: 58, loss_train: 0.2165, accuracy_train: 0.9291, loss_valid: 0.2947, accuracy_valid: 0.9072, 0.5464sec\n",
            "epoch: 59, loss_train: 0.2148, accuracy_train: 0.9283, loss_valid: 0.2940, accuracy_valid: 0.9057, 0.6807sec\n",
            "epoch: 60, loss_train: 0.2126, accuracy_train: 0.9298, loss_valid: 0.2939, accuracy_valid: 0.9064, 0.6895sec\n",
            "epoch: 61, loss_train: 0.2114, accuracy_train: 0.9307, loss_valid: 0.2937, accuracy_valid: 0.9064, 0.6674sec\n",
            "epoch: 62, loss_train: 0.2098, accuracy_train: 0.9324, loss_valid: 0.2928, accuracy_valid: 0.9042, 0.6728sec\n",
            "epoch: 63, loss_train: 0.2080, accuracy_train: 0.9320, loss_valid: 0.2929, accuracy_valid: 0.9064, 0.7029sec\n",
            "epoch: 64, loss_train: 0.2084, accuracy_train: 0.9318, loss_valid: 0.2947, accuracy_valid: 0.9072, 0.5043sec\n",
            "epoch: 65, loss_train: 0.2051, accuracy_train: 0.9343, loss_valid: 0.2921, accuracy_valid: 0.9079, 0.5026sec\n",
            "epoch: 66, loss_train: 0.2034, accuracy_train: 0.9352, loss_valid: 0.2917, accuracy_valid: 0.9042, 0.4837sec\n",
            "epoch: 67, loss_train: 0.2030, accuracy_train: 0.9345, loss_valid: 0.2939, accuracy_valid: 0.9064, 0.5142sec\n",
            "epoch: 68, loss_train: 0.2002, accuracy_train: 0.9362, loss_valid: 0.2913, accuracy_valid: 0.9034, 0.5049sec\n",
            "epoch: 69, loss_train: 0.1997, accuracy_train: 0.9347, loss_valid: 0.2922, accuracy_valid: 0.9042, 0.5077sec\n",
            "epoch: 70, loss_train: 0.1972, accuracy_train: 0.9378, loss_valid: 0.2909, accuracy_valid: 0.9027, 0.4934sec\n",
            "epoch: 71, loss_train: 0.1955, accuracy_train: 0.9383, loss_valid: 0.2902, accuracy_valid: 0.9042, 0.5073sec\n",
            "epoch: 72, loss_train: 0.1960, accuracy_train: 0.9374, loss_valid: 0.2904, accuracy_valid: 0.9027, 0.4941sec\n",
            "epoch: 73, loss_train: 0.1935, accuracy_train: 0.9400, loss_valid: 0.2902, accuracy_valid: 0.9057, 0.5048sec\n",
            "epoch: 74, loss_train: 0.1922, accuracy_train: 0.9384, loss_valid: 0.2912, accuracy_valid: 0.9049, 0.4765sec\n",
            "epoch: 75, loss_train: 0.1901, accuracy_train: 0.9396, loss_valid: 0.2900, accuracy_valid: 0.9064, 0.5089sec\n",
            "epoch: 76, loss_train: 0.1898, accuracy_train: 0.9407, loss_valid: 0.2898, accuracy_valid: 0.9064, 0.4878sec\n",
            "epoch: 77, loss_train: 0.1877, accuracy_train: 0.9408, loss_valid: 0.2902, accuracy_valid: 0.9057, 0.5198sec\n",
            "epoch: 78, loss_train: 0.1860, accuracy_train: 0.9419, loss_valid: 0.2890, accuracy_valid: 0.9072, 0.4759sec\n",
            "epoch: 79, loss_train: 0.1852, accuracy_train: 0.9399, loss_valid: 0.2905, accuracy_valid: 0.9049, 0.5046sec\n",
            "epoch: 80, loss_train: 0.1839, accuracy_train: 0.9426, loss_valid: 0.2910, accuracy_valid: 0.9057, 0.5101sec\n",
            "epoch: 81, loss_train: 0.1827, accuracy_train: 0.9429, loss_valid: 0.2887, accuracy_valid: 0.9072, 0.5215sec\n",
            "epoch: 82, loss_train: 0.1827, accuracy_train: 0.9426, loss_valid: 0.2895, accuracy_valid: 0.9042, 0.4897sec\n",
            "epoch: 83, loss_train: 0.1795, accuracy_train: 0.9435, loss_valid: 0.2894, accuracy_valid: 0.9072, 0.5171sec\n",
            "epoch: 84, loss_train: 0.1817, accuracy_train: 0.9420, loss_valid: 0.2907, accuracy_valid: 0.9027, 0.6628sec\n",
            "epoch: 85, loss_train: 0.1778, accuracy_train: 0.9438, loss_valid: 0.2907, accuracy_valid: 0.9049, 0.6386sec\n",
            "epoch: 86, loss_train: 0.1759, accuracy_train: 0.9450, loss_valid: 0.2896, accuracy_valid: 0.9079, 0.6708sec\n",
            "epoch: 87, loss_train: 0.1751, accuracy_train: 0.9461, loss_valid: 0.2887, accuracy_valid: 0.9064, 0.6520sec\n",
            "epoch: 88, loss_train: 0.1739, accuracy_train: 0.9463, loss_valid: 0.2884, accuracy_valid: 0.9042, 0.8170sec\n",
            "epoch: 89, loss_train: 0.1732, accuracy_train: 0.9454, loss_valid: 0.2894, accuracy_valid: 0.9072, 0.5358sec\n",
            "epoch: 90, loss_train: 0.1727, accuracy_train: 0.9445, loss_valid: 0.2909, accuracy_valid: 0.9079, 0.7551sec\n",
            "epoch: 91, loss_train: 0.1707, accuracy_train: 0.9473, loss_valid: 0.2904, accuracy_valid: 0.9064, 0.6132sec\n",
            "epoch: 92, loss_train: 0.1681, accuracy_train: 0.9467, loss_valid: 0.2889, accuracy_valid: 0.9064, 0.6124sec\n",
            "epoch: 93, loss_train: 0.1681, accuracy_train: 0.9482, loss_valid: 0.2887, accuracy_valid: 0.9072, 0.7125sec\n",
            "epoch: 94, loss_train: 0.1674, accuracy_train: 0.9481, loss_valid: 0.2906, accuracy_valid: 0.9079, 0.4970sec\n",
            "epoch: 95, loss_train: 0.1655, accuracy_train: 0.9496, loss_valid: 0.2885, accuracy_valid: 0.9072, 0.5028sec\n",
            "epoch: 96, loss_train: 0.1638, accuracy_train: 0.9484, loss_valid: 0.2887, accuracy_valid: 0.9072, 0.5497sec\n",
            "epoch: 97, loss_train: 0.1628, accuracy_train: 0.9487, loss_valid: 0.2886, accuracy_valid: 0.9049, 0.5299sec\n",
            "epoch: 98, loss_train: 0.1615, accuracy_train: 0.9493, loss_valid: 0.2898, accuracy_valid: 0.9064, 0.5076sec\n",
            "epoch: 99, loss_train: 0.1611, accuracy_train: 0.9509, loss_valid: 0.2893, accuracy_valid: 0.9064, 0.5034sec\n",
            "epoch: 100, loss_train: 0.1591, accuracy_train: 0.9501, loss_valid: 0.2880, accuracy_valid: 0.9079, 0.5019sec\n",
            "epoch: 101, loss_train: 0.1575, accuracy_train: 0.9517, loss_valid: 0.2880, accuracy_valid: 0.9072, 0.5023sec\n",
            "epoch: 102, loss_train: 0.1569, accuracy_train: 0.9527, loss_valid: 0.2883, accuracy_valid: 0.9057, 0.4957sec\n",
            "epoch: 103, loss_train: 0.1548, accuracy_train: 0.9525, loss_valid: 0.2894, accuracy_valid: 0.9072, 0.4954sec\n",
            "epoch: 104, loss_train: 0.1556, accuracy_train: 0.9517, loss_valid: 0.2893, accuracy_valid: 0.9064, 0.5030sec\n",
            "epoch: 105, loss_train: 0.1539, accuracy_train: 0.9536, loss_valid: 0.2877, accuracy_valid: 0.9064, 0.5157sec\n",
            "epoch: 106, loss_train: 0.1522, accuracy_train: 0.9538, loss_valid: 0.2881, accuracy_valid: 0.9057, 0.5080sec\n",
            "epoch: 107, loss_train: 0.1511, accuracy_train: 0.9545, loss_valid: 0.2884, accuracy_valid: 0.9064, 0.6067sec\n",
            "epoch: 108, loss_train: 0.1508, accuracy_train: 0.9539, loss_valid: 0.2892, accuracy_valid: 0.9057, 0.6452sec\n"
          ]
        }
      ]
    },
    {
      "cell_type": "code",
      "source": [
        "def calculate_accuracy(model, loader, device):\n",
        "  model.eval()\n",
        "  total = 0\n",
        "  correct = 0\n",
        "  with torch.no_grad():\n",
        "    for inputs, labels in loader:\n",
        "      inputs = inputs.to(device)\n",
        "      labels = labels.to(device)\n",
        "      outputs = model(inputs)\n",
        "      pred = torch.argmax(outputs, dim=-1)\n",
        "      total += len(inputs)\n",
        "      correct += (pred == labels).sum().item()\n",
        "\n",
        "  return correct / total"
      ],
      "metadata": {
        "id": "eGFZtXfQTCbA"
      },
      "execution_count": 44,
      "outputs": []
    },
    {
      "cell_type": "code",
      "source": [
        "# 正解率の確認\n",
        "acc_train = calculate_accuracy(model, dataloader_train, device)\n",
        "acc_test = calculate_accuracy(model, dataloader_test, device)\n",
        "print(f'trasin ac:{acc_train:.3f}')\n",
        "print(f'test ac:{acc_test:.3f}')"
      ],
      "metadata": {
        "colab": {
          "base_uri": "https://localhost:8080/"
        },
        "id": "CevL3i_vTFWx",
        "outputId": "597bb1b9-bd97-4426-f331-e933811d36b5"
      },
      "execution_count": 46,
      "outputs": [
        {
          "output_type": "stream",
          "name": "stdout",
          "text": [
            "trasin ac:0.954\n",
            "test ac:0.909\n"
          ]
        }
      ]
    }
  ]
}