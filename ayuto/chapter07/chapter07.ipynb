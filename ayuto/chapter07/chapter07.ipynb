{
 "cells": [
  {
   "cell_type": "code",
   "execution_count": 3,
   "metadata": {},
   "outputs": [
    {
     "name": "stdout",
     "output_type": "stream",
     "text": [
      "[-3.61328125e-02 -4.83398438e-02  2.35351562e-01  1.74804688e-01\n",
      " -1.46484375e-01 -7.42187500e-02 -1.01562500e-01 -7.71484375e-02\n",
      "  1.09375000e-01 -5.71289062e-02 -1.48437500e-01 -6.00585938e-02\n",
      "  1.74804688e-01 -7.71484375e-02  2.58789062e-02 -7.66601562e-02\n",
      " -3.80859375e-02  1.35742188e-01  3.75976562e-02 -4.19921875e-02\n",
      " -3.56445312e-02  5.34667969e-02  3.68118286e-04 -1.66992188e-01\n",
      " -1.17187500e-01  1.41601562e-01 -1.69921875e-01 -6.49414062e-02\n",
      " -1.66992188e-01  1.00585938e-01  1.15722656e-01 -2.18750000e-01\n",
      " -9.86328125e-02 -2.56347656e-02  1.23046875e-01 -3.54003906e-02\n",
      " -1.58203125e-01 -1.60156250e-01  2.94189453e-02  8.15429688e-02\n",
      "  6.88476562e-02  1.87500000e-01  6.49414062e-02  1.15234375e-01\n",
      " -2.27050781e-02  3.32031250e-01 -3.27148438e-02  1.77734375e-01\n",
      " -2.08007812e-01  4.54101562e-02 -1.23901367e-02  1.19628906e-01\n",
      "  7.44628906e-03 -9.03320312e-03  1.14257812e-01  1.69921875e-01\n",
      " -2.38281250e-01 -2.79541016e-02 -1.21093750e-01  2.47802734e-02\n",
      "  7.71484375e-02 -2.81982422e-02 -4.71191406e-02  1.78222656e-02\n",
      " -1.23046875e-01 -5.32226562e-02  2.68554688e-02 -3.11279297e-02\n",
      " -5.59082031e-02 -5.00488281e-02 -3.73535156e-02  1.25976562e-01\n",
      "  5.61523438e-02  1.51367188e-01  4.29687500e-02 -2.08007812e-01\n",
      " -4.78515625e-02  2.78320312e-02  1.81640625e-01  2.20703125e-01\n",
      " -3.61328125e-02 -8.39843750e-02 -3.69548798e-05 -9.52148438e-02\n",
      " -1.25000000e-01 -1.95312500e-01 -1.50390625e-01 -4.15039062e-02\n",
      "  1.31835938e-01  1.17675781e-01  1.91650391e-02  5.51757812e-02\n",
      " -9.42382812e-02 -1.08886719e-01  7.32421875e-02 -1.15234375e-01\n",
      "  8.93554688e-02 -1.40625000e-01  1.45507812e-01  4.49218750e-02\n",
      " -1.10473633e-02 -1.62353516e-02  4.05883789e-03  3.75976562e-02\n",
      " -6.98242188e-02 -5.46875000e-02  2.17285156e-02 -9.47265625e-02\n",
      "  4.24804688e-02  1.81884766e-02 -1.73339844e-02  4.63867188e-02\n",
      " -1.42578125e-01  1.99218750e-01  1.10839844e-01  2.58789062e-02\n",
      " -7.08007812e-02 -5.54199219e-02  3.45703125e-01  1.61132812e-01\n",
      " -2.44140625e-01 -2.59765625e-01 -9.71679688e-02  8.00781250e-02\n",
      " -8.78906250e-02 -7.22656250e-02  1.42578125e-01 -8.54492188e-02\n",
      " -3.18359375e-01  8.30078125e-02  6.34765625e-02  1.64062500e-01\n",
      " -1.92382812e-01 -1.17675781e-01 -5.41992188e-02 -1.56250000e-01\n",
      " -1.21582031e-01 -4.95605469e-02  1.20117188e-01 -3.83300781e-02\n",
      "  5.51757812e-02 -8.97216797e-03  4.32128906e-02  6.93359375e-02\n",
      "  8.93554688e-02  2.53906250e-01  1.65039062e-01  1.64062500e-01\n",
      " -1.41601562e-01  4.58984375e-02  1.97265625e-01 -8.98437500e-02\n",
      "  3.90625000e-02 -1.51367188e-01 -8.60595703e-03 -1.17675781e-01\n",
      " -1.97265625e-01 -1.12792969e-01  1.29882812e-01  1.96289062e-01\n",
      "  1.56402588e-03  3.93066406e-02  2.17773438e-01 -1.43554688e-01\n",
      "  6.03027344e-02 -1.35742188e-01  1.16210938e-01 -1.59912109e-02\n",
      "  2.79296875e-01  1.46484375e-01 -1.19628906e-01  1.76757812e-01\n",
      "  1.28906250e-01 -1.49414062e-01  6.93359375e-02 -1.72851562e-01\n",
      "  9.22851562e-02  1.33056641e-02 -2.00195312e-01 -9.76562500e-02\n",
      " -1.65039062e-01 -2.46093750e-01 -2.35595703e-02 -2.11914062e-01\n",
      "  1.84570312e-01 -1.85546875e-02  2.16796875e-01  5.05371094e-02\n",
      "  2.02636719e-02  4.25781250e-01  1.28906250e-01 -2.77099609e-02\n",
      "  1.29882812e-01 -1.15722656e-01 -2.05078125e-02  1.49414062e-01\n",
      "  7.81250000e-03 -2.05078125e-01 -8.05664062e-02 -2.67578125e-01\n",
      " -2.29492188e-02 -8.20312500e-02  8.64257812e-02  7.61718750e-02\n",
      " -3.66210938e-02  5.22460938e-02 -1.22070312e-01 -1.44042969e-02\n",
      " -2.69531250e-01  8.44726562e-02 -2.52685547e-02 -2.96630859e-02\n",
      " -1.68945312e-01  1.93359375e-01 -1.08398438e-01  1.94091797e-02\n",
      " -1.80664062e-01  1.93359375e-01 -7.08007812e-02  5.85937500e-02\n",
      " -1.01562500e-01 -1.31835938e-01  7.51953125e-02 -7.66601562e-02\n",
      "  3.37219238e-03 -8.59375000e-02  1.25000000e-01  2.92968750e-02\n",
      "  1.70898438e-01 -9.37500000e-02 -1.09375000e-01 -2.50244141e-02\n",
      "  2.11914062e-01 -4.44335938e-02  6.12792969e-02  2.62451172e-02\n",
      " -1.77734375e-01  1.23046875e-01 -7.42187500e-02 -1.67968750e-01\n",
      " -1.08886719e-01 -9.04083252e-04 -7.37304688e-02  5.49316406e-02\n",
      "  6.03027344e-02  8.39843750e-02  9.17968750e-02 -1.32812500e-01\n",
      "  1.22070312e-01 -8.78906250e-03  1.19140625e-01 -1.94335938e-01\n",
      " -6.64062500e-02 -2.07031250e-01  7.37304688e-02  8.93554688e-02\n",
      "  1.81884766e-02 -1.20605469e-01 -2.61230469e-02  2.67333984e-02\n",
      "  7.76367188e-02 -8.30078125e-02  6.78710938e-02 -3.54003906e-02\n",
      "  3.10546875e-01 -2.42919922e-02 -1.41601562e-01 -2.08007812e-01\n",
      " -4.57763672e-03 -6.54296875e-02 -4.95605469e-02  2.22656250e-01\n",
      "  1.53320312e-01 -1.38671875e-01 -5.24902344e-02  4.24804688e-02\n",
      " -2.38281250e-01  1.56250000e-01  5.83648682e-04 -1.20605469e-01\n",
      " -9.22851562e-02 -4.44335938e-02  3.61328125e-02 -1.86767578e-02\n",
      " -8.25195312e-02 -8.25195312e-02 -4.05273438e-02  1.19018555e-02\n",
      "  1.69921875e-01 -2.80761719e-02  3.03649902e-03  9.32617188e-02\n",
      " -8.49609375e-02  1.57470703e-02  7.03125000e-02  1.62353516e-02\n",
      " -2.27050781e-02  3.51562500e-02  2.47070312e-01 -2.67333984e-02]\n"
     ]
    }
   ],
   "source": [
    "#knock60\n",
    "from gensim.models import KeyedVectors\n",
    "model = KeyedVectors.load_word2vec_format(r\"C:\\Users\\Ayuto\\Downloads\\GoogleNews-vectors-negative300.bin.gz\",binary=True)\n",
    "print(model[\"United_States\"])"
   ]
  },
  {
   "cell_type": "code",
   "execution_count": 4,
   "metadata": {},
   "outputs": [
    {
     "name": "stdout",
     "output_type": "stream",
     "text": [
      "0.73107743\n"
     ]
    }
   ],
   "source": [
    "#knock61\n",
    "from gensim.models import KeyedVectors\n",
    "print(model.similarity('United_States', 'U.S.'))"
   ]
  },
  {
   "cell_type": "code",
   "execution_count": 5,
   "metadata": {},
   "outputs": [
    {
     "name": "stdout",
     "output_type": "stream",
     "text": [
      "('Unites_States', 0.7877248525619507)\n",
      "('Untied_States', 0.7541370987892151)\n",
      "('United_Sates', 0.7400724291801453)\n",
      "('U.S.', 0.7310774326324463)\n",
      "('theUnited_States', 0.6404393911361694)\n",
      "('America', 0.6178410053253174)\n",
      "('UnitedStates', 0.6167312264442444)\n",
      "('Europe', 0.6132988929748535)\n",
      "('countries', 0.6044804453849792)\n",
      "('Canada', 0.601906955242157)\n"
     ]
    }
   ],
   "source": [
    "#knock62\n",
    "print(*model.most_similar(\"United_States\", topn=10), sep=\"\\n\")"
   ]
  },
  {
   "cell_type": "code",
   "execution_count": 4,
   "metadata": {},
   "outputs": [
    {
     "name": "stdout",
     "output_type": "stream",
     "text": [
      "('Athens', 0.7528455853462219)\n",
      "('Greece', 0.6685472130775452)\n",
      "('Aristeidis_Grigoriadis', 0.5495778322219849)\n",
      "('Ioannis_Drymonakos', 0.5361457467079163)\n",
      "('Greeks', 0.5351786017417908)\n",
      "('Ioannis_Christou', 0.5330225825309753)\n",
      "('Hrysopiyi_Devetzi', 0.5088489055633545)\n",
      "('Iraklion', 0.5059264302253723)\n",
      "('Greek', 0.5040615797042847)\n",
      "('Athens_Greece', 0.5034108757972717)\n"
     ]
    }
   ],
   "source": [
    "#knock63\n",
    "spain = model[\"Spain\"]\n",
    "madrid = model[\"Madrid\"]\n",
    "athens = model[\"Athens\"]\n",
    "print(*model.most_similar(spain - madrid + athens, topn=10), sep=\"\\n\")"
   ]
  },
  {
   "cell_type": "code",
   "execution_count": 6,
   "metadata": {},
   "outputs": [],
   "source": [
    "#knock64\n",
    "with open('questions-words.txt', 'r') as f1, open('questions-words-add.txt', 'w', encoding=\"utf-8\") as f2:\n",
    "  for line in f1:  \n",
    "    line = line.split()\n",
    "    if line[0] == ':':\n",
    "      category = line[1]\n",
    "    else:\n",
    "      word, cos = model.most_similar(positive=[line[1], line[2]], negative=[line[0]], topn=1)[0]\n",
    "      f2.write(' '.join([category] + line + [word, str(cos) + '\\n']))"
   ]
  },
  {
   "cell_type": "code",
   "execution_count": 7,
   "metadata": {},
   "outputs": [
    {
     "name": "stdout",
     "output_type": "stream",
     "text": [
      "意味的アナロジー正解率: 1.622\n",
      "文法的アナロジー正解率: 2.786\n"
     ]
    }
   ],
   "source": [
    "#knock65\n",
    "with open('./questions-words-add.txt', 'r') as f:\n",
    "        sem_cnt = 0\n",
    "        sem_cor = 0\n",
    "        syn_cnt = 0\n",
    "        syn_cor = 0\n",
    "        for line in f:\n",
    "            line = line.split()\n",
    "            if not line[0].startswith('gram'):\n",
    "                sem_cnt += 1\n",
    "            if line[4] == line[5]:\n",
    "                sem_cor += 1\n",
    "            else:\n",
    "                syn_cnt += 1\n",
    "            if line[4] == line[5]:\n",
    "                syn_cor += 1\n",
    "\n",
    "print(f'意味的アナロジー正解率: {sem_cor/sem_cnt:.3f}')\n",
    "print(f'文法的アナロジー正解率: {syn_cor/syn_cnt:.3f}')"
   ]
  },
  {
   "cell_type": "code",
   "execution_count": 6,
   "metadata": {},
   "outputs": [
    {
     "name": "stderr",
     "output_type": "stream",
     "text": [
      "100%|██████████| 353/353 [00:00<00:00, 75413.30it/s]"
     ]
    },
    {
     "name": "stdout",
     "output_type": "stream",
     "text": [
      "spearman corr:               Human (mean)   cos_sim\n",
      "Human (mean)      1.000000  0.700017\n",
      "cos_sim           0.700017  1.000000\n"
     ]
    },
    {
     "name": "stderr",
     "output_type": "stream",
     "text": [
      "\n"
     ]
    }
   ],
   "source": [
    "#knock66\n",
    "import numpy as np\n",
    "import pandas as pd\n",
    "from gensim.models import KeyedVectors\n",
    "from tqdm import tqdm\n",
    "tqdm.pandas()\n",
    "\n",
    "\n",
    "def cos_sim(v1, v2):\n",
    "    return np.dot(v1, v2) / (np.linalg.norm(v1) * np.linalg.norm(v2))\n",
    "\n",
    "\n",
    "def calc_cos_sim(row):\n",
    "    w1v = model[row['Word 1']]\n",
    "    w2v = model[row['Word 2']]\n",
    "    return cos_sim(w1v, w2v)\n",
    "\n",
    "combined_df = pd.read_csv('combined.csv')\n",
    "\n",
    "combined_df['cos_sim'] = combined_df.progress_apply(calc_cos_sim, axis=1)\n",
    "spearman_corr = combined_df[['Human (mean)', 'cos_sim']].corr(method='spearman')\n",
    "print(f'spearman corr: {spearman_corr}')"
   ]
  },
  {
   "cell_type": "code",
   "execution_count": 8,
   "metadata": {},
   "outputs": [],
   "source": [
    "#knock67データの準備\n",
    "# https://www.kaggle.com/datasets/kumarajarshi/life-expectancy-who?resource=download\n",
    "life_df = pd.read_csv('Life Expectancy Data.csv')\n",
    "countries_df = life_df['Country'].unique()\n",
    "countries = countries_df.tolist()\n",
    "countries = [country.replace(\" \", \"_\") for country in countries]"
   ]
  },
  {
   "cell_type": "code",
   "execution_count": 23,
   "metadata": {},
   "outputs": [
    {
     "name": "stdout",
     "output_type": "stream",
     "text": [
      "not exist: Antigua_and_Barbuda\n",
      "not exist: Bolivia_(Plurinational_State_of)\n",
      "not exist: Bosnia_and_Herzegovina\n",
      "not exist: Côte_d'Ivoire\n",
      "not exist: Central_African_Republic\n",
      "not exist: Democratic_People's_Republic_of_Korea\n",
      "not exist: Democratic_Republic_of_the_Congo\n",
      "not exist: Guinea-Bissau\n",
      "not exist: Iran_(Islamic_Republic_of)\n",
      "not exist: Lao_People's_Democratic_Republic\n",
      "not exist: Micronesia_(Federated_States_of)\n",
      "not exist: Papua_New_Guinea\n",
      "not exist: Republic_of_Korea\n",
      "not exist: Republic_of_Moldova\n",
      "not exist: Russian_Federation\n",
      "not exist: Saint_Kitts_and_Nevis\n",
      "not exist: Saint_Vincent_and_the_Grenadines\n",
      "not exist: Sao_Tome_and_Principe\n",
      "not exist: South_Sudan\n",
      "not exist: Syrian_Arab_Republic\n",
      "not exist: The_former_Yugoslav_republic_of_Macedonia\n",
      "not exist: Timor-Leste\n",
      "not exist: Trinidad_and_Tobago\n",
      "not exist: United_Kingdom_of_Great_Britain_and_Northern_Ireland\n",
      "not exist: United_Republic_of_Tanzania\n",
      "not exist: United_States_of_America\n",
      "not exist: Venezuela_(Bolivarian_Republic_of)\n"
     ]
    }
   ],
   "source": [
    "#knock67\n",
    "from sklearn.cluster import KMeans\n",
    "\n",
    "countries_vec = []\n",
    "for country in countries:\n",
    "    try:\n",
    "        countries_vec.append(model[country])\n",
    "    except:\n",
    "        #print(\"not exist:\", country)\n",
    "        continue\n",
    "#print(countries_vec)\n"
   ]
  },
  {
   "cell_type": "code",
   "execution_count": 22,
   "metadata": {},
   "outputs": [
    {
     "name": "stdout",
     "output_type": "stream",
     "text": [
      "cluster 0\n",
      "Algeria, Angola, Belize, Bhutan, Brazil, Brunei_Darussalam, Burundi, Cabo_Verde, Central_African_Republic, Chad, Croatia, Democratic_People's_Republic_of_Korea, Denmark, Djibouti, Dominican_Republic, Equatorial_Guinea, Eritrea, Fiji, Gambia, Iran_(Islamic_Republic_of), Japan, Jordan, Kazakhstan, Kuwait, Kyrgyzstan, Lebanon, Libya, Maldives, Mali, Marshall_Islands, Mongolia, Montenegro, Oman, Paraguay, Poland, Romania, Russian_Federation, Saint_Lucia, Samoa, Serbia, Sierra_Leone, Solomon_Islands, Suriname, Swaziland, Sweden\n",
      "cluster 1\n",
      "Armenia, Azerbaijan, Bangladesh, Belgium, Bulgaria, Chile, Cuba, Ecuador, France, Georgia, Hungary, Iraq, Latvia, Liberia, Lithuania, Mauritania, Micronesia_(Federated_States_of), Morocco, Nauru, Pakistan, Palau, Philippines, Republic_of_Moldova, Seychelles, Slovenia, Sri_Lanka\n",
      "cluster 2\n",
      "Albania, Argentina, Australia, Barbados, Belarus, Botswana, Côte_d'Ivoire, Colombia, Congo, Cook_Islands, Costa_Rica, Dominica, Egypt, El_Salvador, Estonia, Ethiopia, Finland, Greece, Grenada, Guyana, Haiti, Honduras, India, Italy, Jamaica, Kenya, Kiribati, Lesotho, Madagascar, Malaysia, Mexico, Mozambique, Niger, Nigeria, Norway, Panama, Peru, Qatar, Republic_of_Korea, Rwanda, San_Marino, Sao_Tome_and_Principe, Singapore, Somalia\n",
      "cluster 3\n",
      "Antigua_and_Barbuda, Bolivia_(Plurinational_State_of), Cambodia, Canada, China, Comoros, Cyprus, Czechia, Democratic_Republic_of_the_Congo, Gabon, Germany, Ghana, Luxembourg, Monaco, Nepal, Netherlands, New_Zealand, Saint_Vincent_and_the_Grenadines, South_Sudan\n",
      "cluster 4\n",
      "Afghanistan, Austria, Bahamas, Bahrain, Benin, Bosnia_and_Herzegovina, Burkina_Faso, Cameroon, Guatemala, Guinea, Guinea-Bissau, Iceland, Indonesia, Ireland, Israel, Lao_People's_Democratic_Republic, Malawi, Malta, Mauritius, Myanmar, Namibia, Nicaragua, Niue, Papua_New_Guinea, Portugal, Saint_Kitts_and_Nevis, Saudi_Arabia, Senegal, Slovakia, South_Africa, Spain, Sudan\n"
     ]
    },
    {
     "name": "stderr",
     "output_type": "stream",
     "text": [
      "c:\\Users\\Ayuto\\AppData\\Local\\Programs\\Python\\Python310\\lib\\site-packages\\sklearn\\cluster\\_kmeans.py:870: FutureWarning: The default value of `n_init` will change from 10 to 'auto' in 1.4. Set the value of `n_init` explicitly to suppress the warning\n",
      "  warnings.warn(\n"
     ]
    }
   ],
   "source": [
    "#knock67 k-meansクラスタリング\n",
    "kmeans = KMeans(n_clusters=5, random_state=172957)\n",
    "kmeans.fit(countries_vec)\n",
    "for i in range(5):\n",
    "    cluster = np.where(kmeans.labels_ == i)[0]\n",
    "    print('cluster', i)\n",
    "    print(', '.join([countries[k] for k in cluster]))"
   ]
  },
  {
   "cell_type": "code",
   "execution_count": 27,
   "metadata": {},
   "outputs": [
    {
     
    }
   ],
   "source": [
    "#knock68\n",
    "from matplotlib import pyplot as plt\n",
    "from scipy.cluster.hierarchy import dendrogram, linkage\n",
    "\n",
    "plt.figure(figsize=(15, 5))\n",
    "Z = linkage(countries_vec, method='ward')\n",
    "dendrogram(Z, labels=countries)\n",
    "plt.show()"
   ]
  },
  {
   "cell_type": "code",
   "execution_count": null,
   "metadata": {},
   "outputs": [],
   "source": [
    "#knock69\n",
    "import bhtsne\n",
    "\n",
    "embedded = bhtsne.tsne(np.array(countries_vec).astype(np.float64), dimensions=2, rand_seed=123)\n",
    "plt.figure(figsize=(10, 10))\n",
    "plt.scatter(np.array(embedded).T[0], np.array(embedded).T[1])\n",
    "for (x, y), name in zip(embedded, countries):\n",
    "    plt.annotate(name, (x, y))\n",
    "plt.show()"
   ]
  }
 ],
 "metadata": {
  "kernelspec": {
   "display_name": "Python 3",
   "language": "python",
   "name": "python3"
  },
  "language_info": {
   "codemirror_mode": {
    "name": "ipython",
    "version": 3
   },
   "file_extension": ".py",
   "mimetype": "text/x-python",
   "name": "python",
   "nbconvert_exporter": "python",
   "pygments_lexer": "ipython3",
   "version": "3.10.11"
  },
  "orig_nbformat": 4
 },
 "nbformat": 4,
 "nbformat_minor": 2
}
