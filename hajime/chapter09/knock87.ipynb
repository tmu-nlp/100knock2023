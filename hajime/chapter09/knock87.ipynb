{
  "nbformat": 4,
  "nbformat_minor": 0,
  "metadata": {
    "colab": {
      "name": "knock87.ipynb",
      "provenance": [],
      "collapsed_sections": []
    },
    "kernelspec": {
      "name": "python3",
      "display_name": "Python 3"
    },
    "language_info": {
      "name": "python"
    },
    "accelerator": "GPU",
    "gpuClass": "standard"
  },
  "cells": [
    {
      "cell_type": "code",
      "source": [
        "from google.colab import drive\n",
        "drive.mount('/content/drive')"
      ],
      "metadata": {
        "id": "wwUCUDguigae",
        "colab": {
          "base_uri": "https://localhost:8080/"
        },
        "outputId": "bd57589e-3707-422b-8666-0116101f4deb"
      },
      "execution_count": 1,
      "outputs": [
        {
          "output_type": "stream",
          "name": "stdout",
          "text": [
            "Mounted at /content/drive\n"
          ]
        }
      ]
    },
    {
      "cell_type": "markdown",
      "source": [
        "80 ID番号への変換"
      ],
      "metadata": {
        "id": "T9bexYcVCzdY"
      }
    },
    {
      "cell_type": "code",
      "execution_count": 2,
      "metadata": {
        "colab": {
          "base_uri": "https://localhost:8080/"
        },
        "id": "pxordmgkCqsw",
        "outputId": "72fcd368-e9ee-44e5-ec0e-dd9a019d48e1"
      },
      "outputs": [
        {
          "output_type": "stream",
          "name": "stdout",
          "text": [
            "MARKET EYE-Indian bond yields inch higher tracking US peers, oil\n",
            "[4221, 0, 374, 433, 3567, 166, 5136, 7, 0, 167]\n"
          ]
        }
      ],
      "source": [
        "import pandas as pd\n",
        "from collections import defaultdict\n",
        "import string\n",
        "\n",
        "\n",
        "class ID():\n",
        "    def __init__(self, data):\n",
        "        self.train_dict = defaultdict(int)\n",
        "        self.id_list = []\n",
        "        self.id_dict = dict()\n",
        "        self.make_id(data)\n",
        "\n",
        "    def make_id(self, data):\n",
        "        for line in data:\n",
        "            words = line.translate(table).split()\n",
        "            for word in words:\n",
        "                self.train_dict[word] += 1\n",
        "        calc_dict = dict(self.train_dict)\n",
        "        sort_list = sorted(calc_dict.items(), key=lambda x: x[1], reverse=True)\n",
        "        for i, (trg_word, freq) in enumerate(sort_list):\n",
        "            if freq >= 2:\n",
        "                self.id_list.append((trg_word, i+1))\n",
        "            else:\n",
        "                self.id_list.append((trg_word, 0))\n",
        "        self.id_dict = dict(self.id_list)\n",
        "\n",
        "    def return_id(self, line):\n",
        "        one_hot_vec = []\n",
        "        words = line.strip().split(\" \")\n",
        "        for word in words:\n",
        "            if word in self.id_dict.keys():\n",
        "                one_hot_vec.append(self.id_dict[word])\n",
        "            else:\n",
        "                one_hot_vec.append(0)\n",
        "        return one_hot_vec\n",
        "\n",
        "\n",
        "table = str.maketrans(string.punctuation, ' '*len(string.punctuation))\n",
        "\n",
        "header_name = ['TITLE', 'CATEGORY']\n",
        "train_file = \"./drive/MyDrive/data/train.txt\"\n",
        "train_data = pd.read_csv(train_file, header=None,\n",
        "                         sep='\\t', names=header_name)\n",
        "w2id = ID(train_data['TITLE'])\n",
        "test_vec = w2id.return_id(train_data[\"TITLE\"][10])\n",
        "print(train_data[\"TITLE\"][10])\n",
        "print(test_vec)"
      ]
    },
    {
      "cell_type": "code",
      "source": [
        "# 追加\n",
        "import numpy as np\n",
        "from gensim.models import KeyedVectors\n",
        "import torch\n",
        "\n",
        "model = KeyedVectors.load_word2vec_format('./drive/MyDrive/data/GoogleNews-vectors-negative300.bin.gz', binary=True)\n",
        "\n",
        "VOCAB_SIZE = len(set(w2id.id_dict.keys())) + 1\n",
        "EMB_SIZE = 300\n",
        "weights = np.zeros((VOCAB_SIZE, EMB_SIZE))\n",
        "words_in_pretrained = 0\n",
        "for i, word in enumerate(w2id.id_dict.keys()):\n",
        "  try:\n",
        "    weights[i] = model[word]\n",
        "    words_in_pretrained += 1\n",
        "  except KeyError:\n",
        "    weights[i] = np.random.normal(scale=0.4, size=(EMB_SIZE,))\n",
        "weights = torch.from_numpy(weights.astype((np.float32)))\n",
        "\n",
        "print(f'learned word num: {words_in_pretrained} / {VOCAB_SIZE}')\n",
        "print(weights.size())"
      ],
      "metadata": {
        "colab": {
          "base_uri": "https://localhost:8080/"
        },
        "id": "wCugwSE6x9oP",
        "outputId": "a7fb9ff0-519b-46f1-9d61-0d659d33e4dd"
      },
      "execution_count": 3,
      "outputs": [
        {
          "output_type": "stream",
          "name": "stdout",
          "text": [
            "learned word num: 16350 / 17057\n",
            "torch.Size([17057, 300])\n"
          ]
        }
      ]
    },
    {
      "cell_type": "markdown",
      "source": [
        "81 RNNによる予測"
      ],
      "metadata": {
        "id": "DXyefetcD7fL"
      }
    },
    {
      "cell_type": "code",
      "source": [
        "import torch\n",
        "import torch.nn as nn\n",
        "from torch.utils.data import Dataset\n",
        "from torch.nn import functional as F\n",
        "\n",
        "class RNN(nn.Module):\n",
        "    def __init__(self, hidden_size, vocab_size, emb_size, pad_idx, output_size, device, num_layers, emb_weight=None, bidirectional=False):\n",
        "        super().__init__()\n",
        "        self.hid_size = hidden_size\n",
        "        self.num_layers = num_layers\n",
        "        self.num_directions = bidirectional + 1\n",
        "        if emb_weight != None:\n",
        "            self.emb = nn.Embedding.from_pretrained(emb_weight, padding_idx=pad_idx)\n",
        "        else:\n",
        "            self.emb = nn.Embedding(vocab_size, emb_size, padding_idx=pad_idx)\n",
        "        # self.emb = nn.Embedding(vocab_size, emb_size, padding_idx=pad_idx)\n",
        "        self.rnn = nn.RNN(emb_size, hidden_size, num_layers,\n",
        "                          nonlinearity=\"tanh\", batch_first=True, bidirectional=bidirectional)\n",
        "        self.fc = nn.Linear(hidden_size * self.num_directions, output_size)\n",
        "\n",
        "    def forward(self, x):\n",
        "        self.batch_size = x.size()[0]\n",
        "        hidden = torch.zeros(self.num_layers * self.num_directions, self.batch_size, self.hid_size,device=device)\n",
        "        emb = self.emb(x)\n",
        "        out, hidden = self.rnn(emb, hidden)\n",
        "        out = self.fc(out[:, -1, :])\n",
        "        return out\n",
        "\n",
        "class CNN(nn.Module):\n",
        "    def __init__(self, vocab_size, emb_size, padding_idx, output_size, out_channels, kernel_heights, stride, padding, emb_weights=None):\n",
        "        super().__init__()\n",
        "        if emb_weights != None:  \n",
        "          self.emb = nn.Embedding.from_pretrained(emb_weights, padding_idx=padding_idx)\n",
        "        else:\n",
        "          self.emb = nn.Embedding(vocab_size, emb_size, padding_idx=padding_idx)\n",
        "        self.conv = nn.Conv2d(1, out_channels, (kernel_heights, emb_size), stride, (padding, 0))\n",
        "        self.drop = nn.Dropout(0.3)\n",
        "        self.fc = nn.Linear(out_channels, output_size)\n",
        "\n",
        "    def forward(self,x):\n",
        "        emb = self.emb(x).unsqueeze(1)\n",
        "        conv = self.conv(emb)\n",
        "        act = F.relu(conv.squeeze(3))\n",
        "        max_pool = F.max_pool1d(act, act.size()[2])\n",
        "        out = self.fc(self.drop(max_pool.squeeze(2)))\n",
        "        return out\n",
        "\n",
        "class NewsDataset(Dataset):\n",
        "    def __init__(self, x, y, tokenizer):\n",
        "        self.x = x\n",
        "        self.y = y\n",
        "        self.tokenizer = tokenizer\n",
        "\n",
        "    def __len__(self):\n",
        "        return len(self.y)\n",
        "\n",
        "    def __getitem__(self, idx):\n",
        "        text = self.x[idx]\n",
        "        inputs = self.tokenizer(text)\n",
        "\n",
        "        return {\n",
        "            'inputs': torch.tensor(inputs, dtype=torch.int64),\n",
        "            'labels': torch.tensor(self.y[idx], dtype=torch.int64)\n",
        "        }\n",
        "\n",
        "\n",
        "train = pd.read_csv(\"./drive/MyDrive/data/train.txt\", sep='\\t')\n",
        "valid = pd.read_csv(\"./drive/MyDrive/data/valid.txt\", sep='\\t')\n",
        "test = pd.read_csv(\"./drive/MyDrive/data/test.txt\", sep='\\t')\n",
        "\n",
        "category = {'b': 0, 't': 1, 'e': 2, 'm': 3}\n",
        "y_train = torch.tensor(train['CATEGORY'].map(lambda x: category[x]).values)\n",
        "y_valid = torch.tensor(valid['CATEGORY'].map(lambda x: category[x]).values)\n",
        "y_test = torch.tensor(test['CATEGORY'].map(lambda x: category[x]).values)\n",
        "\n",
        "dataset_train = NewsDataset(train[\"TITLE\"], y_train, w2id.return_id)\n",
        "dataset_valid = NewsDataset(valid[\"TITLE\"], y_valid, w2id.return_id)\n",
        "dataset_test = NewsDataset(test[\"TITLE\"], y_test, w2id.return_id)\n"
      ],
      "metadata": {
        "id": "vCkYHKUCDyNt"
      },
      "execution_count": 4,
      "outputs": []
    },
    {
      "cell_type": "markdown",
      "source": [
        "82 確率的勾配降下法による学習"
      ],
      "metadata": {
        "id": "ED5cNwRFEDKX"
      }
    },
    {
      "cell_type": "code",
      "source": [
        "from torch.utils.data import DataLoader\n",
        "from torch.utils.data import Dataset\n",
        "import time\n",
        "from torch import optim\n",
        "import numpy as np\n",
        "from matplotlib import pyplot as plt\n",
        "\n",
        "\n",
        "def calc_loss_acc(model, dataset, device=None, criterion=None):\n",
        "    # model.eval()\n",
        "    dataloader = DataLoader(dataset, batch_size=1, shuffle=False)\n",
        "    loss = 0.0\n",
        "    total = 0\n",
        "    correct = 0\n",
        "    with torch.no_grad():\n",
        "        for data in dataloader:\n",
        "            inputs = data[\"inputs\"].to(device)\n",
        "            labels = data[\"labels\"].to(device)\n",
        "            outputs = model(inputs)\n",
        "\n",
        "            if criterion != None:\n",
        "                loss += criterion(outputs, labels).item()\n",
        "\n",
        "            pred = torch.argmax(outputs, dim=-1)\n",
        "            total += len(inputs)\n",
        "            correct += (pred == labels).sum().item()\n",
        "\n",
        "        return loss / len(dataset), correct / total\n",
        "\n",
        "\n",
        "def train_model(dataset_train, dataset_valid, batch_size, model, criterion,  optimizer, num_epochs, device=None, collate_fn=None):\n",
        "    model.to(device)\n",
        "\n",
        "    dataloader_train = DataLoader(\n",
        "        dataset_train, batch_size=batch_size, shuffle=True, collate_fn=collate_fn)\n",
        "    dataloader_valid = DataLoader(\n",
        "        dataset_valid, batch_size=1, shuffle=False)\n",
        "    # dataloader_valid = DataLoader(\n",
        "    #     dataset_valid, batch_size=len(dataset_valid), shuffle=False)\n",
        "\n",
        "    log_train = []\n",
        "    log_valid = []\n",
        "\n",
        "    for epoch in range(num_epochs):\n",
        "        start_time = time.time()\n",
        "\n",
        "        model.train()\n",
        "        loss_train = 0.0\n",
        "        for data in dataloader_train:\n",
        "            optimizer.zero_grad()\n",
        "\n",
        "            inputs = data[\"inputs\"].to(device)\n",
        "            labels = data[\"labels\"].to(device)\n",
        "            outputs = model(inputs)\n",
        "            loss = criterion(outputs, labels)\n",
        "            loss.backward()\n",
        "            optimizer.step()\n",
        "        end_time = time.time()\n",
        "\n",
        "        model.eval()\n",
        "        loss_train, acc_train = calc_loss_acc(\n",
        "            model, dataset_train, device, criterion=criterion)\n",
        "        loss_valid, acc_valid = calc_loss_acc(\n",
        "            model, dataset_valid, device, criterion=criterion)\n",
        "        log_train.append([loss_train, acc_train])\n",
        "        log_valid.append([loss_valid, acc_valid])\n",
        "\n",
        "        torch.save({'epoch': epoch, 'model_state_dict': model.state_dict(\n",
        "        ), 'optimizer_state_dict': optimizer.state_dict()}, f'checkpoint{epoch + 1}.pt')\n",
        "\n",
        "        print(f'epoch: {epoch + 1}, loss_train: {loss_train:.4f}, accuracy_train: {acc_train:.4f}, loss_valid: {loss_valid:.4f}, accuracy_valid: {acc_valid:.4f}, train_time: {(end_time - start_time):.4f}sec')\n",
        "    return {\n",
        "        \"train\": log_train,\n",
        "        \"valid\": log_valid\n",
        "    }\n",
        "\n",
        "\n",
        "def visualize_logs(log):\n",
        "    fig, ax = plt.subplots(1, 2, figsize=(15, 5))\n",
        "    ax[0].plot(np.array(log['train']).T[0], label='train')\n",
        "    ax[0].plot(np.array(log['valid']).T[0], label='valid')\n",
        "    ax[0].set_xlabel('epoch')\n",
        "    ax[0].set_ylabel('loss')\n",
        "    ax[0].legend()\n",
        "    ax[1].plot(np.array(log['train']).T[1], label='train')\n",
        "    ax[1].plot(np.array(log['valid']).T[1], label='valid')\n",
        "    ax[1].set_xlabel('epoch')\n",
        "    ax[1].set_ylabel('accuracy')\n",
        "    ax[1].legend()\n",
        "    plt.savefig(\"83.png\")\n",
        "\n"
      ],
      "metadata": {
        "id": "dFI4CBbbEIPY"
      },
      "execution_count": 5,
      "outputs": []
    },
    {
      "cell_type": "markdown",
      "source": [
        "83 ミニバッチ化・GPU上での学習"
      ],
      "metadata": {
        "id": "GucykatKEYbX"
      }
    },
    {
      "cell_type": "code",
      "source": [
        "class Padseq():\n",
        "  def __init__(self, padding_idx):\n",
        "    self.padding_idx = padding_idx\n",
        "\n",
        "  def __call__(self, batch):\n",
        "    sorted_batch = sorted(batch, key=lambda x: x['inputs'].shape[0], reverse=True)\n",
        "    sequences = [x['inputs'] for x in sorted_batch]\n",
        "    sequences_padded = torch.nn.utils.rnn.pad_sequence(sequences, batch_first=True, padding_value=self.padding_idx)\n",
        "    labels = torch.LongTensor([x['labels'] for x in sorted_batch])\n",
        "\n",
        "    return {'inputs': sequences_padded, 'labels': labels}"
      ],
      "metadata": {
        "id": "-5Ehs6RLEYJZ"
      },
      "execution_count": 6,
      "outputs": []
    },
    {
      "cell_type": "code",
      "source": [
        "VOCAB_SIZE = len(set(w2id.id_dict.values())) + 1\n",
        "EMB_SIZE = 300\n",
        "PADDING_IDX = len(set(w2id.id_dict.values()))\n",
        "OUTPUT_SIZE = 4\n",
        "OUT_CHANNELS = 100\n",
        "KERNEL_HEIGHTS = 3\n",
        "STRIDE = 1\n",
        "PADDING = 1\n",
        "LEARNING_RATE = 5e-2\n",
        "BATCH_SIZE = 64\n",
        "NUM_EPOCHS = 10\n",
        "\n",
        "device = torch.device('cuda')\n",
        "\n",
        "#def __init__(self, hidden_size, vocab_size, emb_size, pad_idx, output_size, device, num_layers, emb_weight=None, bidirectional=False):\n",
        "model = CNN(VOCAB_SIZE, EMB_SIZE, PADDING_IDX, OUTPUT_SIZE, OUT_CHANNELS, KERNEL_HEIGHTS, STRIDE, PADDING, emb_weights=weights)\n",
        "\n",
        "criterion = nn.CrossEntropyLoss()\n",
        "\n",
        "optimizer = torch.optim.SGD(model.parameters(), lr=LEARNING_RATE)\n",
        "\n",
        "log = train_model(dataset_train, dataset_valid, BATCH_SIZE, model, criterion, optimizer, NUM_EPOCHS, device=device, collate_fn=Padseq(PADDING_IDX))\n",
        "\n",
        "visualize_logs(log)\n",
        "_, acc_train = calc_loss_acc(model, dataset_train,device)\n",
        "_, acc_test = calc_loss_acc(model, dataset_test,device)\n",
        "print(f'accuracy (train)：{acc_train:.3f}')\n",
        "print(f'accuracy (test)：{acc_test:.3f}')"
      ],
      "metadata": {
        "colab": {
          "base_uri": "https://localhost:8080/",
          "height": 597
        },
        "id": "gDpxSjnVEs_l",
        "outputId": "a33deb58-4400-43be-b04b-6b4c43e50663"
      },
      "execution_count": 7,
      "outputs": [
        {
          "output_type": "stream",
          "name": "stderr",
          "text": [
            "/usr/local/lib/python3.7/dist-packages/ipykernel_launcher.py:63: UserWarning: To copy construct from a tensor, it is recommended to use sourceTensor.clone().detach() or sourceTensor.clone().detach().requires_grad_(True), rather than torch.tensor(sourceTensor).\n"
          ]
        },
        {
          "output_type": "stream",
          "name": "stdout",
          "text": [
            "epoch: 1, loss_train: 1.1149, accuracy_train: 0.5516, loss_valid: 1.1326, accuracy_valid: 0.5299, train_time: 1.0442sec\n",
            "epoch: 2, loss_train: 1.0757, accuracy_train: 0.5879, loss_valid: 1.0979, accuracy_valid: 0.5621, train_time: 0.4865sec\n",
            "epoch: 3, loss_train: 1.0376, accuracy_train: 0.6155, loss_valid: 1.0621, accuracy_valid: 0.5838, train_time: 0.4787sec\n",
            "epoch: 4, loss_train: 1.0072, accuracy_train: 0.5926, loss_valid: 1.0494, accuracy_valid: 0.5591, train_time: 0.4748sec\n",
            "epoch: 5, loss_train: 0.9735, accuracy_train: 0.6007, loss_valid: 1.0325, accuracy_valid: 0.5659, train_time: 0.4851sec\n",
            "epoch: 6, loss_train: 0.8813, accuracy_train: 0.6701, loss_valid: 0.9422, accuracy_valid: 0.6355, train_time: 0.4800sec\n",
            "epoch: 7, loss_train: 0.8185, accuracy_train: 0.7137, loss_valid: 0.8937, accuracy_valid: 0.6774, train_time: 0.4650sec\n",
            "epoch: 8, loss_train: 0.8000, accuracy_train: 0.7013, loss_valid: 0.8999, accuracy_valid: 0.6662, train_time: 0.4834sec\n",
            "epoch: 9, loss_train: 0.7901, accuracy_train: 0.6966, loss_valid: 0.9129, accuracy_valid: 0.6542, train_time: 0.4872sec\n",
            "epoch: 10, loss_train: 0.6842, accuracy_train: 0.7605, loss_valid: 0.8085, accuracy_valid: 0.7051, train_time: 0.4832sec\n"
          ]
        },
        {
          "output_type": "stream",
          "name": "stderr",
          "text": [
            "/usr/local/lib/python3.7/dist-packages/ipykernel_launcher.py:63: UserWarning: To copy construct from a tensor, it is recommended to use sourceTensor.clone().detach() or sourceTensor.clone().detach().requires_grad_(True), rather than torch.tensor(sourceTensor).\n"
          ]
        },
        {
          "output_type": "stream",
          "name": "stdout",
          "text": [
            "accuracy (train)：0.760\n",
            "accuracy (test)：0.707\n"
          ]
        },
        {
          "output_type": "display_data",
          "data": {
            "text/plain": [
              "<Figure size 1080x360 with 2 Axes>"
            ],
            "image/png": "[encoded data removed]"
          },
          "metadata": {
            "needs_background": "light"
          }
        }
      ]
    }
  ]
}