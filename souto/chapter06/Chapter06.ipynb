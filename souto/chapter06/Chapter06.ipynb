{
  "nbformat": 4,
  "nbformat_minor": 0,
  "metadata": {
    "colab": {
      "provenance": [],
      "gpuType": "T4"
    },
    "kernelspec": {
      "name": "python3",
      "display_name": "Python 3"
    },
    "language_info": {
      "name": "python"
    },
    "accelerator": "GPU"
  },
  "cells": [
    {
      "cell_type": "markdown",
      "source": [
        "# 50"
      ],
      "metadata": {
        "id": "Byc4doI9gD7i"
      }
    },
    {
      "cell_type": "code",
      "metadata": {
        "id": "eB7Xmq4axl10",
        "colab": {
          "base_uri": "https://localhost:8080/"
        },
        "outputId": "08301ed6-4eb2-48de-834f-ca9e52920115"
      },
      "source": [
        "!wget https://archive.ics.uci.edu/ml/machine-learning-databases/00359/NewsAggregatorDataset.zip\n",
        "!unzip NewsAggregatorDataset.zip"
      ],
      "execution_count": null,
      "outputs": [
        {
          "output_type": "stream",
          "name": "stdout",
          "text": [
            "--2023-05-29 05:23:11--  https://archive.ics.uci.edu/ml/machine-learning-databases/00359/NewsAggregatorDataset.zip\n",
            "Resolving archive.ics.uci.edu (archive.ics.uci.edu)... 128.195.10.252\n",
            "Connecting to archive.ics.uci.edu (archive.ics.uci.edu)|128.195.10.252|:443... connected.\n",
            "HTTP request sent, awaiting response... 200 OK\n",
            "Length: 29224203 (28M) [application/x-httpd-php]\n",
            "Saving to: ‘NewsAggregatorDataset.zip’\n",
            "\n",
            "NewsAggregatorDatas 100%[===================>]  27.87M  10.3MB/s    in 2.7s    \n",
            "\n",
            "2023-05-29 05:23:15 (10.3 MB/s) - ‘NewsAggregatorDataset.zip’ saved [29224203/29224203]\n",
            "\n",
            "Archive:  NewsAggregatorDataset.zip\n",
            "  inflating: 2pageSessions.csv       \n",
            "   creating: __MACOSX/\n",
            "  inflating: __MACOSX/._2pageSessions.csv  \n",
            "  inflating: newsCorpora.csv         \n",
            "  inflating: __MACOSX/._newsCorpora.csv  \n",
            "  inflating: readme.txt              \n",
            "  inflating: __MACOSX/._readme.txt   \n"
          ]
        }
      ]
    },
    {
      "cell_type": "code",
      "metadata": {
        "id": "lCea59MktHB2"
      },
      "source": [
        "# 読込時のエラー回避のためダブルクォーテーションをシングルクォーテーションに置換、'\\''はエスケープされたシングルクオーテーション\n",
        "!sed -e 's/\"/'\\''/g' ./newsCorpora.csv > ./newsCorpora_re.csv"
      ],
      "execution_count": null,
      "outputs": []
    },
    {
      "cell_type": "code",
      "metadata": {
        "id": "RoHsCyyi7mb-"
      },
      "source": [
        "import pandas as pd\n",
        "from sklearn.model_selection import train_test_split\n",
        "\n",
        "# データの読込\n",
        "df = pd.read_csv('./newsCorpora_re.csv', header=None, sep='\\t', names=['ID', 'TITLE', 'URL', 'PUBLISHER', 'CATEGORY', 'STORY', 'HOSTNAME', 'TIMESTAMP'])\n",
        "\n",
        "# データの抽出\n",
        "df = df.loc[df['PUBLISHER'].isin(['Reuters', 'Huffington Post', 'Businessweek', 'Contactmusic.com', 'Daily Mail']), ['TITLE', 'CATEGORY']]\n",
        "\n",
        "# データの分割,train,testの順に返す。stratifyで均等に分割したい要素を指定(多くは正解データ)\n",
        "train, valid_test = train_test_split(df, test_size=0.2, shuffle=True, random_state=123, stratify=df['CATEGORY'])\n",
        "valid, test = train_test_split(valid_test, test_size=0.5, shuffle=True, random_state=123, stratify=valid_test['CATEGORY'])\n",
        "\n",
        "# データの保存\n",
        "train.to_csv('./train.txt', sep='\\t', index=False)\n",
        "valid.to_csv('./valid.txt', sep='\\t', index=False)\n",
        "test.to_csv('./test.txt', sep='\\t', index=False)\n",
        "\n",
        "# 事例数の確認\n",
        "print('【学習データ】')\n",
        "print(train['CATEGORY'].value_counts())\n",
        "print('【検証データ】')\n",
        "print(valid['CATEGORY'].value_counts())\n",
        "print('【評価データ】')\n",
        "print(test['CATEGORY'].value_counts())\n"
      ],
      "execution_count": null,
      "outputs": []
    },
    {
      "cell_type": "markdown",
      "source": [
        "# 51"
      ],
      "metadata": {
        "id": "n9WY8X3tgJc-"
      }
    },
    {
      "cell_type": "code",
      "source": [
        "import pandas as pd\n",
        "from sklearn.feature_extraction.text import TfidfVectorizer\n",
        "nameoftrain = \"\"\n",
        "corpus=[]\n",
        "\n",
        "for index, tra in df.iterrows():\n",
        "  corpus.append(tra['TITLE'])\n",
        "vectorizer = TfidfVectorizer()#tfidfを用いた特徴量\n",
        "\n",
        "vec = vectorizer.fit_transform(corpus)\n",
        "feature_names = vectorizer.get_feature_names_out()\n",
        "nameoftrain = feature_names\n",
        "feature = pd.DataFrame(vec.toarray(), columns=feature_names)\n",
        "display(feature)"
      ],
      "metadata": {
        "id": "Ge7flykMhLao"
      },
      "execution_count": null,
      "outputs": []
    },
    {
      "cell_type": "code",
      "source": [
        "import pandas as pd\n",
        "from sklearn.feature_extraction.text import TfidfVectorizer\n",
        "\n",
        "def feature_value(t):\n",
        "  corpus=[]\n",
        "\n",
        "  for index, tra in t.iterrows():\n",
        "    corpus.append(tra['TITLE'])\n",
        "  vectorizer = TfidfVectorizer()#tfidfを用いた特徴量\n",
        "\n",
        "  vec = vectorizer.fit_transform(corpus)\n",
        "  feature_names = vectorizer.get_feature_names_out()\n",
        "  feature = pd.DataFrame(vec.toarray(), columns=feature_names)\n",
        "  for i in nameoftrain:\n",
        "    if not(i in  feature_names):\n",
        "      feature[i] = 0\n",
        "  display(feature)\n",
        "  feature = feature.sort_index(axis=1)\n",
        "  return feature"
      ],
      "metadata": {
        "id": "jlm4uNE8cfYR"
      },
      "execution_count": null,
      "outputs": []
    },
    {
      "cell_type": "code",
      "source": [
        "feature_value(train)"
      ],
      "metadata": {
        "id": "yMD5G1kThZfT"
      },
      "execution_count": null,
      "outputs": []
    },
    {
      "cell_type": "markdown",
      "source": [
        "# 52"
      ],
      "metadata": {
        "id": "mPjh9chhY8DM"
      }
    },
    {
      "cell_type": "code",
      "metadata": {
        "id": "c94ocEDigNds"
      },
      "source": [
        "from sklearn.linear_model import LogisticRegression\n",
        "import pandas as pd\n",
        "from sklearn.feature_extraction.text import TfidfVectorizer\n",
        "# モデルの学習\n",
        "feature=feature_value(train)\n",
        "lg = LogisticRegression(random_state=123, max_iter=1000)\n",
        "lg.fit(feature, train['CATEGORY'])"
      ],
      "execution_count": null,
      "outputs": []
    },
    {
      "cell_type": "markdown",
      "source": [
        "# 53"
      ],
      "metadata": {
        "id": "3SBkJW7VZh1_"
      }
    },
    {
      "cell_type": "code",
      "source": [
        "X_test = feature_value(test)"
      ],
      "metadata": {
        "id": "TSdoGMudZHDy"
      },
      "execution_count": null,
      "outputs": []
    },
    {
      "cell_type": "code",
      "source": [
        "pred = lg.predict_proba(X_test) #ラベルの取得方法\n",
        "print(pred)"
      ],
      "metadata": {
        "id": "tihT2m22dHTT"
      },
      "execution_count": null,
      "outputs": []
    },
    {
      "cell_type": "markdown",
      "source": [
        "# 54"
      ],
      "metadata": {
        "id": "PPco5oRVm7kX"
      }
    },
    {
      "cell_type": "code",
      "source": [
        "X_train = feature_value(train)"
      ],
      "metadata": {
        "id": "3RJCwz_woz34"
      },
      "execution_count": null,
      "outputs": []
    },
    {
      "cell_type": "code",
      "source": [
        "pred_test=lg.predict(X_test)\n",
        "pred_train=lg.predict(X_train)"
      ],
      "metadata": {
        "id": "HCZZojvdm2uc"
      },
      "execution_count": null,
      "outputs": []
    },
    {
      "cell_type": "code",
      "source": [
        "from sklearn.metrics import accuracy_score\n",
        "print(accuracy_score(pred_test, test['CATEGORY']))\n",
        "print(accuracy_score(pred_train, train['CATEGORY']))"
      ],
      "metadata": {
        "colab": {
          "base_uri": "https://localhost:8080/"
        },
        "id": "x2q7ie8cnmcY",
        "outputId": "c6c9998b-80a4-48d7-ec0e-a01c9ce10c88"
      },
      "execution_count": null,
      "outputs": [
        {
          "output_type": "stream",
          "name": "stdout",
          "text": [
            "0.8937125748502994\n",
            "0.9471171845750656\n"
          ]
        }
      ]
    },
    {
      "cell_type": "markdown",
      "source": [
        "# 55"
      ],
      "metadata": {
        "id": "N-mIW7YpppWn"
      }
    },
    {
      "cell_type": "code",
      "source": [
        "from sklearn.metrics import confusion_matrix\n",
        "con_test=confusion_matrix(y_true = test['CATEGORY'], y_pred = pred_test)\n",
        "con_train=confusion_matrix(y_true = train['CATEGORY'], y_pred = pred_train)\n",
        "\n",
        "print(con_test)\n",
        "print(con_train)"
      ],
      "metadata": {
        "id": "Ue0Zff3Hpc5W"
      },
      "execution_count": null,
      "outputs": []
    },
    {
      "cell_type": "markdown",
      "source": [
        "# 56"
      ],
      "metadata": {
        "id": "UA09ykXGtUPa"
      }
    },
    {
      "cell_type": "code",
      "source": [
        "#適合率:正例と予測したもののうち、どれだけ正解だったか\n",
        "#再現率:正解が正例のもののうち、どれだけ正例と予測できたか\n",
        "\n",
        "tekigou_b=0\n",
        "tekigou_e=0\n",
        "tekigou_t=0\n",
        "tekigou_m=0\n",
        "\n",
        "saigen_b=0\n",
        "saigen_e=0\n",
        "saigen_t=0\n",
        "saigen_m=0\n",
        "\n",
        "tekigou_b=con_test[0][0]/(con_test[0][0]+con_test[1][0]+con_test[2][0]+con_test[3][0])\n",
        "tekigou_e=con_test[1][1]/(con_test[0][1]+con_test[1][1]+con_test[2][1]+con_test[3][1])\n",
        "tekigou_t=con_test[2][2]/(con_test[0][2]+con_test[1][2]+con_test[2][2]+con_test[3][2])\n",
        "tekigou_m=con_test[3][3]/(con_test[0][3]+con_test[1][3]+con_test[2][3]+con_test[3][3])\n",
        "\n",
        "print(tekigou_b, tekigou_e, tekigou_t, tekigou_m)\n",
        "\n",
        "saigen_b=con_test[0][0]/(con_test[0][0]+con_test[0][1]+con_test[0][2]+con_test[0][3])\n",
        "saigen_e=con_test[1][1]/(con_test[1][0]+con_test[1][1]+con_test[1][2]+con_test[1][3])\n",
        "saigen_t=con_test[2][2]/(con_test[2][0]+con_test[2][1]+con_test[2][2]+con_test[2][3])\n",
        "saigen_m=con_test[3][3]/(con_test[3][0]+con_test[3][1]+con_test[3][2]+con_test[3][3])\n",
        "\n",
        "\n",
        "\n",
        "\n",
        "print(saigen_b, saigen_e, saigen_t, saigen_m)"
      ],
      "metadata": {
        "colab": {
          "base_uri": "https://localhost:8080/"
        },
        "id": "6pxmzCW9rdC4",
        "outputId": "85cf3221-2e0f-405f-f533-7cf7c8539e63"
      },
      "execution_count": null,
      "outputs": [
        {
          "output_type": "stream",
          "name": "stdout",
          "text": [
            "0.9032258064516129 0.8815566835871405 0.9615384615384616 0.875\n",
            "0.9449378330373002 0.9830188679245283 0.5494505494505495 0.5986842105263158\n"
          ]
        }
      ]
    },
    {
      "cell_type": "code",
      "source": [
        "F_b=(2*tekigou_b*saigen_b)/(saigen_b+tekigou_b)\n",
        "F_e=(2*tekigou_e*saigen_e)/(saigen_e+tekigou_e)\n",
        "F_t=(2*tekigou_t*saigen_t)/(saigen_t+tekigou_t)\n",
        "F_m=(2*tekigou_m*saigen_m)/(saigen_m+tekigou_m)\n",
        "\n",
        "print(F_b, F_e, F_t, F_m)"
      ],
      "metadata": {
        "colab": {
          "base_uri": "https://localhost:8080/"
        },
        "id": "8bnzarJLvDIu",
        "outputId": "1592ff2f-042f-4f7a-9d73-265bc362eea8"
      },
      "execution_count": null,
      "outputs": [
        {
          "output_type": "stream",
          "name": "stdout",
          "text": [
            "0.9236111111111112 0.9295272078501339 0.6993006993006995 0.7109375\n"
          ]
        }
      ]
    },
    {
      "cell_type": "code",
      "source": [
        "macro_tekigou=(tekigou_b+tekigou_e+tekigou_t+tekigou_m)/4\n",
        "macro_saigen=(saigen_b+saigen_e+saigen_t+saigen_m)/4\n",
        "macro_F=(F_b+F_e+F_t+F_m)/4\n",
        "micro_tekigou=(con_test[0][0]+con_test[1][1]+con_test[2][2]+con_test[3][3])/(con_test[0][0]+con_test[1][0]+con_test[2][0]+con_test[3][0])+(con_test[0][1]+con_test[1][1]+con_test[2][1]+con_test[3][1])+(con_test[0][2]+con_test[1][2]+con_test[2][2]+con_test[3][2])+(con_test[0][3]+con_test[1][3]+con_test[2][3]+con_test[3][3])\n",
        "micro_saigen=(con_test[0][0]+con_test[1][1]+con_test[2][2]+con_test[3][3])/(con_test[0][0]+con_test[0][1]+con_test[0][2]+con_test[0][3])+(con_test[1][0]+con_test[1][1]+con_test[1][2]+con_test[1][3])+(con_test[2][0]+con_test[2][1]+con_test[2][2]+con_test[2][3])+(con_test[3][0]+con_test[3][1]+con_test[3][2]+con_test[3][3])\n",
        "\n",
        "print(macro_tekigou, macro_saigen, macro_F, micro_tekigou, micro_saigen)"
      ],
      "metadata": {
        "colab": {
          "base_uri": "https://localhost:8080/"
        },
        "id": "ngPbLoxgwwCa",
        "outputId": "05955935-acb3-4095-b43d-65b2a6189081"
      },
      "execution_count": null,
      "outputs": [
        {
          "output_type": "stream",
          "name": "stdout",
          "text": [
            "0.9053302378943038 0.7690228652346736 0.8158441295654861 749.0271646859084 775.1207815275311\n"
          ]
        }
      ]
    },
    {
      "cell_type": "markdown",
      "source": [
        "# 57"
      ],
      "metadata": {
        "id": "1mEf0XUY9nmi"
      }
    },
    {
      "cell_type": "code",
      "source": [
        "import numpy as np\n",
        "\n",
        "features = X_train.columns.values\n",
        "index = [i for i in range(1, 11)]\n",
        "for c, coef in zip(lg.classes_, lg.coef_):\n",
        "  print(f'【カテゴリ】{c}')\n",
        "  best10 = pd.DataFrame(features[np.argsort(coef)[::-1][:10]], columns=['重要度上位'], index=index).T\n",
        "  worst10 = pd.DataFrame(features[np.argsort(coef)[:10]], columns=['重要度下位'], index=index).T\n",
        "  display(pd.concat([best10, worst10], axis=0))\n",
        "  print('\\n')"
      ],
      "metadata": {
        "id": "QHCxjbvn9piB"
      },
      "execution_count": null,
      "outputs": []
    },
    {
      "cell_type": "markdown",
      "source": [
        "# 58"
      ],
      "metadata": {
        "id": "7UqsWiqLCERV"
      }
    },
    {
      "cell_type": "code",
      "source": [
        "X_valid= feature_value(valid)"
      ],
      "metadata": {
        "id": "-IZReNNuD4JX"
      },
      "execution_count": null,
      "outputs": []
    },
    {
      "cell_type": "code",
      "metadata": {
        "id": "AbBh2pi_Xy42",
        "outputId": "014150b0-5934-47ba-e1ad-9212f2517b4d",
        "colab": {
          "base_uri": "https://localhost:8080/"
        }
      },
      "source": [
        "from tqdm import tqdm\n",
        "import numpy as np\n",
        "\n",
        "result = []\n",
        "for C in tqdm(np.logspace(-5, 4, 10, base=10)):\n",
        "  # モデルの学習\n",
        "  lg = LogisticRegression(random_state=123, max_iter=1000, C=C)\n",
        "  lg.fit(X_train, train['CATEGORY'])\n",
        "\n",
        "  # 予測値の取得\n",
        "  train_pred = lg.predict(X_train)\n",
        "  valid_pred = lg.predict(X_valid)\n",
        "  test_pred = lg.predict(X_test)\n",
        "\n",
        "  # 正解率の算出\n",
        "  train_accuracy = accuracy_score(train['CATEGORY'], train_pred)\n",
        "  valid_accuracy = accuracy_score(valid['CATEGORY'], valid_pred)\n",
        "  test_accuracy = accuracy_score(test['CATEGORY'], test_pred)\n",
        "\n",
        "  # 結果の格納\n",
        "  result.append([C, train_accuracy, valid_accuracy, test_accuracy])"
      ],
      "execution_count": null,
      "outputs": [
        {
          "output_type": "stream",
          "name": "stderr",
          "text": [
            "100%|██████████| 10/10 [25:42<00:00, 154.28s/it]\n"
          ]
        }
      ]
    },
    {
      "cell_type": "code",
      "metadata": {
        "id": "VxakFF4WmOXC",
        "outputId": "b060850e-2a85-4dfc-a8d8-65844b6181b8",
        "colab": {
          "base_uri": "https://localhost:8080/",
          "height": 454
        }
      },
      "source": [
        "# 視覚化\n",
        "from matplotlib import pyplot as plt\n",
        "result = np.array(result).T#便利、転置とる\n",
        "plt.plot(result[0], result[1], label='train')\n",
        "plt.plot(result[0], result[2], label='valid')\n",
        "plt.plot(result[0], result[3], label='test')\n",
        "plt.ylim(0, 1.1)\n",
        "plt.ylabel('Accuracy')\n",
        "plt.xscale ('log')\n",
        "plt.xlabel('C')\n",
        "plt.legend()\n",
        "plt.show()"
      ],
      "execution_count": null,
      "outputs": [
        {
          "output_type": "display_data",
          "data": {
            "text/plain": [
              "<Figure size 640x480 with 1 Axes>"
            ],
            "image/png": "[encoded data removed]"
          },
          "metadata": {}
        }
      ]
    },
    {
      "cell_type": "markdown",
      "source": [
        "# 59"
      ],
      "metadata": {
        "id": "4oJqjP5xHkah"
      }
    },
    {
      "cell_type": "code",
      "source": [
        "max_c=100000000\n",
        "max_true=-1\n",
        "for c in np.logspace(-5, 5, 10, base=10):#Cの値を最適化する\n",
        "  # モデルの学習\n",
        "  lg = LogisticRegression(random_state=123, max_iter=1000, C=c)\n",
        "  lg.fit(X_train, train['CATEGORY'])\n",
        "\n",
        "  # 予測値の取得\n",
        "  valid_pred = lg.predict(X_valid)\n",
        "\n",
        "  # 正解率の算出\n",
        "  valid_accuracy = accuracy_score(valid['CATEGORY'], valid_pred)\n",
        "  if max_true < valid_accuracy:\n",
        "    max_c=c\n",
        "\n",
        "lg = LogisticRegression(random_state=123, max_iter=1000, C=max_c)\n",
        "lg.fit(X_train, train['CATEGORY'])\n",
        "test_pred=lg.predict(X_test)\n",
        "test_accuracy = accuracy_score(test['CATEGORY'], test_pred)\n",
        "print(test_accuracy)"
      ],
      "metadata": {
        "colab": {
          "base_uri": "https://localhost:8080/"
        },
        "id": "pTfVTY9kHpla",
        "outputId": "c3aafe4e-48e5-4535-b7de-55943ec0bfac"
      },
      "execution_count": null,
      "outputs": [
        {
          "output_type": "stream",
          "name": "stderr",
          "text": [
            "/usr/local/lib/python3.10/dist-packages/sklearn/linear_model/_logistic.py:458: ConvergenceWarning: lbfgs failed to converge (status=1):\n",
            "STOP: TOTAL NO. of ITERATIONS REACHED LIMIT.\n",
            "\n",
            "Increase the number of iterations (max_iter) or scale the data as shown in:\n",
            "    https://scikit-learn.org/stable/modules/preprocessing.html\n",
            "Please also refer to the documentation for alternative solver options:\n",
            "    https://scikit-learn.org/stable/modules/linear_model.html#logistic-regression\n",
            "  n_iter_i = _check_optimize_result(\n",
            "/usr/local/lib/python3.10/dist-packages/sklearn/linear_model/_logistic.py:458: ConvergenceWarning: lbfgs failed to converge (status=1):\n",
            "STOP: TOTAL NO. of ITERATIONS REACHED LIMIT.\n",
            "\n",
            "Increase the number of iterations (max_iter) or scale the data as shown in:\n",
            "    https://scikit-learn.org/stable/modules/preprocessing.html\n",
            "Please also refer to the documentation for alternative solver options:\n",
            "    https://scikit-learn.org/stable/modules/linear_model.html#logistic-regression\n",
            "  n_iter_i = _check_optimize_result(\n"
          ]
        },
        {
          "output_type": "stream",
          "name": "stdout",
          "text": [
            "0.9214071856287425\n"
          ]
        }
      ]
    }
  ]
}