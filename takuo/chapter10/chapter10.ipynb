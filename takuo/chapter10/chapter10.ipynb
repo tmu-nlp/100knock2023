{
 "cells": [
  {
   "cell_type": "markdown",
   "metadata": {},
   "source": [
    "# chapter10"
   ]
  },
  {
   "cell_type": "markdown",
   "metadata": {},
   "source": [
    "## knock90\n",
    "- kfttのデータを用いる\n",
    "- kftt-data-1.0/data/tokはトークン化されているのでこれを使う\n",
    "\n",
    "\n",
    "\n",
    "https://kakedashi-engineer.appspot.com/2020/05/28/nlp100-ch10/\n",
    "\n",
    "\n",
    "\n",
    "https://qiita.com/nymwa/items/867e05a43060d036a174#98-%E3%83%89%E3%83%A1%E3%82%A4%E3%83%B3%E9%81%A9%E5%BF%9C"
   ]
  },
  {
   "cell_type": "code",
   "execution_count": null,
   "metadata": {
    "vscode": {
     "languageId": "plaintext"
    }
   },
   "outputs": [],
   "source": [
    "前処理\n",
    "$ fairseq-preprocess -s ja -t en \\\n",
    "--trainpref kftt-data-1.0/data/tok/kyoto-train \\\n",
    "--validpref kftt-data-1.0/data/tok/kyoto-dev \\\n",
    "--destdir data91 \\\n",
    "--thresholdsrc 5 \\\n",
    "--thresholdtgt 5 \\\n",
    "--workers 20\n",
    "\n",
    "学習\n",
    "$ fairseq-train data91 \\\n",
    "    --fp16 \\\n",
    "    --save-dir save91 \\\n",
    "    --max-epoch 10 \\\n",
    "    --arch transformer --share-decoder-input-output-embed \\\n",
    "    --optimizer adam --clip-norm 1.0 \\\n",
    "    --lr 1e-3 --lr-scheduler inverse_sqrt --warmup-updates 2000 \\\n",
    "    --update-freq 1 \\\n",
    "    --dropout 0.2 --weight-decay 0.0001 \\\n",
    "    --criterion label_smoothed_cross_entropy --label-smoothing 0.1 \\\n",
    "    --max-tokens 8000 > 91.log\n",
    "\n"
   ]
  },
  {
   "cell_type": "code",
   "execution_count": null,
   "metadata": {
    "vscode": {
     "languageId": "plaintext"
    }
   },
   "outputs": [],
   "source": [
    "S-0     アクセス\n",
    "W-0     3.207   seconds\n",
    "H-0     -8.438840866088867      4000 4000 4000 4000 contender contender contender contender contender contender contender toro toro toro toro toro toro toro toro toro toro toro toro toro toro toro toro toro toro toro toro toro toro Kumata-jinja Kumata-jinja Kumata-jinja Kumata-jinja Kumata-jinja Kumata-jinja Kumata-jinja Kumata-jinja Kumata-jinja Kumata-jinja Kumata-jinja Kumata-jinja Kumata-jinja Kumata-jinja Kumata-jinja Kumata-jinja Kumata-jinja Kumata-jinja Kumata-jinja Kumata-jinja Kumata-jinja Kumata-jinja Kumata-jinja Kumata-jinja Kumata-jinja Kumata-jinja Kumata-jinja Kumata-jinja Kumata-jinja Kumata-jinja Kumata-jinja Kumata-jinja Kumata-jinja Kumata-jinja Kumata-jinja Kumata-jinja Kumata-jinja Kumata-jinja Kumata-jinja Kumata-jinja Kumata-jinja Kumata-jinja Kumata-jinja Kumata-jinja Kumata-jinja Kumata-jinja Kumata-jinja Kumata-jinja Kumata-jinja Kumata-jinja Kumata-jinja Kumata-jinja Kumata-jinja Kumata-jinja Kumata-jinja Kumata-jinja Kumata-jinja Kumata-jinja Kumata-jinja Kumata-jinja Kumata-jinja Kumata-jinja Kumata-jinja Kumata-jinja Kumata-jinja Kumata-jinja Kumata-jinja Kumata-jinja Kumata-jinja Kumata-jinja Kumata-jinja Kumata-jinja Kumata-jinja Kumata-jinja Kumata-jinja Kumata-jinja Kumata-jinja Kumata-jinja Kumata-jinja Kumata-jinja Kumata-jinja Kumata-jinja Kumata-jinja Kumata-jinja Kumata-jinja Kumata-jinja Kumata-jinja Kumata-jinja Kumata-jinja Kumata-jinja Kumata-jinja Kumata-jinja Kumata-jinja Kumata-jinja Kumata-jinja Kumata-jinja Kumata-jinja Kumata-jinja Kumata-jinja Kumata-jinja Kumata-jinja Kumata-jinja Kumata-jinja Kumata-jinja Kumata-jinja Kumata-jinja Kumata-jinja Kumata-jinja Kumata-jinja Kumata-jinja Kumata-jinja Kumata-jinja Kumata-jinja Kumata-jinja Kumata-jinja Kumata-jinja Kumata-jinja Kumata-jinja Kumata-jinja Kumata-jinja Kumata-jinja Kumata-jinja Kumata-jinja Kumata-jinja Kumata-jinja Kumata-jinja Kumata-jinja Kumata-jinja Kumata-jinja Kumata-jinja Kumata-jinja Kumata-jinja Kumata-jinja Kumata-jinja Kumata-jinja Kumata-jinja Kumata-jinja Kumata-jinja Kumata-jinja Kumata-jinja Kumata-jinja Kumata-jinja Kumata-jinja Kumata-jinja Kumata-jinja Kumata-jinja Kumata-jinja Kumata-jinja Kumata-jinja Kumata-jinja Kumata-jinja Kumata-jinja Kumata-jinja Kumata-jinja Kumata-jinja Kumata-jinja Kumata-jinja Kumata-jinja Kumata-jinja Kumata-jinja Kumata-jinja Kumata-jinja Kumata-jinja Kumata-jinja Kumata-jinja Kumata-jinja Kumata-jinja\n",
    "D-0     -8.438840866088867      4000 4000 4000 4000 contender contender contender contender contender contender contender toro toro toro toro toro toro toro toro toro toro toro toro toro toro toro toro toro toro toro toro toro toro Kumata-jinja Kumata-jinja Kumata-jinja Kumata-jinja Kumata-jinja Kumata-jinja Kumata-jinja Kumata-jinja Kumata-jinja Kumata-jinja Kumata-jinja Kumata-jinja Kumata-jinja Kumata-jinja Kumata-jinja Kumata-jinja Kumata-jinja Kumata-jinja Kumata-jinja Kumata-jinja Kumata-jinja Kumata-jinja Kumata-jinja Kumata-jinja Kumata-jinja Kumata-jinja Kumata-jinja Kumata-jinja Kumata-jinja Kumata-jinja Kumata-jinja Kumata-jinja Kumata-jinja Kumata-jinja Kumata-jinja Kumata-jinja Kumata-jinja Kumata-jinja Kumata-jinja Kumata-jinja Kumata-jinja Kumata-jinja Kumata-jinja Kumata-jinja Kumata-jinja Kumata-jinja Kumata-jinja Kumata-jinja Kumata-jinja Kumata-jinja Kumata-jinja Kumata-jinja Kumata-jinja Kumata-jinja Kumata-jinja Kumata-jinja Kumata-jinja Kumata-jinja Kumata-jinja Kumata-jinja Kumata-jinja Kumata-jinja Kumata-jinja Kumata-jinja Kumata-jinja Kumata-jinja Kumata-jinja Kumata-jinja Kumata-jinja Kumata-jinja Kumata-jinja Kumata-jinja Kumata-jinja Kumata-jinja Kumata-jinja Kumata-jinja Kumata-jinja Kumata-jinja Kumata-jinja Kumata-jinja Kumata-jinja Kumata-jinja Kumata-jinja Kumata-jinja Kumata-jinja Kumata-jinja Kumata-jinja Kumata-jinja Kumata-jinja Kumata-jinja Kumata-jinja Kumata-jinja Kumata-jinja Kumata-jinja Kumata-jinja Kumata-jinja Kumata-jinja Kumata-jinja Kumata-jinja Kumata-jinja Kumata-jinja Kumata-jinja Kumata-jinja Kumata-jinja Kumata-jinja Kumata-jinja Kumata-jinja Kumata-jinja Kumata-jinja Kumata-jinja Kumata-jinja Kumata-jinja Kumata-jinja Kumata-jinja Kumata-jinja Kumata-jinja Kumata-jinja Kumata-jinja Kumata-jinja Kumata-jinja Kumata-jinja Kumata-jinja Kumata-jinja Kumata-jinja Kumata-jinja Kumata-jinja Kumata-jinja Kumata-jinja Kumata-jinja Kumata-jinja Kumata-jinja Kumata-jinja Kumata-jinja Kumata-jinja Kumata-jinja Kumata-jinja Kumata-jinja Kumata-jinja Kumata-jinja Kumata-jinja Kumata-jinja Kumata-jinja Kumata-jinja Kumata-jinja Kumata-jinja Kumata-jinja Kumata-jinja Kumata-jinja Kumata-jinja Kumata-jinja Kumata-jinja Kumata-jinja Kumata-jinja Kumata-jinja Kumata-jinja Kumata-jinja Kumata-jinja Kumata-jinja Kumata-jinja Kumata-jinja Kumata-jinja Kumata-jinja Kumata-jinja Kumata-jinja Kumata-jinja Kumata-jinja Kumata-jinja\n",
    "P-0     -11.1765 -8.4522 -8.5515 -8.6369 -10.4069 -8.1814 -8.1852 -8.2377 -8.3014 -8.3425 -8.3536 -10.4846 -8.1693 -8.1834 -8.2107 -8.2333 -8.2458 -8.2418 -8.2399 -8.2529 -8.2874 -8.3343 -8.3753 -8.4034 -8.4156 -8.4209 -8.4273 -8.4451 -8.4710 -8.4944 -8.5059 -8.5078 -8.5069 -10.8331 -8.3037 -8.3195 -8.3341 -8.3336 -8.3152 -8.2867 -8.2614 -8.2542 -8.2676 -8.2947 -8.3239 -8.3383 -8.3409 -8.3311 -8.3124 -8.2908 -8.2689 -8.2525 -8.2434 -8.2429 -8.2501 -8.2548 -8.2520 -8.2345 -8.2150 -8.2088 -8.2176 -8.2288 -8.2332 -8.2235 -8.1956 -8.1705 -8.1682 -8.1886 -8.2209 -8.2505 -8.2581 -8.2442 -8.2231 -8.2090 -8.2107 -8.2288 -8.2512 -8.2711 -8.2801 -8.2728 -8.2517 -8.2287 -8.2185 -8.2226 -8.2404 -8.2660 -8.2881 -8.2993 -8.2992 -8.2871 -8.2641 -8.2378 -8.2221 -8.2205 -8.2304 -8.2501 -8.2717 -8.2900 -8.2914 -8.2774 -8.2508 -8.2236 -8.2052 -8.2028 -8.2181 -8.2418 -8.2641 -8.2731 -8.2696 -8.2630 -8.2651 -8.2773 -8.2988 -8.3260 -8.3542 -8.3747 -8.3813 -8.3635 -8.3298 -8.2961 -8.2795 -8.2936 -8.3301 -8.3752 -8.4046 -8.4073 -8.3847 -8.3597 -8.3542 -8.3752 -8.4162 -8.4501 -8.4666 -8.4652 -8.4504 -8.4363 -8.4292 -8.4290 -8.4261 -8.4250 -8.4261 -8.4325 -8.4377 -8.4241 -8.3861 -8.3326 -8.2875 -8.2764 -8.3042 -8.3553 -8.3968 -8.4091 -8.3895 -8.3555 -8.3411 -8.3640 -8.4194 -8.4804 -8.5230 -8.5373 -8.5242 -8.5090 -8.5126 -8.5348 -8.5565 -8.5633 -8.5522 -8.5280 -8.4996 -8.4838 -8.4821 -8.4853 -8.4878 -8.4847 -8.4794 -8.4777 -8.4831 -8.4889 -8.4954 -8.5035 -8.5170 -8.5376 -8.5540 -8.5524 -8.5264 -8.4857 -8.4443 -8.4300 -8.4487 -8.4825 -8.5086 -8.5035 -8.4642 -8.4066 -8.3672 -8.3673 -8.4031 -8.4485 -8.4772 -8.4823 -16.6019"
   ]
  },
  {
   "cell_type": "markdown",
   "metadata": {},
   "source": [
    "あれ？失敗\n",
    "-> log見たら死ぬほどOOMを吐いていた"
   ]
  },
  {
   "cell_type": "code",
   "execution_count": null,
   "metadata": {
    "vscode": {
     "languageId": "plaintext"
    }
   },
   "outputs": [],
   "source": [
    " fairseq-train data91 \\\n",
    " --arch transformer \\\n",
    " --optimizer adam --adam-betas '(0.9, 0.98)' \\\n",
    " --lr 0.0005 --lr-scheduler inverse_sqrt \\\n",
    " --dropout 0.3 \\\n",
    " --max-epoch 10 \\\n",
    " --clip-norm 1.0 \\\n",
    " --criterion label_smoothed_cross_entropy --label-smoothing 0.1 \\\n",
    " --max-tokens 2000 \\\n",
    " --seed 1053 > 91_2.log"
   ]
  },
  {
   "cell_type": "code",
   "execution_count": null,
   "metadata": {
    "vscode": {
     "languageId": "plaintext"
    }
   },
   "outputs": [],
   "source": [
    "2023-07-24 09:44:31 | INFO | fairseq.tasks.text_to_speech | Please install tensorboardX: pip install tensorboardX\n",
    "Namespace(sys='92.out', ref='kftt-data-1.0/data/tok/kyoto-test.en', order=4, ignore_case=False, sacrebleu=False, sentence_bleu=False)\n",
    "BLEU4 = 5.65, 29.0/7.6/3.1/1.5 (BP=1.000, ratio=1.053, syslen=28142, reflen=26734)"
   ]
  },
  {
   "cell_type": "markdown",
   "metadata": {},
   "source": [
    "# 94"
   ]
  },
  {
   "cell_type": "markdown",
   "metadata": {},
   "source": []
  }
 ],
 "metadata": {
  "language_info": {
   "name": "python"
  },
  "orig_nbformat": 4
 },
 "nbformat": 4,
 "nbformat_minor": 2
}
