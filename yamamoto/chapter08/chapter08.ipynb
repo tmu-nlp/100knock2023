{
  "nbformat": 4,
  "nbformat_minor": 0,
  "metadata": {
    "colab": {
      "provenance": [],
      "gpuType": "T4"
    },
    "kernelspec": {
      "name": "python3",
      "display_name": "Python 3"
    },
    "language_info": {
      "name": "python"
    },
    "accelerator": "GPU"
  },
  "cells": [
    {
      "cell_type": "code",
      "execution_count": 1,
      "metadata": {
        "colab": {
          "base_uri": "https://localhost:8080/"
        },
        "id": "tutXYo3nqK3Z",
        "outputId": "8c227564-db4f-4571-b8c5-db7fc429b756"
      },
      "outputs": [
        {
          "output_type": "stream",
          "name": "stdout",
          "text": [
            "/content\n",
            "/content/drive/MyDrive/nlp100/chapter08\n"
          ]
        }
      ],
      "source": [
        "!pwd\n",
        "%cd drive/MyDrive/nlp100/chapter08"
      ]
    },
    {
      "cell_type": "code",
      "source": [
        "# knock50\n",
        "\n",
        "import pandas as pd\n",
        "from sklearn.model_selection import train_test_split\n",
        "# FORMAT: ID \\t TITLE \\t URL \\t PUBLISHER \\t CATEGORY \\t STORY \\t HOSTNAME \\t TIMESTAMP\n",
        "df = pd.read_csv(\"newsCorpora.csv\", sep=\"\\t\", header=None, names=[\"ID\", \"TITLE\", \"URL\", \"PUBLISHER\", \"CATEGORY\", \"STORY\", \"HOSTNAME\", \"TIMESTAMP\"])\n",
        "\n",
        "# 該当するpublisherの記事を抽出する\n",
        "publishers = ['Reuters', 'Huffington Post', 'Businessweek', 'Contactmusic.com', 'Daily Mail']\n",
        "df = df[df['PUBLISHER'].isin(publishers)]\n",
        "# TITLEとCATEGORYのみ抽出\n",
        "df = df[[\"TITLE\", \"CATEGORY\"]]\n",
        "\n",
        "#データを分割しシャッフルする\n",
        "train, test = train_test_split(df, test_size=0.2, shuffle=True)\n",
        "test, valid = train_test_split(test, test_size=0.5, shuffle=True)\n",
        "\n",
        "#ファイルに保存する\n",
        "train.to_csv(\"train.txt\", sep=\"\\t\", index=False, header=None)\n",
        "valid.to_csv(\"valid.txt\", sep=\"\\t\", index=False, header=None)\n",
        "test.to_csv(\"test.txt\", sep=\"\\t\", index=False, header=None)\n",
        "\n",
        "print(\"train\\n\", train[\"CATEGORY\"].value_counts())\n",
        "print(\"valid\\n\", valid[\"CATEGORY\"].value_counts())\n",
        "print(\"test\\n\", test[\"CATEGORY\"].value_counts())"
      ],
      "metadata": {
        "colab": {
          "base_uri": "https://localhost:8080/"
        },
        "id": "yXXcD4-WuJmK",
        "outputId": "7669fc81-fd76-4274-946d-a2984ed0057f"
      },
      "execution_count": 3,
      "outputs": [
        {
          "output_type": "stream",
          "name": "stdout",
          "text": [
            "train\n",
            " b    4512\n",
            "e    4193\n",
            "t    1245\n",
            "m     722\n",
            "Name: CATEGORY, dtype: int64\n",
            "valid\n",
            " b    552\n",
            "e    550\n",
            "t    140\n",
            "m     92\n",
            "Name: CATEGORY, dtype: int64\n",
            "test\n",
            " b    563\n",
            "e    536\n",
            "t    139\n",
            "m     96\n",
            "Name: CATEGORY, dtype: int64\n"
          ]
        }
      ]
    },
    {
      "cell_type": "code",
      "source": [
        "# knock60\n",
        "\n",
        "from gensim.models import KeyedVectors\n",
        "model = KeyedVectors.load_word2vec_format(\"GoogleNews-vectors-negative300.bin.gz\", binary=True)"
      ],
      "metadata": {
        "id": "R7t4AqBuzGeM"
      },
      "execution_count": 5,
      "outputs": []
    },
    {
      "cell_type": "code",
      "source": [
        "# knock70\n",
        "import string\n",
        "import torch\n",
        "from tqdm import tqdm\n",
        "\n",
        "# タイトルを特徴ベクトル化する\n",
        "def transform_w2v(text):\n",
        "  # 記号を削除する\n",
        "  table = str.maketrans(string.punctuation, ' '*len(string.punctuation)) # 記号をスペースに置換する文字列変換を作成\n",
        "  words = text.translate(table).split() # 変換を実行してスペースで分割する\n",
        "  vec = []\n",
        "  # ベクトル化する\n",
        "  for word in words:\n",
        "    if word in model:\n",
        "      vec.append(model[word])\n",
        "  return torch.tensor(sum(vec) / len(vec))\n",
        "\n",
        "# 特徴ベクトルを作成\n",
        "X_train = torch.stack([transform_w2v(text) for text in train['TITLE']])\n",
        "X_valid = torch.stack([transform_w2v(text) for text in valid['TITLE']])\n",
        "X_test = torch.stack([transform_w2v(text) for text in test['TITLE']])\n",
        "\n",
        "print(X_train)\n",
        "\n",
        "# ラベルベクトルを作成\n",
        "category = {'b': 0, 't': 1, 'e': 2, 'm': 3}\n",
        "# カテゴリ名を数字に変えてテンソル化\n",
        "y_train = torch.tensor(train['CATEGORY'].map(lambda x: category[x]).values)\n",
        "y_valid = torch.tensor(valid['CATEGORY'].map(lambda x: category[x]).values)\n",
        "y_test = torch.tensor(test['CATEGORY'].map(lambda x: category[x]).values)\n",
        "\n",
        "print(y_train)\n",
        "\n",
        "torch.save(X_train, 'X_train.pt')\n",
        "torch.save(X_valid, 'X_valid.pt')\n",
        "torch.save(X_test, 'X_test.pt')\n",
        "torch.save(y_train, 'y_train.pt')\n",
        "torch.save(y_valid, 'y_valid.pt')\n",
        "torch.save(y_test, 'y_test.pt')"
      ],
      "metadata": {
        "colab": {
          "base_uri": "https://localhost:8080/"
        },
        "id": "qDpbL2PGw5fW",
        "outputId": "d87291bf-b7b3-4c86-ae3d-4aa4bc558208"
      },
      "execution_count": 6,
      "outputs": [
        {
          "output_type": "stream",
          "name": "stdout",
          "text": [
            "tensor([[ 0.0492,  0.0744, -0.0350,  ..., -0.0232, -0.0503,  0.0168],\n",
            "        [-0.1302, -0.0141, -0.1621,  ..., -0.2249,  0.0951, -0.0289],\n",
            "        [-0.0189,  0.1470, -0.0144,  ..., -0.0099, -0.1147, -0.0141],\n",
            "        ...,\n",
            "        [ 0.0119, -0.0768,  0.0264,  ...,  0.0289,  0.0988, -0.0251],\n",
            "        [ 0.1484,  0.0615,  0.0196,  ..., -0.1033,  0.0074, -0.0169],\n",
            "        [-0.0288, -0.0532,  0.0273,  ...,  0.0379,  0.0096, -0.0588]])\n",
            "tensor([0, 1, 2,  ..., 0, 2, 0])\n"
          ]
        }
      ]
    },
    {
      "cell_type": "code",
      "source": [
        "# knock71\n",
        "from torch import nn\n",
        "\n",
        "class SLPNet(nn.Module):\n",
        "  def __init__(self, input_size, output_size):\n",
        "    # 以下の処理を追加\n",
        "    super().__init__()\n",
        "    # 全結合層を定義\n",
        "    self.fc = nn.Linear(input_size, output_size, bias=False)\n",
        "    # 正規乱数で重みを初期化する\n",
        "    nn.init.normal_(self.fc.weight, 0.0, 1.0)\n",
        "\n",
        "  def forward(self, x):\n",
        "    x = self.fc(x)\n",
        "    return x\n",
        "\n",
        "# 単層ニューラルネットワークを初期化\n",
        "model = SLPNet(300, 4)\n",
        "y_hat_1 = torch.softmax(model(X_train[:1]), dim=-1)\n",
        "print(y_hat_1)\n",
        "Y_hat = torch.softmax(model.forward(X_train[:4]), dim=-1)\n",
        "print(Y_hat)"
      ],
      "metadata": {
        "colab": {
          "base_uri": "https://localhost:8080/"
        },
        "id": "zKDOMOmmA3-y",
        "outputId": "6466d5cf-536c-4757-cac0-4b86a5c4ed93"
      },
      "execution_count": 8,
      "outputs": [
        {
          "output_type": "stream",
          "name": "stdout",
          "text": [
            "tensor([[0.1505, 0.1515, 0.1026, 0.5954]], grad_fn=<SoftmaxBackward0>)\n",
            "tensor([[0.1505, 0.1515, 0.1026, 0.5954],\n",
            "        [0.9185, 0.0344, 0.0156, 0.0314],\n",
            "        [0.0233, 0.8224, 0.0316, 0.1228],\n",
            "        [0.6739, 0.2179, 0.0583, 0.0499]], grad_fn=<SoftmaxBackward0>)\n"
          ]
        }
      ]
    },
    {
      "cell_type": "code",
      "source": [
        "# knock72\n",
        "\n",
        "criterion = nn.CrossEntropyLoss()\n",
        "l_1 = criterion(model(X_train[:1]), y_train[:1])\n",
        "model.zero_grad()\n",
        "l_1.backward()\n",
        "print(f'損失: {l_1}')\n",
        "print(f'勾配:\\n{model.fc.weight.grad}')\n",
        "\n",
        "l = criterion(model(X_train[:4]), y_train[:4])\n",
        "model.zero_grad()\n",
        "l.backward()\n",
        "print(f'損失: {l}')\n",
        "print(f'勾配:\\n{model.fc.weight.grad}')"
      ],
      "metadata": {
        "colab": {
          "base_uri": "https://localhost:8080/"
        },
        "id": "fnjl221eKKzI",
        "outputId": "56e00902-990b-491a-cd4d-998b5ea463b2"
      },
      "execution_count": 13,
      "outputs": [
        {
          "output_type": "stream",
          "name": "stdout",
          "text": [
            "損失: 2.0781850814819336\n",
            "勾配:\n",
            "tensor([[ 0.0041,  0.0149, -0.0045,  ...,  0.0466, -0.0164,  0.0348],\n",
            "        [ 0.0026,  0.0093, -0.0028,  ...,  0.0290, -0.0102,  0.0216],\n",
            "        [ 0.0007,  0.0027, -0.0008,  ...,  0.0083, -0.0029,  0.0062],\n",
            "        [-0.0074, -0.0268,  0.0080,  ..., -0.0839,  0.0294, -0.0625]])\n",
            "損失: 1.9201526641845703\n",
            "勾配:\n",
            "tensor([[ 0.0096, -0.0063, -0.0268,  ..., -0.0004, -0.0081,  0.0175],\n",
            "        [-0.0104, -0.0024,  0.0064,  ...,  0.0211, -0.0122,  0.0284],\n",
            "        [ 0.0055,  0.0049,  0.0090,  ...,  0.0115, -0.0041,  0.0040],\n",
            "        [-0.0047,  0.0038,  0.0114,  ..., -0.0321,  0.0245, -0.0498]])\n"
          ]
        }
      ]
    },
    {
      "cell_type": "code",
      "source": [
        "# knock73\n",
        "\n",
        "from torch.utils.data import Dataset\n",
        "from torch.utils.data import DataLoader\n",
        "\n",
        "# dataset型\n",
        "class NewsDataset(Dataset):\n",
        "  def __init__(self, X, y):\n",
        "    self.X = X\n",
        "    self.y = y\n",
        "\n",
        "  def __len__(self):\n",
        "    return len(self.y)\n",
        "\n",
        "  def __getitem__(self, idx):\n",
        "    return [self.X[idx], self.y[idx]]\n",
        "\n",
        "# Dataset（ミニバッチ）を作成\n",
        "dataset_train = NewsDataset(X_train, y_train)\n",
        "dataset_valid = NewsDataset(X_valid, y_valid)\n",
        "dataset_test = NewsDataset(X_test, y_test)\n",
        "\n",
        "# Dataloaderを作成\n",
        "dataloader_train = DataLoader(dataset_train, batch_size=1, shuffle=True)\n",
        "dataloader_valid = DataLoader(dataset_valid, batch_size=len(dataset_valid), shuffle=False)\n",
        "dataloader_test = DataLoader(dataset_test, batch_size=len(dataset_test), shuffle=False)\n",
        "\n",
        "model = SLPNet(300, 4)\n",
        "criterion = nn.CrossEntropyLoss()\n",
        "optimizer = torch.optim.SGD(model.parameters(), lr=0.1)\n",
        "# 学習\n",
        "num_epochs = 100\n",
        "for epoch in tqdm(range(num_epochs)):\n",
        "  model.train()\n",
        "  loss_train = 0.0\n",
        "  for i, (inputs, labels) in enumerate(dataloader_train):\n",
        "    optimizer.zero_grad()\n",
        "    # 順伝播\n",
        "    outputs = model(inputs)\n",
        "    # 誤差逆伝播\n",
        "    loss = criterion(outputs, labels)\n",
        "    loss.backward()\n",
        "    # 更新\n",
        "    optimizer.step()\n",
        "\n",
        "    loss_train += loss.item()\n",
        "  # 平均損失を計算\n",
        "  loss_train = loss_train / i\n",
        "  # 検証データの損失を計算\n",
        "  model.eval()\n",
        "  with torch.no_grad():\n",
        "    inputs, labels = next(iter(dataloader_valid))\n",
        "    outputs = model(inputs)\n",
        "    loss_valid = criterion(outputs, labels)\n",
        "  print(f'epoch: {epoch + 1}, loss_train: {loss_train:.4f}, loss_valid: {loss_valid:.4f}')"
      ],
      "metadata": {
        "colab": {
          "base_uri": "https://localhost:8080/"
        },
        "id": "JI2cKSTwNFWO",
        "outputId": "182e411d-4583-4082-c1e5-957cfe58c08a"
      },
      "execution_count": 14,
      "outputs": [
        {
          "output_type": "stream",
          "name": "stderr",
          "text": [
            "  1%|          | 1/100 [00:05<09:04,  5.50s/it]"
          ]
        },
        {
          "output_type": "stream",
          "name": "stdout",
          "text": [
            "epoch: 1, loss_train: 0.4619, loss_valid: 0.3504\n"
          ]
        },
        {
          "output_type": "stream",
          "name": "stderr",
          "text": [
            "\r  2%|▏         | 2/100 [00:09<07:54,  4.84s/it]"
          ]
        },
        {
          "output_type": "stream",
          "name": "stdout",
          "text": [
            "epoch: 2, loss_train: 0.3134, loss_valid: 0.3174\n"
          ]
        },
        {
          "output_type": "stream",
          "name": "stderr",
          "text": [
            "\r  3%|▎         | 3/100 [00:13<07:11,  4.45s/it]"
          ]
        },
        {
          "output_type": "stream",
          "name": "stdout",
          "text": [
            "epoch: 3, loss_train: 0.2842, loss_valid: 0.2989\n"
          ]
        },
        {
          "output_type": "stream",
          "name": "stderr",
          "text": [
            "\r  4%|▍         | 4/100 [00:18<07:07,  4.45s/it]"
          ]
        },
        {
          "output_type": "stream",
          "name": "stdout",
          "text": [
            "epoch: 4, loss_train: 0.2694, loss_valid: 0.2915\n"
          ]
        },
        {
          "output_type": "stream",
          "name": "stderr",
          "text": [
            "\r  5%|▌         | 5/100 [00:22<07:09,  4.52s/it]"
          ]
        },
        {
          "output_type": "stream",
          "name": "stdout",
          "text": [
            "epoch: 5, loss_train: 0.2585, loss_valid: 0.2833\n"
          ]
        },
        {
          "output_type": "stream",
          "name": "stderr",
          "text": [
            "\r  6%|▌         | 6/100 [00:26<06:45,  4.32s/it]"
          ]
        },
        {
          "output_type": "stream",
          "name": "stdout",
          "text": [
            "epoch: 6, loss_train: 0.2509, loss_valid: 0.2809\n"
          ]
        },
        {
          "output_type": "stream",
          "name": "stderr",
          "text": [
            "\r  7%|▋         | 7/100 [00:30<06:29,  4.19s/it]"
          ]
        },
        {
          "output_type": "stream",
          "name": "stdout",
          "text": [
            "epoch: 7, loss_train: 0.2450, loss_valid: 0.2752\n"
          ]
        },
        {
          "output_type": "stream",
          "name": "stderr",
          "text": [
            "\r  8%|▊         | 8/100 [00:35<06:48,  4.44s/it]"
          ]
        },
        {
          "output_type": "stream",
          "name": "stdout",
          "text": [
            "epoch: 8, loss_train: 0.2404, loss_valid: 0.2736\n"
          ]
        },
        {
          "output_type": "stream",
          "name": "stderr",
          "text": [
            "\r  9%|▉         | 9/100 [00:39<06:30,  4.29s/it]"
          ]
        },
        {
          "output_type": "stream",
          "name": "stdout",
          "text": [
            "epoch: 9, loss_train: 0.2374, loss_valid: 0.2718\n"
          ]
        },
        {
          "output_type": "stream",
          "name": "stderr",
          "text": [
            "\r 10%|█         | 10/100 [00:43<06:16,  4.18s/it]"
          ]
        },
        {
          "output_type": "stream",
          "name": "stdout",
          "text": [
            "epoch: 10, loss_train: 0.2338, loss_valid: 0.2715\n"
          ]
        },
        {
          "output_type": "stream",
          "name": "stderr",
          "text": [
            "\r 11%|█         | 11/100 [00:48<06:29,  4.38s/it]"
          ]
        },
        {
          "output_type": "stream",
          "name": "stdout",
          "text": [
            "epoch: 11, loss_train: 0.2317, loss_valid: 0.2723\n"
          ]
        },
        {
          "output_type": "stream",
          "name": "stderr",
          "text": [
            "\r 12%|█▏        | 12/100 [00:52<06:14,  4.26s/it]"
          ]
        },
        {
          "output_type": "stream",
          "name": "stdout",
          "text": [
            "epoch: 12, loss_train: 0.2298, loss_valid: 0.2702\n"
          ]
        },
        {
          "output_type": "stream",
          "name": "stderr",
          "text": [
            "\r 13%|█▎        | 13/100 [00:56<06:02,  4.17s/it]"
          ]
        },
        {
          "output_type": "stream",
          "name": "stdout",
          "text": [
            "epoch: 13, loss_train: 0.2284, loss_valid: 0.2693\n"
          ]
        },
        {
          "output_type": "stream",
          "name": "stderr",
          "text": [
            "\r 14%|█▍        | 14/100 [01:01<06:21,  4.43s/it]"
          ]
        },
        {
          "output_type": "stream",
          "name": "stdout",
          "text": [
            "epoch: 14, loss_train: 0.2262, loss_valid: 0.2688\n"
          ]
        },
        {
          "output_type": "stream",
          "name": "stderr",
          "text": [
            "\r 15%|█▌        | 15/100 [01:05<06:12,  4.38s/it]"
          ]
        },
        {
          "output_type": "stream",
          "name": "stdout",
          "text": [
            "epoch: 15, loss_train: 0.2254, loss_valid: 0.2694\n"
          ]
        },
        {
          "output_type": "stream",
          "name": "stderr",
          "text": [
            "\r 16%|█▌        | 16/100 [01:09<05:55,  4.23s/it]"
          ]
        },
        {
          "output_type": "stream",
          "name": "stdout",
          "text": [
            "epoch: 16, loss_train: 0.2236, loss_valid: 0.2672\n"
          ]
        },
        {
          "output_type": "stream",
          "name": "stderr",
          "text": [
            "\r 17%|█▋        | 17/100 [01:13<05:52,  4.24s/it]"
          ]
        },
        {
          "output_type": "stream",
          "name": "stdout",
          "text": [
            "epoch: 17, loss_train: 0.2229, loss_valid: 0.2679\n"
          ]
        },
        {
          "output_type": "stream",
          "name": "stderr",
          "text": [
            "\r 18%|█▊        | 18/100 [01:18<06:01,  4.41s/it]"
          ]
        },
        {
          "output_type": "stream",
          "name": "stdout",
          "text": [
            "epoch: 18, loss_train: 0.2222, loss_valid: 0.2694\n"
          ]
        },
        {
          "output_type": "stream",
          "name": "stderr",
          "text": [
            "\r 19%|█▉        | 19/100 [01:22<05:45,  4.26s/it]"
          ]
        },
        {
          "output_type": "stream",
          "name": "stdout",
          "text": [
            "epoch: 19, loss_train: 0.2207, loss_valid: 0.2694\n"
          ]
        },
        {
          "output_type": "stream",
          "name": "stderr",
          "text": [
            "\r 20%|██        | 20/100 [01:26<05:33,  4.17s/it]"
          ]
        },
        {
          "output_type": "stream",
          "name": "stdout",
          "text": [
            "epoch: 20, loss_train: 0.2202, loss_valid: 0.2722\n"
          ]
        },
        {
          "output_type": "stream",
          "name": "stderr",
          "text": [
            "\r 21%|██        | 21/100 [01:31<05:47,  4.40s/it]"
          ]
        },
        {
          "output_type": "stream",
          "name": "stdout",
          "text": [
            "epoch: 21, loss_train: 0.2198, loss_valid: 0.2711\n"
          ]
        },
        {
          "output_type": "stream",
          "name": "stderr",
          "text": [
            "\r 22%|██▏       | 22/100 [01:35<05:34,  4.29s/it]"
          ]
        },
        {
          "output_type": "stream",
          "name": "stdout",
          "text": [
            "epoch: 22, loss_train: 0.2188, loss_valid: 0.2726\n"
          ]
        },
        {
          "output_type": "stream",
          "name": "stderr",
          "text": [
            "\r 23%|██▎       | 23/100 [01:39<05:20,  4.17s/it]"
          ]
        },
        {
          "output_type": "stream",
          "name": "stdout",
          "text": [
            "epoch: 23, loss_train: 0.2183, loss_valid: 0.2792\n"
          ]
        },
        {
          "output_type": "stream",
          "name": "stderr",
          "text": [
            "\r 24%|██▍       | 24/100 [01:44<05:31,  4.37s/it]"
          ]
        },
        {
          "output_type": "stream",
          "name": "stdout",
          "text": [
            "epoch: 24, loss_train: 0.2174, loss_valid: 0.2744\n"
          ]
        },
        {
          "output_type": "stream",
          "name": "stderr",
          "text": [
            "\r 25%|██▌       | 25/100 [01:50<06:01,  4.81s/it]"
          ]
        },
        {
          "output_type": "stream",
          "name": "stdout",
          "text": [
            "epoch: 25, loss_train: 0.2173, loss_valid: 0.2728\n"
          ]
        },
        {
          "output_type": "stream",
          "name": "stderr",
          "text": [
            "\r 26%|██▌       | 26/100 [01:54<05:36,  4.54s/it]"
          ]
        },
        {
          "output_type": "stream",
          "name": "stdout",
          "text": [
            "epoch: 26, loss_train: 0.2166, loss_valid: 0.2791\n"
          ]
        },
        {
          "output_type": "stream",
          "name": "stderr",
          "text": [
            "\r 27%|██▋       | 27/100 [01:59<05:41,  4.67s/it]"
          ]
        },
        {
          "output_type": "stream",
          "name": "stdout",
          "text": [
            "epoch: 27, loss_train: 0.2163, loss_valid: 0.2759\n"
          ]
        },
        {
          "output_type": "stream",
          "name": "stderr",
          "text": [
            "\r 28%|██▊       | 28/100 [02:02<05:18,  4.43s/it]"
          ]
        },
        {
          "output_type": "stream",
          "name": "stdout",
          "text": [
            "epoch: 28, loss_train: 0.2158, loss_valid: 0.2748\n"
          ]
        },
        {
          "output_type": "stream",
          "name": "stderr",
          "text": [
            "\r 29%|██▉       | 29/100 [02:06<05:02,  4.26s/it]"
          ]
        },
        {
          "output_type": "stream",
          "name": "stdout",
          "text": [
            "epoch: 29, loss_train: 0.2155, loss_valid: 0.2734\n"
          ]
        },
        {
          "output_type": "stream",
          "name": "stderr",
          "text": [
            "\r 30%|███       | 30/100 [02:11<05:09,  4.42s/it]"
          ]
        },
        {
          "output_type": "stream",
          "name": "stdout",
          "text": [
            "epoch: 30, loss_train: 0.2148, loss_valid: 0.2749\n"
          ]
        },
        {
          "output_type": "stream",
          "name": "stderr",
          "text": [
            "\r 31%|███       | 31/100 [02:15<04:59,  4.34s/it]"
          ]
        },
        {
          "output_type": "stream",
          "name": "stdout",
          "text": [
            "epoch: 31, loss_train: 0.2141, loss_valid: 0.2858\n"
          ]
        },
        {
          "output_type": "stream",
          "name": "stderr",
          "text": [
            "\r 32%|███▏      | 32/100 [02:19<04:54,  4.33s/it]"
          ]
        },
        {
          "output_type": "stream",
          "name": "stdout",
          "text": [
            "epoch: 32, loss_train: 0.2139, loss_valid: 0.2839\n"
          ]
        },
        {
          "output_type": "stream",
          "name": "stderr",
          "text": [
            "\r 33%|███▎      | 33/100 [02:26<05:26,  4.88s/it]"
          ]
        },
        {
          "output_type": "stream",
          "name": "stdout",
          "text": [
            "epoch: 33, loss_train: 0.2144, loss_valid: 0.2763\n"
          ]
        },
        {
          "output_type": "stream",
          "name": "stderr",
          "text": [
            "\r 34%|███▍      | 34/100 [02:30<05:07,  4.66s/it]"
          ]
        },
        {
          "output_type": "stream",
          "name": "stdout",
          "text": [
            "epoch: 34, loss_train: 0.2138, loss_valid: 0.2791\n"
          ]
        },
        {
          "output_type": "stream",
          "name": "stderr",
          "text": [
            "\r 35%|███▌      | 35/100 [02:34<04:50,  4.47s/it]"
          ]
        },
        {
          "output_type": "stream",
          "name": "stdout",
          "text": [
            "epoch: 35, loss_train: 0.2138, loss_valid: 0.2762\n"
          ]
        },
        {
          "output_type": "stream",
          "name": "stderr",
          "text": [
            "\r 36%|███▌      | 36/100 [02:39<04:58,  4.66s/it]"
          ]
        },
        {
          "output_type": "stream",
          "name": "stdout",
          "text": [
            "epoch: 36, loss_train: 0.2133, loss_valid: 0.2782\n"
          ]
        },
        {
          "output_type": "stream",
          "name": "stderr",
          "text": [
            "\r 37%|███▋      | 37/100 [02:43<04:50,  4.60s/it]"
          ]
        },
        {
          "output_type": "stream",
          "name": "stdout",
          "text": [
            "epoch: 37, loss_train: 0.2123, loss_valid: 0.2829\n"
          ]
        },
        {
          "output_type": "stream",
          "name": "stderr",
          "text": [
            "\r 38%|███▊      | 38/100 [02:48<04:42,  4.56s/it]"
          ]
        },
        {
          "output_type": "stream",
          "name": "stdout",
          "text": [
            "epoch: 38, loss_train: 0.2129, loss_valid: 0.2814\n"
          ]
        },
        {
          "output_type": "stream",
          "name": "stderr",
          "text": [
            "\r 39%|███▉      | 39/100 [02:52<04:35,  4.52s/it]"
          ]
        },
        {
          "output_type": "stream",
          "name": "stdout",
          "text": [
            "epoch: 39, loss_train: 0.2126, loss_valid: 0.2816\n"
          ]
        },
        {
          "output_type": "stream",
          "name": "stderr",
          "text": [
            "\r 40%|████      | 40/100 [02:57<04:33,  4.55s/it]"
          ]
        },
        {
          "output_type": "stream",
          "name": "stdout",
          "text": [
            "epoch: 40, loss_train: 0.2123, loss_valid: 0.2803\n"
          ]
        },
        {
          "output_type": "stream",
          "name": "stderr",
          "text": [
            "\r 41%|████      | 41/100 [03:01<04:18,  4.39s/it]"
          ]
        },
        {
          "output_type": "stream",
          "name": "stdout",
          "text": [
            "epoch: 41, loss_train: 0.2115, loss_valid: 0.2845\n"
          ]
        },
        {
          "output_type": "stream",
          "name": "stderr",
          "text": [
            "\r 42%|████▏     | 42/100 [03:05<04:09,  4.29s/it]"
          ]
        },
        {
          "output_type": "stream",
          "name": "stdout",
          "text": [
            "epoch: 42, loss_train: 0.2124, loss_valid: 0.2798\n"
          ]
        },
        {
          "output_type": "stream",
          "name": "stderr",
          "text": [
            "\r 43%|████▎     | 43/100 [03:10<04:13,  4.44s/it]"
          ]
        },
        {
          "output_type": "stream",
          "name": "stdout",
          "text": [
            "epoch: 43, loss_train: 0.2120, loss_valid: 0.2811\n"
          ]
        },
        {
          "output_type": "stream",
          "name": "stderr",
          "text": [
            "\r 44%|████▍     | 44/100 [03:14<03:59,  4.28s/it]"
          ]
        },
        {
          "output_type": "stream",
          "name": "stdout",
          "text": [
            "epoch: 44, loss_train: 0.2114, loss_valid: 0.2863\n"
          ]
        },
        {
          "output_type": "stream",
          "name": "stderr",
          "text": [
            "\r 45%|████▌     | 45/100 [03:18<03:50,  4.19s/it]"
          ]
        },
        {
          "output_type": "stream",
          "name": "stdout",
          "text": [
            "epoch: 45, loss_train: 0.2117, loss_valid: 0.2838\n"
          ]
        },
        {
          "output_type": "stream",
          "name": "stderr",
          "text": [
            "\r 46%|████▌     | 46/100 [03:23<04:00,  4.45s/it]"
          ]
        },
        {
          "output_type": "stream",
          "name": "stdout",
          "text": [
            "epoch: 46, loss_train: 0.2112, loss_valid: 0.2822\n"
          ]
        },
        {
          "output_type": "stream",
          "name": "stderr",
          "text": [
            "\r 47%|████▋     | 47/100 [03:27<03:46,  4.28s/it]"
          ]
        },
        {
          "output_type": "stream",
          "name": "stdout",
          "text": [
            "epoch: 47, loss_train: 0.2110, loss_valid: 0.2818\n"
          ]
        },
        {
          "output_type": "stream",
          "name": "stderr",
          "text": [
            "\r 48%|████▊     | 48/100 [03:30<03:36,  4.16s/it]"
          ]
        },
        {
          "output_type": "stream",
          "name": "stdout",
          "text": [
            "epoch: 48, loss_train: 0.2100, loss_valid: 0.2874\n"
          ]
        },
        {
          "output_type": "stream",
          "name": "stderr",
          "text": [
            "\r 49%|████▉     | 49/100 [03:35<03:40,  4.32s/it]"
          ]
        },
        {
          "output_type": "stream",
          "name": "stdout",
          "text": [
            "epoch: 49, loss_train: 0.2106, loss_valid: 0.2850\n"
          ]
        },
        {
          "output_type": "stream",
          "name": "stderr",
          "text": [
            "\r 50%|█████     | 50/100 [03:39<03:34,  4.29s/it]"
          ]
        },
        {
          "output_type": "stream",
          "name": "stdout",
          "text": [
            "epoch: 50, loss_train: 0.2110, loss_valid: 0.2869\n"
          ]
        },
        {
          "output_type": "stream",
          "name": "stderr",
          "text": [
            "\r 51%|█████     | 51/100 [03:43<03:24,  4.17s/it]"
          ]
        },
        {
          "output_type": "stream",
          "name": "stdout",
          "text": [
            "epoch: 51, loss_train: 0.2108, loss_valid: 0.2857\n"
          ]
        },
        {
          "output_type": "stream",
          "name": "stderr",
          "text": [
            "\r 52%|█████▏    | 52/100 [03:48<03:23,  4.24s/it]"
          ]
        },
        {
          "output_type": "stream",
          "name": "stdout",
          "text": [
            "epoch: 52, loss_train: 0.2109, loss_valid: 0.2844\n"
          ]
        },
        {
          "output_type": "stream",
          "name": "stderr",
          "text": [
            "\r 53%|█████▎    | 53/100 [03:53<03:28,  4.43s/it]"
          ]
        },
        {
          "output_type": "stream",
          "name": "stdout",
          "text": [
            "epoch: 53, loss_train: 0.2098, loss_valid: 0.2850\n"
          ]
        },
        {
          "output_type": "stream",
          "name": "stderr",
          "text": [
            "\r 54%|█████▍    | 54/100 [03:56<03:17,  4.28s/it]"
          ]
        },
        {
          "output_type": "stream",
          "name": "stdout",
          "text": [
            "epoch: 54, loss_train: 0.2104, loss_valid: 0.2885\n"
          ]
        },
        {
          "output_type": "stream",
          "name": "stderr",
          "text": [
            "\r 55%|█████▌    | 55/100 [04:01<03:10,  4.23s/it]"
          ]
        },
        {
          "output_type": "stream",
          "name": "stdout",
          "text": [
            "epoch: 55, loss_train: 0.2104, loss_valid: 0.2846\n"
          ]
        },
        {
          "output_type": "stream",
          "name": "stderr",
          "text": [
            "\r 56%|█████▌    | 56/100 [04:05<03:13,  4.41s/it]"
          ]
        },
        {
          "output_type": "stream",
          "name": "stdout",
          "text": [
            "epoch: 56, loss_train: 0.2100, loss_valid: 0.2874\n"
          ]
        },
        {
          "output_type": "stream",
          "name": "stderr",
          "text": [
            "\r 57%|█████▋    | 57/100 [04:09<03:03,  4.26s/it]"
          ]
        },
        {
          "output_type": "stream",
          "name": "stdout",
          "text": [
            "epoch: 57, loss_train: 0.2095, loss_valid: 0.2880\n"
          ]
        },
        {
          "output_type": "stream",
          "name": "stderr",
          "text": [
            "\r 58%|█████▊    | 58/100 [04:13<02:54,  4.17s/it]"
          ]
        },
        {
          "output_type": "stream",
          "name": "stdout",
          "text": [
            "epoch: 58, loss_train: 0.2096, loss_valid: 0.2879\n"
          ]
        },
        {
          "output_type": "stream",
          "name": "stderr",
          "text": [
            "\r 59%|█████▉    | 59/100 [04:19<03:04,  4.49s/it]"
          ]
        },
        {
          "output_type": "stream",
          "name": "stdout",
          "text": [
            "epoch: 59, loss_train: 0.2097, loss_valid: 0.2894\n"
          ]
        },
        {
          "output_type": "stream",
          "name": "stderr",
          "text": [
            "\r 60%|██████    | 60/100 [04:23<02:53,  4.35s/it]"
          ]
        },
        {
          "output_type": "stream",
          "name": "stdout",
          "text": [
            "epoch: 60, loss_train: 0.2099, loss_valid: 0.2891\n"
          ]
        },
        {
          "output_type": "stream",
          "name": "stderr",
          "text": [
            "\r 61%|██████    | 61/100 [04:26<02:44,  4.22s/it]"
          ]
        },
        {
          "output_type": "stream",
          "name": "stdout",
          "text": [
            "epoch: 61, loss_train: 0.2093, loss_valid: 0.2874\n"
          ]
        },
        {
          "output_type": "stream",
          "name": "stderr",
          "text": [
            "\r 62%|██████▏   | 62/100 [04:31<02:49,  4.46s/it]"
          ]
        },
        {
          "output_type": "stream",
          "name": "stdout",
          "text": [
            "epoch: 62, loss_train: 0.2092, loss_valid: 0.2880\n"
          ]
        },
        {
          "output_type": "stream",
          "name": "stderr",
          "text": [
            "\r 63%|██████▎   | 63/100 [04:36<02:41,  4.37s/it]"
          ]
        },
        {
          "output_type": "stream",
          "name": "stdout",
          "text": [
            "epoch: 63, loss_train: 0.2097, loss_valid: 0.2904\n"
          ]
        },
        {
          "output_type": "stream",
          "name": "stderr",
          "text": [
            "\r 64%|██████▍   | 64/100 [04:40<02:32,  4.24s/it]"
          ]
        },
        {
          "output_type": "stream",
          "name": "stdout",
          "text": [
            "epoch: 64, loss_train: 0.2089, loss_valid: 0.2966\n"
          ]
        },
        {
          "output_type": "stream",
          "name": "stderr",
          "text": [
            "\r 65%|██████▌   | 65/100 [04:44<02:32,  4.34s/it]"
          ]
        },
        {
          "output_type": "stream",
          "name": "stdout",
          "text": [
            "epoch: 65, loss_train: 0.2095, loss_valid: 0.2908\n"
          ]
        },
        {
          "output_type": "stream",
          "name": "stderr",
          "text": [
            "\r 66%|██████▌   | 66/100 [04:49<02:29,  4.39s/it]"
          ]
        },
        {
          "output_type": "stream",
          "name": "stdout",
          "text": [
            "epoch: 66, loss_train: 0.2093, loss_valid: 0.2909\n"
          ]
        },
        {
          "output_type": "stream",
          "name": "stderr",
          "text": [
            "\r 67%|██████▋   | 67/100 [04:53<02:19,  4.23s/it]"
          ]
        },
        {
          "output_type": "stream",
          "name": "stdout",
          "text": [
            "epoch: 67, loss_train: 0.2091, loss_valid: 0.2906\n"
          ]
        },
        {
          "output_type": "stream",
          "name": "stderr",
          "text": [
            "\r 68%|██████▊   | 68/100 [04:57<02:16,  4.27s/it]"
          ]
        },
        {
          "output_type": "stream",
          "name": "stdout",
          "text": [
            "epoch: 68, loss_train: 0.2093, loss_valid: 0.2933\n"
          ]
        },
        {
          "output_type": "stream",
          "name": "stderr",
          "text": [
            "\r 69%|██████▉   | 69/100 [05:02<02:17,  4.42s/it]"
          ]
        },
        {
          "output_type": "stream",
          "name": "stdout",
          "text": [
            "epoch: 69, loss_train: 0.2083, loss_valid: 0.2911\n"
          ]
        },
        {
          "output_type": "stream",
          "name": "stderr",
          "text": [
            "\r 70%|███████   | 70/100 [05:06<02:08,  4.30s/it]"
          ]
        },
        {
          "output_type": "stream",
          "name": "stdout",
          "text": [
            "epoch: 70, loss_train: 0.2095, loss_valid: 0.2915\n"
          ]
        },
        {
          "output_type": "stream",
          "name": "stderr",
          "text": [
            "\r 71%|███████   | 71/100 [05:10<02:02,  4.21s/it]"
          ]
        },
        {
          "output_type": "stream",
          "name": "stdout",
          "text": [
            "epoch: 71, loss_train: 0.2094, loss_valid: 0.2891\n"
          ]
        },
        {
          "output_type": "stream",
          "name": "stderr",
          "text": [
            "\r 72%|███████▏  | 72/100 [05:15<02:04,  4.45s/it]"
          ]
        },
        {
          "output_type": "stream",
          "name": "stdout",
          "text": [
            "epoch: 72, loss_train: 0.2086, loss_valid: 0.2928\n"
          ]
        },
        {
          "output_type": "stream",
          "name": "stderr",
          "text": [
            "\r 73%|███████▎  | 73/100 [05:20<02:03,  4.59s/it]"
          ]
        },
        {
          "output_type": "stream",
          "name": "stdout",
          "text": [
            "epoch: 73, loss_train: 0.2087, loss_valid: 0.2929\n"
          ]
        },
        {
          "output_type": "stream",
          "name": "stderr",
          "text": [
            "\r 74%|███████▍  | 74/100 [05:24<02:01,  4.69s/it]"
          ]
        },
        {
          "output_type": "stream",
          "name": "stdout",
          "text": [
            "epoch: 74, loss_train: 0.2084, loss_valid: 0.2899\n"
          ]
        },
        {
          "output_type": "stream",
          "name": "stderr",
          "text": [
            "\r 75%|███████▌  | 75/100 [05:29<01:57,  4.71s/it]"
          ]
        },
        {
          "output_type": "stream",
          "name": "stdout",
          "text": [
            "epoch: 75, loss_train: 0.2079, loss_valid: 0.2930\n"
          ]
        },
        {
          "output_type": "stream",
          "name": "stderr",
          "text": [
            "\r 76%|███████▌  | 76/100 [05:33<01:47,  4.49s/it]"
          ]
        },
        {
          "output_type": "stream",
          "name": "stdout",
          "text": [
            "epoch: 76, loss_train: 0.2090, loss_valid: 0.2933\n"
          ]
        },
        {
          "output_type": "stream",
          "name": "stderr",
          "text": [
            "\r 77%|███████▋  | 77/100 [05:39<01:50,  4.79s/it]"
          ]
        },
        {
          "output_type": "stream",
          "name": "stdout",
          "text": [
            "epoch: 77, loss_train: 0.2085, loss_valid: 0.2944\n"
          ]
        },
        {
          "output_type": "stream",
          "name": "stderr",
          "text": [
            "\r 78%|███████▊  | 78/100 [05:55<02:59,  8.16s/it]"
          ]
        },
        {
          "output_type": "stream",
          "name": "stdout",
          "text": [
            "epoch: 78, loss_train: 0.2084, loss_valid: 0.2951\n"
          ]
        },
        {
          "output_type": "stream",
          "name": "stderr",
          "text": [
            "\r 79%|███████▉  | 79/100 [06:00<02:31,  7.23s/it]"
          ]
        },
        {
          "output_type": "stream",
          "name": "stdout",
          "text": [
            "epoch: 79, loss_train: 0.2084, loss_valid: 0.2943\n"
          ]
        },
        {
          "output_type": "stream",
          "name": "stderr",
          "text": [
            "\r 80%|████████  | 80/100 [06:05<02:11,  6.56s/it]"
          ]
        },
        {
          "output_type": "stream",
          "name": "stdout",
          "text": [
            "epoch: 80, loss_train: 0.2084, loss_valid: 0.3015\n"
          ]
        },
        {
          "output_type": "stream",
          "name": "stderr",
          "text": [
            "\r 81%|████████  | 81/100 [06:09<01:53,  5.97s/it]"
          ]
        },
        {
          "output_type": "stream",
          "name": "stdout",
          "text": [
            "epoch: 81, loss_train: 0.2083, loss_valid: 0.2917\n"
          ]
        },
        {
          "output_type": "stream",
          "name": "stderr",
          "text": [
            "\r 82%|████████▏ | 82/100 [06:14<01:39,  5.50s/it]"
          ]
        },
        {
          "output_type": "stream",
          "name": "stdout",
          "text": [
            "epoch: 82, loss_train: 0.2088, loss_valid: 0.2955\n"
          ]
        },
        {
          "output_type": "stream",
          "name": "stderr",
          "text": [
            "\r 83%|████████▎ | 83/100 [06:19<01:33,  5.50s/it]"
          ]
        },
        {
          "output_type": "stream",
          "name": "stdout",
          "text": [
            "epoch: 83, loss_train: 0.2080, loss_valid: 0.2948\n"
          ]
        },
        {
          "output_type": "stream",
          "name": "stderr",
          "text": [
            "\r 84%|████████▍ | 84/100 [06:24<01:25,  5.35s/it]"
          ]
        },
        {
          "output_type": "stream",
          "name": "stdout",
          "text": [
            "epoch: 84, loss_train: 0.2082, loss_valid: 0.2962\n"
          ]
        },
        {
          "output_type": "stream",
          "name": "stderr",
          "text": [
            "\r 85%|████████▌ | 85/100 [06:29<01:17,  5.15s/it]"
          ]
        },
        {
          "output_type": "stream",
          "name": "stdout",
          "text": [
            "epoch: 85, loss_train: 0.2079, loss_valid: 0.2948\n"
          ]
        },
        {
          "output_type": "stream",
          "name": "stderr",
          "text": [
            "\r 86%|████████▌ | 86/100 [06:33<01:09,  4.96s/it]"
          ]
        },
        {
          "output_type": "stream",
          "name": "stdout",
          "text": [
            "epoch: 86, loss_train: 0.2081, loss_valid: 0.2953\n"
          ]
        },
        {
          "output_type": "stream",
          "name": "stderr",
          "text": [
            "\r 87%|████████▋ | 87/100 [06:37<01:00,  4.67s/it]"
          ]
        },
        {
          "output_type": "stream",
          "name": "stdout",
          "text": [
            "epoch: 87, loss_train: 0.2081, loss_valid: 0.2968\n"
          ]
        },
        {
          "output_type": "stream",
          "name": "stderr",
          "text": [
            "\r 88%|████████▊ | 88/100 [06:45<01:07,  5.60s/it]"
          ]
        },
        {
          "output_type": "stream",
          "name": "stdout",
          "text": [
            "epoch: 88, loss_train: 0.2081, loss_valid: 0.2987\n"
          ]
        },
        {
          "output_type": "stream",
          "name": "stderr",
          "text": [
            "\r 89%|████████▉ | 89/100 [06:51<01:02,  5.65s/it]"
          ]
        },
        {
          "output_type": "stream",
          "name": "stdout",
          "text": [
            "epoch: 89, loss_train: 0.2084, loss_valid: 0.2948\n"
          ]
        },
        {
          "output_type": "stream",
          "name": "stderr",
          "text": [
            "\r 90%|█████████ | 90/100 [06:59<01:04,  6.47s/it]"
          ]
        },
        {
          "output_type": "stream",
          "name": "stdout",
          "text": [
            "epoch: 90, loss_train: 0.2081, loss_valid: 0.2998\n"
          ]
        },
        {
          "output_type": "stream",
          "name": "stderr",
          "text": [
            "\r 91%|█████████ | 91/100 [07:06<00:59,  6.62s/it]"
          ]
        },
        {
          "output_type": "stream",
          "name": "stdout",
          "text": [
            "epoch: 91, loss_train: 0.2080, loss_valid: 0.2973\n"
          ]
        },
        {
          "output_type": "stream",
          "name": "stderr",
          "text": [
            "\r 92%|█████████▏| 92/100 [07:17<01:01,  7.69s/it]"
          ]
        },
        {
          "output_type": "stream",
          "name": "stdout",
          "text": [
            "epoch: 92, loss_train: 0.2079, loss_valid: 0.2954\n"
          ]
        },
        {
          "output_type": "stream",
          "name": "stderr",
          "text": [
            "\r 93%|█████████▎| 93/100 [07:21<00:47,  6.73s/it]"
          ]
        },
        {
          "output_type": "stream",
          "name": "stdout",
          "text": [
            "epoch: 93, loss_train: 0.2078, loss_valid: 0.2953\n"
          ]
        },
        {
          "output_type": "stream",
          "name": "stderr",
          "text": [
            "\r 94%|█████████▍| 94/100 [07:29<00:41,  6.99s/it]"
          ]
        },
        {
          "output_type": "stream",
          "name": "stdout",
          "text": [
            "epoch: 94, loss_train: 0.2080, loss_valid: 0.2962\n"
          ]
        },
        {
          "output_type": "stream",
          "name": "stderr",
          "text": [
            "\r 95%|█████████▌| 95/100 [07:33<00:30,  6.10s/it]"
          ]
        },
        {
          "output_type": "stream",
          "name": "stdout",
          "text": [
            "epoch: 95, loss_train: 0.2073, loss_valid: 0.2977\n"
          ]
        },
        {
          "output_type": "stream",
          "name": "stderr",
          "text": [
            "\r 96%|█████████▌| 96/100 [07:38<00:22,  5.75s/it]"
          ]
        },
        {
          "output_type": "stream",
          "name": "stdout",
          "text": [
            "epoch: 96, loss_train: 0.2083, loss_valid: 0.2977\n"
          ]
        },
        {
          "output_type": "stream",
          "name": "stderr",
          "text": [
            "\r 97%|█████████▋| 97/100 [07:44<00:18,  6.02s/it]"
          ]
        },
        {
          "output_type": "stream",
          "name": "stdout",
          "text": [
            "epoch: 97, loss_train: 0.2078, loss_valid: 0.2970\n"
          ]
        },
        {
          "output_type": "stream",
          "name": "stderr",
          "text": [
            "\r 98%|█████████▊| 98/100 [07:51<00:12,  6.20s/it]"
          ]
        },
        {
          "output_type": "stream",
          "name": "stdout",
          "text": [
            "epoch: 98, loss_train: 0.2082, loss_valid: 0.2987\n"
          ]
        },
        {
          "output_type": "stream",
          "name": "stderr",
          "text": [
            "\r 99%|█████████▉| 99/100 [07:58<00:06,  6.57s/it]"
          ]
        },
        {
          "output_type": "stream",
          "name": "stdout",
          "text": [
            "epoch: 99, loss_train: 0.2074, loss_valid: 0.2988\n"
          ]
        },
        {
          "output_type": "stream",
          "name": "stderr",
          "text": [
            "100%|██████████| 100/100 [08:03<00:00,  4.84s/it]"
          ]
        },
        {
          "output_type": "stream",
          "name": "stdout",
          "text": [
            "epoch: 100, loss_train: 0.2071, loss_valid: 0.2987\n"
          ]
        },
        {
          "output_type": "stream",
          "name": "stderr",
          "text": [
            "\n"
          ]
        }
      ]
    },
    {
      "cell_type": "code",
      "source": [
        "# knock74\n",
        "\n",
        "def calculate_accuracy(model, loader):\n",
        "  model.eval()\n",
        "  total = 0\n",
        "  correct = 0\n",
        "  with torch.no_grad():\n",
        "    for inputs, labels in loader:\n",
        "      outputs = model(inputs)\n",
        "      pred = torch.argmax(outputs, dim=-1)\n",
        "      total += len(inputs)\n",
        "      correct += (pred == labels).sum().item()\n",
        "  return correct / total\n",
        "\n",
        "acc_train = calculate_accuracy(model, dataloader_train)\n",
        "acc_test = calculate_accuracy(model, dataloader_test)\n",
        "print(f'学習データ: {acc_train}')\n",
        "print(f'評価データ: {acc_test}')"
      ],
      "metadata": {
        "colab": {
          "base_uri": "https://localhost:8080/"
        },
        "id": "-vs3PHbrYGpl",
        "outputId": "e0bd0b70-9917-4af6-e376-bf12be20c9bd"
      },
      "execution_count": 15,
      "outputs": [
        {
          "output_type": "stream",
          "name": "stdout",
          "text": [
            "学習データ: 0.930003748125937\n",
            "評価データ: 0.8905547226386806\n"
          ]
        }
      ]
    },
    {
      "cell_type": "code",
      "source": [
        "# knock75\n",
        "from matplotlib import pyplot as plt\n",
        "\n",
        "def calculate_accuracy(model, criterion, loader):\n",
        "  model.eval()\n",
        "  loss = 0.0\n",
        "  total = 0\n",
        "  correct = 0\n",
        "  with torch.no_grad(): # 勾配を変更しない（リークを防ぐ）\n",
        "    for inputs, labels in loader:\n",
        "      outputs = model(inputs)\n",
        "      loss += criterion(outputs, labels).item()\n",
        "      pred = torch.argmax(outputs, dim=-1)\n",
        "      total += len(inputs)\n",
        "      correct += (pred == labels).sum().item()\n",
        "  return loss / len(loader), correct / total\n",
        "\n",
        "# dataset型\n",
        "class NewsDataset(Dataset):\n",
        "  def __init__(self, X, y):\n",
        "    self.X = X\n",
        "    self.y = y\n",
        "\n",
        "  def __len__(self):\n",
        "    return len(self.y)\n",
        "\n",
        "  def __getitem__(self, idx):\n",
        "    return [self.X[idx], self.y[idx]]\n",
        "\n",
        "# Dataset（ミニバッチ）を作成\n",
        "dataset_train = NewsDataset(X_train, y_train)\n",
        "dataset_valid = NewsDataset(X_valid, y_valid)\n",
        "dataset_test = NewsDataset(X_test, y_test)\n",
        "\n",
        "# Dataloaderを作成\n",
        "dataloader_train = DataLoader(dataset_train, batch_size=1, shuffle=True)\n",
        "dataloader_valid = DataLoader(dataset_valid, batch_size=len(dataset_valid), shuffle=False)\n",
        "dataloader_test = DataLoader(dataset_test, batch_size=len(dataset_test), shuffle=False)\n",
        "\n",
        "# モデルを定義\n",
        "model = SLPNet(300, 4)\n",
        "# 損失関数を定義\n",
        "criterion = nn.CrossEntropyLoss()\n",
        "optimizer = torch.optim.SGD(model.parameters(), lr=0.1)\n",
        "# 学習\n",
        "num_epochs = 20\n",
        "log_train = []\n",
        "log_valid = []\n",
        "for epoch in tqdm(range(num_epochs)):\n",
        "  model.train() # 訓練モード\n",
        "  loss_train = 0.0\n",
        "  for inputs, labels in dataloader_train:\n",
        "    optimizer.zero_grad() # 勾配をゼロに初期化\n",
        "    # 順伝播\n",
        "    outputs = model(inputs)\n",
        "    # 誤差逆伝播\n",
        "    loss = criterion(outputs, labels)\n",
        "    loss.backward()\n",
        "    # 重み更新\n",
        "    optimizer.step()\n",
        "\n",
        "  # 検証データの損失を計算・正解率も計算\n",
        "  loss_train, acc_train = calculate_accuracy(model, criterion, dataloader_train)\n",
        "  loss_valid, acc_valid = calculate_accuracy(model, criterion, dataloader_valid)\n",
        "  log_train.append([loss_train, acc_train])\n",
        "  log_valid.append([loss_valid, acc_valid])\n",
        "  print(f'epoch: {epoch + 1}, loss_train: {loss_train:.4f}, loss_valid: {loss_valid:.4f}, accuracy_valid: {acc_valid}')"
      ],
      "metadata": {
        "colab": {
          "base_uri": "https://localhost:8080/"
        },
        "id": "XDEEA9PCnnIm",
        "outputId": "ff58449f-ad7c-4810-e84c-f235c949e72b"
      },
      "execution_count": 20,
      "outputs": [
        {
          "output_type": "stream",
          "name": "stderr",
          "text": [
            "  5%|▌         | 1/20 [00:06<02:12,  6.96s/it]"
          ]
        },
        {
          "output_type": "stream",
          "name": "stdout",
          "text": [
            "epoch: 1, loss_train: 0.3214, loss_valid: 0.3332, accuracy_valid: 0.883808095952024\n"
          ]
        },
        {
          "output_type": "stream",
          "name": "stderr",
          "text": [
            "\r 10%|█         | 2/20 [00:12<01:53,  6.32s/it]"
          ]
        },
        {
          "output_type": "stream",
          "name": "stdout",
          "text": [
            "epoch: 2, loss_train: 0.2810, loss_valid: 0.3015, accuracy_valid: 0.8898050974512743\n"
          ]
        },
        {
          "output_type": "stream",
          "name": "stderr",
          "text": [
            "\r 15%|█▌        | 3/20 [00:20<02:00,  7.08s/it]"
          ]
        },
        {
          "output_type": "stream",
          "name": "stdout",
          "text": [
            "epoch: 3, loss_train: 0.2663, loss_valid: 0.2930, accuracy_valid: 0.8883058470764618\n"
          ]
        },
        {
          "output_type": "stream",
          "name": "stderr",
          "text": [
            "\r 20%|██        | 4/20 [00:26<01:46,  6.64s/it]"
          ]
        },
        {
          "output_type": "stream",
          "name": "stdout",
          "text": [
            "epoch: 4, loss_train: 0.2545, loss_valid: 0.2837, accuracy_valid: 0.896551724137931\n"
          ]
        },
        {
          "output_type": "stream",
          "name": "stderr",
          "text": [
            "\r 25%|██▌       | 5/20 [00:34<01:46,  7.07s/it]"
          ]
        },
        {
          "output_type": "stream",
          "name": "stdout",
          "text": [
            "epoch: 5, loss_train: 0.2450, loss_valid: 0.2788, accuracy_valid: 0.8980509745127436\n"
          ]
        },
        {
          "output_type": "stream",
          "name": "stderr",
          "text": [
            "\r 30%|███       | 6/20 [00:40<01:33,  6.65s/it]"
          ]
        },
        {
          "output_type": "stream",
          "name": "stdout",
          "text": [
            "epoch: 6, loss_train: 0.2378, loss_valid: 0.2715, accuracy_valid: 0.9025487256371814\n"
          ]
        },
        {
          "output_type": "stream",
          "name": "stderr",
          "text": [
            "\r 35%|███▌      | 7/20 [00:47<01:27,  6.73s/it]"
          ]
        },
        {
          "output_type": "stream",
          "name": "stdout",
          "text": [
            "epoch: 7, loss_train: 0.2339, loss_valid: 0.2719, accuracy_valid: 0.9025487256371814\n"
          ]
        },
        {
          "output_type": "stream",
          "name": "stderr",
          "text": [
            "\r 40%|████      | 8/20 [00:55<01:27,  7.29s/it]"
          ]
        },
        {
          "output_type": "stream",
          "name": "stdout",
          "text": [
            "epoch: 8, loss_train: 0.2294, loss_valid: 0.2704, accuracy_valid: 0.8973013493253373\n"
          ]
        },
        {
          "output_type": "stream",
          "name": "stderr",
          "text": [
            "\r 45%|████▌     | 9/20 [01:09<01:40,  9.13s/it]"
          ]
        },
        {
          "output_type": "stream",
          "name": "stdout",
          "text": [
            "epoch: 9, loss_train: 0.2290, loss_valid: 0.2729, accuracy_valid: 0.8973013493253373\n"
          ]
        },
        {
          "output_type": "stream",
          "name": "stderr",
          "text": [
            "\r 50%|█████     | 10/20 [01:22<01:45, 10.57s/it]"
          ]
        },
        {
          "output_type": "stream",
          "name": "stdout",
          "text": [
            "epoch: 10, loss_train: 0.2272, loss_valid: 0.2703, accuracy_valid: 0.9002998500749625\n"
          ]
        },
        {
          "output_type": "stream",
          "name": "stderr",
          "text": [
            "\r 55%|█████▌    | 11/20 [01:34<01:37, 10.83s/it]"
          ]
        },
        {
          "output_type": "stream",
          "name": "stdout",
          "text": [
            "epoch: 11, loss_train: 0.2264, loss_valid: 0.2702, accuracy_valid: 0.8973013493253373\n"
          ]
        },
        {
          "output_type": "stream",
          "name": "stderr",
          "text": [
            "\r 60%|██████    | 12/20 [01:42<01:21, 10.15s/it]"
          ]
        },
        {
          "output_type": "stream",
          "name": "stdout",
          "text": [
            "epoch: 12, loss_train: 0.2209, loss_valid: 0.2683, accuracy_valid: 0.9010494752623688\n"
          ]
        },
        {
          "output_type": "stream",
          "name": "stderr",
          "text": [
            "\r 65%|██████▌   | 13/20 [01:51<01:08,  9.77s/it]"
          ]
        },
        {
          "output_type": "stream",
          "name": "stdout",
          "text": [
            "epoch: 13, loss_train: 0.2214, loss_valid: 0.2707, accuracy_valid: 0.8980509745127436\n"
          ]
        },
        {
          "output_type": "stream",
          "name": "stderr",
          "text": [
            "\r 70%|███████   | 14/20 [01:58<00:52,  8.74s/it]"
          ]
        },
        {
          "output_type": "stream",
          "name": "stdout",
          "text": [
            "epoch: 14, loss_train: 0.2198, loss_valid: 0.2698, accuracy_valid: 0.896551724137931\n"
          ]
        },
        {
          "output_type": "stream",
          "name": "stderr",
          "text": [
            "\r 75%|███████▌  | 15/20 [02:05<00:41,  8.35s/it]"
          ]
        },
        {
          "output_type": "stream",
          "name": "stdout",
          "text": [
            "epoch: 15, loss_train: 0.2177, loss_valid: 0.2693, accuracy_valid: 0.9017991004497751\n"
          ]
        },
        {
          "output_type": "stream",
          "name": "stderr",
          "text": [
            "\r 80%|████████  | 16/20 [02:12<00:31,  7.85s/it]"
          ]
        },
        {
          "output_type": "stream",
          "name": "stdout",
          "text": [
            "epoch: 16, loss_train: 0.2184, loss_valid: 0.2719, accuracy_valid: 0.896551724137931\n"
          ]
        },
        {
          "output_type": "stream",
          "name": "stderr",
          "text": [
            "\r 85%|████████▌ | 17/20 [02:18<00:22,  7.51s/it]"
          ]
        },
        {
          "output_type": "stream",
          "name": "stdout",
          "text": [
            "epoch: 17, loss_train: 0.2149, loss_valid: 0.2688, accuracy_valid: 0.9025487256371814\n"
          ]
        },
        {
          "output_type": "stream",
          "name": "stderr",
          "text": [
            "\r 90%|█████████ | 18/20 [02:25<00:14,  7.15s/it]"
          ]
        },
        {
          "output_type": "stream",
          "name": "stdout",
          "text": [
            "epoch: 18, loss_train: 0.2152, loss_valid: 0.2698, accuracy_valid: 0.904047976011994\n"
          ]
        },
        {
          "output_type": "stream",
          "name": "stderr",
          "text": [
            "\r 95%|█████████▌| 19/20 [02:36<00:08,  8.26s/it]"
          ]
        },
        {
          "output_type": "stream",
          "name": "stdout",
          "text": [
            "epoch: 19, loss_train: 0.2152, loss_valid: 0.2743, accuracy_valid: 0.8995502248875562\n"
          ]
        },
        {
          "output_type": "stream",
          "name": "stderr",
          "text": [
            "100%|██████████| 20/20 [02:45<00:00,  8.28s/it]"
          ]
        },
        {
          "output_type": "stream",
          "name": "stdout",
          "text": [
            "epoch: 20, loss_train: 0.2149, loss_valid: 0.2734, accuracy_valid: 0.8973013493253373\n"
          ]
        },
        {
          "output_type": "stream",
          "name": "stderr",
          "text": [
            "\n"
          ]
        }
      ]
    },
    {
      "cell_type": "code",
      "source": [
        "import numpy as np\n",
        "fig, ax = plt.subplots(1,2,figsize=(15,5))\n",
        "ax[0].plot(np.array(log_train).T[0], label='train')\n",
        "ax[0].plot(np.array(log_valid).T[0], label='valid')\n",
        "ax[0].set_xlabel('epoch')\n",
        "ax[0].set_ylabel('loss')\n",
        "ax[0].legend()\n",
        "ax[1].plot(np.array(log_train).T[0], label='train')\n",
        "ax[1].plot(np.array(log_valid).T[1], label='valid')\n",
        "ax[1].set_xlabel('epoch')\n",
        "ax[1].set_ylabel('accuracy')\n",
        "ax[1].legend()\n",
        "plt.show()"
      ],
      "metadata": {
        "colab": {
          "base_uri": "https://localhost:8080/",
          "height": 465
        },
        "id": "v4f4VYmCsAgd",
        "outputId": "b7655e51-0d20-4582-8c55-57e5f6289ec5"
      },
      "execution_count": 21,
      "outputs": [
        {
          "output_type": "display_data",
          "data": {
            "text/plain": [
              "<Figure size 1500x500 with 2 Axes>"
            ],
            "image/png": "[encoded data removed]"
          },
          "metadata": {}
        }
      ]
    },
    {
      "cell_type": "code",
      "source": [
        "# knock76\n",
        "\n",
        "def calculate_accuracy(model, criterion, loader):\n",
        "  model.eval()\n",
        "  loss = 0.0\n",
        "  total = 0\n",
        "  correct = 0\n",
        "  with torch.no_grad(): # 勾配を変更しない（リークを防ぐ）\n",
        "    for inputs, labels in loader:\n",
        "      outputs = model(inputs)\n",
        "      loss += criterion(outputs, labels).item()\n",
        "      pred = torch.argmax(outputs, dim=-1)\n",
        "      total += len(inputs)\n",
        "      correct += (pred == labels).sum().item()\n",
        "  return loss / len(loader), correct / total\n",
        "\n",
        "# dataset型\n",
        "class NewsDataset(Dataset):\n",
        "  def __init__(self, X, y):\n",
        "    self.X = X\n",
        "    self.y = y\n",
        "\n",
        "  def __len__(self):\n",
        "    return len(self.y)\n",
        "\n",
        "  def __getitem__(self, idx):\n",
        "    return [self.X[idx], self.y[idx]]\n",
        "\n",
        "# Dataset（ミニバッチ）を作成\n",
        "dataset_train = NewsDataset(X_train, y_train)\n",
        "dataset_valid = NewsDataset(X_valid, y_valid)\n",
        "dataset_test = NewsDataset(X_test, y_test)\n",
        "\n",
        "# Dataloaderを作成\n",
        "dataloader_train = DataLoader(dataset_train, batch_size=1, shuffle=True)\n",
        "dataloader_valid = DataLoader(dataset_valid, batch_size=len(dataset_valid), shuffle=False)\n",
        "dataloader_test = DataLoader(dataset_test, batch_size=len(dataset_test), shuffle=False)\n",
        "\n",
        "# モデルを定義\n",
        "model = SLPNet(300, 4)\n",
        "# 損失関数を定義\n",
        "criterion = nn.CrossEntropyLoss()\n",
        "optimizer = torch.optim.SGD(model.parameters(), lr=0.1)\n",
        "# 学習\n",
        "num_epochs = 20\n",
        "log_train = []\n",
        "log_valid = []\n",
        "for epoch in tqdm(range(num_epochs)):\n",
        "  model.train() # 訓練モード\n",
        "  loss_train = 0.0\n",
        "  for inputs, labels in dataloader_train:\n",
        "    optimizer.zero_grad() # 勾配をゼロに初期化\n",
        "    # 順伝播\n",
        "    outputs = model(inputs)\n",
        "    # 誤差逆伝播\n",
        "    loss = criterion(outputs, labels)\n",
        "    loss.backward()\n",
        "    # 重み更新\n",
        "    optimizer.step()\n",
        "\n",
        "  # 検証データの損失を計算・正解率も計算\n",
        "  loss_train, acc_train = calculate_accuracy(model, criterion, dataloader_train)\n",
        "  loss_valid, acc_valid = calculate_accuracy(model, criterion, dataloader_valid)\n",
        "  log_train.append([loss_train, acc_train])\n",
        "  log_valid.append([loss_valid, acc_valid])\n",
        "\n",
        "  # チェックポイントを保存\n",
        "  torch.save({'epoch' : epoch, 'modelstate_dict' : model.state_dict(), 'optimizerstate_dict' : optimizer.state_dict()}, f'checkpoint{epoch+1}.pt')\n",
        "  print(f'epoch: {epoch + 1}, loss_train: {loss_train}, accuracy_train: {acc_train}, loss_valid: {loss_valid}, accuracy_valid: {acc_valid}')"
      ],
      "metadata": {
        "colab": {
          "base_uri": "https://localhost:8080/"
        },
        "id": "EOBmER1Cxiu-",
        "outputId": "35e22925-2947-4e7b-d606-bbd93f5b8191"
      },
      "execution_count": 22,
      "outputs": [
        {
          "output_type": "stream",
          "name": "stderr",
          "text": [
            "  5%|▌         | 1/20 [00:06<01:59,  6.30s/it]"
          ]
        },
        {
          "output_type": "stream",
          "name": "stdout",
          "text": [
            "epoch: 1, loss_train: 0.3290910126970287, accuracy_train: 0.8861506746626686, loss_valid: 0.34351298213005066, accuracy_valid: 0.876311844077961\n"
          ]
        },
        {
          "output_type": "stream",
          "name": "stderr",
          "text": [
            "\r 10%|█         | 2/20 [00:13<02:04,  6.92s/it]"
          ]
        },
        {
          "output_type": "stream",
          "name": "stdout",
          "text": [
            "epoch: 2, loss_train: 0.2862769230858871, accuracy_train: 0.9028298350824587, loss_valid: 0.3074807822704315, accuracy_valid: 0.8913043478260869\n"
          ]
        },
        {
          "output_type": "stream",
          "name": "stderr",
          "text": [
            "\r 15%|█▌        | 3/20 [00:22<02:08,  7.58s/it]"
          ]
        },
        {
          "output_type": "stream",
          "name": "stdout",
          "text": [
            "epoch: 3, loss_train: 0.26809917291718804, accuracy_train: 0.9100449775112444, loss_valid: 0.29462534189224243, accuracy_valid: 0.8943028485757122\n"
          ]
        },
        {
          "output_type": "stream",
          "name": "stderr",
          "text": [
            "\r 20%|██        | 4/20 [00:27<01:51,  6.94s/it]"
          ]
        },
        {
          "output_type": "stream",
          "name": "stdout",
          "text": [
            "epoch: 4, loss_train: 0.26452255908158695, accuracy_train: 0.9067653673163418, loss_valid: 0.2967808246612549, accuracy_valid: 0.8980509745127436\n"
          ]
        },
        {
          "output_type": "stream",
          "name": "stderr",
          "text": [
            "\r 25%|██▌       | 5/20 [00:34<01:40,  6.68s/it]"
          ]
        },
        {
          "output_type": "stream",
          "name": "stdout",
          "text": [
            "epoch: 5, loss_train: 0.2458724909861983, accuracy_train: 0.9166979010494752, loss_valid: 0.2813476026058197, accuracy_valid: 0.8943028485757122\n"
          ]
        },
        {
          "output_type": "stream",
          "name": "stderr",
          "text": [
            "\r 30%|███       | 6/20 [00:42<01:41,  7.25s/it]"
          ]
        },
        {
          "output_type": "stream",
          "name": "stdout",
          "text": [
            "epoch: 6, loss_train: 0.24162052863159303, accuracy_train: 0.9191341829085458, loss_valid: 0.27820420265197754, accuracy_valid: 0.8995502248875562\n"
          ]
        },
        {
          "output_type": "stream",
          "name": "stderr",
          "text": [
            "\r 35%|███▌      | 7/20 [00:51<01:42,  7.91s/it]"
          ]
        },
        {
          "output_type": "stream",
          "name": "stdout",
          "text": [
            "epoch: 7, loss_train: 0.23561009073460296, accuracy_train: 0.9221326836581709, loss_valid: 0.274461567401886, accuracy_valid: 0.8973013493253373\n"
          ]
        },
        {
          "output_type": "stream",
          "name": "stderr",
          "text": [
            "\r 40%|████      | 8/20 [00:57<01:27,  7.26s/it]"
          ]
        },
        {
          "output_type": "stream",
          "name": "stdout",
          "text": [
            "epoch: 8, loss_train: 0.23180527692929326, accuracy_train: 0.9223200899550225, loss_valid: 0.2743419408798218, accuracy_valid: 0.8958020989505248\n"
          ]
        },
        {
          "output_type": "stream",
          "name": "stderr",
          "text": [
            "\r 45%|████▌     | 9/20 [01:04<01:16,  6.97s/it]"
          ]
        },
        {
          "output_type": "stream",
          "name": "stdout",
          "text": [
            "epoch: 9, loss_train: 0.22820351123334892, accuracy_train: 0.9227886056971514, loss_valid: 0.2721463143825531, accuracy_valid: 0.8980509745127436\n"
          ]
        },
        {
          "output_type": "stream",
          "name": "stderr",
          "text": [
            "\r 50%|█████     | 10/20 [01:10<01:08,  6.81s/it]"
          ]
        },
        {
          "output_type": "stream",
          "name": "stdout",
          "text": [
            "epoch: 10, loss_train: 0.22466543909928877, accuracy_train: 0.923444527736132, loss_valid: 0.27086493372917175, accuracy_valid: 0.8973013493253373\n"
          ]
        },
        {
          "output_type": "stream",
          "name": "stderr",
          "text": [
            "\r 55%|█████▌    | 11/20 [01:16<00:58,  6.51s/it]"
          ]
        },
        {
          "output_type": "stream",
          "name": "stdout",
          "text": [
            "epoch: 11, loss_train: 0.22328587847874976, accuracy_train: 0.9241004497751124, loss_valid: 0.27138638496398926, accuracy_valid: 0.8928035982008995\n"
          ]
        },
        {
          "output_type": "stream",
          "name": "stderr",
          "text": [
            "\r 60%|██████    | 12/20 [01:23<00:53,  6.67s/it]"
          ]
        },
        {
          "output_type": "stream",
          "name": "stdout",
          "text": [
            "epoch: 12, loss_train: 0.2206404872820516, accuracy_train: 0.9249437781109445, loss_valid: 0.27005988359451294, accuracy_valid: 0.8988005997001499\n"
          ]
        },
        {
          "output_type": "stream",
          "name": "stderr",
          "text": [
            "\r 65%|██████▌   | 13/20 [01:29<00:45,  6.47s/it]"
          ]
        },
        {
          "output_type": "stream",
          "name": "stdout",
          "text": [
            "epoch: 13, loss_train: 0.21899795359946356, accuracy_train: 0.9255059970014993, loss_valid: 0.269609272480011, accuracy_valid: 0.8973013493253373\n"
          ]
        },
        {
          "output_type": "stream",
          "name": "stderr",
          "text": [
            "\r 70%|███████   | 14/20 [01:36<00:39,  6.65s/it]"
          ]
        },
        {
          "output_type": "stream",
          "name": "stdout",
          "text": [
            "epoch: 14, loss_train: 0.21777326005767733, accuracy_train: 0.9264430284857571, loss_valid: 0.2701260447502136, accuracy_valid: 0.8995502248875562\n"
          ]
        },
        {
          "output_type": "stream",
          "name": "stderr",
          "text": [
            "\r 75%|███████▌  | 15/20 [01:42<00:32,  6.42s/it]"
          ]
        },
        {
          "output_type": "stream",
          "name": "stdout",
          "text": [
            "epoch: 15, loss_train: 0.22405569758826727, accuracy_train: 0.9245689655172413, loss_valid: 0.2734984755516052, accuracy_valid: 0.8995502248875562\n"
          ]
        },
        {
          "output_type": "stream",
          "name": "stderr",
          "text": [
            "\r 80%|████████  | 16/20 [01:49<00:26,  6.61s/it]"
          ]
        },
        {
          "output_type": "stream",
          "name": "stdout",
          "text": [
            "epoch: 16, loss_train: 0.21635097384800417, accuracy_train: 0.926068215892054, loss_valid: 0.26879632472991943, accuracy_valid: 0.8995502248875562\n"
          ]
        },
        {
          "output_type": "stream",
          "name": "stderr",
          "text": [
            "\r 85%|████████▌ | 17/20 [01:55<00:19,  6.41s/it]"
          ]
        },
        {
          "output_type": "stream",
          "name": "stdout",
          "text": [
            "epoch: 17, loss_train: 0.2157079684031644, accuracy_train: 0.925599700149925, loss_valid: 0.27258798480033875, accuracy_valid: 0.8988005997001499\n"
          ]
        },
        {
          "output_type": "stream",
          "name": "stderr",
          "text": [
            "\r 90%|█████████ | 18/20 [02:02<00:13,  6.69s/it]"
          ]
        },
        {
          "output_type": "stream",
          "name": "stdout",
          "text": [
            "epoch: 18, loss_train: 0.2151680327572685, accuracy_train: 0.9271926536731634, loss_valid: 0.2727866768836975, accuracy_valid: 0.8958020989505248\n"
          ]
        },
        {
          "output_type": "stream",
          "name": "stderr",
          "text": [
            "\r 95%|█████████▌| 19/20 [02:09<00:06,  6.71s/it]"
          ]
        },
        {
          "output_type": "stream",
          "name": "stdout",
          "text": [
            "epoch: 19, loss_train: 0.21340785286300137, accuracy_train: 0.9277548725637181, loss_valid: 0.26903918385505676, accuracy_valid: 0.904047976011994\n"
          ]
        },
        {
          "output_type": "stream",
          "name": "stderr",
          "text": [
            "100%|██████████| 20/20 [02:16<00:00,  6.83s/it]"
          ]
        },
        {
          "output_type": "stream",
          "name": "stdout",
          "text": [
            "epoch: 20, loss_train: 0.21303165646119895, accuracy_train: 0.9275674662668666, loss_valid: 0.27017682790756226, accuracy_valid: 0.9002998500749625\n"
          ]
        },
        {
          "output_type": "stream",
          "name": "stderr",
          "text": [
            "\n"
          ]
        }
      ]
    },
    {
      "cell_type": "code",
      "source": [
        "# knock77\n",
        "import time\n",
        "\n",
        "def calculate_accuracy(model, criterion, loader):\n",
        "  model.eval()\n",
        "  loss = 0.0\n",
        "  total = 0\n",
        "  correct = 0\n",
        "  with torch.no_grad(): # 勾配を変更しない（リークを防ぐ）\n",
        "    for inputs, labels in loader:\n",
        "      outputs = model(inputs)\n",
        "      loss += criterion(outputs, labels).item()\n",
        "      pred = torch.argmax(outputs, dim=-1)\n",
        "      total += len(inputs)\n",
        "      correct += (pred == labels).sum().item()\n",
        "  return loss / len(loader), correct / total\n",
        "\n",
        "# dataset型\n",
        "class NewsDataset(Dataset):\n",
        "  def __init__(self, X, y):\n",
        "    self.X = X\n",
        "    self.y = y\n",
        "\n",
        "  def __len__(self):\n",
        "    return len(self.y)\n",
        "\n",
        "  def __getitem__(self, idx):\n",
        "    return [self.X[idx], self.y[idx]]\n",
        "\n",
        "def training(dataset_train, dataset_valid, batch_size, model, criterion, optimizer, num_epochs):\n",
        "\n",
        "  # Dataloaderを作成\n",
        "  dataloader_train = DataLoader(dataset_train, batch_size=1, shuffle=True)\n",
        "  dataloader_valid = DataLoader(dataset_valid, batch_size=len(dataset_valid), shuffle=False)\n",
        "\n",
        "  # 学習\n",
        "  log_train = []\n",
        "  log_valid = []\n",
        "  num_epochs = 10\n",
        "  for epoch in range(num_epochs):\n",
        "    start = time.time()\n",
        "\n",
        "    model.train() # 訓練モード\n",
        "    loss_train = 0.0\n",
        "    for inputs, labels in dataloader_train:\n",
        "      optimizer.zero_grad() # 勾配をゼロに初期化\n",
        "      # 順伝播\n",
        "      outputs = model(inputs)\n",
        "      # 誤差逆伝播\n",
        "      loss = criterion(outputs, labels)\n",
        "      loss.backward()\n",
        "      # 重み更新\n",
        "      optimizer.step()\n",
        "\n",
        "    # 検証データの損失を計算・正解率も計算\n",
        "    loss_train, acc_train = calculate_accuracy(model, criterion, dataloader_train)\n",
        "    loss_valid, acc_valid = calculate_accuracy(model, criterion, dataloader_valid)\n",
        "    log_train.append([loss_train, acc_train])\n",
        "    log_valid.append([loss_valid, acc_valid])\n",
        "\n",
        "    # チェックポイントを保存\n",
        "    torch.save({'epoch' : epoch, 'modelstate_dict' : model.state_dict(), 'optimizerstate_dict' : optimizer.state_dict()}, f'checkpoint{epoch+1}.pt')\n",
        "\n",
        "    end = time.time()\n",
        "\n",
        "    print(f'epoch: {epoch + 1}, loss_train: {loss_train}, accuracy_train: {acc_train}, loss_valid: {loss_valid}, accuracy_valid: {acc_valid}, {(end - start)}sec')\n",
        "    return {\"train\" : log_train, \"valid\" : log_valid}\n",
        "\n",
        "\n",
        "\n",
        "# Dataset（ミニバッチ）を作成\n",
        "dataset_train = NewsDataset(X_train, y_train)\n",
        "dataset_valid = NewsDataset(X_valid, y_valid)\n",
        "\n",
        "# モデルを定義\n",
        "model = SLPNet(300, 4)\n",
        "\n",
        "# 損失関数を定義\n",
        "criterion = nn.CrossEntropyLoss()\n",
        "optimizer = torch.optim.SGD(model.parameters(), lr=0.1)\n",
        "# 学習\n",
        "for batchsize in tqdm([2**i for i in range(10)]):\n",
        "  print(f\"バッチサイズ : {batchsize}\")\n",
        "  log = training(dataset_train, dataset_valid, batchsize, model, criterion, optimizer, 1)"
      ],
      "metadata": {
        "colab": {
          "base_uri": "https://localhost:8080/"
        },
        "id": "KDJMd-Slyck-",
        "outputId": "287f4629-5b64-47a6-96bc-fb05cf80ea79"
      },
      "execution_count": 29,
      "outputs": [
        {
          "output_type": "stream",
          "name": "stderr",
          "text": [
            "\r  0%|          | 0/10 [00:00<?, ?it/s]"
          ]
        },
        {
          "output_type": "stream",
          "name": "stdout",
          "text": [
            "バッチサイズ : 1\n",
            "epoch: 1, loss_train: 0.33379033044616535, accuracy_train: 0.8821214392803598, loss_valid: 0.3368666470050812, accuracy_valid: 0.8800599700149925, 7.276784658432007sec\n",
            "epoch: 2, loss_train: 0.2963198037218526, accuracy_train: 0.8961769115442278, loss_valid: 0.3099997639656067, accuracy_valid: 0.8845577211394303, 7.191028594970703sec\n",
            "epoch: 3, loss_train: 0.2742847530994475, accuracy_train: 0.9101386806596702, loss_valid: 0.2991906404495239, accuracy_valid: 0.8958020989505248, 6.237292289733887sec\n",
            "epoch: 4, loss_train: 0.2562655276632604, accuracy_train: 0.9122938530734632, loss_valid: 0.2827589511871338, accuracy_valid: 0.8943028485757122, 6.484493732452393sec\n",
            "epoch: 5, loss_train: 0.24714559742315145, accuracy_train: 0.9175412293853074, loss_valid: 0.2764550745487213, accuracy_valid: 0.8950524737631185, 5.752773284912109sec\n",
            "epoch: 6, loss_train: 0.23973108633904996, accuracy_train: 0.9196964017991005, loss_valid: 0.27338606119155884, accuracy_valid: 0.8973013493253373, 6.957903623580933sec\n",
            "epoch: 7, loss_train: 0.23751155558128695, accuracy_train: 0.9204460269865068, loss_valid: 0.27246952056884766, accuracy_valid: 0.8950524737631185, 5.725105047225952sec\n",
            "epoch: 8, loss_train: 0.23275969592593906, accuracy_train: 0.9210082458770614, loss_valid: 0.26909956336021423, accuracy_valid: 0.9010494752623688, 6.8204638957977295sec\n",
            "epoch: 9, loss_train: 0.2312708623435682, accuracy_train: 0.919883808095952, loss_valid: 0.2686346769332886, accuracy_valid: 0.8995502248875562, 6.02540922164917sec\n"
          ]
        },
        {
          "output_type": "stream",
          "name": "stderr",
          "text": [
            "\r 10%|█         | 1/10 [01:05<09:48, 65.43s/it]"
          ]
        },
        {
          "output_type": "stream",
          "name": "stdout",
          "text": [
            "epoch: 10, loss_train: 0.22925011715905946, accuracy_train: 0.9233508245877061, loss_valid: 0.26953884959220886, accuracy_valid: 0.9010494752623688, 6.954409599304199sec\n",
            "バッチサイズ : 2\n",
            "epoch: 1, loss_train: 0.22490321264790109, accuracy_train: 0.9255059970014993, loss_valid: 0.2676192820072174, accuracy_valid: 0.8995502248875562, 5.717233657836914sec\n",
            "epoch: 2, loss_train: 0.22320035290086387, accuracy_train: 0.9250374812593704, loss_valid: 0.2692580223083496, accuracy_valid: 0.8995502248875562, 6.839653730392456sec\n",
            "epoch: 3, loss_train: 0.22219490421395868, accuracy_train: 0.9232571214392804, loss_valid: 0.26744285225868225, accuracy_valid: 0.9002998500749625, 5.904715061187744sec\n",
            "epoch: 4, loss_train: 0.22147571559616985, accuracy_train: 0.9244752623688156, loss_valid: 0.2716507017612457, accuracy_valid: 0.9002998500749625, 6.196394443511963sec\n",
            "epoch: 5, loss_train: 0.2208200457529124, accuracy_train: 0.9250374812593704, loss_valid: 0.27196797728538513, accuracy_valid: 0.8958020989505248, 6.474497556686401sec\n",
            "epoch: 6, loss_train: 0.2171661869278473, accuracy_train: 0.9277548725637181, loss_valid: 0.2671668827533722, accuracy_valid: 0.9002998500749625, 5.913874864578247sec\n",
            "epoch: 7, loss_train: 0.2163857406392047, accuracy_train: 0.9261619190404797, loss_valid: 0.26774492859840393, accuracy_valid: 0.904047976011994, 6.819695472717285sec\n",
            "epoch: 8, loss_train: 0.21561766255716008, accuracy_train: 0.9275674662668666, loss_valid: 0.2690669298171997, accuracy_valid: 0.8995502248875562, 5.76143217086792sec\n",
            "epoch: 9, loss_train: 0.2152490523736324, accuracy_train: 0.9271926536731634, loss_valid: 0.26778972148895264, accuracy_valid: 0.9025487256371814, 6.805721044540405sec\n"
          ]
        },
        {
          "output_type": "stream",
          "name": "stderr",
          "text": [
            "\r 20%|██        | 2/10 [02:07<08:28, 63.54s/it]"
          ]
        },
        {
          "output_type": "stream",
          "name": "stdout",
          "text": [
            "epoch: 10, loss_train: 0.2127065799847239, accuracy_train: 0.9281296851574213, loss_valid: 0.2671685516834259, accuracy_valid: 0.9025487256371814, 5.774944543838501sec\n",
            "バッチサイズ : 4\n",
            "epoch: 1, loss_train: 0.2114208657153852, accuracy_train: 0.9280359820089955, loss_valid: 0.2692185044288635, accuracy_valid: 0.9017991004497751, 7.017574787139893sec\n",
            "epoch: 2, loss_train: 0.21180911417746814, accuracy_train: 0.9274737631184408, loss_valid: 0.2700021266937256, accuracy_valid: 0.9010494752623688, 5.75665283203125sec\n",
            "epoch: 3, loss_train: 0.21450329705474874, accuracy_train: 0.9281296851574213, loss_valid: 0.27261003851890564, accuracy_valid: 0.9002998500749625, 6.465062618255615sec\n",
            "epoch: 4, loss_train: 0.2115877846937887, accuracy_train: 0.9280359820089955, loss_valid: 0.27265092730522156, accuracy_valid: 0.9002998500749625, 5.884945869445801sec\n",
            "epoch: 5, loss_train: 0.21169975753971665, accuracy_train: 0.929160419790105, loss_valid: 0.27370932698249817, accuracy_valid: 0.8958020989505248, 5.947263717651367sec\n",
            "epoch: 6, loss_train: 0.20977893442608478, accuracy_train: 0.9288793103448276, loss_valid: 0.273206502199173, accuracy_valid: 0.9002998500749625, 6.4306559562683105sec\n",
            "epoch: 7, loss_train: 0.2089913439931153, accuracy_train: 0.9292541229385307, loss_valid: 0.2740236222743988, accuracy_valid: 0.8995502248875562, 5.725365877151489sec\n",
            "epoch: 8, loss_train: 0.20853734634623436, accuracy_train: 0.9285044977511244, loss_valid: 0.27363094687461853, accuracy_valid: 0.8980509745127436, 6.740370750427246sec\n",
            "epoch: 9, loss_train: 0.20898069418616905, accuracy_train: 0.9302848575712144, loss_valid: 0.276888370513916, accuracy_valid: 0.896551724137931, 5.659718751907349sec\n"
          ]
        },
        {
          "output_type": "stream",
          "name": "stderr",
          "text": [
            "\r 30%|███       | 3/10 [03:10<07:21, 63.00s/it]"
          ]
        },
        {
          "output_type": "stream",
          "name": "stdout",
          "text": [
            "epoch: 10, loss_train: 0.20930661027243203, accuracy_train: 0.9279422788605697, loss_valid: 0.2774430513381958, accuracy_valid: 0.8958020989505248, 6.718506097793579sec\n",
            "バッチサイズ : 8\n",
            "epoch: 1, loss_train: 0.2075834229530284, accuracy_train: 0.9304722638680659, loss_valid: 0.2773860692977905, accuracy_valid: 0.9002998500749625, 5.657397031784058sec\n",
            "epoch: 2, loss_train: 0.20993181808481196, accuracy_train: 0.9292541229385307, loss_valid: 0.2769956886768341, accuracy_valid: 0.8988005997001499, 6.564624547958374sec\n",
            "epoch: 3, loss_train: 0.208341021286675, accuracy_train: 0.9288793103448276, loss_valid: 0.27805349230766296, accuracy_valid: 0.896551724137931, 5.884182453155518sec\n",
            "epoch: 4, loss_train: 0.20684544123909185, accuracy_train: 0.929160419790105, loss_valid: 0.2775088846683502, accuracy_valid: 0.8995502248875562, 5.996415615081787sec\n",
            "epoch: 5, loss_train: 0.20661051443536912, accuracy_train: 0.9293478260869565, loss_valid: 0.2778889834880829, accuracy_valid: 0.8988005997001499, 6.4916627407073975sec\n",
            "epoch: 6, loss_train: 0.20761712461748547, accuracy_train: 0.9285982008995503, loss_valid: 0.2791183590888977, accuracy_valid: 0.8973013493253373, 5.663679122924805sec\n",
            "epoch: 7, loss_train: 0.20664302437733836, accuracy_train: 0.9302848575712144, loss_valid: 0.2796367108821869, accuracy_valid: 0.8988005997001499, 6.843440532684326sec\n",
            "epoch: 8, loss_train: 0.20844993381146712, accuracy_train: 0.9292541229385307, loss_valid: 0.28066250681877136, accuracy_valid: 0.8980509745127436, 6.8139872550964355sec\n",
            "epoch: 9, loss_train: 0.20642971366181706, accuracy_train: 0.9305659670164917, loss_valid: 0.27942654490470886, accuracy_valid: 0.8995502248875562, 6.775724649429321sec\n"
          ]
        },
        {
          "output_type": "stream",
          "name": "stderr",
          "text": [
            "\r 40%|████      | 4/10 [04:12<06:16, 62.77s/it]"
          ]
        },
        {
          "output_type": "stream",
          "name": "stdout",
          "text": [
            "epoch: 10, loss_train: 0.2048289143867599, accuracy_train: 0.9311281859070465, loss_valid: 0.2791496515274048, accuracy_valid: 0.8958020989505248, 5.704458236694336sec\n",
            "バッチサイズ : 16\n",
            "epoch: 1, loss_train: 0.2061972313831828, accuracy_train: 0.9298163418290855, loss_valid: 0.2825353145599365, accuracy_valid: 0.8943028485757122, 6.9049882888793945sec\n",
            "epoch: 2, loss_train: 0.2062218469712173, accuracy_train: 0.9299100449775113, loss_valid: 0.2814475893974304, accuracy_valid: 0.8988005997001499, 5.679546356201172sec\n",
            "epoch: 3, loss_train: 0.20543778305364963, accuracy_train: 0.9300974512743628, loss_valid: 0.28094717860221863, accuracy_valid: 0.896551724137931, 6.439003944396973sec\n",
            "epoch: 4, loss_train: 0.2047865108867674, accuracy_train: 0.9297226386806596, loss_valid: 0.28156954050064087, accuracy_valid: 0.8958020989505248, 6.007250785827637sec\n",
            "epoch: 5, loss_train: 0.20546568783921446, accuracy_train: 0.9299100449775113, loss_valid: 0.2813437283039093, accuracy_valid: 0.8943028485757122, 5.963365077972412sec\n",
            "epoch: 6, loss_train: 0.2090022830253221, accuracy_train: 0.929160419790105, loss_valid: 0.2884097397327423, accuracy_valid: 0.8943028485757122, 6.5286643505096436sec\n",
            "epoch: 7, loss_train: 0.210435790508839, accuracy_train: 0.9287856071964018, loss_valid: 0.28530770540237427, accuracy_valid: 0.8935532233883059, 5.7344183921813965sec\n",
            "epoch: 8, loss_train: 0.20391212712348986, accuracy_train: 0.9316904047976012, loss_valid: 0.2813591957092285, accuracy_valid: 0.8988005997001499, 7.054441452026367sec\n",
            "epoch: 9, loss_train: 0.20404807430081054, accuracy_train: 0.9312218890554723, loss_valid: 0.28348976373672485, accuracy_valid: 0.8928035982008995, 5.685003995895386sec\n"
          ]
        },
        {
          "output_type": "stream",
          "name": "stderr",
          "text": [
            "\r 50%|█████     | 5/10 [05:15<05:13, 62.78s/it]"
          ]
        },
        {
          "output_type": "stream",
          "name": "stdout",
          "text": [
            "epoch: 10, loss_train: 0.20370979603926062, accuracy_train: 0.9307533733133433, loss_valid: 0.28298068046569824, accuracy_valid: 0.8935532233883059, 6.7884016036987305sec\n",
            "バッチサイズ : 32\n",
            "epoch: 1, loss_train: 0.20416436707473956, accuracy_train: 0.9312218890554723, loss_valid: 0.2841220200061798, accuracy_valid: 0.8943028485757122, 5.708447694778442sec\n",
            "epoch: 2, loss_train: 0.2039537265753931, accuracy_train: 0.9308470764617691, loss_valid: 0.2880829870700836, accuracy_valid: 0.8913043478260869, 6.703895330429077sec\n",
            "epoch: 3, loss_train: 0.20401699962568196, accuracy_train: 0.9300974512743628, loss_valid: 0.2848823070526123, accuracy_valid: 0.8980509745127436, 5.655441999435425sec\n",
            "epoch: 4, loss_train: 0.20258236823673953, accuracy_train: 0.9319715142428786, loss_valid: 0.2850641906261444, accuracy_valid: 0.8943028485757122, 6.369400262832642sec\n",
            "epoch: 5, loss_train: 0.20586265287383823, accuracy_train: 0.931315592203898, loss_valid: 0.28701722621917725, accuracy_valid: 0.8913043478260869, 6.293694019317627sec\n",
            "epoch: 6, loss_train: 0.20515930607036803, accuracy_train: 0.9302848575712144, loss_valid: 0.2859048843383789, accuracy_valid: 0.896551724137931, 5.7339653968811035sec\n",
            "epoch: 7, loss_train: 0.20479760570317132, accuracy_train: 0.9315029985007496, loss_valid: 0.2864573299884796, accuracy_valid: 0.8943028485757122, 6.707673788070679sec\n",
            "epoch: 8, loss_train: 0.2069853993578931, accuracy_train: 0.9284107946026986, loss_valid: 0.2905525267124176, accuracy_valid: 0.8920539730134932, 5.749865293502808sec\n",
            "epoch: 9, loss_train: 0.21409433468236008, accuracy_train: 0.9253185907046477, loss_valid: 0.30021899938583374, accuracy_valid: 0.8950524737631185, 6.697388410568237sec\n"
          ]
        },
        {
          "output_type": "stream",
          "name": "stderr",
          "text": [
            "\r 60%|██████    | 6/10 [06:16<04:09, 62.29s/it]"
          ]
        },
        {
          "output_type": "stream",
          "name": "stdout",
          "text": [
            "epoch: 10, loss_train: 0.20369033299499337, accuracy_train: 0.9302848575712144, loss_valid: 0.28672361373901367, accuracy_valid: 0.8928035982008995, 5.69622540473938sec\n",
            "バッチサイズ : 64\n",
            "epoch: 1, loss_train: 0.20503144233393406, accuracy_train: 0.9290667166416792, loss_valid: 0.28836244344711304, accuracy_valid: 0.8913043478260869, 6.87440299987793sec\n",
            "epoch: 2, loss_train: 0.2024089251390536, accuracy_train: 0.9312218890554723, loss_valid: 0.2877494990825653, accuracy_valid: 0.8928035982008995, 5.763211488723755sec\n",
            "epoch: 3, loss_train: 0.20326392575798177, accuracy_train: 0.9315967016491754, loss_valid: 0.28803306818008423, accuracy_valid: 0.8920539730134932, 6.458434820175171sec\n",
            "epoch: 4, loss_train: 0.20408327680664928, accuracy_train: 0.930940779610195, loss_valid: 0.28882378339767456, accuracy_valid: 0.8943028485757122, 6.1088035106658936sec\n",
            "epoch: 5, loss_train: 0.20656443469887625, accuracy_train: 0.9287856071964018, loss_valid: 0.2939036190509796, accuracy_valid: 0.8958020989505248, 5.867412567138672sec\n",
            "epoch: 6, loss_train: 0.20585523598108868, accuracy_train: 0.9288793103448276, loss_valid: 0.29314494132995605, accuracy_valid: 0.8913043478260869, 6.607548236846924sec\n",
            "epoch: 7, loss_train: 0.20356322326535242, accuracy_train: 0.9301911544227887, loss_valid: 0.2918076813220978, accuracy_valid: 0.8905547226386806, 5.6712563037872314sec\n",
            "epoch: 8, loss_train: 0.20610881399611117, accuracy_train: 0.9306596701649176, loss_valid: 0.29194557666778564, accuracy_valid: 0.8898050974512743, 6.7103800773620605sec\n",
            "epoch: 9, loss_train: 0.20177449977842335, accuracy_train: 0.9302848575712144, loss_valid: 0.2911253869533539, accuracy_valid: 0.8913043478260869, 5.6639485359191895sec\n"
          ]
        },
        {
          "output_type": "stream",
          "name": "stderr",
          "text": [
            "\r 70%|███████   | 7/10 [07:19<03:07, 62.40s/it]"
          ]
        },
        {
          "output_type": "stream",
          "name": "stdout",
          "text": [
            "epoch: 10, loss_train: 0.20404559870236846, accuracy_train: 0.9314092953523239, loss_valid: 0.29112839698791504, accuracy_valid: 0.8958020989505248, 6.900798320770264sec\n",
            "バッチサイズ : 128\n",
            "epoch: 1, loss_train: 0.20185657295101594, accuracy_train: 0.9315029985007496, loss_valid: 0.2897264063358307, accuracy_valid: 0.8928035982008995, 5.739587306976318sec\n",
            "epoch: 2, loss_train: 0.20177588560524004, accuracy_train: 0.9315029985007496, loss_valid: 0.290461003780365, accuracy_valid: 0.8875562218890555, 6.576615333557129sec\n",
            "epoch: 3, loss_train: 0.2035828285940392, accuracy_train: 0.9300974512743628, loss_valid: 0.2924382984638214, accuracy_valid: 0.8905547226386806, 5.951452255249023sec\n",
            "epoch: 4, loss_train: 0.20261864736623944, accuracy_train: 0.9310344827586207, loss_valid: 0.29324352741241455, accuracy_valid: 0.8898050974512743, 6.223795652389526sec\n",
            "epoch: 5, loss_train: 0.20109305277638068, accuracy_train: 0.9325337331334332, loss_valid: 0.2909598648548126, accuracy_valid: 0.8913043478260869, 7.580318927764893sec\n",
            "epoch: 6, loss_train: 0.20462624438711483, accuracy_train: 0.9297226386806596, loss_valid: 0.29498904943466187, accuracy_valid: 0.889055472263868, 6.016224384307861sec\n",
            "epoch: 7, loss_train: 0.20104276482533856, accuracy_train: 0.9326274362818591, loss_valid: 0.2910803258419037, accuracy_valid: 0.8920539730134932, 6.5711143016815186sec\n",
            "epoch: 8, loss_train: 0.20264537835518812, accuracy_train: 0.9311281859070465, loss_valid: 0.2946198880672455, accuracy_valid: 0.8883058470764618, 5.591821670532227sec\n",
            "epoch: 9, loss_train: 0.20269355757955415, accuracy_train: 0.9312218890554723, loss_valid: 0.29548925161361694, accuracy_valid: 0.8928035982008995, 6.844277858734131sec\n"
          ]
        },
        {
          "output_type": "stream",
          "name": "stderr",
          "text": [
            "\r 80%|████████  | 8/10 [08:22<02:05, 62.54s/it]"
          ]
        },
        {
          "output_type": "stream",
          "name": "stdout",
          "text": [
            "epoch: 10, loss_train: 0.20502877521126123, accuracy_train: 0.9287856071964018, loss_valid: 0.2978617548942566, accuracy_valid: 0.8920539730134932, 5.733595371246338sec\n",
            "バッチサイズ : 256\n",
            "epoch: 1, loss_train: 0.20256219513151336, accuracy_train: 0.9304722638680659, loss_valid: 0.29345861077308655, accuracy_valid: 0.8898050974512743, 6.815776348114014sec\n",
            "epoch: 2, loss_train: 0.20447967638927989, accuracy_train: 0.9300974512743628, loss_valid: 0.2951415181159973, accuracy_valid: 0.8920539730134932, 5.624408721923828sec\n",
            "epoch: 3, loss_train: 0.20115841937643927, accuracy_train: 0.931315592203898, loss_valid: 0.29517415165901184, accuracy_valid: 0.8853073463268366, 6.909129858016968sec\n",
            "epoch: 4, loss_train: 0.20233487714610432, accuracy_train: 0.9308470764617691, loss_valid: 0.29500266909599304, accuracy_valid: 0.8853073463268366, 5.843377590179443sec\n",
            "epoch: 5, loss_train: 0.20102404885477226, accuracy_train: 0.9322526236881559, loss_valid: 0.2938498854637146, accuracy_valid: 0.8875562218890555, 6.2579309940338135sec\n",
            "epoch: 6, loss_train: 0.20569205073972444, accuracy_train: 0.9293478260869565, loss_valid: 0.29831114411354065, accuracy_valid: 0.8883058470764618, 6.155142068862915sec\n",
            "epoch: 7, loss_train: 0.20140936854585118, accuracy_train: 0.9325337331334332, loss_valid: 0.2936435341835022, accuracy_valid: 0.8920539730134932, 5.66200590133667sec\n",
            "epoch: 8, loss_train: 0.20252076309610723, accuracy_train: 0.931315592203898, loss_valid: 0.2965543866157532, accuracy_valid: 0.8973013493253373, 6.741322040557861sec\n",
            "epoch: 9, loss_train: 0.20345411476183659, accuracy_train: 0.9303785607196402, loss_valid: 0.2961311340332031, accuracy_valid: 0.8928035982008995, 5.797842025756836sec\n"
          ]
        },
        {
          "output_type": "stream",
          "name": "stderr",
          "text": [
            "\r 90%|█████████ | 9/10 [09:24<01:02, 62.56s/it]"
          ]
        },
        {
          "output_type": "stream",
          "name": "stdout",
          "text": [
            "epoch: 10, loss_train: 0.20072971930984757, accuracy_train: 0.9311281859070465, loss_valid: 0.29542094469070435, accuracy_valid: 0.889055472263868, 6.76416277885437sec\n",
            "バッチサイズ : 512\n",
            "epoch: 1, loss_train: 0.20393704440443092, accuracy_train: 0.9300974512743628, loss_valid: 0.2975420653820038, accuracy_valid: 0.8905547226386806, 5.704561948776245sec\n",
            "epoch: 2, loss_train: 0.2014505359953693, accuracy_train: 0.9308470764617691, loss_valid: 0.29588547348976135, accuracy_valid: 0.8905547226386806, 6.910579681396484sec\n",
            "epoch: 3, loss_train: 0.211310488224408, accuracy_train: 0.9271926536731634, loss_valid: 0.3054749667644501, accuracy_valid: 0.8935532233883059, 5.663917303085327sec\n",
            "epoch: 4, loss_train: 0.20221122129149582, accuracy_train: 0.9308470764617691, loss_valid: 0.29813507199287415, accuracy_valid: 0.8883058470764618, 6.35707426071167sec\n",
            "epoch: 5, loss_train: 0.20156703967765982, accuracy_train: 0.9319715142428786, loss_valid: 0.2979465126991272, accuracy_valid: 0.8883058470764618, 6.203885316848755sec\n",
            "epoch: 6, loss_train: 0.20161140239256406, accuracy_train: 0.931784107946027, loss_valid: 0.29891034960746765, accuracy_valid: 0.8860569715142429, 5.904847860336304sec\n",
            "epoch: 7, loss_train: 0.20322912078305674, accuracy_train: 0.9306596701649176, loss_valid: 0.3000832200050354, accuracy_valid: 0.8898050974512743, 6.655988931655884sec\n",
            "epoch: 8, loss_train: 0.20046658834210887, accuracy_train: 0.9327211394302849, loss_valid: 0.2959862947463989, accuracy_valid: 0.8883058470764618, 5.787324666976929sec\n",
            "epoch: 9, loss_train: 0.20415545189196915, accuracy_train: 0.930003748125937, loss_valid: 0.3013415038585663, accuracy_valid: 0.8883058470764618, 7.032203674316406sec\n"
          ]
        },
        {
          "output_type": "stream",
          "name": "stderr",
          "text": [
            "100%|██████████| 10/10 [10:26<00:00, 62.66s/it]"
          ]
        },
        {
          "output_type": "stream",
          "name": "stdout",
          "text": [
            "epoch: 10, loss_train: 0.20235117085516624, accuracy_train: 0.930940779610195, loss_valid: 0.2980165481567383, accuracy_valid: 0.8943028485757122, 5.697760105133057sec\n"
          ]
        },
        {
          "output_type": "stream",
          "name": "stderr",
          "text": [
            "\n"
          ]
        }
      ]
    },
    {
      "cell_type": "code",
      "source": [
        "# knock78\n",
        "from torch.utils.data import Dataset\n",
        "from torch.utils.data import DataLoader\n",
        "\n",
        "def calculate_accuracy(model, criterion, loader, device):\n",
        "  model.eval()\n",
        "  loss = 0.0\n",
        "  total = 0\n",
        "  correct = 0\n",
        "  with torch.no_grad(): # 勾配を変更しない（リークを防ぐ）\n",
        "    for inputs, labels in loader:\n",
        "      inputs = inputs.to(device)\n",
        "      labels = labels.to(device)\n",
        "      outputs = model(inputs)\n",
        "      loss += criterion(outputs, labels).item()\n",
        "      pred = torch.argmax(outputs, dim=-1)\n",
        "      total += len(inputs)\n",
        "      correct += (pred == labels).sum().item()\n",
        "  return loss / len(loader), correct / total\n",
        "\n",
        "# dataset型\n",
        "class NewsDataset(Dataset):\n",
        "  def __init__(self, X, y):\n",
        "    self.X = X\n",
        "    self.y = y\n",
        "\n",
        "  def __len__(self):\n",
        "    return len(self.y)\n",
        "\n",
        "  def __getitem__(self, idx):\n",
        "    return [self.X[idx], self.y[idx]]\n",
        "\n",
        "def training(dataset_train, dataset_valid, batch_size, model, criterion, optimizer, num_epochs, device=None):\n",
        "  # GPUに送信\n",
        "  model.to(device)\n",
        "\n",
        "  # Dataloaderを作成\n",
        "  dataloader_train = DataLoader(dataset_train, batch_size=1, shuffle=True)\n",
        "  dataloader_valid = DataLoader(dataset_valid, batch_size=len(dataset_valid), shuffle=False)\n",
        "\n",
        "  # 学習\n",
        "  log_train = []\n",
        "  log_valid = []\n",
        "  num_epochs = 10\n",
        "  for epoch in range(num_epochs):\n",
        "    start = time.time()\n",
        "\n",
        "    model.train() # 訓練モード\n",
        "    loss_train = 0.0\n",
        "    for inputs, labels in dataloader_train:\n",
        "      optimizer.zero_grad() # 勾配をゼロに初期化\n",
        "      # 順伝播\n",
        "      inputs = inputs.to(device)\n",
        "      labels = labels.to(device)\n",
        "      outputs = model.forward(inputs)\n",
        "      # 誤差逆伝播\n",
        "      loss = criterion(outputs, labels)\n",
        "      loss.backward()\n",
        "      # 重み更新\n",
        "      optimizer.step()\n",
        "\n",
        "    # 検証データの損失を計算・正解率も計算\n",
        "    loss_train, acc_train = calculate_accuracy(model, criterion, dataloader_train, device)\n",
        "    loss_valid, acc_valid = calculate_accuracy(model, criterion, dataloader_valid, device)\n",
        "    log_train.append([loss_train, acc_train])\n",
        "    log_valid.append([loss_valid, acc_valid])\n",
        "\n",
        "    # チェックポイントを保存\n",
        "    torch.save({'epoch' : epoch, 'modelstate_dict' : model.state_dict(), 'optimizerstate_dict' : optimizer.state_dict()}, f'checkpoint{epoch+1}.pt')\n",
        "\n",
        "    end = time.time()\n",
        "\n",
        "    print(f'epoch: {epoch + 1}, loss_train: {loss_train}, accuracy_train: {acc_train}, loss_valid: {loss_valid}, accuracy_valid: {acc_valid}, {(end - start)}sec')\n",
        "    return {\"train\" : log_train, \"valid\" : log_valid}\n",
        "\n",
        "# Dataset（ミニバッチ）を作成\n",
        "dataset_train = NewsDataset(X_train, y_train)\n",
        "dataset_valid = NewsDataset(X_valid, y_valid)\n",
        "\n",
        "# モデルを定義\n",
        "model = SLPNet(300, 4)\n",
        "\n",
        "# 損失関数を定義\n",
        "criterion = nn.CrossEntropyLoss()\n",
        "optimizer = torch.optim.SGD(model.parameters(), lr=0.1)\n",
        "\n",
        "# デバイスを指定\n",
        "device = torch.device(\"cuda\")\n",
        "\n",
        "# 学習\n",
        "for batchsize in tqdm([2**i for i in range(10)]):\n",
        "  print(f\"バッチサイズ : {batchsize}\")\n",
        "  log = training(dataset_train, dataset_valid, batchsize, model, criterion, optimizer, 1, device=device)"
      ],
      "metadata": {
        "colab": {
          "base_uri": "https://localhost:8080/"
        },
        "id": "cKo3U-gs2RR4",
        "outputId": "4b231e8d-e075-47c3-a49d-ef89c207ca18"
      },
      "execution_count": 11,
      "outputs": [
        {
          "output_type": "stream",
          "name": "stderr",
          "text": [
            "\r  0%|          | 0/10 [00:00<?, ?it/s]"
          ]
        },
        {
          "output_type": "stream",
          "name": "stdout",
          "text": [
            "バッチサイズ : 1\n"
          ]
        },
        {
          "output_type": "stream",
          "name": "stderr",
          "text": [
            "\r 10%|█         | 1/10 [00:13<01:57, 13.02s/it]"
          ]
        },
        {
          "output_type": "stream",
          "name": "stdout",
          "text": [
            "epoch: 1, loss_train: 0.32915722361378, accuracy_train: 0.8848388305847077, loss_valid: 0.35009559988975525, accuracy_valid: 0.8793103448275862, 13.019420385360718sec\n",
            "バッチサイズ : 2\n"
          ]
        },
        {
          "output_type": "stream",
          "name": "stderr",
          "text": [
            "\r 20%|██        | 2/10 [00:24<01:34, 11.86s/it]"
          ]
        },
        {
          "output_type": "stream",
          "name": "stdout",
          "text": [
            "epoch: 1, loss_train: 0.28456965065470163, accuracy_train: 0.8984257871064468, loss_valid: 0.31543296575546265, accuracy_valid: 0.8935532233883059, 11.034109592437744sec\n",
            "バッチサイズ : 4\n"
          ]
        },
        {
          "output_type": "stream",
          "name": "stderr",
          "text": [
            "\r 30%|███       | 3/10 [00:35<01:21, 11.58s/it]"
          ]
        },
        {
          "output_type": "stream",
          "name": "stdout",
          "text": [
            "epoch: 1, loss_train: 0.2638192673846389, accuracy_train: 0.9085457271364318, loss_valid: 0.2979320287704468, accuracy_valid: 0.9062968515742129, 11.254020929336548sec\n",
            "バッチサイズ : 8\n"
          ]
        },
        {
          "output_type": "stream",
          "name": "stderr",
          "text": [
            "\r 40%|████      | 4/10 [00:46<01:07, 11.26s/it]"
          ]
        },
        {
          "output_type": "stream",
          "name": "stdout",
          "text": [
            "epoch: 1, loss_train: 0.25420012788925783, accuracy_train: 0.9116379310344828, loss_valid: 0.2999832034111023, accuracy_valid: 0.904047976011994, 10.755271434783936sec\n",
            "バッチサイズ : 16\n"
          ]
        },
        {
          "output_type": "stream",
          "name": "stderr",
          "text": [
            "\r 50%|█████     | 5/10 [00:56<00:55, 11.08s/it]"
          ]
        },
        {
          "output_type": "stream",
          "name": "stdout",
          "text": [
            "epoch: 1, loss_train: 0.24162826504321772, accuracy_train: 0.9170727136431784, loss_valid: 0.2898527979850769, accuracy_valid: 0.9107946026986506, 10.766587018966675sec\n",
            "バッチサイズ : 32\n"
          ]
        },
        {
          "output_type": "stream",
          "name": "stderr",
          "text": [
            "\r 60%|██████    | 6/10 [01:07<00:43, 10.99s/it]"
          ]
        },
        {
          "output_type": "stream",
          "name": "stdout",
          "text": [
            "epoch: 1, loss_train: 0.24222281500362922, accuracy_train: 0.9157608695652174, loss_valid: 0.2980576455593109, accuracy_valid: 0.9070464767616192, 10.813686847686768sec\n",
            "バッチサイズ : 64\n"
          ]
        },
        {
          "output_type": "stream",
          "name": "stderr",
          "text": [
            "\r 70%|███████   | 7/10 [01:18<00:32, 10.90s/it]"
          ]
        },
        {
          "output_type": "stream",
          "name": "stdout",
          "text": [
            "epoch: 1, loss_train: 0.23366967717649093, accuracy_train: 0.9208208395802099, loss_valid: 0.2931983470916748, accuracy_valid: 0.9100449775112444, 10.709126949310303sec\n",
            "バッチサイズ : 128\n"
          ]
        },
        {
          "output_type": "stream",
          "name": "stderr",
          "text": [
            "\r 80%|████████  | 8/10 [01:34<00:24, 12.45s/it]"
          ]
        },
        {
          "output_type": "stream",
          "name": "stdout",
          "text": [
            "epoch: 1, loss_train: 0.2291760687549583, accuracy_train: 0.9208208395802099, loss_valid: 0.28998705744743347, accuracy_valid: 0.9077961019490255, 15.762779474258423sec\n",
            "バッチサイズ : 256\n"
          ]
        },
        {
          "output_type": "stream",
          "name": "stderr",
          "text": [
            "\r 90%|█████████ | 9/10 [01:50<00:13, 13.71s/it]"
          ]
        },
        {
          "output_type": "stream",
          "name": "stdout",
          "text": [
            "epoch: 1, loss_train: 0.22448355431671038, accuracy_train: 0.922976011994003, loss_valid: 0.28945407271385193, accuracy_valid: 0.9070464767616192, 16.495031595230103sec\n",
            "バッチサイズ : 512\n"
          ]
        },
        {
          "output_type": "stream",
          "name": "stderr",
          "text": [
            "100%|██████████| 10/10 [02:05<00:00, 12.56s/it]"
          ]
        },
        {
          "output_type": "stream",
          "name": "stdout",
          "text": [
            "epoch: 1, loss_train: 0.22580397865588683, accuracy_train: 0.9227886056971514, loss_valid: 0.2960294485092163, accuracy_valid: 0.9062968515742129, 14.999282121658325sec\n"
          ]
        },
        {
          "output_type": "stream",
          "name": "stderr",
          "text": [
            "\n"
          ]
        }
      ]
    },
    {
      "cell_type": "code",
      "source": [
        "# knock79\n",
        "from torch.nn import functional as F\n",
        "from torch import optim\n",
        "from torch.utils.data import Dataset\n",
        "from torch.utils.data import DataLoader\n",
        "import time\n",
        "\n",
        "class MLPNet(nn.Module):\n",
        "  def __init__(self, input_size, mid_size, output_size, mid_layers):\n",
        "    super().__init__()\n",
        "    self.mid_layers = mid_layers\n",
        "    self.fc = nn.Linear(input_size, mid_size)\n",
        "    self.fc_mid = nn.Linear(mid_size, mid_size)\n",
        "    self.fc_out = nn.Linear(mid_size, output_size)\n",
        "    self.bn = nn.BatchNorm1d(mid_size)\n",
        "\n",
        "  def forward(self, x):\n",
        "    x = F.relu(self.fc(x))\n",
        "    for i in range(self.mid_layers):\n",
        "      x = F.relu(self.bn(self.fc_mid(x)))\n",
        "    x = F.relu(self.fc_out(x))\n",
        "    return x\n",
        "\n",
        "def calculate_accuracy(model, criterion, loader, device):\n",
        "  model.eval()\n",
        "  loss = 0.0\n",
        "  total = 0\n",
        "  correct = 0\n",
        "  with torch.no_grad(): # 勾配を変更しない（リークを防ぐ）\n",
        "    for inputs, labels in loader:\n",
        "      inputs = inputs.to(device)\n",
        "      labels = labels.to(device)\n",
        "      outputs = model(inputs)\n",
        "      loss += criterion(outputs, labels).item()\n",
        "      pred = torch.argmax(outputs, dim=-1)\n",
        "      total += len(inputs)\n",
        "      correct += (pred == labels).sum().item()\n",
        "  return loss / len(loader), correct / total\n",
        "\n",
        "# dataset型\n",
        "class NewsDataset(Dataset):\n",
        "  def __init__(self, X, y):\n",
        "    self.X = X\n",
        "    self.y = y\n",
        "\n",
        "  def __len__(self):\n",
        "    return len(self.y)\n",
        "\n",
        "  def __getitem__(self, idx):\n",
        "    return [self.X[idx], self.y[idx]]\n",
        "\n",
        "def training(dataset_train, dataset_valid, batch_size, model, criterion, optimizer, num_epochs, device=None):\n",
        "  # GPUに送信\n",
        "  model.to(device)\n",
        "\n",
        "  # Dataloaderを作成\n",
        "  dataloader_train = DataLoader(dataset_train, batch_size=batch_size, shuffle=True)\n",
        "  dataloader_valid = DataLoader(dataset_valid, batch_size=len(dataset_valid), shuffle=False)\n",
        "\n",
        "  # スケジューラを設計\n",
        "  scheduler = optim.lr_scheduler.CosineAnnealingLR(optimizer, num_epochs, eta_min=0.00001, last_epoch=-1)\n",
        "\n",
        "  # 学習\n",
        "  log_train = []\n",
        "  log_valid = []\n",
        "  num_epochs = 100\n",
        "  for epoch in range(num_epochs):\n",
        "    start = time.time()\n",
        "\n",
        "    model.train() # 訓練モード\n",
        "    loss_train = 0.0\n",
        "    for inputs, labels in dataloader_train:\n",
        "      optimizer.zero_grad() # 勾配をゼロに初期化\n",
        "      # 順伝播\n",
        "      inputs = inputs.to(device)\n",
        "      labels = labels.to(device)\n",
        "      outputs = model.forward(inputs)\n",
        "      # 誤差逆伝播\n",
        "      loss = criterion(outputs, labels)\n",
        "      loss.backward()\n",
        "      # 重み更新\n",
        "      optimizer.step()\n",
        "\n",
        "    # 検証データの損失を計算・正解率も計算\n",
        "    loss_train, acc_train = calculate_accuracy(model, criterion, dataloader_train, device)\n",
        "    loss_valid, acc_valid = calculate_accuracy(model, criterion, dataloader_valid, device)\n",
        "    log_train.append([loss_train, acc_train])\n",
        "    log_valid.append([loss_valid, acc_valid])\n",
        "\n",
        "    # チェックポイントを保存\n",
        "    torch.save({'epoch' : epoch, 'modelstate_dict' : model.state_dict(), 'optimizerstate_dict' : optimizer.state_dict()}, f'checkpoint{epoch+1}.pt')\n",
        "\n",
        "    end = time.time()\n",
        "\n",
        "    print(f'epoch: {epoch + 1}, loss_train: {loss_train}, accuracy_train: {acc_train}, loss_valid: {loss_valid}, accuracy_valid: {acc_valid}, {(end - start)}sec')\n",
        "\n",
        "    if epoch > 3 and log_valid[epoch - 4][0] <= log_valid[epoch - 3][0] <= log_valid[epoch - 2][0] <= log_valid[epoch - 1][0] <= log_valid[epoch][0]:\n",
        "      break\n",
        "    scheduler.step()\n",
        "  return {\"train\" : log_train, \"valid\" : log_valid}\n",
        "\n",
        "# Dataset（ミニバッチ）を作成\n",
        "dataset_train = NewsDataset(X_train, y_train)\n",
        "dataset_valid = NewsDataset(X_valid, y_valid)\n",
        "\n",
        "# モデルを定義\n",
        "model = MLPNet(300, 200, 4, 1)\n",
        "\n",
        "# 損失関数を定義\n",
        "criterion = nn.CrossEntropyLoss()\n",
        "optimizer = torch.optim.SGD(model.parameters(), lr=0.1)\n",
        "\n",
        "# デバイスを指定\n",
        "device = torch.device(\"cuda\")\n",
        "\n",
        "# 学習\n",
        "log = training(dataset_train, dataset_valid, 64, model, criterion, optimizer, 1000, device=device)"
      ],
      "metadata": {
        "colab": {
          "base_uri": "https://localhost:8080/"
        },
        "id": "mTKyYSTg7ySf",
        "outputId": "0dc50993-942d-4892-edef-be9db127f2a9"
      },
      "execution_count": 20,
      "outputs": [
        {
          "output_type": "stream",
          "name": "stdout",
          "text": [
            "epoch: 1, loss_train: 0.247936548944005, accuracy_train: 0.9175412293853074, loss_valid: 0.318176805973053, accuracy_valid: 0.8935532233883059, 0.48557162284851074sec\n",
            "epoch: 2, loss_train: 0.2527083979841478, accuracy_train: 0.9118253373313343, loss_valid: 0.3627370595932007, accuracy_valid: 0.8800599700149925, 0.49842309951782227sec\n",
            "epoch: 3, loss_train: 0.17225711906473792, accuracy_train: 0.9459332833583208, loss_valid: 0.3005189895629883, accuracy_valid: 0.9002998500749625, 0.481980562210083sec\n",
            "epoch: 4, loss_train: 0.15224701509682717, accuracy_train: 0.946308095952024, loss_valid: 0.32468998432159424, accuracy_valid: 0.8913043478260869, 0.4840559959411621sec\n",
            "epoch: 5, loss_train: 0.114659488926123, accuracy_train: 0.9614880059970015, loss_valid: 0.3235650360584259, accuracy_valid: 0.9062968515742129, 0.48393964767456055sec\n",
            "epoch: 6, loss_train: 0.11776576452180297, accuracy_train: 0.9569902548725637, loss_valid: 0.35325509309768677, accuracy_valid: 0.8958020989505248, 0.47623109817504883sec\n",
            "epoch: 7, loss_train: 0.07332114528440786, accuracy_train: 0.9805097451274363, loss_valid: 0.31247657537460327, accuracy_valid: 0.9077961019490255, 0.4730956554412842sec\n",
            "epoch: 8, loss_train: 0.06764445949658127, accuracy_train: 0.9796664167916042, loss_valid: 0.3374994397163391, accuracy_valid: 0.896551724137931, 0.4898245334625244sec\n",
            "epoch: 9, loss_train: 0.0465337527848914, accuracy_train: 0.9888493253373314, loss_valid: 0.339822381734848, accuracy_valid: 0.9032983508245878, 0.4961585998535156sec\n",
            "epoch: 10, loss_train: 0.04937843767044965, accuracy_train: 0.9866941529235382, loss_valid: 0.3463582694530487, accuracy_valid: 0.9025487256371814, 0.48978233337402344sec\n",
            "epoch: 11, loss_train: 0.05534910224378109, accuracy_train: 0.9843515742128935, loss_valid: 0.39093196392059326, accuracy_valid: 0.8980509745127436, 0.7442092895507812sec\n"
          ]
        }
      ]
    },
    {
      "cell_type": "code",
      "source": [
        "from matplotlib import pyplot as plt\n",
        "import numpy as np\n",
        "\n",
        "fig, ax = plt.subplots(1, 2, figsize=(10, 5))\n",
        "ax[0].plot(np.array(log['train']).T[0], label=\"train\")\n",
        "ax[0].plot(np.array(log['valid']).T[0], label=\"valid\")\n",
        "ax[0].set_xlabel(\"epoch\")\n",
        "ax[0].set_ylabel(\"loss\")\n",
        "ax[0].legend()\n",
        "ax[1].plot(np.array(log[\"train\"]).T[1], label=\"train\")\n",
        "ax[1].plot(np.array(log[\"valid\"]).T[1], label=\"valid\")\n",
        "ax[1].set_xlabel(\"epoch\")\n",
        "ax[1].set_ylabel(\"accuracy\")\n",
        "ax[1].legend()\n",
        "plt.show()"
      ],
      "metadata": {
        "colab": {
          "base_uri": "https://localhost:8080/",
          "height": 465
        },
        "id": "XlkjTte3gVzr",
        "outputId": "7e58c719-be7e-4457-f96c-3b8e2ff313d1"
      },
      "execution_count": 23,
      "outputs": [
        {
          "output_type": "display_data",
          "data": {
            "text/plain": [
              "<Figure size 1000x500 with 2 Axes>"
            ],
            "image/png": "[encoded data removed]"
          },
          "metadata": {}
        }
      ]
    },
    {
      "cell_type": "code",
      "source": [],
      "metadata": {
        "id": "rpbuE7EKjXMg"
      },
      "execution_count": null,
      "outputs": []
    }
  ]
}