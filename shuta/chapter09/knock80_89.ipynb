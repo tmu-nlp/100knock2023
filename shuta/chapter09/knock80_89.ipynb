{
  "nbformat": 4,
  "nbformat_minor": 0,
  "metadata": {
    "colab": {
      "provenance": [],
      "gpuType": "T4"
    },
    "kernelspec": {
      "name": "python3",
      "display_name": "Python 3"
    },
    "language_info": {
      "name": "python"
    },
    "accelerator": "GPU"
  },
  "cells": [
    {
      "cell_type": "markdown",
      "source": [
        "# 80. ID番号への変換\n",
        "\n",
        "問題51で構築した学習データ中の単語にユニークなID番号を付与したい．学習データ中で最も頻出する単語に1，2番目に頻出する単語に2，……といった方法で，学習データ中で2回以上出現する単語にID番号を付与せよ．そして，与えられた単語列に対して，ID番号の列を返す関数を実装せよ．ただし，出現頻度が2回未満の単語のID番号はすべて0とせよ．"
      ],
      "metadata": {
        "id": "sjM6sZ5kW4hy"
      }
    },
    {
      "cell_type": "code",
      "source": [
        "from google.colab import drive\n",
        "drive.mount('/content/drive')"
      ],
      "metadata": {
        "colab": {
          "base_uri": "https://localhost:8080/"
        },
        "id": "Kc2ApsQDwsr9",
        "outputId": "3d893121-d450-42cd-f9ea-a5192fc51bfc"
      },
      "execution_count": 1,
      "outputs": [
        {
          "output_type": "stream",
          "name": "stdout",
          "text": [
            "Mounted at /content/drive\n"
          ]
        }
      ]
    },
    {
      "cell_type": "code",
      "execution_count": 2,
      "metadata": {
        "colab": {
          "base_uri": "https://localhost:8080/"
        },
        "id": "nQvF1SSKuWWY",
        "outputId": "3eef5433-5e25-464b-ad1a-1f231eb27610"
      },
      "outputs": [
        {
          "output_type": "stream",
          "name": "stdout",
          "text": [
            "/content/drive/MyDrive/NewsAggregatorDataset\n"
          ]
        }
      ],
      "source": [
        "cd '/content/drive/MyDrive/NewsAggregatorDataset'"
      ]
    },
    {
      "cell_type": "code",
      "source": [
        "#50 データの入手・整形\n",
        "import pandas as pd\n",
        "from sklearn.model_selection import train_test_split\n",
        "\n",
        "#データ読み込み #エラーが出るため、タブ区切り、ラベル名を指定する\n",
        "df = pd.read_csv('newsCorpora.csv', sep=\"\\t\", names=[\"id\", \"title\", \"url\", \"publisher\", \"category\", \"story\", \"hostname\", \"timestamp\"])\n",
        "\n",
        "#情報源（publisher）が”Reuters”, “Huffington Post”, “Businessweek”, “Contactmusic.com”, “Daily Mail”の事例（記事）のみを抽出する\n",
        "df = df[df['publisher'].isin([\"Reuters\", \"Huffington Post\", \"Businessweek\", \"COntactmusic.com\", \"Daily Mail\"])]\n",
        "\n",
        "#抽出された事例をランダムに並び替える\n",
        "df = df.sample(frac = 1, random_state = 42)\n",
        "\n",
        "#抽出された事例の80%を学習データ，残りの10%ずつを検証データと評価データに分割し，それぞれtrain.txt，valid.txt，test.txtというファイル名で保存する\n",
        "train, test = train_test_split(df, test_size=0.2, random_state = 42)\n",
        "test, valid = train_test_split(test, test_size=0.5, random_state = 42)\n",
        "\n",
        "train.to_csv(\"train.txt\", sep=\"\\t\")\n",
        "test.to_csv(\"test.txt\", sep=\"\\t\")\n",
        "valid.to_csv(\"valid.txt\", sep=\"\\t\")\n",
        "\n",
        "print(\"train:\",train[\"category\"].value_counts())\n",
        "print(\"test:\",test[\"category\"].value_counts())\n",
        "print(\"valid:\",valid[\"category\"].value_counts())\n"
      ],
      "metadata": {
        "colab": {
          "base_uri": "https://localhost:8080/"
        },
        "id": "3jFPbPD1ug-h",
        "outputId": "dce241b9-4074-4a58-fa03-7adba3c72143"
      },
      "execution_count": 3,
      "outputs": [
        {
          "output_type": "stream",
          "name": "stdout",
          "text": [
            "train: b    4494\n",
            "e    2425\n",
            "t    1180\n",
            "m     705\n",
            "Name: category, dtype: int64\n",
            "test: b    557\n",
            "e    275\n",
            "t    168\n",
            "m    101\n",
            "Name: category, dtype: int64\n",
            "valid: b    574\n",
            "e    270\n",
            "t    164\n",
            "m     93\n",
            "Name: category, dtype: int64\n"
          ]
        }
      ]
    },
    {
      "cell_type": "code",
      "source": [
        "#51\n",
        "from sklearn.feature_extraction.text import CountVectorizer\n",
        "\n",
        "CV = CountVectorizer()\n",
        "CV.fit(train['title'])\n",
        "train_X = CV.transform(train['title'])\n",
        "test_X = CV.transform(test['title'])\n",
        "valid_X = CV.transform(valid['title'])\n",
        "print(len(CV.vocabulary_))\n",
        "\n",
        "train_x = pd.DataFrame(data= train_X.toarray(), columns= CV.get_feature_names_out())\n",
        "test_x = pd.DataFrame(data= test_X.toarray(), columns= CV.get_feature_names_out())\n",
        "valid_x = pd.DataFrame(data= valid_X.toarray(), columns= CV.get_feature_names_out())\n",
        "\n",
        "train_x.to_csv('train.feature.txt', sep='\\t', index=False)\n",
        "test_x.to_csv('test.feature.txt', sep='\\t', index=False)\n",
        "valid_x.to_csv('valid.feature.txt', sep='\\t', index=False)\n",
        "\n",
        "df1 = pd.read_csv('train.feature.txt', sep=\"\\t\")\n",
        "df1.head()"
      ],
      "metadata": {
        "colab": {
          "base_uri": "https://localhost:8080/",
          "height": 245
        },
        "id": "df2vcqDo5DUt",
        "outputId": "3af9a038-00d2-4eb8-9369-9e66f4dd326c"
      },
      "execution_count": 4,
      "outputs": [
        {
          "output_type": "stream",
          "name": "stdout",
          "text": [
            "11823\n"
          ]
        },
        {
          "output_type": "execute_result",
          "data": {
            "text/plain": [
              "   00  07  08  09  10  100  1000  10000  100000  100k  ...  zillow  zimmerman  \\\n",
              "0   0   0   0   0   0    0     0      0       0     0  ...       0          0   \n",
              "1   0   0   0   0   0    0     0      0       0     0  ...       0          0   \n",
              "2   0   0   0   0   0    0     0      0       0     0  ...       0          0   \n",
              "3   0   0   0   0   0    0     0      0       0     0  ...       0          0   \n",
              "4   0   0   0   0   0    0     0      0       0     0  ...       0          0   \n",
              "\n",
              "   zip  zmapp  zombie  zombies  zone  zooey  zuckerberg  zynga  \n",
              "0    0      0       0        0     0      0           0      0  \n",
              "1    0      0       0        0     0      0           0      0  \n",
              "2    0      0       0        0     0      0           0      0  \n",
              "3    0      0       0        0     0      0           0      0  \n",
              "4    0      0       0        0     0      0           0      0  \n",
              "\n",
              "[5 rows x 11823 columns]"
            ],
            "text/html": [
              "\n",
              "  <div id=\"df-4d8c8b47-3abf-44a0-85b6-396fadcf9f24\">\n",
              "    <div class=\"colab-df-container\">\n",
              "      <div>\n",
              "<style scoped>\n",
              "    .dataframe tbody tr th:only-of-type {\n",
              "        vertical-align: middle;\n",
              "    }\n",
              "\n",
              "    .dataframe tbody tr th {\n",
              "        vertical-align: top;\n",
              "    }\n",
              "\n",
              "    .dataframe thead th {\n",
              "        text-align: right;\n",
              "    }\n",
              "</style>\n",
              "<table border=\"1\" class=\"dataframe\">\n",
              "  <thead>\n",
              "    <tr style=\"text-align: right;\">\n",
              "      <th></th>\n",
              "      <th>00</th>\n",
              "      <th>07</th>\n",
              "      <th>08</th>\n",
              "      <th>09</th>\n",
              "      <th>10</th>\n",
              "      <th>100</th>\n",
              "      <th>1000</th>\n",
              "      <th>10000</th>\n",
              "      <th>100000</th>\n",
              "      <th>100k</th>\n",
              "      <th>...</th>\n",
              "      <th>zillow</th>\n",
              "      <th>zimmerman</th>\n",
              "      <th>zip</th>\n",
              "      <th>zmapp</th>\n",
              "      <th>zombie</th>\n",
              "      <th>zombies</th>\n",
              "      <th>zone</th>\n",
              "      <th>zooey</th>\n",
              "      <th>zuckerberg</th>\n",
              "      <th>zynga</th>\n",
              "    </tr>\n",
              "  </thead>\n",
              "  <tbody>\n",
              "    <tr>\n",
              "      <th>0</th>\n",
              "      <td>0</td>\n",
              "      <td>0</td>\n",
              "      <td>0</td>\n",
              "      <td>0</td>\n",
              "      <td>0</td>\n",
              "      <td>0</td>\n",
              "      <td>0</td>\n",
              "      <td>0</td>\n",
              "      <td>0</td>\n",
              "      <td>0</td>\n",
              "      <td>...</td>\n",
              "      <td>0</td>\n",
              "      <td>0</td>\n",
              "      <td>0</td>\n",
              "      <td>0</td>\n",
              "      <td>0</td>\n",
              "      <td>0</td>\n",
              "      <td>0</td>\n",
              "      <td>0</td>\n",
              "      <td>0</td>\n",
              "      <td>0</td>\n",
              "    </tr>\n",
              "    <tr>\n",
              "      <th>1</th>\n",
              "      <td>0</td>\n",
              "      <td>0</td>\n",
              "      <td>0</td>\n",
              "      <td>0</td>\n",
              "      <td>0</td>\n",
              "      <td>0</td>\n",
              "      <td>0</td>\n",
              "      <td>0</td>\n",
              "      <td>0</td>\n",
              "      <td>0</td>\n",
              "      <td>...</td>\n",
              "      <td>0</td>\n",
              "      <td>0</td>\n",
              "      <td>0</td>\n",
              "      <td>0</td>\n",
              "      <td>0</td>\n",
              "      <td>0</td>\n",
              "      <td>0</td>\n",
              "      <td>0</td>\n",
              "      <td>0</td>\n",
              "      <td>0</td>\n",
              "    </tr>\n",
              "    <tr>\n",
              "      <th>2</th>\n",
              "      <td>0</td>\n",
              "      <td>0</td>\n",
              "      <td>0</td>\n",
              "      <td>0</td>\n",
              "      <td>0</td>\n",
              "      <td>0</td>\n",
              "      <td>0</td>\n",
              "      <td>0</td>\n",
              "      <td>0</td>\n",
              "      <td>0</td>\n",
              "      <td>...</td>\n",
              "      <td>0</td>\n",
              "      <td>0</td>\n",
              "      <td>0</td>\n",
              "      <td>0</td>\n",
              "      <td>0</td>\n",
              "      <td>0</td>\n",
              "      <td>0</td>\n",
              "      <td>0</td>\n",
              "      <td>0</td>\n",
              "      <td>0</td>\n",
              "    </tr>\n",
              "    <tr>\n",
              "      <th>3</th>\n",
              "      <td>0</td>\n",
              "      <td>0</td>\n",
              "      <td>0</td>\n",
              "      <td>0</td>\n",
              "      <td>0</td>\n",
              "      <td>0</td>\n",
              "      <td>0</td>\n",
              "      <td>0</td>\n",
              "      <td>0</td>\n",
              "      <td>0</td>\n",
              "      <td>...</td>\n",
              "      <td>0</td>\n",
              "      <td>0</td>\n",
              "      <td>0</td>\n",
              "      <td>0</td>\n",
              "      <td>0</td>\n",
              "      <td>0</td>\n",
              "      <td>0</td>\n",
              "      <td>0</td>\n",
              "      <td>0</td>\n",
              "      <td>0</td>\n",
              "    </tr>\n",
              "    <tr>\n",
              "      <th>4</th>\n",
              "      <td>0</td>\n",
              "      <td>0</td>\n",
              "      <td>0</td>\n",
              "      <td>0</td>\n",
              "      <td>0</td>\n",
              "      <td>0</td>\n",
              "      <td>0</td>\n",
              "      <td>0</td>\n",
              "      <td>0</td>\n",
              "      <td>0</td>\n",
              "      <td>...</td>\n",
              "      <td>0</td>\n",
              "      <td>0</td>\n",
              "      <td>0</td>\n",
              "      <td>0</td>\n",
              "      <td>0</td>\n",
              "      <td>0</td>\n",
              "      <td>0</td>\n",
              "      <td>0</td>\n",
              "      <td>0</td>\n",
              "      <td>0</td>\n",
              "    </tr>\n",
              "  </tbody>\n",
              "</table>\n",
              "<p>5 rows × 11823 columns</p>\n",
              "</div>\n",
              "      <button class=\"colab-df-convert\" onclick=\"convertToInteractive('df-4d8c8b47-3abf-44a0-85b6-396fadcf9f24')\"\n",
              "              title=\"Convert this dataframe to an interactive table.\"\n",
              "              style=\"display:none;\">\n",
              "        \n",
              "  <svg xmlns=\"http://www.w3.org/2000/svg\" height=\"24px\"viewBox=\"0 0 24 24\"\n",
              "       width=\"24px\">\n",
              "    <path d=\"M0 0h24v24H0V0z\" fill=\"none\"/>\n",
              "    <path d=\"M18.56 5.44l.94 2.06.94-2.06 2.06-.94-2.06-.94-.94-2.06-.94 2.06-2.06.94zm-11 1L8.5 8.5l.94-2.06 2.06-.94-2.06-.94L8.5 2.5l-.94 2.06-2.06.94zm10 10l.94 2.06.94-2.06 2.06-.94-2.06-.94-.94-2.06-.94 2.06-2.06.94z\"/><path d=\"M17.41 7.96l-1.37-1.37c-.4-.4-.92-.59-1.43-.59-.52 0-1.04.2-1.43.59L10.3 9.45l-7.72 7.72c-.78.78-.78 2.05 0 2.83L4 21.41c.39.39.9.59 1.41.59.51 0 1.02-.2 1.41-.59l7.78-7.78 2.81-2.81c.8-.78.8-2.07 0-2.86zM5.41 20L4 18.59l7.72-7.72 1.47 1.35L5.41 20z\"/>\n",
              "  </svg>\n",
              "      </button>\n",
              "      \n",
              "  <style>\n",
              "    .colab-df-container {\n",
              "      display:flex;\n",
              "      flex-wrap:wrap;\n",
              "      gap: 12px;\n",
              "    }\n",
              "\n",
              "    .colab-df-convert {\n",
              "      background-color: #E8F0FE;\n",
              "      border: none;\n",
              "      border-radius: 50%;\n",
              "      cursor: pointer;\n",
              "      display: none;\n",
              "      fill: #1967D2;\n",
              "      height: 32px;\n",
              "      padding: 0 0 0 0;\n",
              "      width: 32px;\n",
              "    }\n",
              "\n",
              "    .colab-df-convert:hover {\n",
              "      background-color: #E2EBFA;\n",
              "      box-shadow: 0px 1px 2px rgba(60, 64, 67, 0.3), 0px 1px 3px 1px rgba(60, 64, 67, 0.15);\n",
              "      fill: #174EA6;\n",
              "    }\n",
              "\n",
              "    [theme=dark] .colab-df-convert {\n",
              "      background-color: #3B4455;\n",
              "      fill: #D2E3FC;\n",
              "    }\n",
              "\n",
              "    [theme=dark] .colab-df-convert:hover {\n",
              "      background-color: #434B5C;\n",
              "      box-shadow: 0px 1px 3px 1px rgba(0, 0, 0, 0.15);\n",
              "      filter: drop-shadow(0px 1px 2px rgba(0, 0, 0, 0.3));\n",
              "      fill: #FFFFFF;\n",
              "    }\n",
              "  </style>\n",
              "\n",
              "      <script>\n",
              "        const buttonEl =\n",
              "          document.querySelector('#df-4d8c8b47-3abf-44a0-85b6-396fadcf9f24 button.colab-df-convert');\n",
              "        buttonEl.style.display =\n",
              "          google.colab.kernel.accessAllowed ? 'block' : 'none';\n",
              "\n",
              "        async function convertToInteractive(key) {\n",
              "          const element = document.querySelector('#df-4d8c8b47-3abf-44a0-85b6-396fadcf9f24');\n",
              "          const dataTable =\n",
              "            await google.colab.kernel.invokeFunction('convertToInteractive',\n",
              "                                                     [key], {});\n",
              "          if (!dataTable) return;\n",
              "\n",
              "          const docLinkHtml = 'Like what you see? Visit the ' +\n",
              "            '<a target=\"_blank\" href=https://colab.research.google.com/notebooks/data_table.ipynb>data table notebook</a>'\n",
              "            + ' to learn more about interactive tables.';\n",
              "          element.innerHTML = '';\n",
              "          dataTable['output_type'] = 'display_data';\n",
              "          await google.colab.output.renderOutput(dataTable, element);\n",
              "          const docLink = document.createElement('div');\n",
              "          docLink.innerHTML = docLinkHtml;\n",
              "          element.appendChild(docLink);\n",
              "        }\n",
              "      </script>\n",
              "    </div>\n",
              "  </div>\n",
              "  "
            ]
          },
          "metadata": {},
          "execution_count": 4
        }
      ]
    },
    {
      "cell_type": "code",
      "source": [
        "#80\n",
        "import numpy as np\n",
        "\n",
        "df2 = pd.DataFrame(data= df1.sum(), columns=['count'])\n",
        "df2['word'] = df2.index\n",
        "df2 = df2.sort_values('count', ascending=False)\n",
        "df2.index = np.arange(0,len(df2))\n",
        "df2['id'] = df2.index+1\n",
        "df2['id'].where(df2['count'] >2, 0, inplace=True)\n"
      ],
      "metadata": {
        "id": "wvyPSeg29pVd"
      },
      "execution_count": 5,
      "outputs": []
    },
    {
      "cell_type": "code",
      "source": [
        "def idreturn(text):\n",
        "  lis= []\n",
        "  for word in text.split(' '):\n",
        "    number= 0\n",
        "\n",
        "    for i in range(len(df2)):\n",
        "      if word == df2['word'][i]:\n",
        "        number = df2['id'][i]\n",
        "\n",
        "    lis.append(number)\n",
        "\n",
        "  return lis"
      ],
      "metadata": {
        "id": "iUou7P3nPFcz"
      },
      "execution_count": 6,
      "outputs": []
    },
    {
      "cell_type": "code",
      "source": [
        "print(idreturn('I have a pen'))"
      ],
      "metadata": {
        "colab": {
          "base_uri": "https://localhost:8080/"
        },
        "id": "6iUzhjel_eme",
        "outputId": "419b4c01-11a3-41ba-b284-84d62458b89c"
      },
      "execution_count": 7,
      "outputs": [
        {
          "output_type": "stream",
          "name": "stdout",
          "text": [
            "[0, 93, 0, 0]\n"
          ]
        }
      ]
    },
    {
      "cell_type": "markdown",
      "source": [
        "# 80'"
      ],
      "metadata": {
        "id": "wAhE86ZSZcPK"
      }
    },
    {
      "cell_type": "code",
      "source": [
        "# データのロード\n",
        "import pandas as pd\n",
        "import re\n",
        "import numpy as np\n",
        "\n",
        "# ファイル読み込み\n",
        "file = './newsCorpora.csv'\n",
        "data = pd.read_csv(file, encoding='utf-8', header=None, sep='\\t', names=['ID', 'TITLE', 'URL', 'PUBLISHER', 'CATEGORY', 'STORY', 'HOSTNAME', 'TIMESTAMP'])\n",
        "data = data.replace('\"', \"'\")\n",
        "# 特定のpublisherのみ抽出\n",
        "publishers = ['Reuters', 'Huffington Post', 'Businessweek', 'Contactmusic.com', 'Daily Mail']\n",
        "data = data.loc[data['PUBLISHER'].isin(publishers), ['TITLE', 'CATEGORY']].reset_index(drop=True)\n",
        "\n",
        "# 前処理\n",
        "def preprocessing(text):\n",
        "    text_clean = re.sub(r'[\\\"\\'.,:;\\(\\)#\\|\\*\\+\\!\\?#$%&/\\]\\[\\{\\}]', '', text)\n",
        "    text_clean = re.sub('[0-9]+', '0', text_clean)\n",
        "    text_clean = re.sub('\\s-\\s', ' ', text_clean)\n",
        "    return text_clean\n",
        "\n",
        "data['TITLE'] = data['TITLE'].apply(preprocessing)\n",
        "\n",
        "# 学習用、検証用、評価用に分割する\n",
        "from sklearn.model_selection import train_test_split\n",
        "\n",
        "train, valid_test = train_test_split(data, test_size=0.2, shuffle=True, random_state=64, stratify=data['CATEGORY'])\n",
        "valid, test = train_test_split(valid_test, test_size=0.5, shuffle=True, random_state=64, stratify=valid_test['CATEGORY'])\n",
        "\n",
        "train = train.reset_index(drop=True)\n",
        "valid = valid.reset_index(drop=True)\n",
        "test = test.reset_index(drop=True)\n",
        "\n",
        "# データ数の確認\n",
        "print('学習データ')\n",
        "print(train['CATEGORY'].value_counts())\n",
        "print('検証データ')\n",
        "print(valid['CATEGORY'].value_counts())\n",
        "print('評価データ')\n",
        "print(test['CATEGORY'].value_counts())"
      ],
      "metadata": {
        "colab": {
          "base_uri": "https://localhost:8080/"
        },
        "id": "deC3-lsUcJDx",
        "outputId": "df9fa094-cf36-4e90-9720-c9081862c5b8"
      },
      "execution_count": 8,
      "outputs": [
        {
          "output_type": "stream",
          "name": "stdout",
          "text": [
            "学習データ\n",
            "b    4502\n",
            "e    4223\n",
            "t    1219\n",
            "m     728\n",
            "Name: CATEGORY, dtype: int64\n",
            "検証データ\n",
            "b    562\n",
            "e    528\n",
            "t    153\n",
            "m     91\n",
            "Name: CATEGORY, dtype: int64\n",
            "評価データ\n",
            "b    563\n",
            "e    528\n",
            "t    152\n",
            "m     91\n",
            "Name: CATEGORY, dtype: int64\n"
          ]
        }
      ]
    },
    {
      "cell_type": "code",
      "source": [
        "# 単語の辞書を作成\n",
        "from collections import Counter\n",
        "words = []\n",
        "for text in train['TITLE']:\n",
        "    for word in text.rstrip().split():\n",
        "        words.append(word)\n",
        "c = Counter(words)\n",
        "word2id = {}\n",
        "for i, cnt in enumerate(c.most_common()):\n",
        "    if cnt[1] > 1:\n",
        "        word2id[cnt[0]] = i + 1\n",
        "for i, cnt in enumerate(word2id.items()):\n",
        "    if i >= 10:\n",
        "        break\n",
        "    print(cnt[0], cnt[1])"
      ],
      "metadata": {
        "colab": {
          "base_uri": "https://localhost:8080/"
        },
        "id": "_g91cTUwcSgJ",
        "outputId": "69deab65-7f9e-48d8-9af0-bb59bb1c27be"
      },
      "execution_count": 9,
      "outputs": [
        {
          "output_type": "stream",
          "name": "stdout",
          "text": [
            "to 1\n",
            "0 2\n",
            "in 3\n",
            "as 4\n",
            "on 5\n",
            "UPDATE 6\n",
            "for 7\n",
            "The 8\n",
            "of 9\n",
            "US 10\n"
          ]
        }
      ]
    },
    {
      "cell_type": "code",
      "source": [
        "# 単語のID化\n",
        "def tokenizer(text):\n",
        "    words = text.rstrip().split()\n",
        "    return [word2id.get(word, 0) for word in words]\n",
        "\n",
        "sample = train.at[0, 'TITLE']\n",
        "print(sample)\n",
        "print(tokenizer(sample))"
      ],
      "metadata": {
        "colab": {
          "base_uri": "https://localhost:8080/"
        },
        "id": "h_FYe6J2cZOC",
        "outputId": "64c57ae4-0668-4b0f-caa0-c23e7b352181"
      },
      "execution_count": 10,
      "outputs": [
        {
          "output_type": "stream",
          "name": "stdout",
          "text": [
            "Justin Bieber Under Investigation For Attempted Robbery At Dave  Busters\n",
            "[68, 76, 782, 1974, 21, 5054, 5055, 34, 1602, 0]\n"
          ]
        }
      ]
    },
    {
      "cell_type": "markdown",
      "source": [
        "# 81. RNNによる予測\n",
        "\n",
        "ID番号で表現された単語列x=(x1,x2,…,xT)\n",
        "がある．ただし，T\n",
        "は単語列の長さ，xt∈ℝV\n",
        "は単語のID番号のone-hot表記である（V\n",
        "は単語の総数である）．再帰型ニューラルネットワーク（RNN: Recurrent Neural Network）を用い，単語列x\n",
        "からカテゴリy\n",
        "を予測するモデルとして，次式を実装せよ\n"
      ],
      "metadata": {
        "id": "76RrwhJuW-BB"
      }
    },
    {
      "cell_type": "code",
      "source": [
        "import torch\n",
        "from torch import nn\n",
        "\n",
        "VOCAB_SIZE = 4\n",
        "EMB_SIZE = 3\n",
        "emb = nn.Embedding(VOCAB_SIZE, EMB_SIZE)\n",
        "\n",
        "words = torch.tensor([1, 3, 0, 2, 1, 2])\n",
        "embed_words = emb(words)\n",
        "print(embed_words)\n",
        "print(words.shape, '->', embed_words.shape)"
      ],
      "metadata": {
        "colab": {
          "base_uri": "https://localhost:8080/"
        },
        "id": "09vd-NRTcAwM",
        "outputId": "9b1eb749-729c-4dba-f60f-d0b7ea34b1cd"
      },
      "execution_count": 11,
      "outputs": [
        {
          "output_type": "stream",
          "name": "stdout",
          "text": [
            "tensor([[ 0.0284,  0.7764, -0.6975],\n",
            "        [ 0.8299,  0.3538,  1.1262],\n",
            "        [-0.3175, -0.3705,  1.9965],\n",
            "        [-0.6302,  1.3916, -1.0184],\n",
            "        [ 0.0284,  0.7764, -0.6975],\n",
            "        [-0.6302,  1.3916, -1.0184]], grad_fn=<EmbeddingBackward0>)\n",
            "torch.Size([6]) -> torch.Size([6, 3])\n"
          ]
        }
      ]
    },
    {
      "cell_type": "code",
      "source": [
        "!pip install torchinfo"
      ],
      "metadata": {
        "colab": {
          "base_uri": "https://localhost:8080/"
        },
        "id": "fEInKFRdcpcc",
        "outputId": "c53e2180-0b58-4870-834b-6c95b25dbe06"
      },
      "execution_count": 12,
      "outputs": [
        {
          "output_type": "stream",
          "name": "stdout",
          "text": [
            "Collecting torchinfo\n",
            "  Downloading torchinfo-1.8.0-py3-none-any.whl (23 kB)\n",
            "Installing collected packages: torchinfo\n",
            "Successfully installed torchinfo-1.8.0\n"
          ]
        }
      ]
    },
    {
      "cell_type": "code",
      "source": [
        "# RNNの作成\n",
        "# モデルの構築\n",
        "import random\n",
        "import torch\n",
        "from torch import nn\n",
        "import torch.utils.data as data\n",
        "from torchinfo import summary\n",
        "\n",
        "# 乱数のシードを設定\n",
        "# parserなどで指定\n",
        "seed = 1234\n",
        "\n",
        "random.seed(seed)\n",
        "np.random.seed(seed)\n",
        "torch.manual_seed(seed)\n",
        "torch.backends.cudnn.benchmark = False\n",
        "torch.backends.cudnn.deterministic = True\n",
        "\n",
        "def seed_worker(worker_id):\n",
        "    worker_seed = torch.initial_seed() % 2**32\n",
        "    np.random.seed(worker_seed)\n",
        "    random.seed(worker_seed)\n",
        "\n",
        "g = torch.Generator()\n",
        "g.manual_seed(seed)\n",
        "\n",
        "class RNN(nn.Module):\n",
        "    def __init__(self, vocab_size, emb_size, padding_idx, hidden_size, output_size, num_layers=1):\n",
        "        super().__init__()\n",
        "        self.emb = nn.Embedding(vocab_size, emb_size, padding_idx=padding_idx)\n",
        "        self.rnn = nn.RNN(emb_size, hidden_size, batch_first=True)\n",
        "        self.fc = nn.Linear(hidden_size, output_size)\n",
        "\n",
        "    def forward(self, x, h0=None):\n",
        "        x = self.emb(x)\n",
        "        x, h = self.rnn(x, h0)\n",
        "        x = x[:, -1, :]\n",
        "        logits = self.fc(x)\n",
        "        return logits\n",
        "\n",
        "# パラメータの設定\n",
        "VOCAB_SIZE = len(set(word2id.values())) + 2  # 辞書のID数 + unknown + パディングID\n",
        "EMB_SIZE = 300\n",
        "PADDING_IDX = len(set(word2id.values())) + 1\n",
        "OUTPUT_SIZE = 4\n",
        "HIDDEN_SIZE = 50\n",
        "NUM_LAYERS = 1\n",
        "\n",
        "# モデルの定義\n",
        "model = RNN(VOCAB_SIZE, EMB_SIZE, PADDING_IDX, HIDDEN_SIZE, OUTPUT_SIZE, NUM_LAYERS)\n",
        "print(model)"
      ],
      "metadata": {
        "colab": {
          "base_uri": "https://localhost:8080/"
        },
        "id": "nWZrKh1UcEME",
        "outputId": "30bb2a92-b692-471c-9724-da4072c2a85c"
      },
      "execution_count": 13,
      "outputs": [
        {
          "output_type": "stream",
          "name": "stdout",
          "text": [
            "RNN(\n",
            "  (emb): Embedding(9725, 300, padding_idx=9724)\n",
            "  (rnn): LSTM(300, 50, batch_first=True)\n",
            "  (fc): Linear(in_features=50, out_features=4, bias=True)\n",
            ")\n"
          ]
        }
      ]
    },
    {
      "cell_type": "code",
      "source": [
        "x = torch.tensor([tokenizer(sample)], dtype=torch.int64)\n",
        "print(x)\n",
        "print(x.size())\n",
        "print(nn.Softmax(dim=-1)(model(x)))"
      ],
      "metadata": {
        "colab": {
          "base_uri": "https://localhost:8080/"
        },
        "id": "dwT9uZj6c2z1",
        "outputId": "c396d6ca-8ced-4c26-eb0f-ea128edac890"
      },
      "execution_count": 14,
      "outputs": [
        {
          "output_type": "stream",
          "name": "stdout",
          "text": [
            "tensor([[  68,   76,  782, 1974,   21, 5054, 5055,   34, 1602,    0]])\n",
            "torch.Size([1, 10])\n",
            "tensor([[0.2783, 0.2129, 0.2804, 0.2284]], grad_fn=<SoftmaxBackward0>)\n"
          ]
        }
      ]
    },
    {
      "cell_type": "markdown",
      "source": [
        "# 82. 確率的勾配降下法による学習\n",
        "\n",
        "確率的勾配降下法（SGD: Stochastic Gradient Descent）を用いて，問題81で構築したモデルを学習せよ．訓練データ上の損失と正解率，評価データ上の損失と正解率を表示しながらモデルを学習し，適当な基準（例えば10エポックなど）で終了させよ．"
      ],
      "metadata": {
        "id": "3DGfGwGCYRja"
      }
    },
    {
      "cell_type": "code",
      "source": [
        "# ターゲットのテンソル化\n",
        "category_dict = {'b': 0, 't': 1, 'e':2, 'm':3}\n",
        "Y_train = torch.from_numpy(train['CATEGORY'].map(category_dict).values)\n",
        "Y_valid = torch.from_numpy(valid['CATEGORY'].map(category_dict).values)\n",
        "Y_test = torch.from_numpy(test['CATEGORY'].map(category_dict).values)\n",
        "print(Y_train.size())\n",
        "print(Y_train)"
      ],
      "metadata": {
        "colab": {
          "base_uri": "https://localhost:8080/"
        },
        "id": "bBdVpS3zc9aP",
        "outputId": "2ddb43fe-1c8f-4d25-8230-3c99ddc0890b"
      },
      "execution_count": 15,
      "outputs": [
        {
          "output_type": "stream",
          "name": "stdout",
          "text": [
            "torch.Size([10672])\n",
            "tensor([2, 0, 2,  ..., 0, 0, 0])\n"
          ]
        }
      ]
    },
    {
      "cell_type": "code",
      "source": [
        "class NewsDataset(data.Dataset):\n",
        "    \"\"\"\n",
        "    newsのDatasetクラス\n",
        "\n",
        "    Attributes\n",
        "    ----------------------------\n",
        "    X : データフレーム\n",
        "        単語ベクトルの平均をまとめたテンソル\n",
        "    y : テンソル\n",
        "        カテゴリをラベル化したテンソル\n",
        "    phase : 'train' or 'val'\n",
        "        学習か訓練かを設定する\n",
        "    \"\"\"\n",
        "    def __init__(self, X, y, phase='train'):\n",
        "        self.X = X['TITLE']\n",
        "        self.y = y\n",
        "        self.phase = phase\n",
        "\n",
        "    def __len__(self):\n",
        "        \"\"\"全データサイズを返す\"\"\"\n",
        "        return len(self.y)\n",
        "\n",
        "    def __getitem__(self, idx):\n",
        "        \"\"\"idxに対応するテンソル形式のデータとラベルを取得\"\"\"\n",
        "        inputs = torch.tensor(tokenizer(self.X[idx]))\n",
        "        return inputs, self.y[idx]\n",
        "\n",
        "train_dataset = NewsDataset(train, Y_train, phase='train')\n",
        "valid_dataset = NewsDataset(valid, Y_valid, phase='val')\n",
        "test_dataset = NewsDataset(test, Y_test, phase='val')\n",
        "# 動作確認\n",
        "idx = 0\n",
        "print(train_dataset.__getitem__(idx)[0].size())\n",
        "print(train_dataset.__getitem__(idx)[1])\n",
        "print(valid_dataset.__getitem__(idx)[0].size())\n",
        "print(valid_dataset.__getitem__(idx)[1])\n",
        "print(test_dataset.__getitem__(idx)[0].size())\n",
        "print(test_dataset.__getitem__(idx)[1])"
      ],
      "metadata": {
        "colab": {
          "base_uri": "https://localhost:8080/"
        },
        "id": "qmpV9_Iyc-Pq",
        "outputId": "e09b42a9-c250-49d6-ccc3-76379de5f2b5"
      },
      "execution_count": 16,
      "outputs": [
        {
          "output_type": "stream",
          "name": "stdout",
          "text": [
            "torch.Size([10])\n",
            "tensor(2)\n",
            "torch.Size([11])\n",
            "tensor(3)\n",
            "torch.Size([13])\n",
            "tensor(2)\n"
          ]
        }
      ]
    },
    {
      "cell_type": "code",
      "source": [
        "# DataLoaderを作成\n",
        "batch_size = 1\n",
        "\n",
        "train_dataloader = data.DataLoader(\n",
        "            train_dataset, batch_size=batch_size, shuffle=True, worker_init_fn=seed_worker, generator=g)\n",
        "valid_dataloader = data.DataLoader(\n",
        "            valid_dataset, batch_size=batch_size, shuffle=False, worker_init_fn=seed_worker, generator=g)\n",
        "test_dataloader = data.DataLoader(\n",
        "            test_dataset, batch_size=batch_size, shuffle=False, worker_init_fn=seed_worker, generator=g)\n",
        "\n",
        "dataloaders_dict = {'train': train_dataloader,\n",
        "                    'val': valid_dataloader,\n",
        "                    'test': test_dataloader,\n",
        "                   }\n",
        "\n",
        "# 動作確認\n",
        "batch_iter = iter(dataloaders_dict['train'])\n",
        "inputs, labels = next(batch_iter)\n",
        "print(inputs.size())\n",
        "print(labels)"
      ],
      "metadata": {
        "colab": {
          "base_uri": "https://localhost:8080/"
        },
        "id": "stFpUR8ZdCYK",
        "outputId": "28b2f0e7-81c9-43b2-92e4-80ed50c0bf7b"
      },
      "execution_count": 17,
      "outputs": [
        {
          "output_type": "stream",
          "name": "stdout",
          "text": [
            "torch.Size([1, 11])\n",
            "tensor([2])\n"
          ]
        }
      ]
    },
    {
      "cell_type": "code",
      "source": [
        "import matplotlib.pyplot as plt\n",
        "from tqdm import tqdm\n",
        "\n",
        "# 学習用の関数を定義\n",
        "def train_model(net, dataloaders_dict, criterion, optimizer, num_epochs):\n",
        "    train_loss = []\n",
        "    train_acc = []\n",
        "    valid_loss = []\n",
        "    valid_acc = []\n",
        "    # epochのループ\n",
        "    for epoch in range(num_epochs):\n",
        "        print('Epoch {} / {}'.format(epoch + 1, num_epochs))\n",
        "        print('--------------------------------------------')\n",
        "\n",
        "        # epochごとの学習と検証のループ\n",
        "        for phase in ['train', 'val']:\n",
        "            if phase == 'train':\n",
        "                net.train() # 訓練モード\n",
        "            else:\n",
        "                net.eval() # 検証モード\n",
        "\n",
        "            epoch_loss = 0.0 # epochの損失和\n",
        "            epoch_corrects = 0 # epochの正解数\n",
        "\n",
        "            # データローダーからミニバッチを取り出すループ\n",
        "            for inputs, labels in tqdm(dataloaders_dict[phase]):\n",
        "                optimizer.zero_grad() # optimizerを初期化\n",
        "\n",
        "                # 順伝播計算(forward)\n",
        "                with torch.set_grad_enabled(phase == 'train'):\n",
        "                    outputs = net(inputs)\n",
        "                    loss = criterion(outputs, labels) # 損失を計算\n",
        "                    _, preds = torch.max(outputs, 1) # ラベルを予想\n",
        "\n",
        "                    # 訓練時は逆伝播\n",
        "                    if phase == 'train':\n",
        "                        loss.backward()\n",
        "                        optimizer.step()\n",
        "\n",
        "                    # イテレーション結果の計算\n",
        "                    # lossの合計を更新\n",
        "                    epoch_loss += loss.item() * inputs.size(0)\n",
        "                    # 正解数の合計を更新\n",
        "                    epoch_corrects += torch.sum(preds == labels.data)\n",
        "\n",
        "            # epochごとのlossと正解率の表示\n",
        "            epoch_loss = epoch_loss / len(dataloaders_dict[phase].dataset)\n",
        "            epoch_acc = epoch_corrects.double() / len(dataloaders_dict[phase].dataset)\n",
        "            if phase == 'train':\n",
        "                train_loss.append(epoch_loss)\n",
        "                train_acc.append(epoch_acc)\n",
        "            else:\n",
        "                valid_loss.append(epoch_loss)\n",
        "                valid_acc.append(epoch_acc)\n",
        "\n",
        "            print('{} Loss: {:.4f}, Acc: {:.4f}'.format(phase, epoch_loss, epoch_acc))\n",
        "    return train_loss, train_acc, valid_loss, valid_acc\n",
        "\n",
        "# 学習を実行する\n",
        "\n",
        "# モデルの定義\n",
        "net = RNN(VOCAB_SIZE, EMB_SIZE, PADDING_IDX, HIDDEN_SIZE, OUTPUT_SIZE, NUM_LAYERS)\n",
        "net.train()\n",
        "\n",
        "# 損失関数の定義\n",
        "criterion = nn.CrossEntropyLoss()\n",
        "\n",
        "# 最適化手法の定義\n",
        "optimizer = torch.optim.SGD(net.parameters(), lr=0.001, momentum=0.9)\n",
        "\n",
        "num_epochs = 5\n",
        "train_loss, train_acc, valid_loss, valid_acc = train_model(net,\n",
        "            dataloaders_dict, criterion, optimizer, num_epochs=num_epochs)"
      ],
      "metadata": {
        "colab": {
          "base_uri": "https://localhost:8080/"
        },
        "id": "LmtA7yn5dF2I",
        "outputId": "eb5dd5f8-d791-4ff8-a0ed-2c3c005bd2d5"
      },
      "execution_count": 18,
      "outputs": [
        {
          "output_type": "stream",
          "name": "stdout",
          "text": [
            "Epoch 1 / 5\n",
            "--------------------------------------------\n"
          ]
        },
        {
          "output_type": "stream",
          "name": "stderr",
          "text": [
            "100%|██████████| 10672/10672 [04:46<00:00, 37.30it/s]\n"
          ]
        },
        {
          "output_type": "stream",
          "name": "stdout",
          "text": [
            "train Loss: 0.9959, Acc: 0.6041\n"
          ]
        },
        {
          "output_type": "stream",
          "name": "stderr",
          "text": [
            "100%|██████████| 1334/1334 [00:00<00:00, 1566.76it/s]\n"
          ]
        },
        {
          "output_type": "stream",
          "name": "stdout",
          "text": [
            "val Loss: 0.7686, Acc: 0.7391\n",
            "Epoch 2 / 5\n",
            "--------------------------------------------\n"
          ]
        },
        {
          "output_type": "stream",
          "name": "stderr",
          "text": [
            "100%|██████████| 10672/10672 [05:53<00:00, 30.15it/s]\n"
          ]
        },
        {
          "output_type": "stream",
          "name": "stdout",
          "text": [
            "train Loss: 0.6217, Acc: 0.7737\n"
          ]
        },
        {
          "output_type": "stream",
          "name": "stderr",
          "text": [
            "100%|██████████| 1334/1334 [00:00<00:00, 1588.29it/s]\n"
          ]
        },
        {
          "output_type": "stream",
          "name": "stdout",
          "text": [
            "val Loss: 0.6238, Acc: 0.7729\n",
            "Epoch 3 / 5\n",
            "--------------------------------------------\n"
          ]
        },
        {
          "output_type": "stream",
          "name": "stderr",
          "text": [
            "100%|██████████| 10672/10672 [05:49<00:00, 30.52it/s]\n"
          ]
        },
        {
          "output_type": "stream",
          "name": "stdout",
          "text": [
            "train Loss: 0.3893, Acc: 0.8622\n"
          ]
        },
        {
          "output_type": "stream",
          "name": "stderr",
          "text": [
            "100%|██████████| 1334/1334 [00:00<00:00, 1566.30it/s]\n"
          ]
        },
        {
          "output_type": "stream",
          "name": "stdout",
          "text": [
            "val Loss: 0.5844, Acc: 0.8013\n",
            "Epoch 4 / 5\n",
            "--------------------------------------------\n"
          ]
        },
        {
          "output_type": "stream",
          "name": "stderr",
          "text": [
            "100%|██████████| 10672/10672 [06:14<00:00, 28.46it/s]\n"
          ]
        },
        {
          "output_type": "stream",
          "name": "stdout",
          "text": [
            "train Loss: 0.2284, Acc: 0.9230\n"
          ]
        },
        {
          "output_type": "stream",
          "name": "stderr",
          "text": [
            "100%|██████████| 1334/1334 [00:00<00:00, 1612.55it/s]\n"
          ]
        },
        {
          "output_type": "stream",
          "name": "stdout",
          "text": [
            "val Loss: 0.5825, Acc: 0.8096\n",
            "Epoch 5 / 5\n",
            "--------------------------------------------\n"
          ]
        },
        {
          "output_type": "stream",
          "name": "stderr",
          "text": [
            "100%|██████████| 10672/10672 [06:20<00:00, 28.01it/s]\n"
          ]
        },
        {
          "output_type": "stream",
          "name": "stdout",
          "text": [
            "train Loss: 0.1208, Acc: 0.9635\n"
          ]
        },
        {
          "output_type": "stream",
          "name": "stderr",
          "text": [
            "100%|██████████| 1334/1334 [00:00<00:00, 1608.68it/s]"
          ]
        },
        {
          "output_type": "stream",
          "name": "stdout",
          "text": [
            "val Loss: 0.6255, Acc: 0.8186\n"
          ]
        },
        {
          "output_type": "stream",
          "name": "stderr",
          "text": [
            "\n"
          ]
        }
      ]
    },
    {
      "cell_type": "markdown",
      "source": [
        "# 83. ミニバッチ化・GPU上での学習\n",
        "\n",
        "問題82のコードを改変し，B\n",
        "事例ごとに損失・勾配を計算して学習を行えるようにせよ（B\n",
        "の値は適当に選べ）．また，GPU上で学習を実行せよ"
      ],
      "metadata": {
        "id": "qqCM-zkWYX79"
      }
    },
    {
      "cell_type": "code",
      "source": [
        "#TITLEと正解ラベルを含むbatchから、ID列(x)とラベル(labels)を返す関数を作る。→DataLoderの引数collate_fnに指定し、それを出力とする。\n",
        "#バッチ内でタイトルの単語数が異なるため、最長単語数で揃える。\n",
        "#padding_valueという引数は、パディングされた後の値。\n",
        "#padding_value = PADDING_IDXとすることで、ID=9724(今回の場合)が割り当てられる。(PADDING_IDX=9724は、学習データで0以外のIDが割り当てられた単語数+1)\n",
        "#https://pytorch.org/docs/stable/generated/torch.nn.utils.rnn.pad_sequence.html\n",
        "def collate_fn(batch):\n",
        "    sequences = [x[0] for x in batch]\n",
        "    labels = torch.LongTensor([x[1] for x in batch])\n",
        "    x = torch.nn.utils.rnn.pad_sequence(sequences, batch_first=True, padding_value=PADDING_IDX)\n",
        "    return x, labels\n",
        "\n",
        "# DataLoaderを作成\n",
        "batch_size = 64\n",
        "\n",
        "train_dataloader = data.DataLoader(\n",
        "            train_dataset, batch_size=batch_size, shuffle=True, collate_fn=collate_fn, worker_init_fn=seed_worker, generator=g)\n",
        "valid_dataloader = data.DataLoader(\n",
        "            valid_dataset, batch_size=batch_size, shuffle=False, collate_fn=collate_fn, worker_init_fn=seed_worker, generator=g)\n",
        "test_dataloader = data.DataLoader(\n",
        "            test_dataset, batch_size=batch_size, shuffle=False, collate_fn=collate_fn, worker_init_fn=seed_worker, generator=g)\n",
        "\n",
        "dataloaders_dict = {'train': train_dataloader,\n",
        "                    'val': valid_dataloader,\n",
        "                    'test': test_dataloader,\n",
        "                   }\n",
        "\n",
        "# 動作確認\n",
        "#DataLoaderからiter & nextで中身を取り出してみる\n",
        "#batch_size=64分の結果が出てくる\n",
        "batch_iter = iter(dataloaders_dict['train'])\n",
        "inputs, labels = next(batch_iter)\n",
        "print(inputs)\n",
        "print(labels)"
      ],
      "metadata": {
        "colab": {
          "base_uri": "https://localhost:8080/"
        },
        "id": "gcH-Ob9ydMrm",
        "outputId": "412007e0-02b2-4bcf-d243-cb7ff6694a7e"
      },
      "execution_count": 19,
      "outputs": [
        {
          "output_type": "stream",
          "name": "stdout",
          "text": [
            "tensor([[2788, 2441, 2442, 5578,   14, 2156,   63,    0, 1208, 3704,   14, 2748,\n",
            "         9724, 9724, 9724],\n",
            "        [9484,    0, 4894, 1067, 6995,   35,  390,  724,   11,  169,   19, 5015,\n",
            "         3190, 9724, 9724],\n",
            "        [ 543,  126,    8,  872, 1237, 3605,   12, 9388, 9724, 9724, 9724, 9724,\n",
            "         9724, 9724, 9724],\n",
            "        [5795,   51, 1378, 1399, 5777,  329, 1567,   80, 4692, 9724, 9724, 9724,\n",
            "         9724, 9724, 9724],\n",
            "        [  46,   47,  111,  718, 7547,   93,  145, 2468,   40,   17, 5690,  624,\n",
            "           66, 1143, 7548],\n",
            "        [5306,  128,  409,  152,   23, 1687,  400,    3, 1841,    2, 2683, 9724,\n",
            "         9724, 9724, 9724],\n",
            "        [2019, 1143, 5157,    4, 1651,  293,  493,    0, 6726, 9724, 9724, 9724,\n",
            "         9724, 9724, 9724],\n",
            "        [   6, 2650,  646,  939,  270, 6594,    0, 4484,    3,    2,  201,   90,\n",
            "         9724, 9724, 9724],\n",
            "        [ 456, 5260,   22,  702, 4314, 2889,  358,  769, 1145, 9724, 9724, 9724,\n",
            "         9724, 9724, 9724],\n",
            "        [   6,    0,   42,  137,   23,   10, 3295,  920, 1417,  868, 1321, 9724,\n",
            "         9724, 9724, 9724],\n",
            "        [ 266,  144, 1541,    9,  213,    0,   13,  978,  596, 9724, 9724, 9724,\n",
            "         9724, 9724, 9724],\n",
            "        [ 301,  638,    1, 5699, 7621,    4,   96,  133,   69,  317, 5741, 5742,\n",
            "            5,  313,    9],\n",
            "        [2185, 1250, 6905,   11, 1422, 1532, 9250, 9724, 9724, 9724, 9724, 9724,\n",
            "         9724, 9724, 9724],\n",
            "        [1997,  386, 4500,   20, 2562,  688,   13,    0, 1291, 9724, 9724, 9724,\n",
            "         9724, 9724, 9724],\n",
            "        [   0, 1286,    0,    0,   14,    0,    0, 4192,   35, 1401,    0, 9724,\n",
            "         9724, 9724, 9724],\n",
            "        [3061, 1785,    2, 3554,    0,    2,   16,  820,  286, 9724, 9724, 9724,\n",
            "         9724, 9724, 9724],\n",
            "        [ 748, 1816, 3589,  782, 1974,   14,  311, 3590,  490, 9724, 9724, 9724,\n",
            "         9724, 9724, 9724],\n",
            "        [ 189,  691,  189,  691,    1, 5614, 7783, 2043, 9724, 9724, 9724, 9724,\n",
            "         9724, 9724, 9724],\n",
            "        [1531, 9265,  241, 3752,    0,   20,  153, 9324,    0,    0, 2422, 9724,\n",
            "         9724, 9724, 9724],\n",
            "        [   8, 8635,   31,    0,  841, 1443, 2129, 6081,  176, 1118, 9724, 9724,\n",
            "         9724, 9724, 9724],\n",
            "        [   0,    0, 5623,    0, 5054, 1882,   88,   45,    0,    0, 9724, 9724,\n",
            "         9724, 9724, 9724],\n",
            "        [ 115, 2492,   20,   53,   11,  680,   22, 1751,   19, 1708,   60,  464,\n",
            "          115, 1569, 9724],\n",
            "        [ 331, 2109,   23, 5425,    5, 1808,  185,  374, 9724, 9724, 9724, 9724,\n",
            "         9724, 9724, 9724],\n",
            "        [   6,   52,   37,  406,   89, 1595,    0,   16,  572,  319,  119, 9724,\n",
            "         9724, 9724, 9724],\n",
            "        [1296,    0, 5450,    1, 2572,  191,    5,   44,  905,  203, 9724, 9724,\n",
            "         9724, 9724, 9724],\n",
            "        [  36, 1162,    1, 2430, 5628, 8746,    2,   97,    3,    2, 9724, 9724,\n",
            "         9724, 9724, 9724],\n",
            "        [ 749, 7255,   14,    8,  473, 4310, 2036, 7490, 1345,    0, 9724, 9724,\n",
            "         9724, 9724, 9724],\n",
            "        [ 304, 2891,    0, 2614,   12,  749,    0, 9724, 9724, 9724, 9724, 9724,\n",
            "         9724, 9724, 9724],\n",
            "        [ 278, 1380, 3531, 6692,  192, 4380,    1, 1435, 2975, 9724, 9724, 9724,\n",
            "         9724, 9724, 9724],\n",
            "        [   0, 1822,  177,    3, 6767,    9, 2619,  542, 4157,    2, 9724, 9724,\n",
            "         9724, 9724, 9724],\n",
            "        [ 325,  469, 8589, 2718, 1989, 1616,    7,   40,  317,  932,    3,   25,\n",
            "          151, 9724, 9724],\n",
            "        [ 123, 1710, 1455,   21,    8, 6123,  281, 1371,   91,  484, 1035,  617,\n",
            "         9724, 9724, 9724],\n",
            "        [  44, 5969, 7570,  664,   16, 7888,  231,    9, 1241, 1184, 9724, 9724,\n",
            "         9724, 9724, 9724],\n",
            "        [ 348,  279,    4,    0,   10, 3689,  783,  499,  551, 9724, 9724, 9724,\n",
            "         9724, 9724, 9724],\n",
            "        [2390,  661,  675,    1, 4244, 4313, 4303, 1298,    5, 3621,   27,    0,\n",
            "         2057, 4349, 9724],\n",
            "        [2568, 3429, 2568, 3429,  666,   92, 1368, 1990, 2852, 9724, 9724, 9724,\n",
            "         9724, 9724, 9724],\n",
            "        [ 510, 1124,   22, 1334, 1903, 7535,  820,   34,    2, 2243,  187, 9724,\n",
            "         9724, 9724, 9724],\n",
            "        [ 123,  155, 5674,  155, 4489,   11, 2616,  967,   14,   91,    0,  490,\n",
            "         9724, 9724, 9724],\n",
            "        [5511,   21,  150,  182,    0,    0,   35, 4785, 2892, 1667, 9724, 9724,\n",
            "         9724, 9724, 9724],\n",
            "        [ 147, 3533,  642,    4,   10,    0,    0,   35,  872, 6885,    2, 9724,\n",
            "         9724, 9724, 9724],\n",
            "        [   0,  279,    1, 4161,  198,    5,    0, 1466,   13, 2318, 3306, 9724,\n",
            "         9724, 9724, 9724],\n",
            "        [   8,    0,   28, 5603,    8,    0,  570,   56,  451, 9724, 9724, 9724,\n",
            "         9724, 9724, 9724],\n",
            "        [2390,  661,   14,  339,   11,  285, 4348, 2057, 4349,   11, 7091,   10,\n",
            "         3621, 9724, 9724],\n",
            "        [1713,  207,    3,  339,    1, 2793,    0, 4025, 9724, 9724, 9724, 9724,\n",
            "         9724, 9724, 9724],\n",
            "        [   6, 3382,  151, 7236, 6009, 4356,  502,  585, 9724, 9724, 9724, 9724,\n",
            "         9724, 9724, 9724],\n",
            "        [ 121,  206,   27,   44, 8026, 5665, 4776,   27,  158, 3881, 9724, 9724,\n",
            "         9724, 9724, 9724],\n",
            "        [ 393, 8339,   11, 1372, 2771, 4806,   67,  240,   14,   21,   19,    0,\n",
            "         1276, 8340, 9724],\n",
            "        [3379, 6285,   31,    0,   39,  657,   18,    8, 1707,   23,    0,  379,\n",
            "         9724, 9724, 9724],\n",
            "        [1094, 1289,   13,  456, 7194, 1407,    0, 9724, 9724, 9724, 9724, 9724,\n",
            "         9724, 9724, 9724],\n",
            "        [2473, 2474, 1143,   96,    0,    3, 4227, 6663,    4,   66,  316,   17,\n",
            "         2161,   39, 9724],\n",
            "        [ 701, 5166, 1654,  742, 1646,   18, 6744,    0, 9724, 9724, 9724, 9724,\n",
            "         9724, 9724, 9724],\n",
            "        [1207, 1454, 1207, 1454,  666,   92,   37,  824, 1600, 1183, 9724, 9724,\n",
            "         9724, 9724, 9724],\n",
            "        [ 471, 2501,  471, 3511, 4158,  152,    1,    0, 2065, 9724, 9724, 9724,\n",
            "         9724, 9724, 9724],\n",
            "        [   0,  116,   17,    0, 2746,    7,  445,  656, 7503, 9724, 9724, 9724,\n",
            "         9724, 9724, 9724],\n",
            "        [6913,  573,  318, 3135,    9,    4, 1437,    4,    2,   74,    3,   95,\n",
            "         9724, 9724, 9724],\n",
            "        [3208,  461,  942, 2635,    0, 1974, 9724, 9724, 9724, 9724, 9724, 9724,\n",
            "         9724, 9724, 9724],\n",
            "        [2365, 2236,  104,   88, 1744, 4981, 1322,  223,    2, 9724, 9724, 9724,\n",
            "         9724, 9724, 9724],\n",
            "        [ 357,  239,   12,    0,    0, 6786,  442, 4174, 3007,    1,  534,   37,\n",
            "         9724, 9724, 9724],\n",
            "        [ 190, 6326,    0,   15,   19,  727,   77,  190, 6326,  432,   34,    2,\n",
            "         9724, 9724, 9724],\n",
            "        [4302,    8, 2002,   20,   87, 4302,    8,  143,  188,   70,  277, 2086,\n",
            "         1537, 9724, 9724],\n",
            "        [1026, 4320,    1,    0,  368,    0,    0,  195, 4321, 9724, 9724, 9724,\n",
            "         9724, 9724, 9724],\n",
            "        [  70, 2631,  789, 4173,   59,   65,  461, 3006, 3500,   14, 1167,    0,\n",
            "         9724, 9724, 9724],\n",
            "        [   8, 5023, 1766,   29,   26,  194, 6025,   11, 1877,    8, 2157, 9724,\n",
            "         9724, 9724, 9724],\n",
            "        [   8, 3372,   13,   12,    0, 3779, 4168, 1021, 3555, 4226, 9724, 9724,\n",
            "         9724, 9724, 9724]])\n",
            "tensor([2, 2, 2, 0, 2, 0, 0, 0, 2, 0, 1, 1, 3, 0, 1, 0, 0, 2, 1, 2, 2, 1, 0, 0,\n",
            "        0, 0, 0, 3, 0, 0, 2, 2, 0, 0, 0, 2, 2, 2, 2, 0, 0, 3, 0, 0, 0, 0, 2, 2,\n",
            "        2, 2, 3, 2, 2, 0, 0, 0, 0, 0, 2, 2, 0, 2, 2, 1])\n"
          ]
        }
      ]
    },
    {
      "cell_type": "code",
      "source": [
        "# 学習用の関数を定義\n",
        "#学習を実行し、訓練データと検証データ(or評価データ)の誤差と正解率を返す関数を作成\n",
        "def train_model(net, dataloaders_dict, criterion, optimizer, num_epochs):\n",
        "\n",
        "    # 初期設定\n",
        "    # デバイスを指定\n",
        "    # GPUを指定\n",
        "    device = torch.device('cuda')\n",
        "\n",
        "    # ネットワークをgpuへ\n",
        "    net.to(device)\n",
        "\n",
        "    #各試行の結果を保存するリストを作成(plt用)\n",
        "    train_loss = []\n",
        "    train_acc = []\n",
        "    valid_loss = []\n",
        "    valid_acc = []\n",
        "\n",
        "    # epochのループ\n",
        "    #epoch=10指定\n",
        "    for epoch in range(num_epochs):\n",
        "        # epochごとの学習と検証のループ\n",
        "        for phase in ['train', 'val']:\n",
        "            if phase == 'train':\n",
        "                net.train() # 訓練モード\n",
        "            else:\n",
        "                net.eval() # 検証モード\n",
        "\n",
        "            epoch_loss = 0.0 # epochの損失和\n",
        "            epoch_corrects = 0 # epochの正解数\n",
        "\n",
        "            # データローダーからミニバッチを取り出すループ\n",
        "            for inputs, labels in dataloaders_dict[phase]:\n",
        "                # GPUにおくる\n",
        "                inputs = inputs.to(device)\n",
        "                labels = labels.to(device)\n",
        "                optimizer.zero_grad() # optimizerを初期化\n",
        "\n",
        "                # 順伝播計算(forward)\n",
        "                with torch.set_grad_enabled(phase == 'train'):\n",
        "                    outputs = net(inputs)\n",
        "                    loss = criterion(outputs, labels) # 損失を計算\n",
        "                    _, preds = torch.max(outputs, 1) # ラベルを予想\n",
        "\n",
        "                    # 訓練時は逆伝播\n",
        "                    if phase == 'train':\n",
        "                        loss.backward()\n",
        "                        optimizer.step()\n",
        "\n",
        "                    # イテレーション結果の計算\n",
        "                    # lossの合計を更新\n",
        "                    epoch_loss += loss.item() * inputs.size(0)\n",
        "                    # 正解数の合計を更新\n",
        "                    epoch_corrects += torch.sum(preds == labels.data)\n",
        "\n",
        "            # epochごとのlossと正解率の表示\n",
        "            epoch_loss = epoch_loss / len(dataloaders_dict[phase].dataset)\n",
        "            epoch_acc = epoch_corrects.double() / len(dataloaders_dict[phase].dataset)\n",
        "            if phase == 'train':\n",
        "                train_loss.append(epoch_loss)\n",
        "                train_acc.append(epoch_acc.cpu())\n",
        "            else:\n",
        "                valid_loss.append(epoch_loss)\n",
        "                valid_acc.append(epoch_acc.cpu())\n",
        "\n",
        "        print('Epoch {} / {} (train) Loss: {:.4f}, Acc: {:.4f}, (val) Loss: {:.4f}, Acc: {:.4f}'.format(epoch + 1, num_epochs, train_loss[-1], train_acc[-1], valid_loss[-1], valid_acc[-1]))\n",
        "    return train_loss, train_acc, valid_loss, valid_acc\n",
        "\n",
        "# モデルの定義\n",
        "net = RNN(VOCAB_SIZE, EMB_SIZE, PADDING_IDX, HIDDEN_SIZE, OUTPUT_SIZE, NUM_LAYERS)\n",
        "net.train()\n",
        "\n",
        "# 損失関数の定義\n",
        "criterion = nn.CrossEntropyLoss()\n",
        "\n",
        "# 最適化手法の定義\n",
        "optimizer = torch.optim.SGD(net.parameters(), lr=0.01, momentum=0.9)\n",
        "\n",
        "num_epochs = 10\n",
        "train_loss, train_acc, valid_loss, valid_acc = train_model(net,\n",
        "            dataloaders_dict, criterion, optimizer, num_epochs=num_epochs)"
      ],
      "metadata": {
        "colab": {
          "base_uri": "https://localhost:8080/"
        },
        "id": "qhh5KHkzdQXQ",
        "outputId": "0350fc28-3885-43a7-8925-1af141149120"
      },
      "execution_count": 20,
      "outputs": [
        {
          "output_type": "stream",
          "name": "stdout",
          "text": [
            "Tesla T4\n",
            "使用デバイス: cuda:0\n",
            "Epoch 1 / 10 (train) Loss: 1.1923, Acc: 0.4275, (val) Loss: 1.1561, Acc: 0.4445\n",
            "Epoch 2 / 10 (train) Loss: 1.1544, Acc: 0.4635, (val) Loss: 1.1455, Acc: 0.4903\n",
            "Epoch 3 / 10 (train) Loss: 1.1443, Acc: 0.4919, (val) Loss: 1.1301, Acc: 0.5015\n",
            "Epoch 4 / 10 (train) Loss: 1.1253, Acc: 0.5191, (val) Loss: 1.0997, Acc: 0.5412\n",
            "Epoch 5 / 10 (train) Loss: 1.0558, Acc: 0.5856, (val) Loss: 0.9747, Acc: 0.6484\n",
            "Epoch 6 / 10 (train) Loss: 0.9136, Acc: 0.6797, (val) Loss: 0.8527, Acc: 0.7046\n",
            "Epoch 7 / 10 (train) Loss: 0.7973, Acc: 0.7303, (val) Loss: 0.8038, Acc: 0.7264\n",
            "Epoch 8 / 10 (train) Loss: 0.7125, Acc: 0.7605, (val) Loss: 0.7462, Acc: 0.7421\n",
            "Epoch 9 / 10 (train) Loss: 0.6280, Acc: 0.7821, (val) Loss: 0.7554, Acc: 0.7459\n",
            "Epoch 10 / 10 (train) Loss: 0.5662, Acc: 0.8002, (val) Loss: 0.7076, Acc: 0.7519\n"
          ]
        }
      ]
    },
    {
      "cell_type": "code",
      "source": [
        "#図示\n",
        "import matplotlib.pyplot as plt\n",
        "fig, ax = plt.subplots(1,2, figsize=(10, 5))\n",
        "epochs = np.arange(num_epochs)\n",
        "ax[0].plot(epochs, train_loss, label='train')\n",
        "ax[0].plot(epochs, valid_loss, label='valid')\n",
        "ax[0].set_title('loss')\n",
        "ax[0].set_xlabel('epoch')\n",
        "ax[0].set_ylabel('loss')\n",
        "ax[1].plot(epochs, train_acc, label='train')\n",
        "ax[1].plot(epochs, valid_acc, label='valid')\n",
        "ax[1].set_title('acc')\n",
        "ax[1].set_xlabel('epoch')\n",
        "ax[1].set_ylabel('acc')\n",
        "ax[0].legend(loc='best')\n",
        "ax[1].legend(loc='best')\n",
        "plt.tight_layout()\n",
        "plt.savefig('fig83.png')\n",
        "plt.show()"
      ],
      "metadata": {
        "colab": {
          "base_uri": "https://localhost:8080/",
          "height": 507
        },
        "id": "XOlf16UldS4a",
        "outputId": "9185383c-ac7c-4ac2-ebfe-2cfa25b5fa93"
      },
      "execution_count": 21,
      "outputs": [
        {
          "output_type": "display_data",
          "data": {
            "text/plain": [
              "<Figure size 1000x500 with 2 Axes>"
            ],
            "image/png": "[encoded data removed]"
          },
          "metadata": {}
        }
      ]
    },
    {
      "cell_type": "markdown",
      "source": [
        "# 84. 単語ベクトルの導入\n",
        "\n",
        "事前学習済みの単語ベクトル（例えば，Google Newsデータセット（約1,000億単語）での学習済み単語ベクトル）で単語埋め込みemb(x)\n",
        "を初期化し，学習せよ．"
      ],
      "metadata": {
        "id": "MiitLvBZYfnZ"
      }
    },
    {
      "cell_type": "code",
      "source": [],
      "metadata": {
        "id": "Uq56vTq8Yj4G"
      },
      "execution_count": 21,
      "outputs": []
    },
    {
      "cell_type": "markdown",
      "source": [
        "# 85. 双方向RNN・多層化\n",
        "\n",
        "順方向と逆方向のRNNの両方を用いて入力テキストをエンコードし，モデルを学習せよ．\n",
        "\n",
        "ただし，h→t∈ℝdh,h⃖ t∈ℝdh\n",
        "はそれぞれ，順方向および逆方向のRNNで求めた時刻t\n",
        "の隠れ状態ベクトル，RNN←−−−(x,h)\n",
        "は入力x\n",
        "と次時刻の隠れ状態h\n",
        "から前状態を計算するRNNユニット，W(yh)∈ℝL×2dh\n",
        "は隠れ状態ベクトルからカテゴリを予測するための行列，b(y)∈ℝL\n",
        "はバイアス項である．また，[a;b]\n",
        "はベクトルa\n",
        "とb\n",
        "の連結を表す。\n",
        "\n",
        "さらに，双方向RNNを多層化して実験せよ．"
      ],
      "metadata": {
        "id": "4_gXpVMPYkd1"
      }
    },
    {
      "cell_type": "code",
      "source": [],
      "metadata": {
        "id": "c1-ZjLrsebrG"
      },
      "execution_count": null,
      "outputs": []
    }
  ]
}