{
  "nbformat": 4,
  "nbformat_minor": 0,
  "metadata": {
    "colab": {
      "provenance": [],
      "gpuType": "T4"
    },
    "kernelspec": {
      "name": "python3",
      "display_name": "Python 3"
    },
    "language_info": {
      "name": "python"
    },
    "accelerator": "GPU"
  },
  "cells": [
    {
      "cell_type": "markdown",
      "source": [
        "# 第8章: ニューラルネット\n",
        "\n",
        "第6章で取り組んだニュース記事のカテゴリ分類を題材として，ニューラルネットワークでカテゴリ分類モデルを実装する．なお，この章ではPyTorch, TensorFlow, Chainerなどの機械学習プラットフォームを活用せよ．"
      ],
      "metadata": {
        "id": "2yngkOZumoER"
      }
    },
    {
      "cell_type": "code",
      "source": [
        "#colabを利用する上での前準備\n",
        "from google.colab import drive\n",
        "drive.mount('/content/drive')"
      ],
      "metadata": {
        "id": "-0AqQjdfnNC2",
        "colab": {
          "base_uri": "https://localhost:8080/"
        },
        "outputId": "1ed75b89-e55d-4ad5-b588-4b15c609e4c4"
      },
      "execution_count": 3,
      "outputs": [
        {
          "output_type": "stream",
          "name": "stdout",
          "text": [
            "Drive already mounted at /content/drive; to attempt to forcibly remount, call drive.mount(\"/content/drive\", force_remount=True).\n"
          ]
        }
      ]
    },
    {
      "cell_type": "code",
      "source": [
        "cd '/content/drive/MyDrive'"
      ],
      "metadata": {
        "colab": {
          "base_uri": "https://localhost:8080/"
        },
        "id": "09Y_OvUWm_Lh",
        "outputId": "c68709dc-8f2d-4954-f4e0-764645bcae5a"
      },
      "execution_count": 4,
      "outputs": [
        {
          "output_type": "stream",
          "name": "stdout",
          "text": [
            "/content/drive/MyDrive\n"
          ]
        }
      ]
    },
    {
      "cell_type": "code",
      "source": [
        "!pip install gensim"
      ],
      "metadata": {
        "colab": {
          "base_uri": "https://localhost:8080/"
        },
        "id": "n8qcpBddnWxy",
        "outputId": "f0b8a117-d2cd-451b-8b12-88d7fec1a080"
      },
      "execution_count": 5,
      "outputs": [
        {
          "output_type": "stream",
          "name": "stdout",
          "text": [
            "Looking in indexes: https://pypi.org/simple, https://us-python.pkg.dev/colab-wheels/public/simple/\n",
            "Requirement already satisfied: gensim in /usr/local/lib/python3.10/dist-packages (4.3.1)\n",
            "Requirement already satisfied: numpy>=1.18.5 in /usr/local/lib/python3.10/dist-packages (from gensim) (1.22.4)\n",
            "Requirement already satisfied: scipy>=1.7.0 in /usr/local/lib/python3.10/dist-packages (from gensim) (1.10.1)\n",
            "Requirement already satisfied: smart-open>=1.8.1 in /usr/local/lib/python3.10/dist-packages (from gensim) (6.3.0)\n"
          ]
        }
      ]
    },
    {
      "cell_type": "markdown",
      "source": [
        "# 70. 単語ベクトルの和による特徴量\n",
        "\n",
        "問題50で構築した学習データ，検証データ，評価データを行列・ベクトルに変換したい．例えば，学習データについて，すべての事例xi\n",
        "の特徴ベクトルxi\n",
        "を並べた行列X\n",
        "と，正解ラベルを並べた行列（ベクトル）Y\n",
        "を作成したい．\n",
        "\n",
        "ここで，n\n",
        "は学習データの事例数であり，xi∈ℝd\n",
        "とyi∈ℕ\n",
        "はそれぞれ，i∈{1,…,n}\n",
        "番目の事例の特徴量ベクトルと正解ラベルを表す． なお，今回は「ビジネス」「科学技術」「エンターテイメント」「健康」の4カテゴリ分類である．ℕ<4\n",
        "で4\n",
        "未満の自然数（0\n",
        "を含む）を表すことにすれば，任意の事例の正解ラベルyi\n",
        "はyi∈ℕ<4\n",
        "で表現できる． 以降では，ラベルの種類数をL\n",
        "で表す（今回の分類タスクではL=4\n",
        "である）．\n",
        "\n",
        "i\n",
        "番目の事例の特徴ベクトルxi\n",
        "は，次式で求める．\n",
        "\n",
        "ここで，i\n",
        "番目の事例はTi\n",
        "個の（記事見出しの）単語列(wi,1,wi,2,…,wi,Ti)\n",
        "から構成され，emb(w)∈ℝd\n",
        "は単語w\n",
        "に対応する単語ベクトル（次元数はd\n",
        "）である．すなわち，i\n",
        "番目の事例の記事見出しを，その見出しに含まれる単語のベクトルの平均で表現したものがxi\n",
        "である．今回は単語ベクトルとして，問題60でダウンロードしたものを用いればよい．300\n",
        "次元の単語ベクトルを用いたので，d=300\n",
        "である．\n",
        "\n",
        "i\n",
        "番目の事例のラベルyi\n",
        "は，次のように定義する．\n",
        "\n",
        "なお，カテゴリ名とラベルの番号が一対一で対応付いていれば，上式の通りの対応付けでなくてもよい．\n",
        "\n",
        "以上の仕様に基づき，以下の行列・ベクトルを作成し，ファイルに保存せよ．\n",
        "\n",
        "学習データの特徴量行列: Xtrain∈ℝNt×d\n",
        "学習データのラベルベクトル: Ytrain∈ℕNt\n",
        "検証データの特徴量行列: Xvalid∈ℝNv×d\n",
        "検証データのラベルベクトル: Yvalid∈ℕNv\n",
        "評価データの特徴量行列: Xtest∈ℝNe×d\n",
        "評価データのラベルベクトル: Ytest∈ℕNe\n",
        "なお，Nt,Nv,Ne\n",
        "はそれぞれ，学習データの事例数，検証データの事例数，評価データの事例数である．\n",
        "\n"
      ],
      "metadata": {
        "id": "6wYM4EE0mrzm"
      }
    },
    {
      "cell_type": "code",
      "execution_count": 6,
      "metadata": {
        "id": "Yn8Av2BSgZeR"
      },
      "outputs": [],
      "source": [
        "#50と同様\n",
        "\n",
        "import pandas as pd\n",
        "from sklearn.model_selection import train_test_split\n",
        "\n",
        "#データ読み込み #エラーが出るため、タブ区切り、ラベル名を指定する\n",
        "df = pd.read_csv('./NewsAggregatorDataset/newsCorpora.csv', sep=\"\\t\", names=[\"id\", \"title\", \"url\", \"publisher\", \"category\", \"story\", \"hostname\", \"timestamp\"])\n",
        "\n",
        "#情報源（publisher）が”Reuters”, “Huffington Post”, “Businessweek”, “Contactmusic.com”, “Daily Mail”の事例（記事）のみを抽出する\n",
        "df = df[df['publisher'].isin([\"Reuters\", \"Huffington Post\", \"Businessweek\", \"COntactmusic.com\", \"Daily Mail\"])]\n",
        "\n",
        "#抽出された事例をランダムに並び替える\n",
        "df = df.sample(frac = 1, random_state = 42, ignore_index=True)\n",
        "\n",
        "#抽出された事例の80%を学習データ，残りの10%ずつを検証データと評価データに分割し，それぞれtrain.txt，valid.txt，test.txtというファイル名で保存する\n",
        "train, test = train_test_split(df, test_size=0.2, random_state = 42)\n",
        "test, valid = train_test_split(test, test_size=0.5, random_state = 42)"
      ]
    },
    {
      "cell_type": "code",
      "source": [
        "#60と同様\n",
        "\n",
        "import gensim\n",
        "\n",
        "model = gensim.models.KeyedVectors.load_word2vec_format('./shogi/GoogleNews-vectors-negative300.bin.gz', binary= True)"
      ],
      "metadata": {
        "id": "HnijXr3znmby"
      },
      "execution_count": 7,
      "outputs": []
    },
    {
      "cell_type": "code",
      "source": [
        "import torch\n",
        "\n",
        "train['title']"
      ],
      "metadata": {
        "id": "12-HALFaoPWa",
        "colab": {
          "base_uri": "https://localhost:8080/"
        },
        "outputId": "711c2a89-b70f-43c2-d970-27a99c7e7c38"
      },
      "execution_count": 8,
      "outputs": [
        {
          "output_type": "execute_result",
          "data": {
            "text/plain": [
              "3790    So who was the Emmys' worst dressed? Lena Dunh...\n",
              "4502    Japan's Controversial Whaling Program Suspende...\n",
              "5940    Want Kate Middleton's iconic half updo? This s...\n",
              "5858    Rare Diamond Shows Earth's Interior Is All Wet...\n",
              "3334    Miley Cyrus escapes injury as her tour bus bur...\n",
              "                              ...                        \n",
              "5734    S&P 500, Dow Climb to Records on Tech Rally as...\n",
              "5191    L'Wren Scott's Death Ruled A Suicide By NYC Of...\n",
              "5390    Credit Suisse Said to Get New York Subpoena in...\n",
              "860     US web companies press demands for net neutral...\n",
              "7270    Hilary Duff Still Has 'A Lot Of Love' For Estr...\n",
              "Name: title, Length: 8804, dtype: object"
            ]
          },
          "metadata": {},
          "execution_count": 8
        }
      ]
    },
    {
      "cell_type": "code",
      "source": [
        "lis_train_vecs =[] #1文内の単語ベクトルのリスト\n",
        "tensor_vecs = [] #平均単語ベクトルのリスト\n",
        "for title in train['title']:\n",
        "  lis_train_words = title.split()\n",
        "  for word in lis_train_words:\n",
        "    try:\n",
        "      vec = model[word]\n",
        "      lis_train_vecs.append(vec)\n",
        "\n",
        "    except: #未知語の場合\n",
        "      pass\n",
        "\n",
        "  tensor_vec = torch.tensor(sum(lis_train_vecs) / len(lis_train_vecs))\n",
        "  tensor_vecs.append(tensor_vec)\n",
        "  lis_train_vecs =[]\n",
        "\n",
        "X_train = torch.stack(tensor_vecs)"
      ],
      "metadata": {
        "id": "UvueK8oZLZSC"
      },
      "execution_count": 9,
      "outputs": []
    },
    {
      "cell_type": "code",
      "source": [
        "lis_train_vecs =[] #1文内の単語ベクトルのリスト\n",
        "tensor_vecs = [] #平均単語ベクトルのリスト\n",
        "for title in valid['title']:\n",
        "  lis_train_words = title.split()\n",
        "  for word in lis_train_words:\n",
        "    try:\n",
        "      vec = model[word]\n",
        "      lis_train_vecs.append(vec)\n",
        "\n",
        "    except: #未知語の場合\n",
        "      pass\n",
        "\n",
        "  tensor_vec = torch.tensor(sum(lis_train_vecs) / len(lis_train_vecs))\n",
        "  tensor_vecs.append(tensor_vec)\n",
        "  lis_train_vecs =[]\n",
        "\n",
        "X_valid = torch.stack(tensor_vecs)"
      ],
      "metadata": {
        "id": "0LJFj-bSScIA"
      },
      "execution_count": 10,
      "outputs": []
    },
    {
      "cell_type": "code",
      "source": [
        "lis_train_vecs =[] #1文内の単語ベクトルのリスト\n",
        "tensor_vecs = [] #平均単語ベクトルのリスト\n",
        "for title in valid['title']:\n",
        "  lis_train_words = title.split()\n",
        "  for word in lis_train_words:\n",
        "    try:\n",
        "      vec = model[word]\n",
        "      lis_train_vecs.append(vec)\n",
        "\n",
        "    except: #未知語の場合\n",
        "      pass\n",
        "\n",
        "  tensor_vec = torch.tensor(sum(lis_train_vecs) / len(lis_train_vecs))\n",
        "  tensor_vecs.append(tensor_vec)\n",
        "  lis_train_vecs =[]\n",
        "\n",
        "X_test = torch.stack(tensor_vecs)"
      ],
      "metadata": {
        "id": "GDbsY0xUShR3"
      },
      "execution_count": 11,
      "outputs": []
    },
    {
      "cell_type": "code",
      "source": [
        "# ターゲットのテンソル化\n",
        "category_dict = {'b': 0, 't': 1, 'e':2, 'm':3}\n",
        "Y_train = torch.from_numpy(train['category'].map(category_dict).values)\n",
        "Y_valid = torch.from_numpy(valid['category'].map(category_dict).values)\n",
        "Y_test = torch.from_numpy(test['category'].map(category_dict).values)\n",
        "# 保存\n",
        "torch.save(X_train, './NewsAggregatorDataset/X_train.pt')\n",
        "torch.save(X_valid, './NewsAggregatorDataset/X_valid.pt')\n",
        "torch.save(X_test, './NewsAggregatorDataset/X_test.pt')\n",
        "torch.save(Y_train, './NewsAggregatorDataset/y_train.pt')\n",
        "torch.save(Y_valid, './NewsAggregatorDataset/y_valid.pt')\n",
        "torch.save(Y_test, './NewsAggregatorDataset/y_test.pt')"
      ],
      "metadata": {
        "id": "5Y4CEH2ENwn1"
      },
      "execution_count": 12,
      "outputs": []
    },
    {
      "cell_type": "code",
      "source": [
        "#確認\n",
        "print(X_train)\n",
        "print(Y_train)"
      ],
      "metadata": {
        "colab": {
          "base_uri": "https://localhost:8080/"
        },
        "id": "LQ-9EGOCpOtC",
        "outputId": "56c22cf5-4c04-4a3b-c3ac-9cc676903fce"
      },
      "execution_count": 13,
      "outputs": [
        {
          "output_type": "stream",
          "name": "stdout",
          "text": [
            "tensor([[ 0.0704,  0.0600,  0.0520,  ...,  0.0093,  0.1410,  0.0667],\n",
            "        [ 0.0536, -0.0164,  0.0868,  ..., -0.0089,  0.0265,  0.0666],\n",
            "        [ 0.0374,  0.0011, -0.0588,  ..., -0.0348, -0.0233, -0.0400],\n",
            "        ...,\n",
            "        [-0.0046,  0.0939, -0.0272,  ..., -0.1045, -0.0858, -0.0159],\n",
            "        [-0.0475,  0.0452, -0.0182,  ...,  0.1119, -0.0245, -0.0485],\n",
            "        [ 0.0561, -0.0307, -0.1766,  ..., -0.0750,  0.0294, -0.0518]])\n",
            "tensor([2, 1, 2,  ..., 0, 1, 2])\n"
          ]
        }
      ]
    },
    {
      "cell_type": "markdown",
      "source": [
        "# 71. 単層ニューラルネットワークによる予測\n",
        "\n",
        "問題70で保存した行列を読み込み，学習データについて以下の計算を実行せよ．\n",
        "\n",
        "ただし，softmax\n",
        "はソフトマックス関数，X[1:4]∈ℝ4×d\n",
        "は特徴ベクトルx1,x2,x3,x4\n",
        "を縦に並べた行列である．\n",
        "\n",
        "行列W∈ℝd×L\n",
        "は単層ニューラルネットワークの重み行列で，ここではランダムな値で初期化すればよい（問題73以降で学習して求める）．なお，y1^∈ℝL\n",
        "は未学習の行列W\n",
        "で事例x1\n",
        "を分類したときに，各カテゴリに属する確率を表すベクトルである． 同様に，Ŷ ∈ℝn×L\n",
        "は，学習データの事例x1,x2,x3,x4\n",
        "について，各カテゴリに属する確率を行列として表現している．"
      ],
      "metadata": {
        "id": "NJmbgAt7Vu0h"
      }
    },
    {
      "cell_type": "code",
      "source": [
        "from torch import nn\n",
        "\n",
        "class SLPNet(nn.Module):\n",
        "  def __init__(self, input_size, output_size):\n",
        "    super().__init__()\n",
        "    self.fc = nn.Linear(input_size, output_size, bias=False)\n",
        "    nn.init.normal_(self.fc.weight, 0.0, 1.0)  # 正規乱数で重みを初期化\n",
        "\n",
        "  def forward(self, x):\n",
        "    x = self.fc(x)\n",
        "    return x"
      ],
      "metadata": {
        "id": "wMKzT6Raw5K0"
      },
      "execution_count": 14,
      "outputs": []
    },
    {
      "cell_type": "code",
      "source": [
        "model = SLPNet(300, 4)  # 単層ニューラルネットワークの初期化\n",
        "y_hat_1 = torch.softmax(model(X_train[:1]), dim=-1)"
      ],
      "metadata": {
        "id": "eQBDD5_GWX5h"
      },
      "execution_count": 15,
      "outputs": []
    },
    {
      "cell_type": "code",
      "source": [
        "Y_hat = torch.softmax(model.forward(X_train[:4]), dim=-1)\n",
        "print(Y_hat)\n",
        "print(Y_train[:4])"
      ],
      "metadata": {
        "colab": {
          "base_uri": "https://localhost:8080/"
        },
        "id": "t-LhNBBHWZEr",
        "outputId": "b1655663-4d39-4cc8-ce43-388aae5e2ad9"
      },
      "execution_count": 16,
      "outputs": [
        {
          "output_type": "stream",
          "name": "stdout",
          "text": [
            "tensor([[0.1646, 0.4056, 0.1730, 0.2568],\n",
            "        [0.0162, 0.2099, 0.0222, 0.7517],\n",
            "        [0.2764, 0.2141, 0.0196, 0.4898],\n",
            "        [0.0090, 0.6846, 0.0639, 0.2426]], grad_fn=<SoftmaxBackward0>)\n",
            "tensor([2, 1, 2, 1])\n"
          ]
        }
      ]
    },
    {
      "cell_type": "markdown",
      "source": [
        "# 72. 損失と勾配の計算\n",
        "\n",
        "学習データの事例x1\n",
        "と事例集合x1,x2,x3,x4\n",
        "に対して，クロスエントロピー損失と，行列W\n",
        "に対する勾配を計算せよ．なお，ある事例xi\n",
        "に対して損失は次式で計算される．\n",
        "\n",
        "li=−log[事例xiがyiに分類される確率]\n",
        "ただし，事例集合に対するクロスエントロピー損失は，その集合に含まれる各事例の損失の平均とする．"
      ],
      "metadata": {
        "id": "jp-eUSXvX3TQ"
      }
    },
    {
      "cell_type": "code",
      "source": [
        "criterion = nn.CrossEntropyLoss()\n",
        "\n",
        "l_1 = criterion(model(X_train[:1]), Y_train[:1])  # 入力ベクトルはsoftmax前の値\n",
        "model.zero_grad()  # 勾配をゼロで初期化\n",
        "l_1.backward()  # 勾配を計算\n",
        "print(f'損失: {l_1:.4f}')\n",
        "print(f'勾配:\\n{model.fc.weight.grad}')"
      ],
      "metadata": {
        "colab": {
          "base_uri": "https://localhost:8080/"
        },
        "id": "pz8fB97tWZr3",
        "outputId": "7af09a52-dea3-43ad-84f4-75e162368f11"
      },
      "execution_count": 17,
      "outputs": [
        {
          "output_type": "stream",
          "name": "stdout",
          "text": [
            "損失: 1.7542\n",
            "勾配:\n",
            "tensor([[ 0.0116,  0.0099,  0.0086,  ...,  0.0015,  0.0232,  0.0110],\n",
            "        [ 0.0286,  0.0243,  0.0211,  ...,  0.0038,  0.0572,  0.0270],\n",
            "        [-0.0583, -0.0496, -0.0430,  ..., -0.0077, -0.1166, -0.0551],\n",
            "        [ 0.0181,  0.0154,  0.0134,  ...,  0.0024,  0.0362,  0.0171]])\n"
          ]
        }
      ]
    },
    {
      "cell_type": "code",
      "source": [
        "l = criterion(model(X_train[:4]), Y_train[:4])\n",
        "model.zero_grad()\n",
        "l.backward()\n",
        "print(f'損失: {l:.4f}')\n",
        "print(f'勾配:\\n{model.fc.weight.grad}')"
      ],
      "metadata": {
        "colab": {
          "base_uri": "https://localhost:8080/"
        },
        "id": "40wpuW4pY7ew",
        "outputId": "5c09c1f2-fc0a-405a-eedd-8e0fd2238d96"
      },
      "execution_count": 18,
      "outputs": [
        {
          "output_type": "stream",
          "name": "stdout",
          "text": [
            "損失: 1.9062\n",
            "勾配:\n",
            "tensor([[ 0.0056,  0.0024, -0.0016,  ..., -0.0022,  0.0045,  0.0002],\n",
            "        [ 0.0030,  0.0115, -0.0134,  ...,  0.0076,  0.0016, -0.0078],\n",
            "        [-0.0243, -0.0132,  0.0038,  ...,  0.0052, -0.0220, -0.0038],\n",
            "        [ 0.0158, -0.0008,  0.0112,  ..., -0.0105,  0.0159,  0.0113]])\n"
          ]
        }
      ]
    },
    {
      "cell_type": "markdown",
      "source": [
        "# 73. 確率的勾配降下法による学習\n",
        "\n",
        "確率的勾配降下法（SGD: Stochastic Gradient Descent）を用いて，行列W\n",
        "を学習せよ．なお，学習は適当な基準で終了させればよい（例えば「100エポックで終了」など）．"
      ],
      "metadata": {
        "id": "MnOdqsM0Zpi5"
      }
    },
    {
      "cell_type": "code",
      "source": [
        "# データセットを作成する\n",
        "import torch.utils.data as data\n",
        "\n",
        "class NewsDataset(data.Dataset):\n",
        "    \"\"\"\n",
        "    newsのDatasetクラス\n",
        "\n",
        "    Attributes\n",
        "    ----------------------------\n",
        "    X : テンソル\n",
        "        単語ベクトルの平均をまとめたテンソル\n",
        "    y : テンソル\n",
        "        カテゴリをラベル化したテンソル\n",
        "    phase : 'train' or 'val'\n",
        "        学習か訓練かを設定する\n",
        "    \"\"\"\n",
        "    def __init__(self, X, y, phase='train'):\n",
        "        self.X = X\n",
        "        self.y = y\n",
        "        self.phase = phase\n",
        "\n",
        "    def __len__(self):\n",
        "        \"\"\"全データサイズを返す\"\"\"\n",
        "        return len(self.y)\n",
        "\n",
        "    def __getitem__(self, idx):\n",
        "        \"\"\"idxに対応するテンソル形式のデータとラベルを取得\"\"\"\n",
        "        return self.X[idx], self.y[idx]\n",
        "\n",
        "train_dataset = NewsDataset(X_train, Y_train, phase='train')\n",
        "valid_dataset = NewsDataset(X_valid, Y_valid, phase='val')\n",
        "test_dataset = NewsDataset(X_test, Y_test, phase='val')\n",
        "\n",
        "# 動作確認\n",
        "idx = 0\n",
        "print(train_dataset.__getitem__(idx)[0].size())\n",
        "print(train_dataset.__getitem__(idx)[1])\n",
        "print(valid_dataset.__getitem__(idx)[0].size())\n",
        "print(valid_dataset.__getitem__(idx)[1])\n",
        "print(test_dataset.__getitem__(idx)[0].size())\n",
        "print(test_dataset.__getitem__(idx)[1])"
      ],
      "metadata": {
        "colab": {
          "base_uri": "https://localhost:8080/"
        },
        "id": "SQvCDCUqY8ID",
        "outputId": "49d809d5-0cd2-4dce-9b0e-8b440dd33709"
      },
      "execution_count": 19,
      "outputs": [
        {
          "output_type": "stream",
          "name": "stdout",
          "text": [
            "torch.Size([300])\n",
            "tensor(2)\n",
            "torch.Size([300])\n",
            "tensor(0)\n",
            "torch.Size([300])\n",
            "tensor(0)\n"
          ]
        }
      ]
    },
    {
      "cell_type": "code",
      "source": [
        "# DataLoaderを作成\n",
        "batch_size = 1\n",
        "\n",
        "train_dataloader = data.DataLoader(\n",
        "            train_dataset, batch_size=batch_size, shuffle=True)\n",
        "valid_dataloader = data.DataLoader(\n",
        "            valid_dataset, batch_size=len(valid_dataset), shuffle=False)\n",
        "test_dataloader = data.DataLoader(\n",
        "            test_dataset, batch_size=len(test_dataset), shuffle=False)\n",
        "\n",
        "dataloaders_dict = {'train': train_dataloader,\n",
        "                    'val': valid_dataloader,\n",
        "                    'test': test_dataloader,\n",
        "                   }\n",
        "\n",
        "# 動作確認\n",
        "batch_iter = iter(dataloaders_dict['train'])\n",
        "inputs, labels = next(batch_iter)\n",
        "print(inputs.size())\n",
        "print(labels)"
      ],
      "metadata": {
        "colab": {
          "base_uri": "https://localhost:8080/"
        },
        "id": "b9rNdfZwZySv",
        "outputId": "52599772-d5e6-4fc7-98cf-a15e55ef7534"
      },
      "execution_count": 20,
      "outputs": [
        {
          "output_type": "stream",
          "name": "stdout",
          "text": [
            "torch.Size([1, 300])\n",
            "tensor([0])\n"
          ]
        }
      ]
    },
    {
      "cell_type": "code",
      "source": [
        "from tqdm import tqdm\n",
        "# 学習\n",
        "\n",
        "# モデルの定義\n",
        "net = SLPNet(300, 4)\n",
        "net.train()\n",
        "\n",
        "# 損失関数の定義\n",
        "criterion = nn.CrossEntropyLoss()\n",
        "\n",
        "# 最適化手法の定義\n",
        "optimizer = torch.optim.SGD(net.parameters(), lr=0.01, momentum=0.9)\n",
        "\n",
        "# 学習用の関数を定義\n",
        "def train_model(net, dataloaders_dict, criterion, optimizer, num_epochs):\n",
        "\n",
        "    # epochのループ\n",
        "    for epoch in range(num_epochs):\n",
        "        print('Epoch {} / {}'.format(epoch + 1, num_epochs))\n",
        "        print('--------------------------------------------')\n",
        "\n",
        "        # epochごとの学習と検証のループ\n",
        "        for phase in ['train', 'val']:\n",
        "            if phase == 'train':\n",
        "                net.train() # 訓練モード\n",
        "            else:\n",
        "                net.eval() # 検証モード\n",
        "\n",
        "            epoch_loss = 0.0 # epochの損失和\n",
        "            epoch_corrects = 0 # epochの正解数\n",
        "\n",
        "            # データローダーからミニバッチを取り出すループ\n",
        "            for inputs, labels in tqdm(dataloaders_dict[phase]):\n",
        "                optimizer.zero_grad() # optimizerを初期化\n",
        "\n",
        "                # 順伝播計算(forward)\n",
        "                with torch.set_grad_enabled(phase == 'train'):\n",
        "                    outputs = net(inputs)\n",
        "                    loss = criterion(outputs, labels) # 損失を計算\n",
        "                    _, preds = torch.max(outputs, 1) # ラベルを予想\n",
        "\n",
        "                    # 訓練時は逆伝播\n",
        "                    if phase == 'train':\n",
        "                        loss.backward()\n",
        "                        optimizer.step()\n",
        "\n",
        "                    # イテレーション結果の計算\n",
        "                    # lossの合計を更新\n",
        "                    epoch_loss += loss.item() * inputs.size(0)\n",
        "                    # 正解数の合計を更新\n",
        "                    epoch_corrects += torch.sum(preds == labels.data)\n",
        "\n",
        "            # epochごとのlossと正解率の表示\n",
        "            epoch_loss = epoch_loss / len(dataloaders_dict[phase].dataset)\n",
        "            epoch_acc = epoch_corrects.double() / len(dataloaders_dict[phase].dataset)\n",
        "\n",
        "            print('{} Loss: {:.4f}, Acc: {:.4f}'.format(phase, epoch_loss, epoch_acc))\n",
        "\n",
        "# 学習を実行する\n",
        "num_epochs = 10\n",
        "train_model(net, dataloaders_dict, criterion, optimizer, num_epochs=num_epochs)"
      ],
      "metadata": {
        "colab": {
          "base_uri": "https://localhost:8080/"
        },
        "id": "fJDAQ_c6Z7bW",
        "outputId": "dde16626-c5f3-454e-fb5d-18ad7ab6b7db"
      },
      "execution_count": 21,
      "outputs": [
        {
          "output_type": "stream",
          "name": "stdout",
          "text": [
            "Epoch 1 / 10\n",
            "--------------------------------------------\n"
          ]
        },
        {
          "output_type": "stream",
          "name": "stderr",
          "text": [
            "100%|██████████| 8804/8804 [00:04<00:00, 2133.54it/s]\n"
          ]
        },
        {
          "output_type": "stream",
          "name": "stdout",
          "text": [
            "train Loss: 0.5779, Acc: 0.7923\n"
          ]
        },
        {
          "output_type": "stream",
          "name": "stderr",
          "text": [
            "100%|██████████| 1/1 [00:00<00:00, 76.65it/s]\n"
          ]
        },
        {
          "output_type": "stream",
          "name": "stdout",
          "text": [
            "val Loss: 0.4942, Acc: 0.8229\n",
            "Epoch 2 / 10\n",
            "--------------------------------------------\n"
          ]
        },
        {
          "output_type": "stream",
          "name": "stderr",
          "text": [
            "100%|██████████| 8804/8804 [00:04<00:00, 2032.17it/s]\n"
          ]
        },
        {
          "output_type": "stream",
          "name": "stdout",
          "text": [
            "train Loss: 0.4054, Acc: 0.8582\n"
          ]
        },
        {
          "output_type": "stream",
          "name": "stderr",
          "text": [
            "100%|██████████| 1/1 [00:00<00:00, 65.67it/s]\n"
          ]
        },
        {
          "output_type": "stream",
          "name": "stdout",
          "text": [
            "val Loss: 0.4358, Acc: 0.8538\n",
            "Epoch 3 / 10\n",
            "--------------------------------------------\n"
          ]
        },
        {
          "output_type": "stream",
          "name": "stderr",
          "text": [
            "100%|██████████| 8804/8804 [00:04<00:00, 1833.61it/s]\n"
          ]
        },
        {
          "output_type": "stream",
          "name": "stdout",
          "text": [
            "train Loss: 0.3691, Acc: 0.8720\n"
          ]
        },
        {
          "output_type": "stream",
          "name": "stderr",
          "text": [
            "100%|██████████| 1/1 [00:00<00:00, 115.94it/s]\n"
          ]
        },
        {
          "output_type": "stream",
          "name": "stdout",
          "text": [
            "val Loss: 0.3989, Acc: 0.8610\n",
            "Epoch 4 / 10\n",
            "--------------------------------------------\n"
          ]
        },
        {
          "output_type": "stream",
          "name": "stderr",
          "text": [
            "100%|██████████| 8804/8804 [00:04<00:00, 2058.57it/s]\n"
          ]
        },
        {
          "output_type": "stream",
          "name": "stdout",
          "text": [
            "train Loss: 0.3497, Acc: 0.8778\n"
          ]
        },
        {
          "output_type": "stream",
          "name": "stderr",
          "text": [
            "100%|██████████| 1/1 [00:00<00:00, 30.69it/s]\n"
          ]
        },
        {
          "output_type": "stream",
          "name": "stdout",
          "text": [
            "val Loss: 0.4054, Acc: 0.8556\n",
            "Epoch 5 / 10\n",
            "--------------------------------------------\n"
          ]
        },
        {
          "output_type": "stream",
          "name": "stderr",
          "text": [
            "100%|██████████| 8804/8804 [00:04<00:00, 1957.33it/s]\n"
          ]
        },
        {
          "output_type": "stream",
          "name": "stdout",
          "text": [
            "train Loss: 0.3389, Acc: 0.8823\n"
          ]
        },
        {
          "output_type": "stream",
          "name": "stderr",
          "text": [
            "100%|██████████| 1/1 [00:00<00:00, 88.42it/s]\n"
          ]
        },
        {
          "output_type": "stream",
          "name": "stdout",
          "text": [
            "val Loss: 0.3918, Acc: 0.8592\n",
            "Epoch 6 / 10\n",
            "--------------------------------------------\n"
          ]
        },
        {
          "output_type": "stream",
          "name": "stderr",
          "text": [
            "100%|██████████| 8804/8804 [00:04<00:00, 1881.04it/s]\n"
          ]
        },
        {
          "output_type": "stream",
          "name": "stdout",
          "text": [
            "train Loss: 0.3292, Acc: 0.8849\n"
          ]
        },
        {
          "output_type": "stream",
          "name": "stderr",
          "text": [
            "100%|██████████| 1/1 [00:00<00:00, 107.39it/s]\n"
          ]
        },
        {
          "output_type": "stream",
          "name": "stdout",
          "text": [
            "val Loss: 0.3883, Acc: 0.8610\n",
            "Epoch 7 / 10\n",
            "--------------------------------------------\n"
          ]
        },
        {
          "output_type": "stream",
          "name": "stderr",
          "text": [
            "100%|██████████| 8804/8804 [00:04<00:00, 2170.98it/s]\n"
          ]
        },
        {
          "output_type": "stream",
          "name": "stdout",
          "text": [
            "train Loss: 0.3224, Acc: 0.8882\n"
          ]
        },
        {
          "output_type": "stream",
          "name": "stderr",
          "text": [
            "100%|██████████| 1/1 [00:00<00:00, 117.14it/s]\n"
          ]
        },
        {
          "output_type": "stream",
          "name": "stdout",
          "text": [
            "val Loss: 0.4010, Acc: 0.8601\n",
            "Epoch 8 / 10\n",
            "--------------------------------------------\n"
          ]
        },
        {
          "output_type": "stream",
          "name": "stderr",
          "text": [
            "100%|██████████| 8804/8804 [00:04<00:00, 2165.23it/s]\n"
          ]
        },
        {
          "output_type": "stream",
          "name": "stdout",
          "text": [
            "train Loss: 0.3186, Acc: 0.8900\n"
          ]
        },
        {
          "output_type": "stream",
          "name": "stderr",
          "text": [
            "100%|██████████| 1/1 [00:00<00:00, 84.62it/s]\n"
          ]
        },
        {
          "output_type": "stream",
          "name": "stdout",
          "text": [
            "val Loss: 0.3813, Acc: 0.8592\n",
            "Epoch 9 / 10\n",
            "--------------------------------------------\n"
          ]
        },
        {
          "output_type": "stream",
          "name": "stderr",
          "text": [
            "100%|██████████| 8804/8804 [00:05<00:00, 1654.88it/s]\n"
          ]
        },
        {
          "output_type": "stream",
          "name": "stdout",
          "text": [
            "train Loss: 0.3145, Acc: 0.8923\n"
          ]
        },
        {
          "output_type": "stream",
          "name": "stderr",
          "text": [
            "100%|██████████| 1/1 [00:00<00:00, 76.42it/s]\n"
          ]
        },
        {
          "output_type": "stream",
          "name": "stdout",
          "text": [
            "val Loss: 0.3797, Acc: 0.8710\n",
            "Epoch 10 / 10\n",
            "--------------------------------------------\n"
          ]
        },
        {
          "output_type": "stream",
          "name": "stderr",
          "text": [
            "100%|██████████| 8804/8804 [00:04<00:00, 2176.82it/s]\n"
          ]
        },
        {
          "output_type": "stream",
          "name": "stdout",
          "text": [
            "train Loss: 0.3112, Acc: 0.8939\n"
          ]
        },
        {
          "output_type": "stream",
          "name": "stderr",
          "text": [
            "100%|██████████| 1/1 [00:00<00:00, 109.61it/s]"
          ]
        },
        {
          "output_type": "stream",
          "name": "stdout",
          "text": [
            "val Loss: 0.3657, Acc: 0.8765\n"
          ]
        },
        {
          "output_type": "stream",
          "name": "stderr",
          "text": [
            "\n"
          ]
        }
      ]
    },
    {
      "cell_type": "markdown",
      "source": [
        "# 74. 正解率の計測\n",
        "\n",
        "問題73で求めた行列を用いて学習データおよび評価データの事例を分類したとき，その正解率をそれぞれ求めよ．"
      ],
      "metadata": {
        "id": "MnOGyMv8ajgw"
      }
    },
    {
      "cell_type": "code",
      "source": [
        "def calc_acc(net, dataloader):\n",
        "    net.eval()\n",
        "    corrects = 0\n",
        "    with torch.no_grad():\n",
        "        for inputs, labels in dataloader:\n",
        "            outputs = net(inputs)\n",
        "            _, preds = torch.max(outputs, 1) # ラベルを予想\n",
        "            corrects += torch.sum(preds == labels.data)\n",
        "    return corrects / len(dataloader.dataset)\n",
        "\n",
        "acc_train = calc_acc(net, train_dataloader)\n",
        "acc_valid = calc_acc(net, valid_dataloader)\n",
        "acc_test = calc_acc(net, test_dataloader)\n",
        "print('学習データの正解率: {:.4f}'.format(acc_train))\n",
        "print('検証データの正解率: {:.4f}'.format(acc_valid))\n",
        "print('テストデータの正解率: {:.4f}'.format(acc_test))"
      ],
      "metadata": {
        "colab": {
          "base_uri": "https://localhost:8080/"
        },
        "id": "Cj9uEUQpaAEJ",
        "outputId": "b4795b3d-09d7-435d-aab4-a9a153834ea3"
      },
      "execution_count": 20,
      "outputs": [
        {
          "output_type": "stream",
          "name": "stdout",
          "text": [
            "学習データの正解率: 0.8970\n",
            "検証データの正解率: 0.8692\n",
            "テストデータの正解率: 0.3760\n"
          ]
        }
      ]
    },
    {
      "cell_type": "markdown",
      "source": [
        "# 75. 損失と正解率のプロット\n",
        "\n",
        "問題73のコードを改変し，各エポックのパラメータ更新が完了するたびに，訓練データでの損失，正解率，検証データでの損失，正解率をグラフにプロットし，学習の進捗状況を確認できるようにせよ．"
      ],
      "metadata": {
        "id": "awdlczeDmdES"
      }
    },
    {
      "cell_type": "code",
      "source": [
        "# 学習\n",
        "\n",
        "#epochごとのlossと正解率をappendするリストを用意\n",
        "epoch_loss_train_lis = []\n",
        "epoch_acc_train_lis = []\n",
        "epoch_loss_val_lis = []\n",
        "epoch_acc_val_lis = []\n",
        "\n",
        "#以下は問題73と同様\n",
        "\n",
        "# モデルの定義\n",
        "net = SLPNet(300, 4)\n",
        "net.train()\n",
        "\n",
        "# 損失関数の定義\n",
        "criterion = nn.CrossEntropyLoss()\n",
        "\n",
        "# 最適化手法の定義\n",
        "optimizer = torch.optim.SGD(net.parameters(), lr=0.01, momentum=0.9)\n",
        "\n",
        "# 学習用の関数を定義\n",
        "def train_model(net, dataloaders_dict, criterion, optimizer, num_epochs):\n",
        "\n",
        "    # epochのループ\n",
        "    for epoch in range(num_epochs):\n",
        "        print('Epoch {} / {}'.format(epoch + 1, num_epochs))\n",
        "        print('--------------------------------------------')\n",
        "\n",
        "        # epochごとの学習と検証のループ\n",
        "        for phase in ['train', 'val']:\n",
        "            if phase == 'train':\n",
        "                net.train() # 訓練モード\n",
        "            else:\n",
        "                net.eval() # 検証モード\n",
        "\n",
        "            epoch_loss = 0.0 # epochの損失和\n",
        "            epoch_corrects = 0 # epochの正解数\n",
        "\n",
        "            # データローダーからミニバッチを取り出すループ\n",
        "            for inputs, labels in tqdm(dataloaders_dict[phase]):\n",
        "                optimizer.zero_grad() # optimizerを初期化\n",
        "\n",
        "                # 順伝播計算(forward)\n",
        "                with torch.set_grad_enabled(phase == 'train'):\n",
        "                    outputs = net(inputs)\n",
        "                    loss = criterion(outputs, labels) # 損失を計算\n",
        "                    _, preds = torch.max(outputs, 1) # ラベルを予想\n",
        "\n",
        "                    # 訓練時は逆伝播\n",
        "                    if phase == 'train':\n",
        "                        loss.backward()\n",
        "                        optimizer.step()\n",
        "\n",
        "                    # イテレーション結果の計算\n",
        "                    # lossの合計を更新\n",
        "                    epoch_loss += loss.item() * inputs.size(0)\n",
        "                    # 正解数の合計を更新\n",
        "                    epoch_corrects += torch.sum(preds == labels.data)\n",
        "\n",
        "            # epochごとのlossと正解率の表示\n",
        "            epoch_loss = epoch_loss / len(dataloaders_dict[phase].dataset)\n",
        "            epoch_acc = epoch_corrects.double() / len(dataloaders_dict[phase].dataset)\n",
        "\n",
        "            print('{} Loss: {:.4f}, Acc: {:.4f}'.format(phase, epoch_loss, epoch_acc))\n",
        "\n",
        "            # epochごとlossと正解率の表示をlistにappendする #問題75挿入箇所\n",
        "            if phase == 'train':                      #SLPNet.train():訓練モードの場合、訓練データのlossとaccuracyを求める\n",
        "              epoch_loss_train_lis.append(epoch_loss) #epoch_lossは各エポックにおけるloss\n",
        "              epoch_acc_train_lis.append(epoch_acc)   #epoch_accは各エポックにおけるaccuracy\n",
        "\n",
        "            else:  # phase == 'val'の場合              #SLPNet.eval():検証モードの場合、検証データのlossとaccuracyを求める\n",
        "              epoch_loss_val_lis.append(epoch_loss)\n",
        "              epoch_acc_val_lis.append(epoch_acc)\n",
        "\n",
        "\n",
        "# 学習を実行する\n",
        "num_epochs = 30 #エポック数は30とする\n",
        "train_model(net, dataloaders_dict, criterion, optimizer, num_epochs=num_epochs)"
      ],
      "metadata": {
        "colab": {
          "base_uri": "https://localhost:8080/"
        },
        "id": "eep0AslZV2dE",
        "outputId": "34632145-4f21-43ed-eac6-4a0bb8e40ecf"
      },
      "execution_count": 21,
      "outputs": [
        {
          "metadata": {
            "tags": null
          },
          "name": "stdout",
          "output_type": "stream",
          "text": [
            "Epoch 1 / 30\n",
            "--------------------------------------------\n"
          ]
        },
        {
          "metadata": {
            "tags": null
          },
          "name": "stderr",
          "output_type": "stream",
          "text": [
            "100%|██████████| 8804/8804 [00:04<00:00, 1901.02it/s]\n"
          ]
        },
        {
          "metadata": {
            "tags": null
          },
          "name": "stdout",
          "output_type": "stream",
          "text": [
            "train Loss: 0.5952, Acc: 0.7875\n"
          ]
        },
        {
          "metadata": {
            "tags": null
          },
          "name": "stderr",
          "output_type": "stream",
          "text": [
            "100%|██████████| 1/1 [00:00<00:00, 74.57it/s]\n"
          ]
        },
        {
          "metadata": {
            "tags": null
          },
          "name": "stdout",
          "output_type": "stream",
          "text": [
            "val Loss: 0.4704, Acc: 0.8338\n",
            "Epoch 2 / 30\n",
            "--------------------------------------------\n"
          ]
        },
        {
          "metadata": {
            "tags": null
          },
          "name": "stderr",
          "output_type": "stream",
          "text": [
            "100%|██████████| 8804/8804 [00:05<00:00, 1548.54it/s]\n"
          ]
        },
        {
          "metadata": {
            "tags": null
          },
          "name": "stdout",
          "output_type": "stream",
          "text": [
            "train Loss: 0.4034, Acc: 0.8602\n"
          ]
        },
        {
          "metadata": {
            "tags": null
          },
          "name": "stderr",
          "output_type": "stream",
          "text": [
            "100%|██████████| 1/1 [00:00<00:00, 98.74it/s]\n"
          ]
        },
        {
          "metadata": {
            "tags": null
          },
          "name": "stdout",
          "output_type": "stream",
          "text": [
            "val Loss: 0.4292, Acc: 0.8456\n",
            "Epoch 3 / 30\n",
            "--------------------------------------------\n"
          ]
        },
        {
          "metadata": {
            "tags": null
          },
          "name": "stderr",
          "output_type": "stream",
          "text": [
            "100%|██████████| 8804/8804 [00:04<00:00, 1907.15it/s]\n"
          ]
        },
        {
          "metadata": {
            "tags": null
          },
          "name": "stdout",
          "output_type": "stream",
          "text": [
            "train Loss: 0.3665, Acc: 0.8710\n"
          ]
        },
        {
          "metadata": {
            "tags": null
          },
          "name": "stderr",
          "output_type": "stream",
          "text": [
            "100%|██████████| 1/1 [00:00<00:00, 109.14it/s]\n"
          ]
        },
        {
          "metadata": {
            "tags": null
          },
          "name": "stdout",
          "output_type": "stream",
          "text": [
            "val Loss: 0.4024, Acc: 0.8556\n",
            "Epoch 4 / 30\n",
            "--------------------------------------------\n"
          ]
        },
        {
          "metadata": {
            "tags": null
          },
          "name": "stderr",
          "output_type": "stream",
          "text": [
            "100%|██████████| 8804/8804 [00:04<00:00, 1905.86it/s]\n"
          ]
        },
        {
          "metadata": {
            "tags": null
          },
          "name": "stdout",
          "output_type": "stream",
          "text": [
            "train Loss: 0.3485, Acc: 0.8778\n"
          ]
        },
        {
          "metadata": {
            "tags": null
          },
          "name": "stderr",
          "output_type": "stream",
          "text": [
            "100%|██████████| 1/1 [00:00<00:00, 48.27it/s]\n"
          ]
        },
        {
          "metadata": {
            "tags": null
          },
          "name": "stdout",
          "output_type": "stream",
          "text": [
            "val Loss: 0.3846, Acc: 0.8619\n",
            "Epoch 5 / 30\n",
            "--------------------------------------------\n"
          ]
        },
        {
          "metadata": {
            "tags": null
          },
          "name": "stderr",
          "output_type": "stream",
          "text": [
            "100%|██████████| 8804/8804 [00:05<00:00, 1557.38it/s]\n"
          ]
        },
        {
          "metadata": {
            "tags": null
          },
          "name": "stdout",
          "output_type": "stream",
          "text": [
            "train Loss: 0.3361, Acc: 0.8838\n"
          ]
        },
        {
          "metadata": {
            "tags": null
          },
          "name": "stderr",
          "output_type": "stream",
          "text": [
            "100%|██████████| 1/1 [00:00<00:00, 83.62it/s]\n"
          ]
        },
        {
          "metadata": {
            "tags": null
          },
          "name": "stdout",
          "output_type": "stream",
          "text": [
            "val Loss: 0.3743, Acc: 0.8674\n",
            "Epoch 6 / 30\n",
            "--------------------------------------------\n"
          ]
        },
        {
          "metadata": {
            "tags": null
          },
          "name": "stderr",
          "output_type": "stream",
          "text": [
            "100%|██████████| 8804/8804 [00:04<00:00, 1944.43it/s]\n"
          ]
        },
        {
          "metadata": {
            "tags": null
          },
          "name": "stdout",
          "output_type": "stream",
          "text": [
            "train Loss: 0.3280, Acc: 0.8876\n"
          ]
        },
        {
          "metadata": {
            "tags": null
          },
          "name": "stderr",
          "output_type": "stream",
          "text": [
            "100%|██████████| 1/1 [00:00<00:00, 80.16it/s]\n"
          ]
        },
        {
          "metadata": {
            "tags": null
          },
          "name": "stdout",
          "output_type": "stream",
          "text": [
            "val Loss: 0.3705, Acc: 0.8683\n",
            "Epoch 7 / 30\n",
            "--------------------------------------------\n"
          ]
        },
        {
          "metadata": {
            "tags": null
          },
          "name": "stderr",
          "output_type": "stream",
          "text": [
            "100%|██████████| 8804/8804 [00:04<00:00, 1821.80it/s]\n"
          ]
        },
        {
          "metadata": {
            "tags": null
          },
          "name": "stdout",
          "output_type": "stream",
          "text": [
            "train Loss: 0.3211, Acc: 0.8882\n"
          ]
        },
        {
          "metadata": {
            "tags": null
          },
          "name": "stderr",
          "output_type": "stream",
          "text": [
            "100%|██████████| 1/1 [00:00<00:00, 58.19it/s]\n"
          ]
        },
        {
          "metadata": {
            "tags": null
          },
          "name": "stdout",
          "output_type": "stream",
          "text": [
            "val Loss: 0.3749, Acc: 0.8674\n",
            "Epoch 8 / 30\n",
            "--------------------------------------------\n"
          ]
        },
        {
          "metadata": {
            "tags": null
          },
          "name": "stderr",
          "output_type": "stream",
          "text": [
            "100%|██████████| 8804/8804 [00:05<00:00, 1628.43it/s]\n"
          ]
        },
        {
          "metadata": {
            "tags": null
          },
          "name": "stdout",
          "output_type": "stream",
          "text": [
            "train Loss: 0.3177, Acc: 0.8890\n"
          ]
        },
        {
          "metadata": {
            "tags": null
          },
          "name": "stderr",
          "output_type": "stream",
          "text": [
            "100%|██████████| 1/1 [00:00<00:00, 113.32it/s]\n"
          ]
        },
        {
          "metadata": {
            "tags": null
          },
          "name": "stdout",
          "output_type": "stream",
          "text": [
            "val Loss: 0.3612, Acc: 0.8701\n",
            "Epoch 9 / 30\n",
            "--------------------------------------------\n"
          ]
        },
        {
          "metadata": {
            "tags": null
          },
          "name": "stderr",
          "output_type": "stream",
          "text": [
            "100%|██████████| 8804/8804 [00:04<00:00, 1928.96it/s]\n"
          ]
        },
        {
          "metadata": {
            "tags": null
          },
          "name": "stdout",
          "output_type": "stream",
          "text": [
            "train Loss: 0.3135, Acc: 0.8927\n"
          ]
        },
        {
          "metadata": {
            "tags": null
          },
          "name": "stderr",
          "output_type": "stream",
          "text": [
            "100%|██████████| 1/1 [00:00<00:00, 71.48it/s]\n"
          ]
        },
        {
          "metadata": {
            "tags": null
          },
          "name": "stdout",
          "output_type": "stream",
          "text": [
            "val Loss: 0.3742, Acc: 0.8656\n",
            "Epoch 10 / 30\n",
            "--------------------------------------------\n"
          ]
        },
        {
          "metadata": {
            "tags": null
          },
          "name": "stderr",
          "output_type": "stream",
          "text": [
            "100%|██████████| 8804/8804 [00:04<00:00, 1765.01it/s]\n"
          ]
        },
        {
          "metadata": {
            "tags": null
          },
          "name": "stdout",
          "output_type": "stream",
          "text": [
            "train Loss: 0.3097, Acc: 0.8918\n"
          ]
        },
        {
          "metadata": {
            "tags": null
          },
          "name": "stderr",
          "output_type": "stream",
          "text": [
            "100%|██████████| 1/1 [00:00<00:00, 50.82it/s]\n"
          ]
        },
        {
          "metadata": {
            "tags": null
          },
          "name": "stdout",
          "output_type": "stream",
          "text": [
            "val Loss: 0.3658, Acc: 0.8710\n",
            "Epoch 11 / 30\n",
            "--------------------------------------------\n"
          ]
        },
        {
          "metadata": {
            "tags": null
          },
          "name": "stderr",
          "output_type": "stream",
          "text": [
            "100%|██████████| 8804/8804 [00:05<00:00, 1660.43it/s]\n"
          ]
        },
        {
          "metadata": {
            "tags": null
          },
          "name": "stdout",
          "output_type": "stream",
          "text": [
            "train Loss: 0.3078, Acc: 0.8933\n"
          ]
        },
        {
          "metadata": {
            "tags": null
          },
          "name": "stderr",
          "output_type": "stream",
          "text": [
            "100%|██████████| 1/1 [00:00<00:00, 109.36it/s]\n"
          ]
        },
        {
          "metadata": {
            "tags": null
          },
          "name": "stdout",
          "output_type": "stream",
          "text": [
            "val Loss: 0.3640, Acc: 0.8656\n",
            "Epoch 12 / 30\n",
            "--------------------------------------------\n"
          ]
        },
        {
          "metadata": {
            "tags": null
          },
          "name": "stderr",
          "output_type": "stream",
          "text": [
            "100%|██████████| 8804/8804 [00:04<00:00, 1922.17it/s]\n"
          ]
        },
        {
          "metadata": {
            "tags": null
          },
          "name": "stdout",
          "output_type": "stream",
          "text": [
            "train Loss: 0.3061, Acc: 0.8948\n"
          ]
        },
        {
          "metadata": {
            "tags": null
          },
          "name": "stderr",
          "output_type": "stream",
          "text": [
            "100%|██████████| 1/1 [00:00<00:00, 95.15it/s]\n"
          ]
        },
        {
          "metadata": {
            "tags": null
          },
          "name": "stdout",
          "output_type": "stream",
          "text": [
            "val Loss: 0.3644, Acc: 0.8710\n",
            "Epoch 13 / 30\n",
            "--------------------------------------------\n"
          ]
        },
        {
          "metadata": {
            "tags": null
          },
          "name": "stderr",
          "output_type": "stream",
          "text": [
            "100%|██████████| 8804/8804 [00:05<00:00, 1678.89it/s]\n"
          ]
        },
        {
          "metadata": {
            "tags": null
          },
          "name": "stdout",
          "output_type": "stream",
          "text": [
            "train Loss: 0.3037, Acc: 0.8935\n"
          ]
        },
        {
          "metadata": {
            "tags": null
          },
          "name": "stderr",
          "output_type": "stream",
          "text": [
            "100%|██████████| 1/1 [00:00<00:00, 72.98it/s]\n"
          ]
        },
        {
          "metadata": {
            "tags": null
          },
          "name": "stdout",
          "output_type": "stream",
          "text": [
            "val Loss: 0.3706, Acc: 0.8710\n",
            "Epoch 14 / 30\n",
            "--------------------------------------------\n"
          ]
        },
        {
          "metadata": {
            "tags": null
          },
          "name": "stderr",
          "output_type": "stream",
          "text": [
            "100%|██████████| 8804/8804 [00:05<00:00, 1741.44it/s]\n"
          ]
        },
        {
          "metadata": {
            "tags": null
          },
          "name": "stdout",
          "output_type": "stream",
          "text": [
            "train Loss: 0.3016, Acc: 0.8972\n"
          ]
        },
        {
          "metadata": {
            "tags": null
          },
          "name": "stderr",
          "output_type": "stream",
          "text": [
            "100%|██████████| 1/1 [00:00<00:00, 80.62it/s]\n"
          ]
        },
        {
          "metadata": {
            "tags": null
          },
          "name": "stdout",
          "output_type": "stream",
          "text": [
            "val Loss: 0.3753, Acc: 0.8656\n",
            "Epoch 15 / 30\n",
            "--------------------------------------------\n"
          ]
        },
        {
          "metadata": {
            "tags": null
          },
          "name": "stderr",
          "output_type": "stream",
          "text": [
            "100%|██████████| 8804/8804 [00:04<00:00, 1920.56it/s]\n"
          ]
        },
        {
          "metadata": {
            "tags": null
          },
          "name": "stdout",
          "output_type": "stream",
          "text": [
            "train Loss: 0.3014, Acc: 0.8930\n"
          ]
        },
        {
          "metadata": {
            "tags": null
          },
          "name": "stderr",
          "output_type": "stream",
          "text": [
            "100%|██████████| 1/1 [00:00<00:00, 114.46it/s]\n"
          ]
        },
        {
          "metadata": {
            "tags": null
          },
          "name": "stdout",
          "output_type": "stream",
          "text": [
            "val Loss: 0.3845, Acc: 0.8647\n",
            "Epoch 16 / 30\n",
            "--------------------------------------------\n"
          ]
        },
        {
          "metadata": {
            "tags": null
          },
          "name": "stderr",
          "output_type": "stream",
          "text": [
            "100%|██████████| 8804/8804 [00:05<00:00, 1643.29it/s]\n"
          ]
        },
        {
          "metadata": {
            "tags": null
          },
          "name": "stdout",
          "output_type": "stream",
          "text": [
            "train Loss: 0.2992, Acc: 0.8964\n"
          ]
        },
        {
          "metadata": {
            "tags": null
          },
          "name": "stderr",
          "output_type": "stream",
          "text": [
            "100%|██████████| 1/1 [00:00<00:00, 51.08it/s]\n"
          ]
        },
        {
          "metadata": {
            "tags": null
          },
          "name": "stdout",
          "output_type": "stream",
          "text": [
            "val Loss: 0.3564, Acc: 0.8747\n",
            "Epoch 17 / 30\n",
            "--------------------------------------------\n"
          ]
        },
        {
          "metadata": {
            "tags": null
          },
          "name": "stderr",
          "output_type": "stream",
          "text": [
            "100%|██████████| 8804/8804 [00:04<00:00, 1799.66it/s]\n"
          ]
        },
        {
          "metadata": {
            "tags": null
          },
          "name": "stdout",
          "output_type": "stream",
          "text": [
            "train Loss: 0.2995, Acc: 0.8946\n"
          ]
        },
        {
          "metadata": {
            "tags": null
          },
          "name": "stderr",
          "output_type": "stream",
          "text": [
            "100%|██████████| 1/1 [00:00<00:00, 73.55it/s]\n"
          ]
        },
        {
          "metadata": {
            "tags": null
          },
          "name": "stdout",
          "output_type": "stream",
          "text": [
            "val Loss: 0.3692, Acc: 0.8765\n",
            "Epoch 18 / 30\n",
            "--------------------------------------------\n"
          ]
        },
        {
          "metadata": {
            "tags": null
          },
          "name": "stderr",
          "output_type": "stream",
          "text": [
            "100%|██████████| 8804/8804 [00:04<00:00, 1915.35it/s]\n"
          ]
        },
        {
          "metadata": {
            "tags": null
          },
          "name": "stdout",
          "output_type": "stream",
          "text": [
            "train Loss: 0.2970, Acc: 0.8958\n"
          ]
        },
        {
          "metadata": {
            "tags": null
          },
          "name": "stderr",
          "output_type": "stream",
          "text": [
            "100%|██████████| 1/1 [00:00<00:00, 95.14it/s]\n"
          ]
        },
        {
          "metadata": {
            "tags": null
          },
          "name": "stdout",
          "output_type": "stream",
          "text": [
            "val Loss: 0.3653, Acc: 0.8774\n",
            "Epoch 19 / 30\n",
            "--------------------------------------------\n"
          ]
        },
        {
          "metadata": {
            "tags": null
          },
          "name": "stderr",
          "output_type": "stream",
          "text": [
            "100%|██████████| 8804/8804 [00:05<00:00, 1558.08it/s]\n"
          ]
        },
        {
          "metadata": {
            "tags": null
          },
          "name": "stdout",
          "output_type": "stream",
          "text": [
            "train Loss: 0.2974, Acc: 0.8973\n"
          ]
        },
        {
          "metadata": {
            "tags": null
          },
          "name": "stderr",
          "output_type": "stream",
          "text": [
            "100%|██████████| 1/1 [00:00<00:00, 64.18it/s]\n"
          ]
        },
        {
          "metadata": {
            "tags": null
          },
          "name": "stdout",
          "output_type": "stream",
          "text": [
            "val Loss: 0.3672, Acc: 0.8728\n",
            "Epoch 20 / 30\n",
            "--------------------------------------------\n"
          ]
        },
        {
          "metadata": {
            "tags": null
          },
          "name": "stderr",
          "output_type": "stream",
          "text": [
            "100%|██████████| 8804/8804 [00:04<00:00, 1877.30it/s]\n"
          ]
        },
        {
          "metadata": {
            "tags": null
          },
          "name": "stdout",
          "output_type": "stream",
          "text": [
            "train Loss: 0.2963, Acc: 0.8979\n"
          ]
        },
        {
          "metadata": {
            "tags": null
          },
          "name": "stderr",
          "output_type": "stream",
          "text": [
            "100%|██████████| 1/1 [00:00<00:00, 79.50it/s]\n"
          ]
        },
        {
          "metadata": {
            "tags": null
          },
          "name": "stdout",
          "output_type": "stream",
          "text": [
            "val Loss: 0.3884, Acc: 0.8692\n",
            "Epoch 21 / 30\n",
            "--------------------------------------------\n"
          ]
        },
        {
          "metadata": {
            "tags": null
          },
          "name": "stderr",
          "output_type": "stream",
          "text": [
            "100%|██████████| 8804/8804 [00:04<00:00, 1922.62it/s]\n"
          ]
        },
        {
          "metadata": {
            "tags": null
          },
          "name": "stdout",
          "output_type": "stream",
          "text": [
            "train Loss: 0.2953, Acc: 0.8994\n"
          ]
        },
        {
          "metadata": {
            "tags": null
          },
          "name": "stderr",
          "output_type": "stream",
          "text": [
            "100%|██████████| 1/1 [00:00<00:00, 111.87it/s]\n"
          ]
        },
        {
          "metadata": {
            "tags": null
          },
          "name": "stdout",
          "output_type": "stream",
          "text": [
            "val Loss: 0.3822, Acc: 0.8674\n",
            "Epoch 22 / 30\n",
            "--------------------------------------------\n"
          ]
        },
        {
          "metadata": {
            "tags": null
          },
          "name": "stderr",
          "output_type": "stream",
          "text": [
            "100%|██████████| 8804/8804 [00:05<00:00, 1527.35it/s]\n"
          ]
        },
        {
          "metadata": {
            "tags": null
          },
          "name": "stdout",
          "output_type": "stream",
          "text": [
            "train Loss: 0.2952, Acc: 0.8973\n"
          ]
        },
        {
          "metadata": {
            "tags": null
          },
          "name": "stderr",
          "output_type": "stream",
          "text": [
            "100%|██████████| 1/1 [00:00<00:00, 107.85it/s]\n"
          ]
        },
        {
          "metadata": {
            "tags": null
          },
          "name": "stdout",
          "output_type": "stream",
          "text": [
            "val Loss: 0.3716, Acc: 0.8692\n",
            "Epoch 23 / 30\n",
            "--------------------------------------------\n"
          ]
        },
        {
          "metadata": {
            "tags": null
          },
          "name": "stderr",
          "output_type": "stream",
          "text": [
            "100%|██████████| 8804/8804 [00:04<00:00, 1925.51it/s]\n"
          ]
        },
        {
          "metadata": {
            "tags": null
          },
          "name": "stdout",
          "output_type": "stream",
          "text": [
            "train Loss: 0.2941, Acc: 0.8953\n"
          ]
        },
        {
          "metadata": {
            "tags": null
          },
          "name": "stderr",
          "output_type": "stream",
          "text": [
            "100%|██████████| 1/1 [00:00<00:00, 111.61it/s]\n"
          ]
        },
        {
          "metadata": {
            "tags": null
          },
          "name": "stdout",
          "output_type": "stream",
          "text": [
            "val Loss: 0.3828, Acc: 0.8665\n",
            "Epoch 24 / 30\n",
            "--------------------------------------------\n"
          ]
        },
        {
          "metadata": {
            "tags": null
          },
          "name": "stderr",
          "output_type": "stream",
          "text": [
            "100%|██████████| 8804/8804 [00:04<00:00, 1932.38it/s]\n"
          ]
        },
        {
          "metadata": {
            "tags": null
          },
          "name": "stdout",
          "output_type": "stream",
          "text": [
            "train Loss: 0.2932, Acc: 0.8988\n"
          ]
        },
        {
          "metadata": {
            "tags": null
          },
          "name": "stderr",
          "output_type": "stream",
          "text": [
            "100%|██████████| 1/1 [00:00<00:00, 76.62it/s]\n"
          ]
        },
        {
          "metadata": {
            "tags": null
          },
          "name": "stdout",
          "output_type": "stream",
          "text": [
            "val Loss: 0.3665, Acc: 0.8747\n",
            "Epoch 25 / 30\n",
            "--------------------------------------------\n"
          ]
        },
        {
          "metadata": {
            "tags": null
          },
          "name": "stderr",
          "output_type": "stream",
          "text": [
            "100%|██████████| 8804/8804 [00:05<00:00, 1544.64it/s]\n"
          ]
        },
        {
          "metadata": {
            "tags": null
          },
          "name": "stdout",
          "output_type": "stream",
          "text": [
            "train Loss: 0.2926, Acc: 0.8985\n"
          ]
        },
        {
          "metadata": {
            "tags": null
          },
          "name": "stderr",
          "output_type": "stream",
          "text": [
            "100%|██████████| 1/1 [00:00<00:00, 101.55it/s]\n"
          ]
        },
        {
          "metadata": {
            "tags": null
          },
          "name": "stdout",
          "output_type": "stream",
          "text": [
            "val Loss: 0.3602, Acc: 0.8710\n",
            "Epoch 26 / 30\n",
            "--------------------------------------------\n"
          ]
        },
        {
          "metadata": {
            "tags": null
          },
          "name": "stderr",
          "output_type": "stream",
          "text": [
            "100%|██████████| 8804/8804 [00:04<00:00, 1970.46it/s]\n"
          ]
        },
        {
          "metadata": {
            "tags": null
          },
          "name": "stdout",
          "output_type": "stream",
          "text": [
            "train Loss: 0.2931, Acc: 0.8986\n"
          ]
        },
        {
          "metadata": {
            "tags": null
          },
          "name": "stderr",
          "output_type": "stream",
          "text": [
            "100%|██████████| 1/1 [00:00<00:00, 112.38it/s]\n"
          ]
        },
        {
          "metadata": {
            "tags": null
          },
          "name": "stdout",
          "output_type": "stream",
          "text": [
            "val Loss: 0.3630, Acc: 0.8719\n",
            "Epoch 27 / 30\n",
            "--------------------------------------------\n"
          ]
        },
        {
          "metadata": {
            "tags": null
          },
          "name": "stderr",
          "output_type": "stream",
          "text": [
            "100%|██████████| 8804/8804 [00:04<00:00, 1944.72it/s]\n"
          ]
        },
        {
          "metadata": {
            "tags": null
          },
          "name": "stdout",
          "output_type": "stream",
          "text": [
            "train Loss: 0.2922, Acc: 0.8989\n"
          ]
        },
        {
          "metadata": {
            "tags": null
          },
          "name": "stderr",
          "output_type": "stream",
          "text": [
            "100%|██████████| 1/1 [00:00<00:00, 83.41it/s]\n"
          ]
        },
        {
          "metadata": {
            "tags": null
          },
          "name": "stdout",
          "output_type": "stream",
          "text": [
            "val Loss: 0.3704, Acc: 0.8765\n",
            "Epoch 28 / 30\n",
            "--------------------------------------------\n"
          ]
        },
        {
          "metadata": {
            "tags": null
          },
          "name": "stderr",
          "output_type": "stream",
          "text": [
            "100%|██████████| 8804/8804 [00:05<00:00, 1551.37it/s]\n"
          ]
        },
        {
          "metadata": {
            "tags": null
          },
          "name": "stdout",
          "output_type": "stream",
          "text": [
            "train Loss: 0.2910, Acc: 0.8993\n"
          ]
        },
        {
          "metadata": {
            "tags": null
          },
          "name": "stderr",
          "output_type": "stream",
          "text": [
            "100%|██████████| 1/1 [00:00<00:00, 107.10it/s]\n"
          ]
        },
        {
          "metadata": {
            "tags": null
          },
          "name": "stdout",
          "output_type": "stream",
          "text": [
            "val Loss: 0.3718, Acc: 0.8701\n",
            "Epoch 29 / 30\n",
            "--------------------------------------------\n"
          ]
        },
        {
          "metadata": {
            "tags": null
          },
          "name": "stderr",
          "output_type": "stream",
          "text": [
            "100%|██████████| 8804/8804 [00:04<00:00, 1939.93it/s]\n"
          ]
        },
        {
          "metadata": {
            "tags": null
          },
          "name": "stdout",
          "output_type": "stream",
          "text": [
            "train Loss: 0.2912, Acc: 0.8994\n"
          ]
        },
        {
          "metadata": {
            "tags": null
          },
          "name": "stderr",
          "output_type": "stream",
          "text": [
            "100%|██████████| 1/1 [00:00<00:00, 78.98it/s]\n"
          ]
        },
        {
          "metadata": {
            "tags": null
          },
          "name": "stdout",
          "output_type": "stream",
          "text": [
            "val Loss: 0.3650, Acc: 0.8719\n",
            "Epoch 30 / 30\n",
            "--------------------------------------------\n"
          ]
        },
        {
          "output_type": "stream",
          "name": "stderr",
          "text": [
            "100%|██████████| 8804/8804 [00:04<00:00, 1873.04it/s]\n"
          ]
        },
        {
          "output_type": "stream",
          "name": "stdout",
          "text": [
            "train Loss: 0.2911, Acc: 0.9002\n"
          ]
        },
        {
          "output_type": "stream",
          "name": "stderr",
          "text": [
            "100%|██████████| 1/1 [00:00<00:00, 65.71it/s]"
          ]
        },
        {
          "output_type": "stream",
          "name": "stdout",
          "text": [
            "val Loss: 0.3690, Acc: 0.8728\n"
          ]
        },
        {
          "output_type": "stream",
          "name": "stderr",
          "text": [
            "\n"
          ]
        }
      ]
    },
    {
      "cell_type": "code",
      "source": [
        "from matplotlib import pyplot as plt\n",
        "import numpy as np\n",
        "\n",
        "# 視覚化\n",
        "fig, ax = plt.subplots(1, 2, figsize=(15, 5))\n",
        "ax[0].plot(epoch_loss_train_lis, label='train')\n",
        "ax[0].plot(epoch_loss_val_lis, label='valid')\n",
        "ax[0].set_xlabel('epoch')\n",
        "ax[0].set_ylabel('loss')\n",
        "ax[0].legend()\n",
        "ax[1].plot(epoch_acc_train_lis, label='train')\n",
        "ax[1].plot(epoch_acc_val_lis, label='valid')\n",
        "ax[1].set_xlabel('epoch')\n",
        "ax[1].set_ylabel('accuracy')\n",
        "ax[1].legend()\n",
        "plt.show()"
      ],
      "metadata": {
        "colab": {
          "base_uri": "https://localhost:8080/",
          "height": 464
        },
        "id": "NNJlY1mvUrJj",
        "outputId": "78ff2edd-ac4e-495d-c7ea-15e1ae8e58b1"
      },
      "execution_count": 22,
      "outputs": [
        {
          "output_type": "display_data",
          "data": {
            "text/plain": [
              "<Figure size 1500x500 with 2 Axes>"
            ],
            "image/png": "[encoded data removed]"
          },
          "metadata": {}
        }
      ]
    },
    {
      "cell_type": "markdown",
      "source": [
        "# 76. チェックポイント\n",
        "\n",
        "問題75のコードを改変し，各エポックのパラメータ更新が完了するたびに，チェックポイント（学習途中のパラメータ（重み行列など）の値や最適化アルゴリズムの内部状態）をファイルに書き出せ．"
      ],
      "metadata": {
        "id": "_S6xKoFlUsvy"
      }
    },
    {
      "cell_type": "code",
      "source": [
        "#学習途中のパラメータはnet.state_dict()、最適化アルゴリズムのバイブ状態はoptimizer.state_dict()でアクセス可能。\n",
        "\n",
        "# モデルの定義\n",
        "net = SLPNet(300, 4)\n",
        "net.train()\n",
        "\n",
        "# 損失関数の定義\n",
        "criterion = nn.CrossEntropyLoss()\n",
        "\n",
        "# 最適化手法の定義\n",
        "optimizer = torch.optim.SGD(net.parameters(), lr=0.01, momentum=0.9)\n",
        "\n",
        "# 学習用の関数を定義\n",
        "def train_model(net, dataloaders_dict, criterion, optimizer, num_epochs):\n",
        "\n",
        "    # epochのループ\n",
        "    for epoch in range(num_epochs):\n",
        "        print('Epoch {} / {}'.format(epoch + 1, num_epochs))\n",
        "        print('--------------------------------------------')\n",
        "\n",
        "        # epochごとの学習と検証のループ\n",
        "        for phase in ['train', 'val']:\n",
        "            if phase == 'train':\n",
        "                net.train() # 訓練モード\n",
        "            else:\n",
        "                net.eval() # 検証モード\n",
        "\n",
        "            epoch_loss = 0.0 # epochの損失和\n",
        "            epoch_corrects = 0 # epochの正解数\n",
        "\n",
        "            # データローダーからミニバッチを取り出すループ\n",
        "            for inputs, labels in tqdm(dataloaders_dict[phase]):\n",
        "                optimizer.zero_grad() # optimizerを初期化\n",
        "\n",
        "                # 順伝播計算(forward)\n",
        "                with torch.set_grad_enabled(phase == 'train'):\n",
        "                    outputs = net(inputs)\n",
        "                    loss = criterion(outputs, labels) # 損失を計算\n",
        "                    _, preds = torch.max(outputs, 1) # ラベルを予想\n",
        "\n",
        "                    # 訓練時は逆伝播\n",
        "                    if phase == 'train':\n",
        "                        loss.backward()\n",
        "                        optimizer.step()\n",
        "\n",
        "                    # イテレーション結果の計算\n",
        "                    # lossの合計を更新\n",
        "                    epoch_loss += loss.item() * inputs.size(0)\n",
        "                    # 正解数の合計を更新\n",
        "                    epoch_corrects += torch.sum(preds == labels.data)\n",
        "\n",
        "                    # チェックポイントの保存\n",
        "                    torch.save({'epoch': epoch, 'model_state_dict': net.state_dict(), 'optimizer_state_dict': optimizer.state_dict()}, f'checkpoint{epoch + 1}.pt')\n",
        "\n",
        "# 学習を実行する\n",
        "num_epochs = 10 #エポック数は10とする\n",
        "train_model(net, dataloaders_dict, criterion, optimizer, num_epochs=num_epochs)"
      ],
      "metadata": {
        "colab": {
          "base_uri": "https://localhost:8080/"
        },
        "id": "QOu0wXov2FJg",
        "outputId": "188e4c7d-e8a1-4db9-eb0d-81ae3e95aacb"
      },
      "execution_count": 23,
      "outputs": [
        {
          "output_type": "stream",
          "name": "stdout",
          "text": [
            "Epoch 1 / 10\n",
            "--------------------------------------------\n"
          ]
        },
        {
          "output_type": "stream",
          "name": "stderr",
          "text": [
            "100%|██████████| 8804/8804 [00:58<00:00, 149.65it/s]\n",
            "100%|██████████| 1/1 [00:00<00:00, 29.41it/s]\n"
          ]
        },
        {
          "output_type": "stream",
          "name": "stdout",
          "text": [
            "Epoch 2 / 10\n",
            "--------------------------------------------\n"
          ]
        },
        {
          "output_type": "stream",
          "name": "stderr",
          "text": [
            "100%|██████████| 8804/8804 [00:53<00:00, 164.11it/s]\n",
            "100%|██████████| 1/1 [00:00<00:00, 39.40it/s]\n"
          ]
        },
        {
          "output_type": "stream",
          "name": "stdout",
          "text": [
            "Epoch 3 / 10\n",
            "--------------------------------------------\n"
          ]
        },
        {
          "output_type": "stream",
          "name": "stderr",
          "text": [
            "100%|██████████| 8804/8804 [00:54<00:00, 162.98it/s]\n",
            "100%|██████████| 1/1 [00:00<00:00, 62.25it/s]\n"
          ]
        },
        {
          "output_type": "stream",
          "name": "stdout",
          "text": [
            "Epoch 4 / 10\n",
            "--------------------------------------------\n"
          ]
        },
        {
          "output_type": "stream",
          "name": "stderr",
          "text": [
            "100%|██████████| 8804/8804 [00:56<00:00, 157.11it/s]\n",
            "100%|██████████| 1/1 [00:00<00:00, 63.54it/s]\n"
          ]
        },
        {
          "output_type": "stream",
          "name": "stdout",
          "text": [
            "Epoch 5 / 10\n",
            "--------------------------------------------\n"
          ]
        },
        {
          "output_type": "stream",
          "name": "stderr",
          "text": [
            "100%|██████████| 8804/8804 [00:53<00:00, 163.09it/s]\n",
            "100%|██████████| 1/1 [00:00<00:00, 27.53it/s]\n"
          ]
        },
        {
          "output_type": "stream",
          "name": "stdout",
          "text": [
            "Epoch 6 / 10\n",
            "--------------------------------------------\n"
          ]
        },
        {
          "output_type": "stream",
          "name": "stderr",
          "text": [
            "100%|██████████| 8804/8804 [00:54<00:00, 160.88it/s]\n",
            "100%|██████████| 1/1 [00:00<00:00, 72.18it/s]\n"
          ]
        },
        {
          "output_type": "stream",
          "name": "stdout",
          "text": [
            "Epoch 7 / 10\n",
            "--------------------------------------------\n"
          ]
        },
        {
          "output_type": "stream",
          "name": "stderr",
          "text": [
            "100%|██████████| 8804/8804 [00:55<00:00, 159.29it/s]\n",
            "100%|██████████| 1/1 [00:00<00:00, 35.70it/s]\n"
          ]
        },
        {
          "output_type": "stream",
          "name": "stdout",
          "text": [
            "Epoch 8 / 10\n",
            "--------------------------------------------\n"
          ]
        },
        {
          "output_type": "stream",
          "name": "stderr",
          "text": [
            "100%|██████████| 8804/8804 [00:54<00:00, 162.73it/s]\n",
            "100%|██████████| 1/1 [00:00<00:00, 56.58it/s]\n"
          ]
        },
        {
          "output_type": "stream",
          "name": "stdout",
          "text": [
            "Epoch 9 / 10\n",
            "--------------------------------------------\n"
          ]
        },
        {
          "output_type": "stream",
          "name": "stderr",
          "text": [
            "100%|██████████| 8804/8804 [00:54<00:00, 162.09it/s]\n",
            "100%|██████████| 1/1 [00:00<00:00, 79.14it/s]\n"
          ]
        },
        {
          "output_type": "stream",
          "name": "stdout",
          "text": [
            "Epoch 10 / 10\n",
            "--------------------------------------------\n"
          ]
        },
        {
          "output_type": "stream",
          "name": "stderr",
          "text": [
            "100%|██████████| 8804/8804 [00:53<00:00, 163.28it/s]\n",
            "100%|██████████| 1/1 [00:00<00:00, 62.14it/s]\n"
          ]
        }
      ]
    },
    {
      "cell_type": "markdown",
      "source": [
        "# 77. ミニバッチ化\n",
        "\n",
        "問題76のコードを改変し，B\n",
        "事例ごとに損失・勾配を計算し，行列W\n",
        "の値を更新せよ（ミニバッチ化）．B\n",
        "の値を1,2,4,8,…\n",
        "と変化させながら，1エポックの学習に要する時間を比較せよ．"
      ],
      "metadata": {
        "id": "Z06NDvYZmYZN"
      }
    },
    {
      "cell_type": "code",
      "source": [
        "import time\n",
        "\n",
        "#epochごとのlossと正解率をappendするリストを用意\n",
        "epoch_loss_train_lis = []\n",
        "epoch_acc_train_lis = []\n",
        "epoch_loss_val_lis = []\n",
        "epoch_acc_val_lis = []\n",
        "\n",
        "def model(train_dataset, valid_dataset, batch_size, net, criterion, optimizer, num_epochs):\n",
        "\n",
        "  # DataLoaderを作成\n",
        "  train_dataloader = data.DataLoader(\n",
        "            train_dataset, batch_size=batch_size, shuffle=True)\n",
        "  valid_dataloader = data.DataLoader(\n",
        "            valid_dataset, batch_size=len(valid_dataset), shuffle=False)\n",
        "\n",
        "  # 学習\n",
        "  for epoch in range(num_epochs):\n",
        "    # 開始時刻の記録\n",
        "    s_time =time.time()\n",
        "\n",
        "\n",
        "    # epochごとの学習と検証のループ\n",
        "    for phase in ['train', 'val']:\n",
        "        if phase == 'train':\n",
        "            net.train() # 訓練モード\n",
        "        else:\n",
        "            net.eval() # 検証モード\n",
        "\n",
        "        epoch_loss = 0.0 # epochの損失和\n",
        "        epoch_corrects = 0 # epochの正解数\n",
        "\n",
        "        # データローダーからミニバッチを取り出すループ\n",
        "        for inputs, labels in tqdm(dataloaders_dict[phase]):\n",
        "            optimizer.zero_grad() # optimizerを初期化\n",
        "\n",
        "            # 順伝播計算(forward)\n",
        "            with torch.set_grad_enabled(phase == 'train'):\n",
        "                outputs = net(inputs)\n",
        "                loss = criterion(outputs, labels) # 損失を計算\n",
        "                _, preds = torch.max(outputs, 1) # ラベルを予想\n",
        "\n",
        "                # 訓練時は逆伝播\n",
        "                if phase == 'train':\n",
        "                    loss.backward()\n",
        "                    optimizer.step()\n",
        "\n",
        "                # イテレーション結果の計算\n",
        "                # lossの合計を更新\n",
        "                epoch_loss += loss.item() * inputs.size(0)\n",
        "                # 正解数の合計を更新\n",
        "                epoch_corrects += torch.sum(preds == labels.data)\n",
        "\n",
        "                # チェックポイントの保存\n",
        "                torch.save({'epoch': epoch, 'model_state_dict': net.state_dict(), 'optimizer_state_dict': optimizer.state_dict()}, f'checkpoint{epoch + 1}.pt')\n",
        "\n",
        "        # epochごとのlossと正解率の表示\n",
        "        epoch_loss = epoch_loss / len(dataloaders_dict[phase].dataset)\n",
        "        epoch_acc = epoch_corrects.double() / len(dataloaders_dict[phase].dataset)\n",
        "\n",
        "        # epochごとlossと正解率の表示をlistにappendする #問題75挿入箇所\n",
        "        if phase == 'train':\n",
        "          epoch_loss_train_lis.append(epoch_loss)\n",
        "          epoch_acc_train_lis.append(epoch_acc)\n",
        "\n",
        "        else:  # phase == 'test'の場合\n",
        "          epoch_loss_val_lis.append(epoch_loss)\n",
        "          epoch_acc_val_lis.append(epoch_acc)\n",
        "\n",
        "        print('{} Loss: {:.4f}, Acc: {:.4f}'.format(phase, epoch_loss, epoch_acc))\n",
        "\n",
        "        # 終了時刻の記録\n",
        "        e_time = time.time()\n",
        "        calc_time = e_time - s_time\n",
        "        print('batch_size {} calc_time: {:.4f} sec'.format(batch_size, calc_time))\n",
        "\n",
        "  return epoch_loss_train_lis, epoch_acc_train_lis, epoch_loss_val_lis, epoch_acc_val_lis, calc_time\n",
        "\n",
        "# データセットの作成\n",
        "train_dataset = NewsDataset(X_train, Y_train, phase='train')\n",
        "valid_dataset = NewsDataset(X_valid, Y_valid, phase='val')\n",
        "test_dataset = NewsDataset(X_test, Y_test, phase='val')\n",
        "\n",
        "# モデルの定義\n",
        "net = SLPNet(300, 4)\n",
        "\n",
        "# 損失関数の定義\n",
        "criterion = nn.CrossEntropyLoss()\n",
        "\n",
        "# 最適化手法の定義\n",
        "optimizer = torch.optim.SGD(net.parameters(), lr=0.01, momentum=0.9)\n",
        "\n",
        "# モデルの学習\n",
        "for batch_size in [2 ** i for i in range(11)]:\n",
        "  print(f'バッチサイズ: {batch_size}')\n",
        "  log = model(train_dataset, valid_dataset, batch_size, net, criterion, optimizer, 1)\n"
      ],
      "metadata": {
        "colab": {
          "base_uri": "https://localhost:8080/"
        },
        "id": "JdieLxh9LUbb",
        "outputId": "c59a82e4-e13c-4bb1-db8a-3f5804132532"
      },
      "execution_count": 34,
      "outputs": [
        {
          "output_type": "stream",
          "name": "stdout",
          "text": [
            "バッチサイズ: 1\n"
          ]
        },
        {
          "output_type": "stream",
          "name": "stderr",
          "text": [
            "100%|██████████| 8804/8804 [00:56<00:00, 154.52it/s]\n"
          ]
        },
        {
          "output_type": "stream",
          "name": "stdout",
          "text": [
            "train Loss: 0.5658, Acc: 0.7940\n",
            "batch_size 1 calc_time: 56.9914 sec\n"
          ]
        },
        {
          "output_type": "stream",
          "name": "stderr",
          "text": [
            "100%|██████████| 1/1 [00:00<00:00, 43.06it/s]\n"
          ]
        },
        {
          "output_type": "stream",
          "name": "stdout",
          "text": [
            "val Loss: 0.4460, Acc: 0.8429\n",
            "batch_size 1 calc_time: 57.0257 sec\n",
            "バッチサイズ: 2\n"
          ]
        },
        {
          "output_type": "stream",
          "name": "stderr",
          "text": [
            "100%|██████████| 8804/8804 [00:55<00:00, 157.69it/s]\n"
          ]
        },
        {
          "output_type": "stream",
          "name": "stdout",
          "text": [
            "train Loss: 0.3967, Acc: 0.8610\n",
            "batch_size 2 calc_time: 55.8417 sec\n"
          ]
        },
        {
          "output_type": "stream",
          "name": "stderr",
          "text": [
            "100%|██████████| 1/1 [00:00<00:00, 55.62it/s]\n"
          ]
        },
        {
          "output_type": "stream",
          "name": "stdout",
          "text": [
            "val Loss: 0.4013, Acc: 0.8610\n",
            "batch_size 2 calc_time: 55.8688 sec\n",
            "バッチサイズ: 4\n"
          ]
        },
        {
          "output_type": "stream",
          "name": "stderr",
          "text": [
            "100%|██████████| 8804/8804 [01:00<00:00, 144.70it/s]\n"
          ]
        },
        {
          "output_type": "stream",
          "name": "stdout",
          "text": [
            "train Loss: 0.3637, Acc: 0.8745\n",
            "batch_size 4 calc_time: 60.8520 sec\n"
          ]
        },
        {
          "output_type": "stream",
          "name": "stderr",
          "text": [
            "100%|██████████| 1/1 [00:00<00:00, 31.90it/s]\n"
          ]
        },
        {
          "output_type": "stream",
          "name": "stdout",
          "text": [
            "val Loss: 0.3869, Acc: 0.8638\n",
            "batch_size 4 calc_time: 60.8955 sec\n",
            "バッチサイズ: 8\n"
          ]
        },
        {
          "output_type": "stream",
          "name": "stderr",
          "text": [
            "100%|██████████| 8804/8804 [00:57<00:00, 153.75it/s]\n"
          ]
        },
        {
          "output_type": "stream",
          "name": "stdout",
          "text": [
            "train Loss: 0.3469, Acc: 0.8808\n",
            "batch_size 8 calc_time: 57.2715 sec\n"
          ]
        },
        {
          "output_type": "stream",
          "name": "stderr",
          "text": [
            "100%|██████████| 1/1 [00:00<00:00, 63.82it/s]\n"
          ]
        },
        {
          "output_type": "stream",
          "name": "stdout",
          "text": [
            "val Loss: 0.3794, Acc: 0.8592\n",
            "batch_size 8 calc_time: 57.2970 sec\n",
            "バッチサイズ: 16\n"
          ]
        },
        {
          "output_type": "stream",
          "name": "stderr",
          "text": [
            "100%|██████████| 8804/8804 [00:58<00:00, 151.01it/s]\n"
          ]
        },
        {
          "output_type": "stream",
          "name": "stdout",
          "text": [
            "train Loss: 0.3352, Acc: 0.8838\n",
            "batch_size 16 calc_time: 58.3117 sec\n"
          ]
        },
        {
          "output_type": "stream",
          "name": "stderr",
          "text": [
            "100%|██████████| 1/1 [00:00<00:00, 67.02it/s]\n"
          ]
        },
        {
          "output_type": "stream",
          "name": "stdout",
          "text": [
            "val Loss: 0.3707, Acc: 0.8719\n",
            "batch_size 16 calc_time: 58.3366 sec\n",
            "バッチサイズ: 32\n"
          ]
        },
        {
          "output_type": "stream",
          "name": "stderr",
          "text": [
            "100%|██████████| 8804/8804 [00:55<00:00, 157.39it/s]\n"
          ]
        },
        {
          "output_type": "stream",
          "name": "stdout",
          "text": [
            "train Loss: 0.3274, Acc: 0.8872\n",
            "batch_size 32 calc_time: 55.9454 sec\n"
          ]
        },
        {
          "output_type": "stream",
          "name": "stderr",
          "text": [
            "100%|██████████| 1/1 [00:00<00:00, 62.21it/s]\n"
          ]
        },
        {
          "output_type": "stream",
          "name": "stdout",
          "text": [
            "val Loss: 0.3607, Acc: 0.8728\n",
            "batch_size 32 calc_time: 55.9723 sec\n",
            "バッチサイズ: 64\n"
          ]
        },
        {
          "output_type": "stream",
          "name": "stderr",
          "text": [
            "100%|██████████| 8804/8804 [00:55<00:00, 159.48it/s]\n"
          ]
        },
        {
          "output_type": "stream",
          "name": "stdout",
          "text": [
            "train Loss: 0.3226, Acc: 0.8876\n",
            "batch_size 64 calc_time: 55.2223 sec\n"
          ]
        },
        {
          "output_type": "stream",
          "name": "stderr",
          "text": [
            "100%|██████████| 1/1 [00:00<00:00, 36.87it/s]\n"
          ]
        },
        {
          "output_type": "stream",
          "name": "stdout",
          "text": [
            "val Loss: 0.3633, Acc: 0.8665\n",
            "batch_size 64 calc_time: 55.2575 sec\n",
            "バッチサイズ: 128\n"
          ]
        },
        {
          "output_type": "stream",
          "name": "stderr",
          "text": [
            "100%|██████████| 8804/8804 [00:55<00:00, 159.62it/s]\n"
          ]
        },
        {
          "output_type": "stream",
          "name": "stdout",
          "text": [
            "train Loss: 0.3171, Acc: 0.8894\n",
            "batch_size 128 calc_time: 55.1654 sec\n"
          ]
        },
        {
          "output_type": "stream",
          "name": "stderr",
          "text": [
            "100%|██████████| 1/1 [00:00<00:00, 29.81it/s]\n"
          ]
        },
        {
          "output_type": "stream",
          "name": "stdout",
          "text": [
            "val Loss: 0.3678, Acc: 0.8710\n",
            "batch_size 128 calc_time: 55.2127 sec\n",
            "バッチサイズ: 256\n"
          ]
        },
        {
          "output_type": "stream",
          "name": "stderr",
          "text": [
            "100%|██████████| 8804/8804 [00:55<00:00, 157.68it/s]\n"
          ]
        },
        {
          "output_type": "stream",
          "name": "stdout",
          "text": [
            "train Loss: 0.3127, Acc: 0.8920\n",
            "batch_size 256 calc_time: 55.8445 sec\n"
          ]
        },
        {
          "output_type": "stream",
          "name": "stderr",
          "text": [
            "100%|██████████| 1/1 [00:00<00:00, 52.17it/s]\n"
          ]
        },
        {
          "output_type": "stream",
          "name": "stdout",
          "text": [
            "val Loss: 0.3587, Acc: 0.8701\n",
            "batch_size 256 calc_time: 55.8741 sec\n",
            "バッチサイズ: 512\n"
          ]
        },
        {
          "output_type": "stream",
          "name": "stderr",
          "text": [
            "100%|██████████| 8804/8804 [00:54<00:00, 161.52it/s]\n"
          ]
        },
        {
          "output_type": "stream",
          "name": "stdout",
          "text": [
            "train Loss: 0.3103, Acc: 0.8939\n",
            "batch_size 512 calc_time: 54.5177 sec\n"
          ]
        },
        {
          "output_type": "stream",
          "name": "stderr",
          "text": [
            "100%|██████████| 1/1 [00:00<00:00, 82.57it/s]\n"
          ]
        },
        {
          "output_type": "stream",
          "name": "stdout",
          "text": [
            "val Loss: 0.3613, Acc: 0.8701\n",
            "batch_size 512 calc_time: 54.5410 sec\n",
            "バッチサイズ: 1024\n"
          ]
        },
        {
          "output_type": "stream",
          "name": "stderr",
          "text": [
            "100%|██████████| 8804/8804 [00:55<00:00, 159.49it/s]\n"
          ]
        },
        {
          "output_type": "stream",
          "name": "stdout",
          "text": [
            "train Loss: 0.3060, Acc: 0.8936\n",
            "batch_size 1024 calc_time: 55.2143 sec\n"
          ]
        },
        {
          "output_type": "stream",
          "name": "stderr",
          "text": [
            "100%|██████████| 1/1 [00:00<00:00, 75.03it/s]"
          ]
        },
        {
          "output_type": "stream",
          "name": "stdout",
          "text": [
            "val Loss: 0.3752, Acc: 0.8719\n",
            "batch_size 1024 calc_time: 55.2361 sec\n"
          ]
        },
        {
          "output_type": "stream",
          "name": "stderr",
          "text": [
            "\n"
          ]
        }
      ]
    },
    {
      "cell_type": "markdown",
      "source": [
        "# 78. GPU上での学習\n",
        "\n",
        "問題77のコードを改変し，GPU上で学習を実行せよ．"
      ],
      "metadata": {
        "id": "XWNpTy9Kmthq"
      }
    },
    {
      "cell_type": "code",
      "source": [
        "import time\n",
        "\n",
        "#epochごとのlossと正解率をappendするリストを用意\n",
        "epoch_loss_train_lis = []\n",
        "epoch_acc_train_lis = []\n",
        "epoch_loss_val_lis = []\n",
        "epoch_acc_val_lis = []\n",
        "\n",
        "def model(train_dataset, valid_dataset, batch_size, net, criterion, optimizer, num_epochs, device=None):\n",
        "  # GPUに送る\n",
        "  net.to(device) #追加\n",
        "\n",
        "  # DataLoaderを作成\n",
        "  train_dataloader = data.DataLoader(\n",
        "            train_dataset, batch_size=batch_size, shuffle=True)\n",
        "  valid_dataloader = data.DataLoader(\n",
        "            valid_dataset, batch_size=len(valid_dataset), shuffle=False)\n",
        "\n",
        "  # 学習\n",
        "  for epoch in range(num_epochs):\n",
        "    # 開始時刻の記録\n",
        "    s_time =time.time()\n",
        "\n",
        "\n",
        "    # epochごとの学習と検証のループ\n",
        "    for phase in ['train', 'val']:\n",
        "        if phase == 'train':\n",
        "            net.train() # 訓練モード\n",
        "        else:\n",
        "            net.eval() # 検証モード\n",
        "\n",
        "        epoch_loss = 0.0 # epochの損失和\n",
        "        epoch_corrects = 0 # epochの正解数\n",
        "\n",
        "        # データローダーからミニバッチを取り出すループ\n",
        "        for inputs, labels in tqdm(dataloaders_dict[phase]):\n",
        "            inputs = inputs.to(device)\n",
        "            labels = labels.to(device)\n",
        "            optimizer.zero_grad() # optimizerを初期化\n",
        "\n",
        "            # 順伝播計算(forward)\n",
        "            with torch.set_grad_enabled(phase == 'train'):\n",
        "                outputs = net(inputs)\n",
        "                loss = criterion(outputs, labels) # 損失を計算\n",
        "                _, preds = torch.max(outputs, 1) # ラベルを予想\n",
        "\n",
        "                # 訓練時は逆伝播\n",
        "                if phase == 'train':\n",
        "                    loss.backward()\n",
        "                    optimizer.step()\n",
        "\n",
        "                # イテレーション結果の計算\n",
        "                # lossの合計を更新\n",
        "                epoch_loss += loss.item() * inputs.size(0)\n",
        "                # 正解数の合計を更新\n",
        "                epoch_corrects += torch.sum(preds == labels.data)\n",
        "\n",
        "                # チェックポイントの保存\n",
        "                torch.save({'epoch': epoch, 'model_state_dict': net.state_dict(), 'optimizer_state_dict': optimizer.state_dict()}, f'checkpoint{epoch + 1}.pt')\n",
        "\n",
        "        # epochごとのlossと正解率の表示\n",
        "        epoch_loss = epoch_loss / len(dataloaders_dict[phase].dataset)\n",
        "        epoch_acc = epoch_corrects.double() / len(dataloaders_dict[phase].dataset)\n",
        "\n",
        "        # epochごとlossと正解率の表示をlistにappendする #問題75挿入箇所\n",
        "        if phase == 'train':\n",
        "          epoch_loss_train_lis.append(epoch_loss)\n",
        "          epoch_acc_train_lis.append(epoch_acc)\n",
        "\n",
        "        else:  # phase == 'test'の場合\n",
        "          epoch_loss_val_lis.append(epoch_loss)\n",
        "          epoch_acc_val_lis.append(epoch_acc)\n",
        "\n",
        "        print('{} Loss: {:.4f}, Acc: {:.4f}'.format(phase, epoch_loss, epoch_acc))\n",
        "\n",
        "        # 終了時刻の記録\n",
        "        e_time = time.time()\n",
        "        calc_time = e_time - s_time\n",
        "        print('batch_size {} calc_time: {:.4f} sec'.format(batch_size, calc_time))\n",
        "\n",
        "  return epoch_loss_train_lis, epoch_acc_train_lis, epoch_loss_val_lis, epoch_acc_val_lis, calc_time\n",
        "\n",
        "# データセットの作成\n",
        "train_dataset = NewsDataset(X_train, Y_train, phase='train')\n",
        "valid_dataset = NewsDataset(X_valid, Y_valid, phase='val')\n",
        "test_dataset = NewsDataset(X_test, Y_test, phase='val')\n",
        "\n",
        "# モデルの定義\n",
        "net = SLPNet(300, 4)\n",
        "\n",
        "# 損失関数の定義\n",
        "criterion = nn.CrossEntropyLoss()\n",
        "\n",
        "# 最適化手法の定義\n",
        "optimizer = torch.optim.SGD(net.parameters(), lr=0.01, momentum=0.9)\n",
        "\n",
        "# デバイスの指定\n",
        "device = torch.device('cuda')\n",
        "\n",
        "# モデルの学習\n",
        "for batch_size in [2 ** i for i in range(11)]:\n",
        "  print(f'バッチサイズ: {batch_size}')\n",
        "  log = model(train_dataset, valid_dataset, batch_size, net, criterion, optimizer, 1, device=device)"
      ],
      "metadata": {
        "colab": {
          "base_uri": "https://localhost:8080/"
        },
        "id": "khWr27C3Nuyf",
        "outputId": "17ccd1d7-1a0a-495a-e98c-705906681d23"
      },
      "execution_count": 24,
      "outputs": [
        {
          "output_type": "stream",
          "name": "stdout",
          "text": [
            "バッチサイズ: 1\n"
          ]
        },
        {
          "output_type": "stream",
          "name": "stderr",
          "text": [
            "100%|██████████| 8804/8804 [00:53<00:00, 164.69it/s]\n"
          ]
        },
        {
          "output_type": "stream",
          "name": "stdout",
          "text": [
            "train Loss: 0.5763, Acc: 0.7950\n",
            "batch_size 1 calc_time: 53.4732 sec\n"
          ]
        },
        {
          "output_type": "stream",
          "name": "stderr",
          "text": [
            "100%|██████████| 1/1 [00:00<00:00, 70.84it/s]\n"
          ]
        },
        {
          "output_type": "stream",
          "name": "stdout",
          "text": [
            "val Loss: 0.4470, Acc: 0.8429\n",
            "batch_size 1 calc_time: 53.4941 sec\n",
            "バッチサイズ: 2\n"
          ]
        },
        {
          "output_type": "stream",
          "name": "stderr",
          "text": [
            "100%|██████████| 8804/8804 [00:50<00:00, 173.90it/s]\n"
          ]
        },
        {
          "output_type": "stream",
          "name": "stdout",
          "text": [
            "train Loss: 0.4021, Acc: 0.8570\n",
            "batch_size 2 calc_time: 50.6350 sec\n"
          ]
        },
        {
          "output_type": "stream",
          "name": "stderr",
          "text": [
            "100%|██████████| 1/1 [00:00<00:00, 78.21it/s]\n"
          ]
        },
        {
          "output_type": "stream",
          "name": "stdout",
          "text": [
            "val Loss: 0.4026, Acc: 0.8538\n",
            "batch_size 2 calc_time: 50.6573 sec\n",
            "バッチサイズ: 4\n"
          ]
        },
        {
          "output_type": "stream",
          "name": "stderr",
          "text": [
            "100%|██████████| 8804/8804 [00:48<00:00, 180.14it/s]\n"
          ]
        },
        {
          "output_type": "stream",
          "name": "stdout",
          "text": [
            "train Loss: 0.3666, Acc: 0.8713\n",
            "batch_size 4 calc_time: 48.8770 sec\n"
          ]
        },
        {
          "output_type": "stream",
          "name": "stderr",
          "text": [
            "100%|██████████| 1/1 [00:00<00:00, 72.28it/s]\n"
          ]
        },
        {
          "output_type": "stream",
          "name": "stdout",
          "text": [
            "val Loss: 0.3989, Acc: 0.8529\n",
            "batch_size 4 calc_time: 48.8989 sec\n",
            "バッチサイズ: 8\n"
          ]
        },
        {
          "output_type": "stream",
          "name": "stderr",
          "text": [
            "100%|██████████| 8804/8804 [00:49<00:00, 179.26it/s]\n"
          ]
        },
        {
          "output_type": "stream",
          "name": "stdout",
          "text": [
            "train Loss: 0.3480, Acc: 0.8790\n",
            "batch_size 8 calc_time: 49.1196 sec\n"
          ]
        },
        {
          "output_type": "stream",
          "name": "stderr",
          "text": [
            "100%|██████████| 1/1 [00:00<00:00, 81.18it/s]\n"
          ]
        },
        {
          "output_type": "stream",
          "name": "stdout",
          "text": [
            "val Loss: 0.3755, Acc: 0.8647\n",
            "batch_size 8 calc_time: 49.1401 sec\n",
            "バッチサイズ: 16\n"
          ]
        },
        {
          "output_type": "stream",
          "name": "stderr",
          "text": [
            "100%|██████████| 8804/8804 [00:48<00:00, 180.20it/s]\n"
          ]
        },
        {
          "output_type": "stream",
          "name": "stdout",
          "text": [
            "train Loss: 0.3379, Acc: 0.8841\n",
            "batch_size 16 calc_time: 48.8703 sec\n"
          ]
        },
        {
          "output_type": "stream",
          "name": "stderr",
          "text": [
            "100%|██████████| 1/1 [00:00<00:00, 52.10it/s]\n"
          ]
        },
        {
          "output_type": "stream",
          "name": "stdout",
          "text": [
            "val Loss: 0.3769, Acc: 0.8638\n",
            "batch_size 16 calc_time: 48.8980 sec\n",
            "バッチサイズ: 32\n"
          ]
        },
        {
          "output_type": "stream",
          "name": "stderr",
          "text": [
            "100%|██████████| 8804/8804 [00:48<00:00, 180.66it/s]\n"
          ]
        },
        {
          "output_type": "stream",
          "name": "stdout",
          "text": [
            "train Loss: 0.3296, Acc: 0.8845\n",
            "batch_size 32 calc_time: 48.7468 sec\n"
          ]
        },
        {
          "output_type": "stream",
          "name": "stderr",
          "text": [
            "100%|██████████| 1/1 [00:00<00:00, 84.35it/s]\n"
          ]
        },
        {
          "output_type": "stream",
          "name": "stdout",
          "text": [
            "val Loss: 0.3656, Acc: 0.8728\n",
            "batch_size 32 calc_time: 48.7691 sec\n",
            "バッチサイズ: 64\n"
          ]
        },
        {
          "output_type": "stream",
          "name": "stderr",
          "text": [
            "100%|██████████| 8804/8804 [00:49<00:00, 179.26it/s]\n"
          ]
        },
        {
          "output_type": "stream",
          "name": "stdout",
          "text": [
            "train Loss: 0.3233, Acc: 0.8863\n",
            "batch_size 64 calc_time: 49.1212 sec\n"
          ]
        },
        {
          "output_type": "stream",
          "name": "stderr",
          "text": [
            "100%|██████████| 1/1 [00:00<00:00, 78.71it/s]\n"
          ]
        },
        {
          "output_type": "stream",
          "name": "stdout",
          "text": [
            "val Loss: 0.3620, Acc: 0.8710\n",
            "batch_size 64 calc_time: 49.1412 sec\n",
            "バッチサイズ: 128\n"
          ]
        },
        {
          "output_type": "stream",
          "name": "stderr",
          "text": [
            "100%|██████████| 8804/8804 [00:49<00:00, 177.79it/s]\n"
          ]
        },
        {
          "output_type": "stream",
          "name": "stdout",
          "text": [
            "train Loss: 0.3179, Acc: 0.8900\n",
            "batch_size 128 calc_time: 49.5271 sec\n"
          ]
        },
        {
          "output_type": "stream",
          "name": "stderr",
          "text": [
            "100%|██████████| 1/1 [00:00<00:00, 65.63it/s]\n"
          ]
        },
        {
          "output_type": "stream",
          "name": "stdout",
          "text": [
            "val Loss: 0.3606, Acc: 0.8701\n",
            "batch_size 128 calc_time: 49.5556 sec\n",
            "バッチサイズ: 256\n"
          ]
        },
        {
          "output_type": "stream",
          "name": "stderr",
          "text": [
            "100%|██████████| 8804/8804 [00:48<00:00, 179.84it/s]\n"
          ]
        },
        {
          "output_type": "stream",
          "name": "stdout",
          "text": [
            "train Loss: 0.3143, Acc: 0.8883\n",
            "batch_size 256 calc_time: 48.9671 sec\n"
          ]
        },
        {
          "output_type": "stream",
          "name": "stderr",
          "text": [
            "100%|██████████| 1/1 [00:00<00:00, 41.38it/s]\n"
          ]
        },
        {
          "output_type": "stream",
          "name": "stdout",
          "text": [
            "val Loss: 0.3592, Acc: 0.8719\n",
            "batch_size 256 calc_time: 48.9991 sec\n",
            "バッチサイズ: 512\n"
          ]
        },
        {
          "output_type": "stream",
          "name": "stderr",
          "text": [
            "100%|██████████| 8804/8804 [00:48<00:00, 180.55it/s]\n"
          ]
        },
        {
          "output_type": "stream",
          "name": "stdout",
          "text": [
            "train Loss: 0.3100, Acc: 0.8898\n",
            "batch_size 512 calc_time: 48.7722 sec\n"
          ]
        },
        {
          "output_type": "stream",
          "name": "stderr",
          "text": [
            "100%|██████████| 1/1 [00:00<00:00, 60.67it/s]\n"
          ]
        },
        {
          "output_type": "stream",
          "name": "stdout",
          "text": [
            "val Loss: 0.3673, Acc: 0.8674\n",
            "batch_size 512 calc_time: 48.7959 sec\n",
            "バッチサイズ: 1024\n"
          ]
        },
        {
          "output_type": "stream",
          "name": "stderr",
          "text": [
            "100%|██████████| 8804/8804 [00:48<00:00, 180.59it/s]\n"
          ]
        },
        {
          "output_type": "stream",
          "name": "stdout",
          "text": [
            "train Loss: 0.3093, Acc: 0.8907\n",
            "batch_size 1024 calc_time: 48.7613 sec\n"
          ]
        },
        {
          "output_type": "stream",
          "name": "stderr",
          "text": [
            "100%|██████████| 1/1 [00:00<00:00, 81.14it/s]"
          ]
        },
        {
          "output_type": "stream",
          "name": "stdout",
          "text": [
            "val Loss: 0.3606, Acc: 0.8674\n",
            "batch_size 1024 calc_time: 48.7820 sec\n"
          ]
        },
        {
          "output_type": "stream",
          "name": "stderr",
          "text": [
            "\n"
          ]
        }
      ]
    },
    {
      "cell_type": "markdown",
      "source": [
        "# 79. 多層ニューラルネットワーク\n",
        "\n",
        "問題78のコードを改変し，バイアス項の導入や多層化など，ニューラルネットワークの形状を変更しながら，高性能なカテゴリ分類器を構築せよ．"
      ],
      "metadata": {
        "id": "2F-yu6uLmzJR"
      }
    },
    {
      "cell_type": "code",
      "source": [
        "class MLNet(nn.Module):\n",
        "    def __init__(self, input_size, mid_size, output_size):\n",
        "        super().__init__()\n",
        "        self.layers = nn.Sequential(\n",
        "                    nn.Linear(input_size, mid_size),\n",
        "                    nn.BatchNorm1d(mid_size),\n",
        "                    nn.ReLU(),\n",
        "                    nn.Linear(mid_size, mid_size),\n",
        "                    nn.BatchNorm1d(mid_size),\n",
        "                    nn.ReLU(),\n",
        "                    nn.Linear(mid_size, output_size),\n",
        "                    )\n",
        "\n",
        "    def forward(self, x):\n",
        "        logits = self.layers(x)\n",
        "        return logits\n",
        "\n",
        "net = MLNet(300, 256, 4)"
      ],
      "metadata": {
        "id": "OYx4OyfBbZda"
      },
      "execution_count": 25,
      "outputs": []
    },
    {
      "cell_type": "code",
      "source": [
        "# 学習用の関数を定義\n",
        "def train_model(net, dataloaders_dict, criterion, optimizer, num_epochs):\n",
        "\n",
        "    # 初期設定\n",
        "    # GPUが使えるか確認\n",
        "    device = torch.device(\"cuda:0\" if torch.cuda.is_available() else \"cpu\")\n",
        "    print(\"使用デバイス:\", device)\n",
        "\n",
        "    # ネットワークをgpuへ\n",
        "    net.to(device)\n",
        "\n",
        "    # ネットワークがある程度固定なら高速化させる\n",
        "    torch.backends.cudnn.benchmark = False\n",
        "    torch.backends.cudnn.deterministic = True\n",
        "\n",
        "    train_loss = []\n",
        "    train_acc = []\n",
        "    valid_loss = []\n",
        "    valid_acc = []\n",
        "    scheduler = torch.optim.lr_scheduler.CosineAnnealingLR(optimizer, num_epochs, eta_min=1e-6, last_epoch=-1)\n",
        "\n",
        "    # epochのループ\n",
        "    for epoch in range(num_epochs):\n",
        "        # epochごとの学習と検証のループ\n",
        "        for phase in ['train', 'val']:\n",
        "            if phase == 'train':\n",
        "                net.train() # 訓練モード\n",
        "            else:\n",
        "                net.eval() # 検証モード\n",
        "\n",
        "            epoch_loss = 0.0 # epochの損失和\n",
        "            epoch_corrects = 0 # epochの正解数\n",
        "\n",
        "            # データローダーからミニバッチを取り出すループ\n",
        "            for inputs, labels in dataloaders_dict[phase]:\n",
        "                # GPUが使えるならGPUにおっくる\n",
        "                inputs = inputs.to(device)\n",
        "                labels = labels.to(device)\n",
        "                optimizer.zero_grad() # optimizerを初期化\n",
        "\n",
        "                # 順伝播計算(forward)\n",
        "                with torch.set_grad_enabled(phase == 'train'):\n",
        "                    outputs = net(inputs)\n",
        "                    loss = criterion(outputs, labels) # 損失を計算\n",
        "                    _, preds = torch.max(outputs, 1) # ラベルを予想\n",
        "\n",
        "                    # 訓練時は逆伝播\n",
        "                    if phase == 'train':\n",
        "                        loss.backward()\n",
        "                        optimizer.step()\n",
        "\n",
        "                    # イテレーション結果の計算\n",
        "                    # lossの合計を更新\n",
        "                    epoch_loss += loss.item() * inputs.size(0)\n",
        "                    # 正解数の合計を更新\n",
        "                    epoch_corrects += torch.sum(preds == labels.data)\n",
        "\n",
        "            # epochごとのlossと正解率の表示\n",
        "            epoch_loss = epoch_loss / len(dataloaders_dict[phase].dataset)\n",
        "            epoch_acc = epoch_corrects.double() / len(dataloaders_dict[phase].dataset)\n",
        "            if phase == 'train':\n",
        "                train_loss.append(epoch_loss)\n",
        "                train_acc.append(epoch_acc.cpu())\n",
        "            else:\n",
        "                valid_loss.append(epoch_loss)\n",
        "                valid_acc.append(epoch_acc.cpu())\n",
        "\n",
        "        print('Epoch {} / {} (train) Loss: {:.4f}, Acc: {:.4f}, (val) Loss: {:.4f}, Acc: {:.4f}'.format(epoch + 1, num_epochs, train_loss[-1], train_acc[-1], valid_loss[-1], valid_acc[-1]))\n",
        "        scheduler.step()\n",
        "    return train_loss, train_acc, valid_loss, valid_acc\n",
        "\n",
        "batch_size = 2048\n",
        "num_epochs = 200\n",
        "\n",
        "# DataLoaderを作成\n",
        "train_dataloader = data.DataLoader(\n",
        "            train_dataset, batch_size=batch_size, shuffle=True)\n",
        "valid_dataloader = data.DataLoader(\n",
        "            valid_dataset, batch_size=len(valid_dataset), shuffle=False)\n",
        "test_dataloader = data.DataLoader(\n",
        "            test_dataset, batch_size=len(test_dataset), shuffle=False)\n",
        "\n",
        "dataloaders_dict = {'train': train_dataloader,\n",
        "                    'val': valid_dataloader,\n",
        "                    'test': test_dataloader,\n",
        "                   }\n",
        "# モデルの定義\n",
        "net = MLNet(300, 256, 4)\n",
        "net.train()\n",
        "\n",
        "# 損失関数の定義\n",
        "criterion = nn.CrossEntropyLoss()\n",
        "\n",
        "# 最適化手法の定義\n",
        "optimizer = torch.optim.Adam(net.parameters(), lr=0.0001)\n",
        "\n",
        "train_loss, train_acc, valid_loss, valid_acc = \\\n",
        "            train_model(net, dataloaders_dict, criterion, optimizer,\n",
        "                        num_epochs=num_epochs)"
      ],
      "metadata": {
        "colab": {
          "base_uri": "https://localhost:8080/"
        },
        "id": "JwPODtsVbz5x",
        "outputId": "0ac01fe2-0967-4b10-92ab-5ba4b815364f"
      },
      "execution_count": 26,
      "outputs": [
        {
          "output_type": "stream",
          "name": "stdout",
          "text": [
            "使用デバイス: cuda:0\n",
            "Epoch 1 / 200 (train) Loss: 1.3285, Acc: 0.3670, (val) Loss: 1.3449, Acc: 0.5213\n",
            "Epoch 2 / 200 (train) Loss: 1.1573, Acc: 0.5725, (val) Loss: 1.3093, Acc: 0.5213\n",
            "Epoch 3 / 200 (train) Loss: 1.0193, Acc: 0.6824, (val) Loss: 1.2674, Acc: 0.5204\n",
            "Epoch 4 / 200 (train) Loss: 0.9099, Acc: 0.7274, (val) Loss: 1.2183, Acc: 0.5241\n",
            "Epoch 5 / 200 (train) Loss: 0.8226, Acc: 0.7553, (val) Loss: 1.1609, Acc: 0.5658\n",
            "Epoch 6 / 200 (train) Loss: 0.7534, Acc: 0.7764, (val) Loss: 1.0941, Acc: 0.6530\n",
            "Epoch 7 / 200 (train) Loss: 0.6971, Acc: 0.7949, (val) Loss: 1.0174, Acc: 0.7048\n",
            "Epoch 8 / 200 (train) Loss: 0.6504, Acc: 0.8084, (val) Loss: 0.9326, Acc: 0.7357\n",
            "Epoch 9 / 200 (train) Loss: 0.6119, Acc: 0.8196, (val) Loss: 0.8461, Acc: 0.7611\n",
            "Epoch 10 / 200 (train) Loss: 0.5787, Acc: 0.8294, (val) Loss: 0.7632, Acc: 0.7820\n",
            "Epoch 11 / 200 (train) Loss: 0.5503, Acc: 0.8375, (val) Loss: 0.6915, Acc: 0.8038\n",
            "Epoch 12 / 200 (train) Loss: 0.5255, Acc: 0.8458, (val) Loss: 0.6334, Acc: 0.8120\n",
            "Epoch 13 / 200 (train) Loss: 0.5040, Acc: 0.8525, (val) Loss: 0.5896, Acc: 0.8183\n",
            "Epoch 14 / 200 (train) Loss: 0.4847, Acc: 0.8579, (val) Loss: 0.5558, Acc: 0.8247\n",
            "Epoch 15 / 200 (train) Loss: 0.4671, Acc: 0.8630, (val) Loss: 0.5313, Acc: 0.8265\n",
            "Epoch 16 / 200 (train) Loss: 0.4520, Acc: 0.8665, (val) Loss: 0.5123, Acc: 0.8256\n",
            "Epoch 17 / 200 (train) Loss: 0.4383, Acc: 0.8712, (val) Loss: 0.4976, Acc: 0.8274\n",
            "Epoch 18 / 200 (train) Loss: 0.4260, Acc: 0.8740, (val) Loss: 0.4850, Acc: 0.8292\n",
            "Epoch 19 / 200 (train) Loss: 0.4148, Acc: 0.8772, (val) Loss: 0.4730, Acc: 0.8338\n",
            "Epoch 20 / 200 (train) Loss: 0.4038, Acc: 0.8802, (val) Loss: 0.4640, Acc: 0.8365\n",
            "Epoch 21 / 200 (train) Loss: 0.3945, Acc: 0.8808, (val) Loss: 0.4561, Acc: 0.8374\n",
            "Epoch 22 / 200 (train) Loss: 0.3854, Acc: 0.8840, (val) Loss: 0.4481, Acc: 0.8401\n",
            "Epoch 23 / 200 (train) Loss: 0.3769, Acc: 0.8871, (val) Loss: 0.4419, Acc: 0.8420\n",
            "Epoch 24 / 200 (train) Loss: 0.3694, Acc: 0.8879, (val) Loss: 0.4355, Acc: 0.8447\n",
            "Epoch 25 / 200 (train) Loss: 0.3622, Acc: 0.8898, (val) Loss: 0.4299, Acc: 0.8447\n",
            "Epoch 26 / 200 (train) Loss: 0.3549, Acc: 0.8912, (val) Loss: 0.4248, Acc: 0.8474\n",
            "Epoch 27 / 200 (train) Loss: 0.3481, Acc: 0.8931, (val) Loss: 0.4206, Acc: 0.8492\n",
            "Epoch 28 / 200 (train) Loss: 0.3417, Acc: 0.8946, (val) Loss: 0.4163, Acc: 0.8501\n",
            "Epoch 29 / 200 (train) Loss: 0.3359, Acc: 0.8957, (val) Loss: 0.4119, Acc: 0.8510\n",
            "Epoch 30 / 200 (train) Loss: 0.3300, Acc: 0.8989, (val) Loss: 0.4077, Acc: 0.8529\n",
            "Epoch 31 / 200 (train) Loss: 0.3246, Acc: 0.8991, (val) Loss: 0.4037, Acc: 0.8529\n",
            "Epoch 32 / 200 (train) Loss: 0.3196, Acc: 0.9021, (val) Loss: 0.4008, Acc: 0.8565\n",
            "Epoch 33 / 200 (train) Loss: 0.3145, Acc: 0.9015, (val) Loss: 0.3966, Acc: 0.8556\n",
            "Epoch 34 / 200 (train) Loss: 0.3091, Acc: 0.9038, (val) Loss: 0.3929, Acc: 0.8565\n",
            "Epoch 35 / 200 (train) Loss: 0.3046, Acc: 0.9060, (val) Loss: 0.3910, Acc: 0.8565\n",
            "Epoch 36 / 200 (train) Loss: 0.2999, Acc: 0.9075, (val) Loss: 0.3883, Acc: 0.8592\n",
            "Epoch 37 / 200 (train) Loss: 0.2959, Acc: 0.9091, (val) Loss: 0.3860, Acc: 0.8592\n",
            "Epoch 38 / 200 (train) Loss: 0.2912, Acc: 0.9114, (val) Loss: 0.3834, Acc: 0.8583\n",
            "Epoch 39 / 200 (train) Loss: 0.2873, Acc: 0.9131, (val) Loss: 0.3812, Acc: 0.8601\n",
            "Epoch 40 / 200 (train) Loss: 0.2832, Acc: 0.9142, (val) Loss: 0.3779, Acc: 0.8601\n",
            "Epoch 41 / 200 (train) Loss: 0.2792, Acc: 0.9149, (val) Loss: 0.3763, Acc: 0.8610\n",
            "Epoch 42 / 200 (train) Loss: 0.2761, Acc: 0.9169, (val) Loss: 0.3751, Acc: 0.8610\n",
            "Epoch 43 / 200 (train) Loss: 0.2710, Acc: 0.9181, (val) Loss: 0.3729, Acc: 0.8638\n",
            "Epoch 44 / 200 (train) Loss: 0.2672, Acc: 0.9196, (val) Loss: 0.3709, Acc: 0.8629\n",
            "Epoch 45 / 200 (train) Loss: 0.2633, Acc: 0.9206, (val) Loss: 0.3691, Acc: 0.8656\n",
            "Epoch 46 / 200 (train) Loss: 0.2612, Acc: 0.9214, (val) Loss: 0.3664, Acc: 0.8647\n",
            "Epoch 47 / 200 (train) Loss: 0.2565, Acc: 0.9223, (val) Loss: 0.3644, Acc: 0.8683\n",
            "Epoch 48 / 200 (train) Loss: 0.2535, Acc: 0.9249, (val) Loss: 0.3630, Acc: 0.8683\n",
            "Epoch 49 / 200 (train) Loss: 0.2499, Acc: 0.9250, (val) Loss: 0.3625, Acc: 0.8701\n",
            "Epoch 50 / 200 (train) Loss: 0.2470, Acc: 0.9259, (val) Loss: 0.3618, Acc: 0.8692\n",
            "Epoch 51 / 200 (train) Loss: 0.2440, Acc: 0.9269, (val) Loss: 0.3605, Acc: 0.8683\n",
            "Epoch 52 / 200 (train) Loss: 0.2405, Acc: 0.9281, (val) Loss: 0.3589, Acc: 0.8701\n",
            "Epoch 53 / 200 (train) Loss: 0.2378, Acc: 0.9299, (val) Loss: 0.3576, Acc: 0.8710\n",
            "Epoch 54 / 200 (train) Loss: 0.2342, Acc: 0.9321, (val) Loss: 0.3562, Acc: 0.8719\n",
            "Epoch 55 / 200 (train) Loss: 0.2308, Acc: 0.9338, (val) Loss: 0.3551, Acc: 0.8728\n",
            "Epoch 56 / 200 (train) Loss: 0.2286, Acc: 0.9350, (val) Loss: 0.3535, Acc: 0.8738\n",
            "Epoch 57 / 200 (train) Loss: 0.2258, Acc: 0.9341, (val) Loss: 0.3520, Acc: 0.8738\n",
            "Epoch 58 / 200 (train) Loss: 0.2227, Acc: 0.9364, (val) Loss: 0.3513, Acc: 0.8738\n",
            "Epoch 59 / 200 (train) Loss: 0.2204, Acc: 0.9367, (val) Loss: 0.3511, Acc: 0.8738\n",
            "Epoch 60 / 200 (train) Loss: 0.2165, Acc: 0.9396, (val) Loss: 0.3493, Acc: 0.8756\n",
            "Epoch 61 / 200 (train) Loss: 0.2139, Acc: 0.9389, (val) Loss: 0.3480, Acc: 0.8756\n",
            "Epoch 62 / 200 (train) Loss: 0.2112, Acc: 0.9405, (val) Loss: 0.3473, Acc: 0.8747\n",
            "Epoch 63 / 200 (train) Loss: 0.2083, Acc: 0.9417, (val) Loss: 0.3460, Acc: 0.8747\n",
            "Epoch 64 / 200 (train) Loss: 0.2064, Acc: 0.9422, (val) Loss: 0.3454, Acc: 0.8756\n",
            "Epoch 65 / 200 (train) Loss: 0.2037, Acc: 0.9428, (val) Loss: 0.3453, Acc: 0.8765\n",
            "Epoch 66 / 200 (train) Loss: 0.2008, Acc: 0.9453, (val) Loss: 0.3445, Acc: 0.8756\n",
            "Epoch 67 / 200 (train) Loss: 0.1984, Acc: 0.9448, (val) Loss: 0.3429, Acc: 0.8756\n",
            "Epoch 68 / 200 (train) Loss: 0.1958, Acc: 0.9465, (val) Loss: 0.3423, Acc: 0.8774\n",
            "Epoch 69 / 200 (train) Loss: 0.1937, Acc: 0.9472, (val) Loss: 0.3425, Acc: 0.8783\n",
            "Epoch 70 / 200 (train) Loss: 0.1913, Acc: 0.9480, (val) Loss: 0.3418, Acc: 0.8783\n",
            "Epoch 71 / 200 (train) Loss: 0.1886, Acc: 0.9492, (val) Loss: 0.3398, Acc: 0.8792\n",
            "Epoch 72 / 200 (train) Loss: 0.1866, Acc: 0.9506, (val) Loss: 0.3389, Acc: 0.8801\n",
            "Epoch 73 / 200 (train) Loss: 0.1839, Acc: 0.9512, (val) Loss: 0.3381, Acc: 0.8810\n",
            "Epoch 74 / 200 (train) Loss: 0.1819, Acc: 0.9522, (val) Loss: 0.3378, Acc: 0.8774\n",
            "Epoch 75 / 200 (train) Loss: 0.1799, Acc: 0.9527, (val) Loss: 0.3379, Acc: 0.8774\n",
            "Epoch 76 / 200 (train) Loss: 0.1772, Acc: 0.9539, (val) Loss: 0.3369, Acc: 0.8783\n",
            "Epoch 77 / 200 (train) Loss: 0.1754, Acc: 0.9541, (val) Loss: 0.3355, Acc: 0.8810\n",
            "Epoch 78 / 200 (train) Loss: 0.1731, Acc: 0.9558, (val) Loss: 0.3350, Acc: 0.8828\n",
            "Epoch 79 / 200 (train) Loss: 0.1712, Acc: 0.9563, (val) Loss: 0.3355, Acc: 0.8828\n",
            "Epoch 80 / 200 (train) Loss: 0.1690, Acc: 0.9570, (val) Loss: 0.3362, Acc: 0.8828\n",
            "Epoch 81 / 200 (train) Loss: 0.1673, Acc: 0.9572, (val) Loss: 0.3360, Acc: 0.8837\n",
            "Epoch 82 / 200 (train) Loss: 0.1659, Acc: 0.9577, (val) Loss: 0.3347, Acc: 0.8856\n",
            "Epoch 83 / 200 (train) Loss: 0.1629, Acc: 0.9592, (val) Loss: 0.3337, Acc: 0.8856\n",
            "Epoch 84 / 200 (train) Loss: 0.1609, Acc: 0.9597, (val) Loss: 0.3335, Acc: 0.8865\n",
            "Epoch 85 / 200 (train) Loss: 0.1589, Acc: 0.9613, (val) Loss: 0.3334, Acc: 0.8856\n",
            "Epoch 86 / 200 (train) Loss: 0.1570, Acc: 0.9627, (val) Loss: 0.3334, Acc: 0.8874\n",
            "Epoch 87 / 200 (train) Loss: 0.1560, Acc: 0.9618, (val) Loss: 0.3329, Acc: 0.8901\n",
            "Epoch 88 / 200 (train) Loss: 0.1535, Acc: 0.9631, (val) Loss: 0.3324, Acc: 0.8892\n",
            "Epoch 89 / 200 (train) Loss: 0.1518, Acc: 0.9643, (val) Loss: 0.3325, Acc: 0.8892\n",
            "Epoch 90 / 200 (train) Loss: 0.1506, Acc: 0.9637, (val) Loss: 0.3316, Acc: 0.8892\n",
            "Epoch 91 / 200 (train) Loss: 0.1486, Acc: 0.9648, (val) Loss: 0.3305, Acc: 0.8901\n",
            "Epoch 92 / 200 (train) Loss: 0.1464, Acc: 0.9657, (val) Loss: 0.3303, Acc: 0.8901\n",
            "Epoch 93 / 200 (train) Loss: 0.1450, Acc: 0.9660, (val) Loss: 0.3299, Acc: 0.8910\n",
            "Epoch 94 / 200 (train) Loss: 0.1433, Acc: 0.9672, (val) Loss: 0.3297, Acc: 0.8901\n",
            "Epoch 95 / 200 (train) Loss: 0.1419, Acc: 0.9675, (val) Loss: 0.3305, Acc: 0.8901\n",
            "Epoch 96 / 200 (train) Loss: 0.1403, Acc: 0.9681, (val) Loss: 0.3295, Acc: 0.8901\n",
            "Epoch 97 / 200 (train) Loss: 0.1384, Acc: 0.9689, (val) Loss: 0.3298, Acc: 0.8910\n",
            "Epoch 98 / 200 (train) Loss: 0.1372, Acc: 0.9693, (val) Loss: 0.3293, Acc: 0.8910\n",
            "Epoch 99 / 200 (train) Loss: 0.1357, Acc: 0.9696, (val) Loss: 0.3287, Acc: 0.8901\n",
            "Epoch 100 / 200 (train) Loss: 0.1346, Acc: 0.9700, (val) Loss: 0.3289, Acc: 0.8901\n",
            "Epoch 101 / 200 (train) Loss: 0.1328, Acc: 0.9708, (val) Loss: 0.3283, Acc: 0.8892\n",
            "Epoch 102 / 200 (train) Loss: 0.1320, Acc: 0.9710, (val) Loss: 0.3286, Acc: 0.8928\n",
            "Epoch 103 / 200 (train) Loss: 0.1301, Acc: 0.9718, (val) Loss: 0.3290, Acc: 0.8928\n",
            "Epoch 104 / 200 (train) Loss: 0.1298, Acc: 0.9726, (val) Loss: 0.3287, Acc: 0.8910\n",
            "Epoch 105 / 200 (train) Loss: 0.1279, Acc: 0.9734, (val) Loss: 0.3279, Acc: 0.8901\n",
            "Epoch 106 / 200 (train) Loss: 0.1258, Acc: 0.9741, (val) Loss: 0.3274, Acc: 0.8919\n",
            "Epoch 107 / 200 (train) Loss: 0.1253, Acc: 0.9730, (val) Loss: 0.3274, Acc: 0.8919\n",
            "Epoch 108 / 200 (train) Loss: 0.1239, Acc: 0.9746, (val) Loss: 0.3283, Acc: 0.8928\n",
            "Epoch 109 / 200 (train) Loss: 0.1229, Acc: 0.9743, (val) Loss: 0.3279, Acc: 0.8919\n",
            "Epoch 110 / 200 (train) Loss: 0.1216, Acc: 0.9744, (val) Loss: 0.3289, Acc: 0.8919\n",
            "Epoch 111 / 200 (train) Loss: 0.1209, Acc: 0.9749, (val) Loss: 0.3285, Acc: 0.8919\n",
            "Epoch 112 / 200 (train) Loss: 0.1195, Acc: 0.9752, (val) Loss: 0.3280, Acc: 0.8955\n",
            "Epoch 113 / 200 (train) Loss: 0.1179, Acc: 0.9764, (val) Loss: 0.3266, Acc: 0.8910\n",
            "Epoch 114 / 200 (train) Loss: 0.1176, Acc: 0.9761, (val) Loss: 0.3274, Acc: 0.8910\n",
            "Epoch 115 / 200 (train) Loss: 0.1160, Acc: 0.9765, (val) Loss: 0.3279, Acc: 0.8919\n",
            "Epoch 116 / 200 (train) Loss: 0.1150, Acc: 0.9773, (val) Loss: 0.3275, Acc: 0.8910\n",
            "Epoch 117 / 200 (train) Loss: 0.1144, Acc: 0.9776, (val) Loss: 0.3275, Acc: 0.8919\n",
            "Epoch 118 / 200 (train) Loss: 0.1137, Acc: 0.9782, (val) Loss: 0.3278, Acc: 0.8901\n",
            "Epoch 119 / 200 (train) Loss: 0.1123, Acc: 0.9788, (val) Loss: 0.3286, Acc: 0.8901\n",
            "Epoch 120 / 200 (train) Loss: 0.1111, Acc: 0.9789, (val) Loss: 0.3280, Acc: 0.8919\n",
            "Epoch 121 / 200 (train) Loss: 0.1102, Acc: 0.9798, (val) Loss: 0.3281, Acc: 0.8901\n",
            "Epoch 122 / 200 (train) Loss: 0.1094, Acc: 0.9801, (val) Loss: 0.3282, Acc: 0.8883\n",
            "Epoch 123 / 200 (train) Loss: 0.1086, Acc: 0.9815, (val) Loss: 0.3270, Acc: 0.8910\n",
            "Epoch 124 / 200 (train) Loss: 0.1076, Acc: 0.9802, (val) Loss: 0.3278, Acc: 0.8910\n",
            "Epoch 125 / 200 (train) Loss: 0.1069, Acc: 0.9810, (val) Loss: 0.3277, Acc: 0.8910\n",
            "Epoch 126 / 200 (train) Loss: 0.1066, Acc: 0.9805, (val) Loss: 0.3273, Acc: 0.8910\n",
            "Epoch 127 / 200 (train) Loss: 0.1057, Acc: 0.9818, (val) Loss: 0.3273, Acc: 0.8910\n",
            "Epoch 128 / 200 (train) Loss: 0.1053, Acc: 0.9814, (val) Loss: 0.3270, Acc: 0.8910\n",
            "Epoch 129 / 200 (train) Loss: 0.1044, Acc: 0.9815, (val) Loss: 0.3274, Acc: 0.8919\n",
            "Epoch 130 / 200 (train) Loss: 0.1033, Acc: 0.9821, (val) Loss: 0.3273, Acc: 0.8919\n",
            "Epoch 131 / 200 (train) Loss: 0.1025, Acc: 0.9831, (val) Loss: 0.3277, Acc: 0.8919\n",
            "Epoch 132 / 200 (train) Loss: 0.1019, Acc: 0.9823, (val) Loss: 0.3269, Acc: 0.8919\n",
            "Epoch 133 / 200 (train) Loss: 0.1013, Acc: 0.9821, (val) Loss: 0.3276, Acc: 0.8919\n",
            "Epoch 134 / 200 (train) Loss: 0.1005, Acc: 0.9825, (val) Loss: 0.3276, Acc: 0.8919\n",
            "Epoch 135 / 200 (train) Loss: 0.0997, Acc: 0.9833, (val) Loss: 0.3274, Acc: 0.8919\n",
            "Epoch 136 / 200 (train) Loss: 0.1002, Acc: 0.9826, (val) Loss: 0.3276, Acc: 0.8910\n",
            "Epoch 137 / 200 (train) Loss: 0.0991, Acc: 0.9826, (val) Loss: 0.3278, Acc: 0.8910\n",
            "Epoch 138 / 200 (train) Loss: 0.0985, Acc: 0.9838, (val) Loss: 0.3274, Acc: 0.8928\n",
            "Epoch 139 / 200 (train) Loss: 0.0978, Acc: 0.9842, (val) Loss: 0.3276, Acc: 0.8928\n",
            "Epoch 140 / 200 (train) Loss: 0.0977, Acc: 0.9833, (val) Loss: 0.3280, Acc: 0.8928\n",
            "Epoch 141 / 200 (train) Loss: 0.0972, Acc: 0.9839, (val) Loss: 0.3285, Acc: 0.8928\n",
            "Epoch 142 / 200 (train) Loss: 0.0961, Acc: 0.9840, (val) Loss: 0.3292, Acc: 0.8928\n",
            "Epoch 143 / 200 (train) Loss: 0.0958, Acc: 0.9841, (val) Loss: 0.3282, Acc: 0.8928\n",
            "Epoch 144 / 200 (train) Loss: 0.0952, Acc: 0.9835, (val) Loss: 0.3281, Acc: 0.8928\n",
            "Epoch 145 / 200 (train) Loss: 0.0951, Acc: 0.9846, (val) Loss: 0.3276, Acc: 0.8928\n",
            "Epoch 146 / 200 (train) Loss: 0.0954, Acc: 0.9839, (val) Loss: 0.3277, Acc: 0.8928\n",
            "Epoch 147 / 200 (train) Loss: 0.0937, Acc: 0.9851, (val) Loss: 0.3273, Acc: 0.8928\n",
            "Epoch 148 / 200 (train) Loss: 0.0937, Acc: 0.9853, (val) Loss: 0.3269, Acc: 0.8919\n",
            "Epoch 149 / 200 (train) Loss: 0.0935, Acc: 0.9851, (val) Loss: 0.3265, Acc: 0.8928\n",
            "Epoch 150 / 200 (train) Loss: 0.0932, Acc: 0.9858, (val) Loss: 0.3274, Acc: 0.8919\n",
            "Epoch 151 / 200 (train) Loss: 0.0932, Acc: 0.9852, (val) Loss: 0.3276, Acc: 0.8919\n",
            "Epoch 152 / 200 (train) Loss: 0.0920, Acc: 0.9847, (val) Loss: 0.3279, Acc: 0.8928\n",
            "Epoch 153 / 200 (train) Loss: 0.0916, Acc: 0.9855, (val) Loss: 0.3277, Acc: 0.8937\n",
            "Epoch 154 / 200 (train) Loss: 0.0912, Acc: 0.9860, (val) Loss: 0.3276, Acc: 0.8937\n",
            "Epoch 155 / 200 (train) Loss: 0.0909, Acc: 0.9859, (val) Loss: 0.3272, Acc: 0.8937\n",
            "Epoch 156 / 200 (train) Loss: 0.0907, Acc: 0.9860, (val) Loss: 0.3269, Acc: 0.8937\n",
            "Epoch 157 / 200 (train) Loss: 0.0905, Acc: 0.9866, (val) Loss: 0.3275, Acc: 0.8928\n",
            "Epoch 158 / 200 (train) Loss: 0.0902, Acc: 0.9856, (val) Loss: 0.3278, Acc: 0.8919\n",
            "Epoch 159 / 200 (train) Loss: 0.0900, Acc: 0.9857, (val) Loss: 0.3281, Acc: 0.8928\n",
            "Epoch 160 / 200 (train) Loss: 0.0897, Acc: 0.9873, (val) Loss: 0.3273, Acc: 0.8937\n",
            "Epoch 161 / 200 (train) Loss: 0.0891, Acc: 0.9868, (val) Loss: 0.3275, Acc: 0.8928\n",
            "Epoch 162 / 200 (train) Loss: 0.0896, Acc: 0.9868, (val) Loss: 0.3277, Acc: 0.8928\n",
            "Epoch 163 / 200 (train) Loss: 0.0891, Acc: 0.9864, (val) Loss: 0.3283, Acc: 0.8919\n",
            "Epoch 164 / 200 (train) Loss: 0.0890, Acc: 0.9861, (val) Loss: 0.3282, Acc: 0.8928\n",
            "Epoch 165 / 200 (train) Loss: 0.0886, Acc: 0.9871, (val) Loss: 0.3281, Acc: 0.8928\n",
            "Epoch 166 / 200 (train) Loss: 0.0887, Acc: 0.9873, (val) Loss: 0.3280, Acc: 0.8928\n",
            "Epoch 167 / 200 (train) Loss: 0.0880, Acc: 0.9871, (val) Loss: 0.3282, Acc: 0.8919\n",
            "Epoch 168 / 200 (train) Loss: 0.0881, Acc: 0.9869, (val) Loss: 0.3277, Acc: 0.8928\n",
            "Epoch 169 / 200 (train) Loss: 0.0881, Acc: 0.9875, (val) Loss: 0.3278, Acc: 0.8928\n",
            "Epoch 170 / 200 (train) Loss: 0.0878, Acc: 0.9875, (val) Loss: 0.3278, Acc: 0.8928\n",
            "Epoch 171 / 200 (train) Loss: 0.0879, Acc: 0.9869, (val) Loss: 0.3282, Acc: 0.8928\n",
            "Epoch 172 / 200 (train) Loss: 0.0872, Acc: 0.9873, (val) Loss: 0.3282, Acc: 0.8928\n",
            "Epoch 173 / 200 (train) Loss: 0.0882, Acc: 0.9871, (val) Loss: 0.3277, Acc: 0.8928\n",
            "Epoch 174 / 200 (train) Loss: 0.0873, Acc: 0.9880, (val) Loss: 0.3280, Acc: 0.8928\n",
            "Epoch 175 / 200 (train) Loss: 0.0870, Acc: 0.9877, (val) Loss: 0.3275, Acc: 0.8928\n",
            "Epoch 176 / 200 (train) Loss: 0.0877, Acc: 0.9868, (val) Loss: 0.3274, Acc: 0.8928\n",
            "Epoch 177 / 200 (train) Loss: 0.0867, Acc: 0.9874, (val) Loss: 0.3275, Acc: 0.8937\n",
            "Epoch 178 / 200 (train) Loss: 0.0868, Acc: 0.9875, (val) Loss: 0.3276, Acc: 0.8946\n",
            "Epoch 179 / 200 (train) Loss: 0.0865, Acc: 0.9883, (val) Loss: 0.3280, Acc: 0.8928\n",
            "Epoch 180 / 200 (train) Loss: 0.0866, Acc: 0.9871, (val) Loss: 0.3277, Acc: 0.8928\n",
            "Epoch 181 / 200 (train) Loss: 0.0863, Acc: 0.9875, (val) Loss: 0.3281, Acc: 0.8919\n",
            "Epoch 182 / 200 (train) Loss: 0.0866, Acc: 0.9866, (val) Loss: 0.3277, Acc: 0.8937\n",
            "Epoch 183 / 200 (train) Loss: 0.0862, Acc: 0.9880, (val) Loss: 0.3277, Acc: 0.8937\n",
            "Epoch 184 / 200 (train) Loss: 0.0865, Acc: 0.9876, (val) Loss: 0.3276, Acc: 0.8937\n",
            "Epoch 185 / 200 (train) Loss: 0.0859, Acc: 0.9882, (val) Loss: 0.3279, Acc: 0.8937\n",
            "Epoch 186 / 200 (train) Loss: 0.0860, Acc: 0.9881, (val) Loss: 0.3281, Acc: 0.8937\n",
            "Epoch 187 / 200 (train) Loss: 0.0862, Acc: 0.9882, (val) Loss: 0.3288, Acc: 0.8919\n",
            "Epoch 188 / 200 (train) Loss: 0.0862, Acc: 0.9873, (val) Loss: 0.3282, Acc: 0.8919\n",
            "Epoch 189 / 200 (train) Loss: 0.0860, Acc: 0.9877, (val) Loss: 0.3281, Acc: 0.8928\n",
            "Epoch 190 / 200 (train) Loss: 0.0865, Acc: 0.9877, (val) Loss: 0.3280, Acc: 0.8937\n",
            "Epoch 191 / 200 (train) Loss: 0.0858, Acc: 0.9876, (val) Loss: 0.3281, Acc: 0.8937\n",
            "Epoch 192 / 200 (train) Loss: 0.0863, Acc: 0.9876, (val) Loss: 0.3276, Acc: 0.8937\n",
            "Epoch 193 / 200 (train) Loss: 0.0864, Acc: 0.9877, (val) Loss: 0.3275, Acc: 0.8937\n",
            "Epoch 194 / 200 (train) Loss: 0.0860, Acc: 0.9883, (val) Loss: 0.3271, Acc: 0.8946\n",
            "Epoch 195 / 200 (train) Loss: 0.0861, Acc: 0.9872, (val) Loss: 0.3278, Acc: 0.8928\n",
            "Epoch 196 / 200 (train) Loss: 0.0857, Acc: 0.9883, (val) Loss: 0.3280, Acc: 0.8919\n",
            "Epoch 197 / 200 (train) Loss: 0.0858, Acc: 0.9876, (val) Loss: 0.3279, Acc: 0.8928\n",
            "Epoch 198 / 200 (train) Loss: 0.0858, Acc: 0.9877, (val) Loss: 0.3279, Acc: 0.8919\n",
            "Epoch 199 / 200 (train) Loss: 0.0856, Acc: 0.9882, (val) Loss: 0.3279, Acc: 0.8928\n",
            "Epoch 200 / 200 (train) Loss: 0.0859, Acc: 0.9883, (val) Loss: 0.3282, Acc: 0.8919\n"
          ]
        }
      ]
    }
  ]
}